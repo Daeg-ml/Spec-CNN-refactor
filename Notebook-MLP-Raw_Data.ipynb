{
 "cells": [
  {
   "cell_type": "code",
   "execution_count": 1,
   "metadata": {
    "id": "_j7atLBIrm2-"
   },
   "outputs": [],
   "source": [
    "'''\n",
    "NATE USE THIS ONE!!!\n",
    "'''\n",
    "\n",
    "import warnings\n",
    "warnings.filterwarnings('ignore')"
   ]
  },
  {
   "cell_type": "code",
   "execution_count": 2,
   "metadata": {
    "colab": {
     "base_uri": "https://localhost:8080/"
    },
    "id": "eKY525IfDuw_",
    "outputId": "8bfc6729-445e-43d7-db56-e2a881abe02c"
   },
   "outputs": [],
   "source": [
    "import numpy as np\n",
    "import pandas as pd\n",
    "import matplotlib.pyplot as plt\n",
    "import seaborn as sn\n",
    "from sklearn.metrics import classification_report\n",
    "from sklearn.metrics import confusion_matrix\n",
    "\n",
    "from pprint import pprint\n",
    "from IPython.display import clear_output\n",
    "from sklearn.metrics import roc_curve\n",
    "\n",
    "from keras.models import Sequential\n",
    "from keras.layers import Dense\n",
    "from keras.layers import LeakyReLU\n",
    "from keras.optimizers import RMSprop \n",
    "from keras.utils import to_categorical\n",
    "\n",
    "\n",
    "np.random.seed(42)"
   ]
  },
  {
   "cell_type": "code",
   "execution_count": 3,
   "metadata": {
    "id": "SrPGkmxM3Ol2"
   },
   "outputs": [],
   "source": [
    "fin_path = 'Data/Raw Data/Single/' #training spectra\n",
    "\n",
    "testin_path = 'Data/Raw Data/Mixed/Test Set/' #testing spectra\n",
    "\n",
    "val_split = 0.2\n",
    "\n",
    "learning_rate = 0.001\n",
    "batch_size = 64\n",
    "epochs = 100\n",
    "\n",
    "train_accuracy_path = '/Data/Model Data/MLP/train_accuracy.csv'\n",
    "val_accuracy_path = '/Data/Model Data/MLP/val_accuracy.csv'\n",
    "train_loss_path = '/Data/Model Data/MLP/train_loss.csv'\n",
    "val_loss_path = '/Data/Model Data/MLP/val_loss.csv'\n",
    "val_cm_path = '/Data/Model Data/MLP/val_confusion_matrix.csv'\n",
    "test_cm_path = '/Data/Model Data/MLP/test_confusion_matrix.csv'\n",
    "cr_path = '/Data/Model Data/MLP/classification_report.csv'\n"
   ]
  },
  {
   "cell_type": "code",
   "execution_count": 4,
   "metadata": {
    "id": "5cksc0irX1ZF"
   },
   "outputs": [],
   "source": [
    "def load_spectra():\n",
    "  import helper as h\n",
    "  X_train,X_dev,y_train,y_dev=h.dfbuilder(fin_path=fin_path,split_df=True,dev_size=val_split,r_state=42,raw=True)\n",
    "  test_data=h.dfbuilder(testin_path,False,0,42,raw=True)\n",
    "  X_test=test_data.drop(columns=['label'])\n",
    "  y_test=test_data[['label']]\n",
    "\n",
    "\n",
    "  from sklearn.preprocessing import RobustScaler\n",
    "  scaler=RobustScaler().fit(X_train)\n",
    "  _X_train=scaler.transform(X_train)\n",
    "  _X_dev=scaler.transform(X_dev)\n",
    "  _X_test=scaler.transform(X_test)\n",
    "    \n",
    "  num_minerals = np.max(y_train)+1\n",
    "  return _X_train, y_train, _X_dev, y_dev, _X_test, y_test, num_minerals\n",
    "  "
   ]
  },
  {
   "cell_type": "code",
   "execution_count": 5,
   "metadata": {
    "colab": {
     "base_uri": "https://localhost:8080/"
    },
    "id": "ba-f-esKeBLP",
    "outputId": "8bfc8930-8a47-441d-fcc7-db83e767d679"
   },
   "outputs": [
    {
     "name": "stdout",
     "output_type": "stream",
     "text": [
      "Master data set shape is (71674, 951) \n",
      "\n",
      " Master data set is\n",
      "                               150      151      152      153      154  \\\n",
      "albite_train_015s_5250-0  1843.10  1848.63  1855.44  1872.17  1893.32   \n",
      "albite_train_015s_5250-1  1835.52  1845.35  1855.77  1869.89  1889.67   \n",
      "albite_train_015s_5250-2  1802.07  1814.18  1831.13  1853.05  1880.13   \n",
      "albite_train_015s_5250-3  1808.57  1815.09  1823.15  1839.00  1864.86   \n",
      "albite_train_015s_5250-4  1800.92  1810.23  1822.96  1839.00  1858.79   \n",
      "...                           ...      ...      ...      ...      ...   \n",
      "qtz_train_015s_625-620    2576.47  2568.46  2556.91  2539.18  2439.98   \n",
      "qtz_train_015s_625-621    2575.20  2541.80  2516.90  2489.10  2427.84   \n",
      "qtz_train_015s_625-622    2575.00  2558.69  2553.06  2531.36  2460.90   \n",
      "qtz_train_015s_625-623    2562.41  2541.03  2520.78  2504.17  2451.60   \n",
      "qtz_train_015s_625-624    2566.18  2529.75  2500.82  2475.56  2412.82   \n",
      "\n",
      "                              155      156      157      158      159  ...  \\\n",
      "albite_train_015s_5250-0  1959.38  2005.12  2054.00  2100.20  2146.60  ...   \n",
      "albite_train_015s_5250-1  1944.04  1975.08  2009.51  2044.68  2078.60  ...   \n",
      "albite_train_015s_5250-2  1939.70  1968.41  1998.25  2029.33  2060.20  ...   \n",
      "albite_train_015s_5250-3  1918.63  1949.33  1982.72  2018.79  2056.86  ...   \n",
      "albite_train_015s_5250-4  1909.52  1939.95  1973.31  2009.18  2046.95  ...   \n",
      "...                           ...      ...      ...      ...      ...  ...   \n",
      "qtz_train_015s_625-620    2419.70  2426.48  2437.83  2450.14  2462.26  ...   \n",
      "qtz_train_015s_625-621    2405.30  2387.21  2394.60  2401.87  2416.69  ...   \n",
      "qtz_train_015s_625-622    2430.19  2413.80  2415.77  2434.98  2461.12  ...   \n",
      "qtz_train_015s_625-623    2420.77  2401.79  2404.89  2412.42  2424.00  ...   \n",
      "qtz_train_015s_625-624    2393.90  2381.14  2379.69  2398.22  2414.29  ...   \n",
      "\n",
      "                             1091     1092     1093     1094     1095  \\\n",
      "albite_train_015s_5250-0  2099.97  2097.72  2098.40  2106.61  2129.03   \n",
      "albite_train_015s_5250-1  2119.69  2117.31  2113.63  2102.34  2092.63   \n",
      "albite_train_015s_5250-2  2075.46  2081.75  2080.39  2071.16  2067.97   \n",
      "albite_train_015s_5250-3  2067.97  2100.38  2107.08  2105.71  2105.35   \n",
      "albite_train_015s_5250-4  2063.30  2079.19  2085.56  2088.05  2084.16   \n",
      "...                           ...      ...      ...      ...      ...   \n",
      "qtz_train_015s_625-620    2104.16  2104.32  2105.45  2107.72  2110.40   \n",
      "qtz_train_015s_625-621    2000.36  2005.13  2005.88  2002.48  2011.28   \n",
      "qtz_train_015s_625-622    2055.99  2062.58  2067.19  2069.68  2072.28   \n",
      "qtz_train_015s_625-623    2016.72  2032.91  2038.03  2042.59  2048.45   \n",
      "qtz_train_015s_625-624    2009.98  2010.31  2014.67  2029.12  2036.87   \n",
      "\n",
      "                             1096     1097     1098     1099  label  \n",
      "albite_train_015s_5250-0  2137.04  2141.69  2147.31  2147.44      1  \n",
      "albite_train_015s_5250-1  2084.30  2084.42  2098.68  2106.45      1  \n",
      "albite_train_015s_5250-2  2067.09  2067.51  2071.61  2075.17      1  \n",
      "albite_train_015s_5250-3  2105.42  2100.68  2093.34  2084.89      1  \n",
      "albite_train_015s_5250-4  2078.43  2067.12  2066.17  2066.20      1  \n",
      "...                           ...      ...      ...      ...    ...  \n",
      "qtz_train_015s_625-620    2110.30  2105.24  2097.86  2090.96      0  \n",
      "qtz_train_015s_625-621    2015.64  2021.02  2030.24  2030.44      0  \n",
      "qtz_train_015s_625-622    2072.27  2074.42  2103.47  2130.74      0  \n",
      "qtz_train_015s_625-623    2049.61  2050.08  2049.21  2049.14      0  \n",
      "qtz_train_015s_625-624    2039.43  2040.39  2038.50  2034.72      0  \n",
      "\n",
      "[71674 rows x 951 columns]\n",
      "Master data set shape is (7981, 951) \n",
      "\n",
      " Master data set is\n",
      "                                       150      151      152      153      154  \\\n",
      "gabbro0dust_test_015s_1020-0      1790.99  1806.70  1835.79  1836.75  1777.08   \n",
      "gabbro0dust_test_015s_1020-1      1787.71  1799.74  1808.85  1792.39  1768.78   \n",
      "gabbro0dust_test_015s_1020-2      2397.21  2414.80  2449.30  2435.91  2403.96   \n",
      "gabbro0dust_test_015s_1020-3      2129.54  2124.58  2136.10  2145.48  2118.35   \n",
      "gabbro0dust_test_015s_1020-4      1556.89  1580.30  1613.81  1605.28  1579.85   \n",
      "...                                   ...      ...      ...      ...      ...   \n",
      "granite0dust_test_015s_4839-4834  1242.31  1236.35  1230.02  1223.30  1214.36   \n",
      "granite0dust_test_015s_4839-4835  1217.12  1215.47  1214.29  1214.05  1203.20   \n",
      "granite0dust_test_015s_4839-4836  1232.02  1232.24  1228.86  1224.22  1214.24   \n",
      "granite0dust_test_015s_4839-4837  1498.44  1496.02  1494.45  1493.29  1486.39   \n",
      "granite0dust_test_015s_4839-4838  1287.51  1290.44  1284.10  1279.68  1273.37   \n",
      "\n",
      "                                      155      156      157      158      159  \\\n",
      "gabbro0dust_test_015s_1020-0      1781.63  1776.24  1774.91  1775.89  1781.48   \n",
      "gabbro0dust_test_015s_1020-1      1761.14  1754.16  1754.23  1753.03  1754.16   \n",
      "gabbro0dust_test_015s_1020-2      2391.16  2373.89  2364.93  2363.83  2373.12   \n",
      "gabbro0dust_test_015s_1020-3      2101.97  2075.78  2073.68  2073.05  2073.63   \n",
      "gabbro0dust_test_015s_1020-4      1572.70  1570.02  1575.35  1589.99  1610.47   \n",
      "...                                   ...      ...      ...      ...      ...   \n",
      "granite0dust_test_015s_4839-4834  1211.84  1210.21  1210.28  1207.31  1202.34   \n",
      "granite0dust_test_015s_4839-4835  1201.54  1203.03  1208.39  1212.76  1207.54   \n",
      "granite0dust_test_015s_4839-4836  1209.16  1208.69  1210.10  1213.41  1212.27   \n",
      "granite0dust_test_015s_4839-4837  1482.45  1479.48  1478.02  1477.94  1486.10   \n",
      "granite0dust_test_015s_4839-4838  1271.97  1271.57  1273.14  1275.90  1279.51   \n",
      "\n",
      "                                  ...     1091     1092     1093     1094  \\\n",
      "gabbro0dust_test_015s_1020-0      ...  1575.04  1573.53  1571.11  1570.99   \n",
      "gabbro0dust_test_015s_1020-1      ...  1519.85  1531.92  1531.25  1526.76   \n",
      "gabbro0dust_test_015s_1020-2      ...  2129.38  2110.77  2112.21  2110.71   \n",
      "gabbro0dust_test_015s_1020-3      ...  1893.87  1895.87  1900.23  1906.05   \n",
      "gabbro0dust_test_015s_1020-4      ...  1289.93  1288.85  1288.56  1289.93   \n",
      "...                               ...      ...      ...      ...      ...   \n",
      "granite0dust_test_015s_4839-4834  ...  1145.40  1143.08  1140.37  1136.62   \n",
      "granite0dust_test_015s_4839-4835  ...  1131.35  1132.74  1132.95  1131.75   \n",
      "granite0dust_test_015s_4839-4836  ...  1152.29  1152.50  1152.45  1152.73   \n",
      "granite0dust_test_015s_4839-4837  ...  1724.46  1733.72  1728.04  1718.78   \n",
      "granite0dust_test_015s_4839-4838  ...  1314.74  1317.68  1317.94  1317.35   \n",
      "\n",
      "                                     1095     1096     1097     1098     1099  \\\n",
      "gabbro0dust_test_015s_1020-0      1583.00  1678.92  3370.87  1609.40  1550.93   \n",
      "gabbro0dust_test_015s_1020-1      1521.87  1530.59  1528.52  1523.44  1514.28   \n",
      "gabbro0dust_test_015s_1020-2      2108.18  2125.73  2130.59  2122.68  2106.22   \n",
      "gabbro0dust_test_015s_1020-3      1910.41  1907.36  1895.24  1880.10  1888.17   \n",
      "gabbro0dust_test_015s_1020-4      1273.61  1276.49  1276.13  1274.73  1271.31   \n",
      "...                                   ...      ...      ...      ...      ...   \n",
      "granite0dust_test_015s_4839-4834  1140.11  1142.80  1144.31  1144.80  1143.60   \n",
      "granite0dust_test_015s_4839-4835  1130.37  1128.01  1124.83  1124.02  1126.78   \n",
      "granite0dust_test_015s_4839-4836  1154.53  1155.72  1156.87  1157.97  1158.40   \n",
      "granite0dust_test_015s_4839-4837  1718.67  1726.73  1732.71  1742.25  1742.95   \n",
      "granite0dust_test_015s_4839-4838  1316.91  1316.45  1316.53  1319.33  1321.34   \n",
      "\n",
      "                                  label  \n",
      "gabbro0dust_test_015s_1020-0          8  \n",
      "gabbro0dust_test_015s_1020-1          6  \n",
      "gabbro0dust_test_015s_1020-2          7  \n",
      "gabbro0dust_test_015s_1020-3          6  \n",
      "gabbro0dust_test_015s_1020-4          8  \n",
      "...                                 ...  \n",
      "granite0dust_test_015s_4839-4834      0  \n",
      "granite0dust_test_015s_4839-4835      0  \n",
      "granite0dust_test_015s_4839-4836      0  \n",
      "granite0dust_test_015s_4839-4837      0  \n",
      "granite0dust_test_015s_4839-4838      0  \n",
      "\n",
      "[7981 rows x 951 columns]\n"
     ]
    }
   ],
   "source": [
    "X_train, y_train, X_val, y_val, X_test, y_test, num_minerals = load_spectra()"
   ]
  },
  {
   "cell_type": "code",
   "execution_count": 6,
   "metadata": {
    "colab": {
     "base_uri": "https://localhost:8080/"
    },
    "id": "lUZTKNJc15vk",
    "outputId": "310e7d2a-d8f4-4ead-a945-10ed3b6e45da"
   },
   "outputs": [
    {
     "name": "stdout",
     "output_type": "stream",
     "text": [
      "Model: \"sequential\"\n",
      "_________________________________________________________________\n",
      "Layer (type)                 Output Shape              Param #   \n",
      "=================================================================\n",
      "dense (Dense)                (None, 100)               95100     \n",
      "_________________________________________________________________\n",
      "leaky_re_lu (LeakyReLU)      (None, 100)               0         \n",
      "_________________________________________________________________\n",
      "dense_1 (Dense)              (None, 25)                2525      \n",
      "_________________________________________________________________\n",
      "leaky_re_lu_1 (LeakyReLU)    (None, 25)                0         \n",
      "_________________________________________________________________\n",
      "dense_2 (Dense)              (None, 12)                312       \n",
      "=================================================================\n",
      "Total params: 97,937\n",
      "Trainable params: 97,937\n",
      "Non-trainable params: 0\n",
      "_________________________________________________________________\n"
     ]
    }
   ],
   "source": [
    "model = Sequential()\n",
    "model.add(Dense(100, input_shape = (len(X_train[0]),)))\n",
    "model.add(LeakyReLU(alpha=0.1))\n",
    "model.add(Dense(25))\n",
    "model.add(LeakyReLU(alpha=0.1))\n",
    "model.add(Dense(num_minerals, activation = 'softmax'))\n",
    "model.summary()"
   ]
  },
  {
   "cell_type": "code",
   "execution_count": 7,
   "metadata": {
    "colab": {
     "base_uri": "https://localhost:8080/"
    },
    "id": "A2riZHAe2BMM",
    "outputId": "bb453c47-97d4-4585-c849-720be1214d6c"
   },
   "outputs": [
    {
     "name": "stdout",
     "output_type": "stream",
     "text": [
      "Epoch 1/100\n",
      "896/896 [==============================] - 1s 1ms/step - loss: 0.6490 - accuracy: 0.8837 - val_loss: 0.6138 - val_accuracy: 0.9131\n",
      "Epoch 2/100\n",
      "896/896 [==============================] - 1s 1ms/step - loss: 0.3020 - accuracy: 0.9649 - val_loss: 0.1420 - val_accuracy: 0.9579\n",
      "Epoch 3/100\n",
      "896/896 [==============================] - 1s 1ms/step - loss: 0.2549 - accuracy: 0.9716 - val_loss: 0.0978 - val_accuracy: 0.9779\n",
      "Epoch 4/100\n",
      "896/896 [==============================] - 1s 1ms/step - loss: 0.2161 - accuracy: 0.9761 - val_loss: 0.1689 - val_accuracy: 0.9664\n",
      "Epoch 5/100\n",
      "896/896 [==============================] - 1s 1ms/step - loss: 0.2061 - accuracy: 0.9800 - val_loss: 0.0883 - val_accuracy: 0.9837\n",
      "Epoch 6/100\n",
      "896/896 [==============================] - 1s 1ms/step - loss: 0.2253 - accuracy: 0.9782 - val_loss: 0.3389 - val_accuracy: 0.9566\n",
      "Epoch 7/100\n",
      "896/896 [==============================] - 1s 1ms/step - loss: 0.1952 - accuracy: 0.9810 - val_loss: 0.0496 - val_accuracy: 0.9934\n",
      "Epoch 8/100\n",
      "896/896 [==============================] - 1s 1ms/step - loss: 0.1798 - accuracy: 0.9816 - val_loss: 0.0559 - val_accuracy: 0.9915\n",
      "Epoch 9/100\n",
      "896/896 [==============================] - 1s 1ms/step - loss: 0.1530 - accuracy: 0.9823 - val_loss: 0.0616 - val_accuracy: 0.9918\n",
      "Epoch 10/100\n",
      "896/896 [==============================] - 1s 1ms/step - loss: 0.2403 - accuracy: 0.9825 - val_loss: 0.1289 - val_accuracy: 0.9861\n",
      "Epoch 11/100\n",
      "896/896 [==============================] - 1s 1ms/step - loss: 0.1795 - accuracy: 0.9841 - val_loss: 0.1488 - val_accuracy: 0.9800\n",
      "Epoch 12/100\n",
      "896/896 [==============================] - 1s 1ms/step - loss: 0.1696 - accuracy: 0.9849 - val_loss: 0.1009 - val_accuracy: 0.9873\n",
      "Epoch 13/100\n",
      "896/896 [==============================] - 1s 1ms/step - loss: 0.1656 - accuracy: 0.9846 - val_loss: 0.0663 - val_accuracy: 0.9930\n",
      "Epoch 14/100\n",
      "896/896 [==============================] - 1s 1ms/step - loss: 0.1705 - accuracy: 0.9862 - val_loss: 0.0629 - val_accuracy: 0.9948\n",
      "Epoch 15/100\n",
      "896/896 [==============================] - 1s 1ms/step - loss: 0.1119 - accuracy: 0.9875 - val_loss: 0.2589 - val_accuracy: 0.9842\n",
      "Epoch 16/100\n",
      "896/896 [==============================] - 1s 1ms/step - loss: 0.1212 - accuracy: 0.9888 - val_loss: 0.0599 - val_accuracy: 0.9945\n",
      "Epoch 17/100\n",
      "896/896 [==============================] - 1s 1ms/step - loss: 0.1438 - accuracy: 0.9883 - val_loss: 0.0541 - val_accuracy: 0.9962\n",
      "Epoch 18/100\n",
      "896/896 [==============================] - 1s 1ms/step - loss: 0.1023 - accuracy: 0.9890 - val_loss: 0.4987 - val_accuracy: 0.9660\n",
      "Epoch 19/100\n",
      "896/896 [==============================] - 1s 1ms/step - loss: 0.1170 - accuracy: 0.9893 - val_loss: 0.0618 - val_accuracy: 0.9959\n",
      "Epoch 20/100\n",
      "896/896 [==============================] - 1s 1ms/step - loss: 0.0971 - accuracy: 0.9896 - val_loss: 0.0797 - val_accuracy: 0.9927\n",
      "Epoch 21/100\n",
      "896/896 [==============================] - 1s 1ms/step - loss: 0.1327 - accuracy: 0.9902 - val_loss: 0.0707 - val_accuracy: 0.9935\n",
      "Epoch 22/100\n",
      "896/896 [==============================] - 1s 1ms/step - loss: 0.1028 - accuracy: 0.9907 - val_loss: 0.0905 - val_accuracy: 0.9895\n",
      "Epoch 23/100\n",
      "896/896 [==============================] - 1s 1ms/step - loss: 0.0914 - accuracy: 0.9910 - val_loss: 0.0813 - val_accuracy: 0.9934\n",
      "Epoch 24/100\n",
      "896/896 [==============================] - 1s 1ms/step - loss: 0.0876 - accuracy: 0.9915 - val_loss: 0.0689 - val_accuracy: 0.9963\n",
      "Epoch 25/100\n",
      "896/896 [==============================] - 1s 1ms/step - loss: 0.0881 - accuracy: 0.9917 - val_loss: 0.0676 - val_accuracy: 0.9957\n",
      "Epoch 26/100\n",
      "896/896 [==============================] - 1s 1ms/step - loss: 0.0907 - accuracy: 0.9906 - val_loss: 0.0853 - val_accuracy: 0.9932\n",
      "Epoch 27/100\n",
      "896/896 [==============================] - 1s 1ms/step - loss: 0.1005 - accuracy: 0.9909 - val_loss: 0.0862 - val_accuracy: 0.9961\n",
      "Epoch 28/100\n",
      "896/896 [==============================] - 1s 1ms/step - loss: 0.0946 - accuracy: 0.9910 - val_loss: 0.2188 - val_accuracy: 0.9865\n",
      "Epoch 29/100\n",
      "896/896 [==============================] - 1s 1ms/step - loss: 0.0760 - accuracy: 0.9925 - val_loss: 0.0733 - val_accuracy: 0.9960\n",
      "Epoch 30/100\n",
      "896/896 [==============================] - 1s 1ms/step - loss: 0.0782 - accuracy: 0.9919 - val_loss: 0.0824 - val_accuracy: 0.9964\n",
      "Epoch 31/100\n",
      "896/896 [==============================] - 1s 1ms/step - loss: 0.0958 - accuracy: 0.9926 - val_loss: 0.0981 - val_accuracy: 0.9887\n",
      "Epoch 32/100\n",
      "896/896 [==============================] - 1s 1ms/step - loss: 0.1032 - accuracy: 0.9918 - val_loss: 0.0918 - val_accuracy: 0.9955\n",
      "Epoch 33/100\n",
      "896/896 [==============================] - 1s 1ms/step - loss: 0.1017 - accuracy: 0.9929 - val_loss: 0.0897 - val_accuracy: 0.9945\n",
      "Epoch 34/100\n",
      "896/896 [==============================] - 1s 1ms/step - loss: 0.0846 - accuracy: 0.9917 - val_loss: 0.2560 - val_accuracy: 0.9715\n",
      "Epoch 35/100\n",
      "896/896 [==============================] - 1s 1ms/step - loss: 0.0925 - accuracy: 0.9922 - val_loss: 0.0952 - val_accuracy: 0.9953\n",
      "Epoch 36/100\n",
      "896/896 [==============================] - 1s 1ms/step - loss: 0.1022 - accuracy: 0.9922 - val_loss: 0.0989 - val_accuracy: 0.9955\n",
      "Epoch 37/100\n",
      "896/896 [==============================] - 1s 1ms/step - loss: 0.0850 - accuracy: 0.9923 - val_loss: 0.0884 - val_accuracy: 0.9951\n",
      "Epoch 38/100\n",
      "896/896 [==============================] - 1s 1ms/step - loss: 0.0851 - accuracy: 0.9928 - val_loss: 0.0979 - val_accuracy: 0.9957\n",
      "Epoch 39/100\n",
      "896/896 [==============================] - 1s 1ms/step - loss: 0.0840 - accuracy: 0.9926 - val_loss: 0.1039 - val_accuracy: 0.9957\n",
      "Epoch 40/100\n",
      "896/896 [==============================] - 1s 1ms/step - loss: 0.0899 - accuracy: 0.9927 - val_loss: 0.0883 - val_accuracy: 0.9966\n",
      "Epoch 41/100\n",
      "896/896 [==============================] - 1s 1ms/step - loss: 0.0792 - accuracy: 0.9932 - val_loss: 0.0960 - val_accuracy: 0.9966\n",
      "Epoch 42/100\n",
      "896/896 [==============================] - 1s 1ms/step - loss: 0.0723 - accuracy: 0.9930 - val_loss: 0.1035 - val_accuracy: 0.9948\n",
      "Epoch 43/100\n",
      "896/896 [==============================] - 1s 1ms/step - loss: 0.0758 - accuracy: 0.9942 - val_loss: 0.1040 - val_accuracy: 0.9956\n",
      "Epoch 44/100\n",
      "896/896 [==============================] - 1s 1ms/step - loss: 0.0792 - accuracy: 0.9932 - val_loss: 0.1153 - val_accuracy: 0.9943\n",
      "Epoch 45/100\n",
      "896/896 [==============================] - 1s 1ms/step - loss: 0.0739 - accuracy: 0.9941 - val_loss: 0.1870 - val_accuracy: 0.9861\n",
      "Epoch 46/100\n",
      "896/896 [==============================] - 1s 1ms/step - loss: 0.0761 - accuracy: 0.9938 - val_loss: 0.1019 - val_accuracy: 0.9965\n",
      "Epoch 47/100\n",
      "896/896 [==============================] - 1s 1ms/step - loss: 0.0926 - accuracy: 0.9934 - val_loss: 0.1122 - val_accuracy: 0.9960\n",
      "Epoch 48/100\n",
      "896/896 [==============================] - 1s 1ms/step - loss: 0.0800 - accuracy: 0.9939 - val_loss: 0.3742 - val_accuracy: 0.9684\n",
      "Epoch 49/100\n",
      "896/896 [==============================] - 1s 1ms/step - loss: 0.0813 - accuracy: 0.9943 - val_loss: 0.0963 - val_accuracy: 0.9968\n",
      "Epoch 50/100\n",
      "896/896 [==============================] - 1s 1ms/step - loss: 0.0808 - accuracy: 0.9941 - val_loss: 0.0989 - val_accuracy: 0.9964\n",
      "Epoch 51/100\n",
      "896/896 [==============================] - ETA: 0s - loss: 0.0800 - accuracy: 0.99 - 1s 1ms/step - loss: 0.0793 - accuracy: 0.9935 - val_loss: 0.1093 - val_accuracy: 0.9964\n",
      "Epoch 52/100\n",
      "896/896 [==============================] - 1s 1ms/step - loss: 0.0751 - accuracy: 0.9948 - val_loss: 0.1106 - val_accuracy: 0.9951\n",
      "Epoch 53/100\n",
      "896/896 [==============================] - 1s 1ms/step - loss: 0.0901 - accuracy: 0.9936 - val_loss: 0.1339 - val_accuracy: 0.9962\n",
      "Epoch 54/100\n",
      "896/896 [==============================] - 1s 1ms/step - loss: 0.0821 - accuracy: 0.9941 - val_loss: 0.1357 - val_accuracy: 0.9917\n",
      "Epoch 55/100\n",
      "896/896 [==============================] - 1s 1ms/step - loss: 0.0964 - accuracy: 0.9944 - val_loss: 0.2690 - val_accuracy: 0.9883\n",
      "Epoch 56/100\n",
      "896/896 [==============================] - 1s 1ms/step - loss: 0.0920 - accuracy: 0.9938 - val_loss: 0.1163 - val_accuracy: 0.9971\n",
      "Epoch 57/100\n"
     ]
    },
    {
     "name": "stdout",
     "output_type": "stream",
     "text": [
      "896/896 [==============================] - 1s 1ms/step - loss: 0.0757 - accuracy: 0.9939 - val_loss: 0.1057 - val_accuracy: 0.9971\n",
      "Epoch 58/100\n",
      "896/896 [==============================] - 1s 1ms/step - loss: 0.0775 - accuracy: 0.9940 - val_loss: 0.1193 - val_accuracy: 0.9961\n",
      "Epoch 59/100\n",
      "896/896 [==============================] - 1s 1ms/step - loss: 0.1048 - accuracy: 0.9945 - val_loss: 0.1118 - val_accuracy: 0.9938\n",
      "Epoch 60/100\n",
      "896/896 [==============================] - 1s 1ms/step - loss: 0.0712 - accuracy: 0.9946 - val_loss: 1.2697 - val_accuracy: 0.9561\n",
      "Epoch 61/100\n",
      "896/896 [==============================] - 1s 1ms/step - loss: 0.0901 - accuracy: 0.9948 - val_loss: 0.1243 - val_accuracy: 0.9948\n",
      "Epoch 62/100\n",
      "896/896 [==============================] - 1s 1ms/step - loss: 0.0937 - accuracy: 0.9943 - val_loss: 0.1347 - val_accuracy: 0.9957\n",
      "Epoch 63/100\n",
      "896/896 [==============================] - 1s 1ms/step - loss: 0.0672 - accuracy: 0.9946 - val_loss: 0.1199 - val_accuracy: 0.9962\n",
      "Epoch 64/100\n",
      "896/896 [==============================] - 1s 1ms/step - loss: 0.0878 - accuracy: 0.9944 - val_loss: 0.1222 - val_accuracy: 0.9948\n",
      "Epoch 65/100\n",
      "896/896 [==============================] - 1s 1ms/step - loss: 0.0942 - accuracy: 0.9945 - val_loss: 0.1837 - val_accuracy: 0.9851\n",
      "Epoch 66/100\n",
      "896/896 [==============================] - 1s 1ms/step - loss: 0.0886 - accuracy: 0.9949 - val_loss: 0.1105 - val_accuracy: 0.9973\n",
      "Epoch 67/100\n",
      "896/896 [==============================] - 1s 1ms/step - loss: 0.0708 - accuracy: 0.9951 - val_loss: 0.1207 - val_accuracy: 0.9969\n",
      "Epoch 68/100\n",
      "896/896 [==============================] - 1s 1ms/step - loss: 0.0660 - accuracy: 0.9946 - val_loss: 1.8206 - val_accuracy: 0.9520\n",
      "Epoch 69/100\n",
      "896/896 [==============================] - 1s 1ms/step - loss: 0.0754 - accuracy: 0.9945 - val_loss: 0.1349 - val_accuracy: 0.9943\n",
      "Epoch 70/100\n",
      "896/896 [==============================] - 1s 1ms/step - loss: 0.0702 - accuracy: 0.9948 - val_loss: 0.1162 - val_accuracy: 0.9962\n",
      "Epoch 71/100\n",
      "896/896 [==============================] - 1s 1ms/step - loss: 0.0830 - accuracy: 0.9946 - val_loss: 0.1395 - val_accuracy: 0.9969\n",
      "Epoch 72/100\n",
      "896/896 [==============================] - 1s 1ms/step - loss: 0.1060 - accuracy: 0.9943 - val_loss: 0.1782 - val_accuracy: 0.9906\n",
      "Epoch 73/100\n",
      "896/896 [==============================] - 1s 1ms/step - loss: 0.0912 - accuracy: 0.9946 - val_loss: 0.1249 - val_accuracy: 0.9972\n",
      "Epoch 74/100\n",
      "896/896 [==============================] - 1s 1ms/step - loss: 0.0747 - accuracy: 0.9950 - val_loss: 0.1201 - val_accuracy: 0.9962\n",
      "Epoch 75/100\n",
      "896/896 [==============================] - 1s 1ms/step - loss: 0.0806 - accuracy: 0.9955 - val_loss: 0.1239 - val_accuracy: 0.9974\n",
      "Epoch 76/100\n",
      "896/896 [==============================] - 1s 1ms/step - loss: 0.0718 - accuracy: 0.9953 - val_loss: 0.1433 - val_accuracy: 0.9973\n",
      "Epoch 77/100\n",
      "896/896 [==============================] - 1s 1ms/step - loss: 0.0771 - accuracy: 0.9949 - val_loss: 0.1178 - val_accuracy: 0.9972\n",
      "Epoch 78/100\n",
      "896/896 [==============================] - 1s 1ms/step - loss: 0.0858 - accuracy: 0.9950 - val_loss: 0.1618 - val_accuracy: 0.9951\n",
      "Epoch 79/100\n",
      "896/896 [==============================] - 1s 1ms/step - loss: 0.0713 - accuracy: 0.9948 - val_loss: 0.1194 - val_accuracy: 0.9968\n",
      "Epoch 80/100\n",
      "896/896 [==============================] - 1s 1ms/step - loss: 0.0878 - accuracy: 0.9952 - val_loss: 0.1765 - val_accuracy: 0.9945\n",
      "Epoch 81/100\n",
      "896/896 [==============================] - 1s 1ms/step - loss: 0.0747 - accuracy: 0.9947 - val_loss: 0.1318 - val_accuracy: 0.9968\n",
      "Epoch 82/100\n",
      "896/896 [==============================] - 1s 1ms/step - loss: 0.0770 - accuracy: 0.9954 - val_loss: 0.1821 - val_accuracy: 0.9948\n",
      "Epoch 83/100\n",
      "896/896 [==============================] - 1s 1ms/step - loss: 0.0811 - accuracy: 0.9953 - val_loss: 0.1268 - val_accuracy: 0.9964\n",
      "Epoch 84/100\n",
      "896/896 [==============================] - 1s 1ms/step - loss: 0.0831 - accuracy: 0.9954 - val_loss: 0.1962 - val_accuracy: 0.9838\n",
      "Epoch 85/100\n",
      "896/896 [==============================] - 1s 1ms/step - loss: 0.0949 - accuracy: 0.9954 - val_loss: 0.2610 - val_accuracy: 0.9782\n",
      "Epoch 86/100\n",
      "896/896 [==============================] - 1s 1ms/step - loss: 0.0868 - accuracy: 0.9950 - val_loss: 0.1271 - val_accuracy: 0.9971\n",
      "Epoch 87/100\n",
      "896/896 [==============================] - 1s 1ms/step - loss: 0.0790 - accuracy: 0.9945 - val_loss: 0.1492 - val_accuracy: 0.9960\n",
      "Epoch 88/100\n",
      "896/896 [==============================] - 1s 1ms/step - loss: 0.0911 - accuracy: 0.9955 - val_loss: 0.2874 - val_accuracy: 0.9928\n",
      "Epoch 89/100\n",
      "896/896 [==============================] - 1s 1ms/step - loss: 0.0774 - accuracy: 0.9958 - val_loss: 0.1360 - val_accuracy: 0.9947\n",
      "Epoch 90/100\n",
      "896/896 [==============================] - 1s 1ms/step - loss: 0.0775 - accuracy: 0.9952 - val_loss: 0.1701 - val_accuracy: 0.9928\n",
      "Epoch 91/100\n",
      "896/896 [==============================] - 1s 1ms/step - loss: 0.0915 - accuracy: 0.9952 - val_loss: 0.1453 - val_accuracy: 0.9965\n",
      "Epoch 92/100\n",
      "896/896 [==============================] - 1s 1ms/step - loss: 0.0835 - accuracy: 0.9949 - val_loss: 0.1579 - val_accuracy: 0.9967\n",
      "Epoch 93/100\n",
      "896/896 [==============================] - 1s 1ms/step - loss: 0.0757 - accuracy: 0.9955 - val_loss: 3.6945 - val_accuracy: 0.9418\n",
      "Epoch 94/100\n",
      "896/896 [==============================] - 1s 1ms/step - loss: 0.0747 - accuracy: 0.9956 - val_loss: 0.1654 - val_accuracy: 0.9967\n",
      "Epoch 95/100\n",
      "896/896 [==============================] - 1s 1ms/step - loss: 0.0967 - accuracy: 0.9955 - val_loss: 0.1471 - val_accuracy: 0.9975\n",
      "Epoch 96/100\n",
      "896/896 [==============================] - 1s 1ms/step - loss: 0.0751 - accuracy: 0.9953 - val_loss: 0.1580 - val_accuracy: 0.9969\n",
      "Epoch 97/100\n",
      "896/896 [==============================] - 1s 1ms/step - loss: 0.0793 - accuracy: 0.9953 - val_loss: 0.1459 - val_accuracy: 0.9970\n",
      "Epoch 98/100\n",
      "896/896 [==============================] - 1s 1ms/step - loss: 0.0736 - accuracy: 0.9956 - val_loss: 0.2577 - val_accuracy: 0.9903\n",
      "Epoch 99/100\n",
      "896/896 [==============================] - 1s 1ms/step - loss: 0.0737 - accuracy: 0.9952 - val_loss: 0.2502 - val_accuracy: 0.9933\n",
      "Epoch 100/100\n",
      "896/896 [==============================] - 1s 1ms/step - loss: 0.1026 - accuracy: 0.9956 - val_loss: 0.2019 - val_accuracy: 0.9948\n"
     ]
    }
   ],
   "source": [
    "model.compile(optimizer = RMSprop(learning_rate), loss = 'categorical_crossentropy', metrics = ['accuracy'])\n",
    "training = model.fit(X_train, to_categorical(y_train), batch_size, epochs, validation_data = (X_val, to_categorical(y_val)))"
   ]
  },
  {
   "cell_type": "code",
   "execution_count": 8,
   "metadata": {
    "colab": {
     "base_uri": "https://localhost:8080/",
     "height": 295
    },
    "id": "FuDhoH1R2Y8b",
    "outputId": "c994108e-d0b9-4623-f252-28642b1f79a8"
   },
   "outputs": [
    {
     "data": {
      "image/png": "[encoded data removed]",
      "text/plain": [
       "<Figure size 432x288 with 1 Axes>"
      ]
     },
     "metadata": {
      "needs_background": "light"
     },
     "output_type": "display_data"
    }
   ],
   "source": [
    "train_accuracy = training.history['accuracy']\n",
    "train_accuracy_df = pd.DataFrame(train_accuracy)\n",
    "#train_accuracy_df.to_csv(train_accuracy_path, index = False, header = False)\n",
    "\n",
    "val_accuracy = training.history['val_accuracy']\n",
    "val_accuracy_df = pd.DataFrame(val_accuracy)\n",
    "#val_accuracy_df.to_csv(val_accuracy_path, index = False, header = False)\n",
    "\n",
    "\n",
    "plt.plot(train_accuracy, label = 'Training Accuracy')\n",
    "plt.plot(val_accuracy, label = 'Validation Accuracy')\n",
    "plt.title('Accuracy Curves')\n",
    "plt.ylabel('Accuracy')\n",
    "plt.xlabel('Epoch')\n",
    "plt.legend(loc = 'best')\n",
    "plt.show()"
   ]
  },
  {
   "cell_type": "code",
   "execution_count": 9,
   "metadata": {
    "colab": {
     "base_uri": "https://localhost:8080/",
     "height": 295
    },
    "id": "qgJERMaM2bDb",
    "outputId": "f0fa429f-b043-4151-bed4-c8a4d0de8949"
   },
   "outputs": [
    {
     "data": {
      "image/png": "[encoded data removed]",
      "text/plain": [
       "<Figure size 432x288 with 1 Axes>"
      ]
     },
     "metadata": {
      "needs_background": "light"
     },
     "output_type": "display_data"
    }
   ],
   "source": [
    "train_loss = training.history['loss']\n",
    "train_loss_df = pd.DataFrame(train_loss)\n",
    "#train_loss_df.to_csv(train_loss_path, index = False, header = False)\n",
    "\n",
    "val_loss = training.history['val_loss']\n",
    "val_loss_df = pd.DataFrame(val_loss)\n",
    "#val_loss_df.to_csv(val_loss_path, index = False, header = False)\n",
    "\n",
    "plt.plot(train_loss, label = 'Training Loss')\n",
    "plt.plot(val_loss, label = 'Validation Loss')\n",
    "plt.title('Loss Curves')\n",
    "plt.ylabel('Loss')\n",
    "plt.xlabel('Epoch')\n",
    "plt.legend(loc = 'best')\n",
    "plt.show()"
   ]
  },
  {
   "cell_type": "code",
   "execution_count": 10,
   "metadata": {
    "id": "q6pwCNTyraV0"
   },
   "outputs": [],
   "source": [
    "def plot_confusion_matrix(y_true, y_pred, title, path):\n",
    "  labels = np.arange(num_minerals)\n",
    "  cm = confusion_matrix(y_true, y_pred, labels)\n",
    "  cm_df = pd.DataFrame(cm, columns = labels, index = labels)\n",
    "  #cm_df.to_csv(path, index = True, header = True)\n",
    "  cm_df.columns.name = 'Predicted'\n",
    "  cm_df.index.name = 'Actual'\n",
    "  sn.heatmap(cm_df, annot = True, cmap = 'Blues', fmt = 'd')\n",
    "  plt.title(title)\n",
    "  plt.show()"
   ]
  },
  {
   "cell_type": "code",
   "execution_count": 11,
   "metadata": {
    "colab": {
     "base_uri": "https://localhost:8080/",
     "height": 295
    },
    "id": "lUC9ZRCqrcXu",
    "outputId": "bd14d45e-4329-4b60-ea28-66f37b71a57b"
   },
   "outputs": [
    {
     "data": {
      "image/png": "[encoded data removed]",
      "text/plain": [
       "<Figure size 432x288 with 2 Axes>"
      ]
     },
     "metadata": {
      "needs_background": "light"
     },
     "output_type": "display_data"
    }
   ],
   "source": [
    "plot_confusion_matrix(y_val, np.argmax(model.predict(X_val), axis = 1), 'Validation Confusion Matrix', val_cm_path)"
   ]
  },
  {
   "cell_type": "code",
   "execution_count": 12,
   "metadata": {
    "colab": {
     "base_uri": "https://localhost:8080/",
     "height": 414
    },
    "id": "wY2gR2f9rdPt",
    "outputId": "18ddf042-422c-4582-9625-7f9b365bf777"
   },
   "outputs": [
    {
     "data": {
      "image/png": "[encoded data removed]",
      "text/plain": [
       "<Figure size 432x288 with 2 Axes>"
      ]
     },
     "metadata": {
      "needs_background": "light"
     },
     "output_type": "display_data"
    },
    {
     "name": "stdout",
     "output_type": "stream",
     "text": [
      "[[2.8351134e-18 1.0293411e-15 1.7361569e-03 ... 9.9608588e-01\n",
      "  0.0000000e+00 9.0322481e-38]\n",
      " [5.6368599e-23 4.8255289e-15 1.6107643e-07 ... 2.8675725e-04\n",
      "  0.0000000e+00 0.0000000e+00]\n",
      " [1.3393768e-14 5.3416366e-06 2.3716553e-04 ... 9.1692895e-01\n",
      "  0.0000000e+00 0.0000000e+00]\n",
      " ...\n",
      " [1.0000000e+00 0.0000000e+00 0.0000000e+00 ... 0.0000000e+00\n",
      "  0.0000000e+00 0.0000000e+00]\n",
      " [1.0000000e+00 0.0000000e+00 0.0000000e+00 ... 0.0000000e+00\n",
      "  0.0000000e+00 0.0000000e+00]\n",
      " [1.0000000e+00 0.0000000e+00 0.0000000e+00 ... 0.0000000e+00\n",
      "  0.0000000e+00 0.0000000e+00]]\n"
     ]
    }
   ],
   "source": [
    "plot_confusion_matrix(y_test, np.argmax(model.predict(X_test), axis = 1), 'Test Confusion Matrix', test_cm_path) \n",
    "print(model.predict(X_test))"
   ]
  },
  {
   "cell_type": "code",
   "execution_count": 13,
   "metadata": {
    "colab": {
     "base_uri": "https://localhost:8080/"
    },
    "id": "HCG9tqwjrfxp",
    "outputId": "dc26aae7-89b0-4841-a24a-c8c2e3d5e596"
   },
   "outputs": [
    {
     "name": "stdout",
     "output_type": "stream",
     "text": [
      "              precision    recall  f1-score   support\n",
      "\n",
      "           0       0.60      0.61      0.61      2583\n",
      "           1       0.53      0.47      0.50      2827\n",
      "           2       0.28      0.24      0.26        72\n",
      "           3       0.68      0.56      0.61       134\n",
      "           4       0.01      0.50      0.01         2\n",
      "           5       0.00      0.00      0.00        10\n",
      "           6       0.03      0.59      0.06        22\n",
      "           7       0.01      0.06      0.02        18\n",
      "           8       0.00      0.00      0.00         5\n",
      "           9       0.64      0.56      0.60      2096\n",
      "          10       0.00      0.00      0.00         0\n",
      "          11       0.00      0.00      0.00         0\n",
      "          12       0.00      0.00      0.00       212\n",
      "\n",
      "    accuracy                           0.53      7981\n",
      "   macro avg       0.21      0.28      0.20      7981\n",
      "weighted avg       0.57      0.53      0.54      7981\n",
      "\n"
     ]
    }
   ],
   "source": [
    "print(classification_report(y_test, np.argmax(model.predict(X_test), axis = -1)))\n",
    "\n",
    "cr = classification_report(y_test, np.argmax(model.predict(X_test), axis = -1), output_dict = True)\n",
    "cr_df = pd.DataFrame(cr).transpose()\n",
    "#cr_df.to_csv(cr_path, index = True, header = True)"
   ]
  }
 ],
 "metadata": {
  "colab": {
   "collapsed_sections": [],
   "name": "dev_12_10_20_MLP_using _raw.ipynb",
   "provenance": []
  },
  "kernelspec": {
   "display_name": "Python 3",
   "language": "python",
   "name": "python3"
  },
  "language_info": {
   "codemirror_mode": {
    "name": "ipython",
    "version": 3
   },
   "file_extension": ".py",
   "mimetype": "text/x-python",
   "name": "python",
   "nbconvert_exporter": "python",
   "pygments_lexer": "ipython3",
   "version": "3.7.7"
  }
 },
 "nbformat": 4,
 "nbformat_minor": 1
}
