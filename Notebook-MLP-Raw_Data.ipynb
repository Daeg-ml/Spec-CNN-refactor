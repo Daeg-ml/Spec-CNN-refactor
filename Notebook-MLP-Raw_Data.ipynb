{
 "cells": [
  {
   "cell_type": "code",
   "execution_count": 1,
   "metadata": {
    "id": "_j7atLBIrm2-"
   },
   "outputs": [],
   "source": [
    "'''\n",
    "NATE USE THIS ONE!!!\n",
    "'''\n",
    "\n",
    "import warnings\n",
    "warnings.filterwarnings('ignore')"
   ]
  },
  {
   "cell_type": "code",
   "execution_count": 2,
   "metadata": {
    "colab": {
     "base_uri": "https://localhost:8080/"
    },
    "id": "eKY525IfDuw_",
    "outputId": "8bfc6729-445e-43d7-db56-e2a881abe02c"
   },
   "outputs": [],
   "source": [
    "import numpy as np\n",
    "import pandas as pd\n",
    "import matplotlib.pyplot as plt\n",
    "import seaborn as sn\n",
    "from sklearn.metrics import classification_report\n",
    "from sklearn.metrics import confusion_matrix\n",
    "\n",
    "from pprint import pprint\n",
    "from IPython.display import clear_output\n",
    "from sklearn.metrics import roc_curve\n",
    "\n",
    "from keras.models import Sequential\n",
    "from keras.layers import Dense\n",
    "from keras.layers import LeakyReLU\n",
    "from keras.optimizers import Adam \n",
    "from keras.utils import to_categorical\n",
    "\n",
    "\n",
    "np.random.seed(42)"
   ]
  },
  {
   "cell_type": "code",
   "execution_count": 3,
   "metadata": {
    "id": "SrPGkmxM3Ol2"
   },
   "outputs": [],
   "source": [
    "fin_path = 'Data/Raw Data/Single/' #training spectra\n",
    "\n",
    "testin_path = 'Data/Raw Data/Mixed/Test Set/' #testing spectra\n",
    "\n",
    "val_split = 0.2\n",
    "\n",
    "learning_rate = 0.0005\n",
    "batch_size = 200\n",
    "epochs = 50\n",
    "\n",
    "train_accuracy_path = '/Data/Model Data/MLP/train_accuracy.csv'\n",
    "val_accuracy_path = '/Data/Model Data/MLP/val_accuracy.csv'\n",
    "train_loss_path = '/Data/Model Data/MLP/train_loss.csv'\n",
    "val_loss_path = '/Data/Model Data/MLP/val_loss.csv'\n",
    "val_cm_path = '/Data/Model Data/MLP/val_confusion_matrix.csv'\n",
    "test_cm_path = '/Data/Model Data/MLP/test_confusion_matrix.csv'\n",
    "cr_path = '/Data/Model Data/MLP/classification_report.csv'\n"
   ]
  },
  {
   "cell_type": "code",
   "execution_count": 4,
   "metadata": {
    "id": "5cksc0irX1ZF"
   },
   "outputs": [],
   "source": [
    "def load_spectra():\n",
    "  import helper as h\n",
    "  X_train,X_dev,y_train,y_dev=h.dfbuilder(fin_path=fin_path,split_df=True,dev_size=val_split,r_state=42,raw=True)\n",
    "  test_data=h.dfbuilder(testin_path,False,0,42,raw=True)\n",
    "  X_test=test_data.drop(columns=['label'])\n",
    "  y_test=test_data[['label']]\n",
    "\n",
    "\n",
    "  from sklearn.preprocessing import RobustScaler\n",
    "  scaler=RobustScaler().fit(X_train)\n",
    "  _X_train=scaler.transform(X_train)\n",
    "  _X_dev=scaler.transform(X_dev)\n",
    "  _X_test=scaler.transform(X_test)\n",
    "    \n",
    "  num_minerals = np.max(y_train)+1\n",
    "  return _X_train, y_train, _X_dev, y_dev, _X_test, y_test, num_minerals\n",
    "  "
   ]
  },
  {
   "cell_type": "code",
   "execution_count": 5,
   "metadata": {
    "colab": {
     "base_uri": "https://localhost:8080/"
    },
    "id": "ba-f-esKeBLP",
    "outputId": "8bfc8930-8a47-441d-fcc7-db83e767d679"
   },
   "outputs": [
    {
     "name": "stdout",
     "output_type": "stream",
     "text": [
      "Master data set shape is (71674, 951) \n",
      "\n",
      " Master data set is\n",
      "                               150      151      152      153      154  \\\n",
      "albite_train_015s_5250-0  1843.10  1848.63  1855.44  1872.17  1893.32   \n",
      "albite_train_015s_5250-1  1835.52  1845.35  1855.77  1869.89  1889.67   \n",
      "albite_train_015s_5250-2  1802.07  1814.18  1831.13  1853.05  1880.13   \n",
      "albite_train_015s_5250-3  1808.57  1815.09  1823.15  1839.00  1864.86   \n",
      "albite_train_015s_5250-4  1800.92  1810.23  1822.96  1839.00  1858.79   \n",
      "...                           ...      ...      ...      ...      ...   \n",
      "qtz_train_015s_625-620    2576.47  2568.46  2556.91  2539.18  2439.98   \n",
      "qtz_train_015s_625-621    2575.20  2541.80  2516.90  2489.10  2427.84   \n",
      "qtz_train_015s_625-622    2575.00  2558.69  2553.06  2531.36  2460.90   \n",
      "qtz_train_015s_625-623    2562.41  2541.03  2520.78  2504.17  2451.60   \n",
      "qtz_train_015s_625-624    2566.18  2529.75  2500.82  2475.56  2412.82   \n",
      "\n",
      "                              155      156      157      158      159  ...  \\\n",
      "albite_train_015s_5250-0  1959.38  2005.12  2054.00  2100.20  2146.60  ...   \n",
      "albite_train_015s_5250-1  1944.04  1975.08  2009.51  2044.68  2078.60  ...   \n",
      "albite_train_015s_5250-2  1939.70  1968.41  1998.25  2029.33  2060.20  ...   \n",
      "albite_train_015s_5250-3  1918.63  1949.33  1982.72  2018.79  2056.86  ...   \n",
      "albite_train_015s_5250-4  1909.52  1939.95  1973.31  2009.18  2046.95  ...   \n",
      "...                           ...      ...      ...      ...      ...  ...   \n",
      "qtz_train_015s_625-620    2419.70  2426.48  2437.83  2450.14  2462.26  ...   \n",
      "qtz_train_015s_625-621    2405.30  2387.21  2394.60  2401.87  2416.69  ...   \n",
      "qtz_train_015s_625-622    2430.19  2413.80  2415.77  2434.98  2461.12  ...   \n",
      "qtz_train_015s_625-623    2420.77  2401.79  2404.89  2412.42  2424.00  ...   \n",
      "qtz_train_015s_625-624    2393.90  2381.14  2379.69  2398.22  2414.29  ...   \n",
      "\n",
      "                             1091     1092     1093     1094     1095  \\\n",
      "albite_train_015s_5250-0  2099.97  2097.72  2098.40  2106.61  2129.03   \n",
      "albite_train_015s_5250-1  2119.69  2117.31  2113.63  2102.34  2092.63   \n",
      "albite_train_015s_5250-2  2075.46  2081.75  2080.39  2071.16  2067.97   \n",
      "albite_train_015s_5250-3  2067.97  2100.38  2107.08  2105.71  2105.35   \n",
      "albite_train_015s_5250-4  2063.30  2079.19  2085.56  2088.05  2084.16   \n",
      "...                           ...      ...      ...      ...      ...   \n",
      "qtz_train_015s_625-620    2104.16  2104.32  2105.45  2107.72  2110.40   \n",
      "qtz_train_015s_625-621    2000.36  2005.13  2005.88  2002.48  2011.28   \n",
      "qtz_train_015s_625-622    2055.99  2062.58  2067.19  2069.68  2072.28   \n",
      "qtz_train_015s_625-623    2016.72  2032.91  2038.03  2042.59  2048.45   \n",
      "qtz_train_015s_625-624    2009.98  2010.31  2014.67  2029.12  2036.87   \n",
      "\n",
      "                             1096     1097     1098     1099  label  \n",
      "albite_train_015s_5250-0  2137.04  2141.69  2147.31  2147.44      1  \n",
      "albite_train_015s_5250-1  2084.30  2084.42  2098.68  2106.45      1  \n",
      "albite_train_015s_5250-2  2067.09  2067.51  2071.61  2075.17      1  \n",
      "albite_train_015s_5250-3  2105.42  2100.68  2093.34  2084.89      1  \n",
      "albite_train_015s_5250-4  2078.43  2067.12  2066.17  2066.20      1  \n",
      "...                           ...      ...      ...      ...    ...  \n",
      "qtz_train_015s_625-620    2110.30  2105.24  2097.86  2090.96      0  \n",
      "qtz_train_015s_625-621    2015.64  2021.02  2030.24  2030.44      0  \n",
      "qtz_train_015s_625-622    2072.27  2074.42  2103.47  2130.74      0  \n",
      "qtz_train_015s_625-623    2049.61  2050.08  2049.21  2049.14      0  \n",
      "qtz_train_015s_625-624    2039.43  2040.39  2038.50  2034.72      0  \n",
      "\n",
      "[71674 rows x 951 columns]\n",
      "Master data set shape is (7981, 951) \n",
      "\n",
      " Master data set is\n",
      "                                       150      151      152      153      154  \\\n",
      "gabbro0dust_test_015s_1020-0      1790.99  1806.70  1835.79  1836.75  1777.08   \n",
      "gabbro0dust_test_015s_1020-1      1787.71  1799.74  1808.85  1792.39  1768.78   \n",
      "gabbro0dust_test_015s_1020-2      2397.21  2414.80  2449.30  2435.91  2403.96   \n",
      "gabbro0dust_test_015s_1020-3      2129.54  2124.58  2136.10  2145.48  2118.35   \n",
      "gabbro0dust_test_015s_1020-4      1556.89  1580.30  1613.81  1605.28  1579.85   \n",
      "...                                   ...      ...      ...      ...      ...   \n",
      "granite0dust_test_015s_4839-4834  1242.31  1236.35  1230.02  1223.30  1214.36   \n",
      "granite0dust_test_015s_4839-4835  1217.12  1215.47  1214.29  1214.05  1203.20   \n",
      "granite0dust_test_015s_4839-4836  1232.02  1232.24  1228.86  1224.22  1214.24   \n",
      "granite0dust_test_015s_4839-4837  1498.44  1496.02  1494.45  1493.29  1486.39   \n",
      "granite0dust_test_015s_4839-4838  1287.51  1290.44  1284.10  1279.68  1273.37   \n",
      "\n",
      "                                      155      156      157      158      159  \\\n",
      "gabbro0dust_test_015s_1020-0      1781.63  1776.24  1774.91  1775.89  1781.48   \n",
      "gabbro0dust_test_015s_1020-1      1761.14  1754.16  1754.23  1753.03  1754.16   \n",
      "gabbro0dust_test_015s_1020-2      2391.16  2373.89  2364.93  2363.83  2373.12   \n",
      "gabbro0dust_test_015s_1020-3      2101.97  2075.78  2073.68  2073.05  2073.63   \n",
      "gabbro0dust_test_015s_1020-4      1572.70  1570.02  1575.35  1589.99  1610.47   \n",
      "...                                   ...      ...      ...      ...      ...   \n",
      "granite0dust_test_015s_4839-4834  1211.84  1210.21  1210.28  1207.31  1202.34   \n",
      "granite0dust_test_015s_4839-4835  1201.54  1203.03  1208.39  1212.76  1207.54   \n",
      "granite0dust_test_015s_4839-4836  1209.16  1208.69  1210.10  1213.41  1212.27   \n",
      "granite0dust_test_015s_4839-4837  1482.45  1479.48  1478.02  1477.94  1486.10   \n",
      "granite0dust_test_015s_4839-4838  1271.97  1271.57  1273.14  1275.90  1279.51   \n",
      "\n",
      "                                  ...     1091     1092     1093     1094  \\\n",
      "gabbro0dust_test_015s_1020-0      ...  1575.04  1573.53  1571.11  1570.99   \n",
      "gabbro0dust_test_015s_1020-1      ...  1519.85  1531.92  1531.25  1526.76   \n",
      "gabbro0dust_test_015s_1020-2      ...  2129.38  2110.77  2112.21  2110.71   \n",
      "gabbro0dust_test_015s_1020-3      ...  1893.87  1895.87  1900.23  1906.05   \n",
      "gabbro0dust_test_015s_1020-4      ...  1289.93  1288.85  1288.56  1289.93   \n",
      "...                               ...      ...      ...      ...      ...   \n",
      "granite0dust_test_015s_4839-4834  ...  1145.40  1143.08  1140.37  1136.62   \n",
      "granite0dust_test_015s_4839-4835  ...  1131.35  1132.74  1132.95  1131.75   \n",
      "granite0dust_test_015s_4839-4836  ...  1152.29  1152.50  1152.45  1152.73   \n",
      "granite0dust_test_015s_4839-4837  ...  1724.46  1733.72  1728.04  1718.78   \n",
      "granite0dust_test_015s_4839-4838  ...  1314.74  1317.68  1317.94  1317.35   \n",
      "\n",
      "                                     1095     1096     1097     1098     1099  \\\n",
      "gabbro0dust_test_015s_1020-0      1583.00  1678.92  3370.87  1609.40  1550.93   \n",
      "gabbro0dust_test_015s_1020-1      1521.87  1530.59  1528.52  1523.44  1514.28   \n",
      "gabbro0dust_test_015s_1020-2      2108.18  2125.73  2130.59  2122.68  2106.22   \n",
      "gabbro0dust_test_015s_1020-3      1910.41  1907.36  1895.24  1880.10  1888.17   \n",
      "gabbro0dust_test_015s_1020-4      1273.61  1276.49  1276.13  1274.73  1271.31   \n",
      "...                                   ...      ...      ...      ...      ...   \n",
      "granite0dust_test_015s_4839-4834  1140.11  1142.80  1144.31  1144.80  1143.60   \n",
      "granite0dust_test_015s_4839-4835  1130.37  1128.01  1124.83  1124.02  1126.78   \n",
      "granite0dust_test_015s_4839-4836  1154.53  1155.72  1156.87  1157.97  1158.40   \n",
      "granite0dust_test_015s_4839-4837  1718.67  1726.73  1732.71  1742.25  1742.95   \n",
      "granite0dust_test_015s_4839-4838  1316.91  1316.45  1316.53  1319.33  1321.34   \n",
      "\n",
      "                                  label  \n",
      "gabbro0dust_test_015s_1020-0          8  \n",
      "gabbro0dust_test_015s_1020-1          6  \n",
      "gabbro0dust_test_015s_1020-2          7  \n",
      "gabbro0dust_test_015s_1020-3          6  \n",
      "gabbro0dust_test_015s_1020-4          8  \n",
      "...                                 ...  \n",
      "granite0dust_test_015s_4839-4834      0  \n",
      "granite0dust_test_015s_4839-4835      0  \n",
      "granite0dust_test_015s_4839-4836      0  \n",
      "granite0dust_test_015s_4839-4837      0  \n",
      "granite0dust_test_015s_4839-4838      0  \n",
      "\n",
      "[7981 rows x 951 columns]\n"
     ]
    }
   ],
   "source": [
    "X_train, y_train, X_val, y_val, X_test, y_test, num_minerals = load_spectra()"
   ]
  },
  {
   "cell_type": "code",
   "execution_count": 6,
   "metadata": {
    "colab": {
     "base_uri": "https://localhost:8080/"
    },
    "id": "lUZTKNJc15vk",
    "outputId": "310e7d2a-d8f4-4ead-a945-10ed3b6e45da"
   },
   "outputs": [
    {
     "name": "stdout",
     "output_type": "stream",
     "text": [
      "Model: \"sequential\"\n",
      "_________________________________________________________________\n",
      "Layer (type)                 Output Shape              Param #   \n",
      "=================================================================\n",
      "dense (Dense)                (None, 100)               95100     \n",
      "_________________________________________________________________\n",
      "leaky_re_lu (LeakyReLU)      (None, 100)               0         \n",
      "_________________________________________________________________\n",
      "dense_1 (Dense)              (None, 25)                2525      \n",
      "_________________________________________________________________\n",
      "leaky_re_lu_1 (LeakyReLU)    (None, 25)                0         \n",
      "_________________________________________________________________\n",
      "dense_2 (Dense)              (None, 12)                312       \n",
      "=================================================================\n",
      "Total params: 97,937\n",
      "Trainable params: 97,937\n",
      "Non-trainable params: 0\n",
      "_________________________________________________________________\n"
     ]
    }
   ],
   "source": [
    "model = Sequential()\n",
    "model.add(Dense(100, input_shape = (len(X_train[0]),)))\n",
    "model.add(LeakyReLU(alpha=0.1))\n",
    "model.add(Dense(25))\n",
    "model.add(LeakyReLU(alpha=0.1))\n",
    "model.add(Dense(num_minerals, activation = 'softmax'))\n",
    "model.summary()"
   ]
  },
  {
   "cell_type": "code",
   "execution_count": 7,
   "metadata": {
    "colab": {
     "base_uri": "https://localhost:8080/"
    },
    "id": "A2riZHAe2BMM",
    "outputId": "bb453c47-97d4-4585-c849-720be1214d6c"
   },
   "outputs": [
    {
     "name": "stdout",
     "output_type": "stream",
     "text": [
      "Epoch 1/50\n",
      "287/287 [==============================] - 1s 2ms/step - loss: 0.8792 - accuracy: 0.7794 - val_loss: 0.2877 - val_accuracy: 0.9452\n",
      "Epoch 2/50\n",
      "287/287 [==============================] - 0s 2ms/step - loss: 0.2149 - accuracy: 0.9513 - val_loss: 0.1290 - val_accuracy: 0.9660\n",
      "Epoch 3/50\n",
      "287/287 [==============================] - 0s 2ms/step - loss: 0.1319 - accuracy: 0.9767 - val_loss: 0.1369 - val_accuracy: 0.9665\n",
      "Epoch 4/50\n",
      "287/287 [==============================] - 0s 2ms/step - loss: 0.1086 - accuracy: 0.9791 - val_loss: 0.0927 - val_accuracy: 0.9803\n",
      "Epoch 5/50\n",
      "287/287 [==============================] - 0s 2ms/step - loss: 0.0787 - accuracy: 0.9841 - val_loss: 0.0582 - val_accuracy: 0.9901\n",
      "Epoch 6/50\n",
      "287/287 [==============================] - 0s 2ms/step - loss: 0.1545 - accuracy: 0.9758 - val_loss: 0.0600 - val_accuracy: 0.9880\n",
      "Epoch 7/50\n",
      "287/287 [==============================] - 0s 2ms/step - loss: 0.0757 - accuracy: 0.9839 - val_loss: 0.0711 - val_accuracy: 0.9859\n",
      "Epoch 8/50\n",
      "287/287 [==============================] - 0s 2ms/step - loss: 0.0489 - accuracy: 0.9911 - val_loss: 0.0445 - val_accuracy: 0.9896\n",
      "Epoch 9/50\n",
      "287/287 [==============================] - 0s 2ms/step - loss: 0.0552 - accuracy: 0.9889 - val_loss: 0.0712 - val_accuracy: 0.9781\n",
      "Epoch 10/50\n",
      "287/287 [==============================] - 0s 2ms/step - loss: 0.0555 - accuracy: 0.9898 - val_loss: 0.0501 - val_accuracy: 0.9900\n",
      "Epoch 11/50\n",
      "287/287 [==============================] - 0s 2ms/step - loss: 0.0459 - accuracy: 0.9907 - val_loss: 0.0345 - val_accuracy: 0.9933\n",
      "Epoch 12/50\n",
      "287/287 [==============================] - 0s 2ms/step - loss: 0.0769 - accuracy: 0.9870 - val_loss: 0.0649 - val_accuracy: 0.9888\n",
      "Epoch 13/50\n",
      "287/287 [==============================] - 0s 2ms/step - loss: 0.1045 - accuracy: 0.9833 - val_loss: 0.0537 - val_accuracy: 0.9892\n",
      "Epoch 14/50\n",
      "287/287 [==============================] - 0s 2ms/step - loss: 0.0667 - accuracy: 0.9886 - val_loss: 0.0417 - val_accuracy: 0.9927\n",
      "Epoch 15/50\n",
      "287/287 [==============================] - 0s 2ms/step - loss: 0.0302 - accuracy: 0.9948 - val_loss: 0.0270 - val_accuracy: 0.9953\n",
      "Epoch 16/50\n",
      "287/287 [==============================] - 0s 2ms/step - loss: 0.0311 - accuracy: 0.9939 - val_loss: 0.0312 - val_accuracy: 0.9952\n",
      "Epoch 17/50\n",
      "287/287 [==============================] - 0s 2ms/step - loss: 0.1337 - accuracy: 0.9827 - val_loss: 0.0719 - val_accuracy: 0.9886\n",
      "Epoch 18/50\n",
      "287/287 [==============================] - 0s 2ms/step - loss: 0.0385 - accuracy: 0.9941 - val_loss: 0.0313 - val_accuracy: 0.9961\n",
      "Epoch 19/50\n",
      "287/287 [==============================] - 0s 2ms/step - loss: 0.0416 - accuracy: 0.9931 - val_loss: 0.0355 - val_accuracy: 0.9955\n",
      "Epoch 20/50\n",
      "287/287 [==============================] - 0s 2ms/step - loss: 0.0306 - accuracy: 0.9952 - val_loss: 0.0293 - val_accuracy: 0.9952\n",
      "Epoch 21/50\n",
      "287/287 [==============================] - 0s 2ms/step - loss: 0.0250 - accuracy: 0.9953 - val_loss: 0.0309 - val_accuracy: 0.9953\n",
      "Epoch 22/50\n",
      "287/287 [==============================] - 0s 2ms/step - loss: 0.0202 - accuracy: 0.9964 - val_loss: 0.0375 - val_accuracy: 0.9932\n",
      "Epoch 23/50\n",
      "287/287 [==============================] - 0s 2ms/step - loss: 0.0190 - accuracy: 0.9965 - val_loss: 0.0246 - val_accuracy: 0.9959\n",
      "Epoch 24/50\n",
      "287/287 [==============================] - 0s 2ms/step - loss: 0.0601 - accuracy: 0.9881 - val_loss: 0.0366 - val_accuracy: 0.9944\n",
      "Epoch 25/50\n",
      "287/287 [==============================] - 0s 2ms/step - loss: 0.0403 - accuracy: 0.9907 - val_loss: 0.0296 - val_accuracy: 0.9950\n",
      "Epoch 26/50\n",
      "287/287 [==============================] - 0s 2ms/step - loss: 0.0246 - accuracy: 0.9960 - val_loss: 0.0391 - val_accuracy: 0.9930\n",
      "Epoch 27/50\n",
      "287/287 [==============================] - 0s 2ms/step - loss: 0.0412 - accuracy: 0.9934 - val_loss: 0.1450 - val_accuracy: 0.9714\n",
      "Epoch 28/50\n",
      "287/287 [==============================] - 0s 2ms/step - loss: 0.0391 - accuracy: 0.9924 - val_loss: 0.0291 - val_accuracy: 0.9950\n",
      "Epoch 29/50\n",
      "287/287 [==============================] - 0s 2ms/step - loss: 0.0225 - accuracy: 0.9954 - val_loss: 0.0331 - val_accuracy: 0.9937\n",
      "Epoch 30/50\n",
      "287/287 [==============================] - 0s 2ms/step - loss: 0.0282 - accuracy: 0.9943 - val_loss: 0.0242 - val_accuracy: 0.9967\n",
      "Epoch 31/50\n",
      "287/287 [==============================] - 0s 2ms/step - loss: 0.0347 - accuracy: 0.9922 - val_loss: 0.0481 - val_accuracy: 0.9938\n",
      "Epoch 32/50\n",
      "287/287 [==============================] - 0s 2ms/step - loss: 0.0270 - accuracy: 0.9951 - val_loss: 0.0559 - val_accuracy: 0.9873\n",
      "Epoch 33/50\n",
      "287/287 [==============================] - 0s 2ms/step - loss: 0.0294 - accuracy: 0.9945 - val_loss: 0.0553 - val_accuracy: 0.9886\n",
      "Epoch 34/50\n",
      "287/287 [==============================] - 0s 2ms/step - loss: 0.0200 - accuracy: 0.9959 - val_loss: 0.0386 - val_accuracy: 0.9908\n",
      "Epoch 35/50\n",
      "287/287 [==============================] - 0s 2ms/step - loss: 0.0761 - accuracy: 0.9883 - val_loss: 0.0291 - val_accuracy: 0.9962\n",
      "Epoch 36/50\n",
      "287/287 [==============================] - 0s 2ms/step - loss: 0.0650 - accuracy: 0.9905 - val_loss: 0.0509 - val_accuracy: 0.9907\n",
      "Epoch 37/50\n",
      "287/287 [==============================] - 0s 2ms/step - loss: 0.0302 - accuracy: 0.9941 - val_loss: 0.0289 - val_accuracy: 0.9961\n",
      "Epoch 38/50\n",
      "287/287 [==============================] - 0s 2ms/step - loss: 0.0153 - accuracy: 0.9972 - val_loss: 0.0286 - val_accuracy: 0.9959\n",
      "Epoch 39/50\n",
      "287/287 [==============================] - 0s 2ms/step - loss: 0.0251 - accuracy: 0.9948 - val_loss: 0.0382 - val_accuracy: 0.9904\n",
      "Epoch 40/50\n",
      "287/287 [==============================] - 0s 2ms/step - loss: 0.0100 - accuracy: 0.9982 - val_loss: 0.0232 - val_accuracy: 0.9965\n",
      "Epoch 41/50\n",
      "287/287 [==============================] - 0s 2ms/step - loss: 0.0262 - accuracy: 0.9945 - val_loss: 0.0707 - val_accuracy: 0.9888\n",
      "Epoch 42/50\n",
      "287/287 [==============================] - 0s 2ms/step - loss: 0.0328 - accuracy: 0.9938 - val_loss: 0.0426 - val_accuracy: 0.9925\n",
      "Epoch 43/50\n",
      "287/287 [==============================] - 0s 2ms/step - loss: 0.0143 - accuracy: 0.9963 - val_loss: 0.0267 - val_accuracy: 0.9970\n",
      "Epoch 44/50\n",
      "287/287 [==============================] - 0s 2ms/step - loss: 0.0323 - accuracy: 0.9943 - val_loss: 0.0739 - val_accuracy: 0.9827\n",
      "Epoch 45/50\n",
      "287/287 [==============================] - 0s 2ms/step - loss: 0.0184 - accuracy: 0.9959 - val_loss: 0.0374 - val_accuracy: 0.9949\n",
      "Epoch 46/50\n",
      "287/287 [==============================] - 0s 2ms/step - loss: 0.0126 - accuracy: 0.9975 - val_loss: 0.0268 - val_accuracy: 0.9964\n",
      "Epoch 47/50\n",
      "287/287 [==============================] - 0s 2ms/step - loss: 0.0618 - accuracy: 0.9857 - val_loss: 0.0429 - val_accuracy: 0.9925\n",
      "Epoch 48/50\n",
      "287/287 [==============================] - 0s 2ms/step - loss: 0.0280 - accuracy: 0.9940 - val_loss: 0.0497 - val_accuracy: 0.9907\n",
      "Epoch 49/50\n",
      "287/287 [==============================] - 0s 2ms/step - loss: 0.0662 - accuracy: 0.9900 - val_loss: 0.0306 - val_accuracy: 0.9961\n",
      "Epoch 50/50\n",
      "287/287 [==============================] - 0s 2ms/step - loss: 0.0191 - accuracy: 0.9961 - val_loss: 0.0339 - val_accuracy: 0.9970\n"
     ]
    }
   ],
   "source": [
    "model.compile(optimizer = Adam(learning_rate), loss = 'categorical_crossentropy', metrics = ['accuracy'])\n",
    "training = model.fit(X_train, to_categorical(y_train), batch_size, epochs, validation_data = (X_val, to_categorical(y_val)))"
   ]
  },
  {
   "cell_type": "code",
   "execution_count": 8,
   "metadata": {
    "colab": {
     "base_uri": "https://localhost:8080/",
     "height": 295
    },
    "id": "FuDhoH1R2Y8b",
    "outputId": "c994108e-d0b9-4623-f252-28642b1f79a8"
   },
   "outputs": [
    {
     "data": {
      "image/png": "[encoded data removed]",
      "text/plain": [
       "<Figure size 432x288 with 1 Axes>"
      ]
     },
     "metadata": {
      "needs_background": "light"
     },
     "output_type": "display_data"
    }
   ],
   "source": [
    "train_accuracy = training.history['accuracy']\n",
    "train_accuracy_df = pd.DataFrame(train_accuracy)\n",
    "#train_accuracy_df.to_csv(train_accuracy_path, index = False, header = False)\n",
    "\n",
    "val_accuracy = training.history['val_accuracy']\n",
    "val_accuracy_df = pd.DataFrame(val_accuracy)\n",
    "#val_accuracy_df.to_csv(val_accuracy_path, index = False, header = False)\n",
    "\n",
    "\n",
    "plt.plot(train_accuracy, label = 'Training Accuracy')\n",
    "plt.plot(val_accuracy, label = 'Validation Accuracy')\n",
    "plt.title('Accuracy Curves')\n",
    "plt.ylabel('Accuracy')\n",
    "plt.xlabel('Epoch')\n",
    "plt.legend(loc = 'best')\n",
    "plt.show()"
   ]
  },
  {
   "cell_type": "code",
   "execution_count": 9,
   "metadata": {
    "colab": {
     "base_uri": "https://localhost:8080/",
     "height": 295
    },
    "id": "qgJERMaM2bDb",
    "outputId": "f0fa429f-b043-4151-bed4-c8a4d0de8949"
   },
   "outputs": [
    {
     "data": {
      "image/png": "[encoded data removed]",
      "text/plain": [
       "<Figure size 432x288 with 1 Axes>"
      ]
     },
     "metadata": {
      "needs_background": "light"
     },
     "output_type": "display_data"
    }
   ],
   "source": [
    "train_loss = training.history['loss']\n",
    "train_loss_df = pd.DataFrame(train_loss)\n",
    "#train_loss_df.to_csv(train_loss_path, index = False, header = False)\n",
    "\n",
    "val_loss = training.history['val_loss']\n",
    "val_loss_df = pd.DataFrame(val_loss)\n",
    "#val_loss_df.to_csv(val_loss_path, index = False, header = False)\n",
    "\n",
    "plt.plot(train_loss, label = 'Training Loss')\n",
    "plt.plot(val_loss, label = 'Validation Loss')\n",
    "plt.title('Loss Curves')\n",
    "plt.ylabel('Loss')\n",
    "plt.xlabel('Epoch')\n",
    "plt.legend(loc = 'best')\n",
    "plt.show()"
   ]
  },
  {
   "cell_type": "code",
   "execution_count": 10,
   "metadata": {
    "id": "q6pwCNTyraV0"
   },
   "outputs": [],
   "source": [
    "def plot_confusion_matrix(y_true, y_pred, title, path):\n",
    "  labels = np.arange(num_minerals)\n",
    "  cm = confusion_matrix(y_true, y_pred, labels)\n",
    "  cm_df = pd.DataFrame(cm, columns = labels, index = labels)\n",
    "  #cm_df.to_csv(path, index = True, header = True)\n",
    "  cm_df.columns.name = 'Predicted'\n",
    "  cm_df.index.name = 'Actual'\n",
    "  sn.heatmap(cm_df, annot = True, cmap = 'Blues', fmt = 'd')\n",
    "  plt.title(title)\n",
    "  plt.show()"
   ]
  },
  {
   "cell_type": "code",
   "execution_count": 11,
   "metadata": {
    "colab": {
     "base_uri": "https://localhost:8080/",
     "height": 295
    },
    "id": "lUC9ZRCqrcXu",
    "outputId": "bd14d45e-4329-4b60-ea28-66f37b71a57b"
   },
   "outputs": [
    {
     "data": {
      "image/png": "[encoded data removed]",
      "text/plain": [
       "<Figure size 432x288 with 2 Axes>"
      ]
     },
     "metadata": {
      "needs_background": "light"
     },
     "output_type": "display_data"
    }
   ],
   "source": [
    "plot_confusion_matrix(y_val, np.argmax(model.predict(X_val), axis = 1), 'Validation Confusion Matrix', val_cm_path)"
   ]
  },
  {
   "cell_type": "code",
   "execution_count": 12,
   "metadata": {
    "colab": {
     "base_uri": "https://localhost:8080/",
     "height": 414
    },
    "id": "wY2gR2f9rdPt",
    "outputId": "18ddf042-422c-4582-9625-7f9b365bf777"
   },
   "outputs": [
    {
     "data": {
      "image/png": "[encoded data removed]",
      "text/plain": [
       "<Figure size 432x288 with 2 Axes>"
      ]
     },
     "metadata": {
      "needs_background": "light"
     },
     "output_type": "display_data"
    },
    {
     "name": "stdout",
     "output_type": "stream",
     "text": [
      "[[3.6381511e-04 4.9299207e-03 1.2513464e-02 ... 5.8765888e-01\n",
      "  3.0952914e-09 2.5117058e-06]\n",
      " [7.1412063e-04 7.9832859e-03 4.3034013e-03 ... 2.7546629e-01\n",
      "  1.1247856e-08 1.7947117e-06]\n",
      " [3.7587874e-05 5.2973384e-05 1.5597477e-02 ... 9.2174786e-01\n",
      "  3.5628305e-16 3.6076351e-08]\n",
      " ...\n",
      " [1.0000000e+00 0.0000000e+00 1.2205740e-31 ... 0.0000000e+00\n",
      "  5.6711575e-38 0.0000000e+00]\n",
      " [1.0000000e+00 6.2361355e-22 9.2170283e-14 ... 5.3378339e-15\n",
      "  1.4610427e-15 6.2958841e-17]\n",
      " [1.0000000e+00 8.0848343e-35 2.1738620e-21 ... 9.4081770e-26\n",
      "  5.1312044e-25 1.5336398e-28]]\n"
     ]
    }
   ],
   "source": [
    "plot_confusion_matrix(y_test, np.argmax(model.predict(X_test), axis = 1), 'Test Confusion Matrix', test_cm_path) \n",
    "print(model.predict(X_test))"
   ]
  },
  {
   "cell_type": "code",
   "execution_count": 13,
   "metadata": {
    "colab": {
     "base_uri": "https://localhost:8080/"
    },
    "id": "HCG9tqwjrfxp",
    "outputId": "dc26aae7-89b0-4841-a24a-c8c2e3d5e596"
   },
   "outputs": [
    {
     "name": "stdout",
     "output_type": "stream",
     "text": [
      "              precision    recall  f1-score   support\n",
      "\n",
      "           0       0.60      0.61      0.60      2583\n",
      "           1       0.91      0.23      0.37      2827\n",
      "           2       0.08      0.07      0.07        72\n",
      "           3       0.72      0.78      0.75       134\n",
      "           4       0.00      0.00      0.00         2\n",
      "           5       0.00      0.00      0.00        10\n",
      "           6       0.03      0.59      0.05        22\n",
      "           7       0.00      0.00      0.00        18\n",
      "           8       0.00      0.20      0.00         5\n",
      "           9       0.66      0.98      0.79      2096\n",
      "          11       0.00      0.00      0.00         0\n",
      "          12       0.00      0.00      0.00       212\n",
      "\n",
      "    accuracy                           0.55      7981\n",
      "   macro avg       0.25      0.29      0.22      7981\n",
      "weighted avg       0.71      0.55      0.55      7981\n",
      "\n"
     ]
    }
   ],
   "source": [
    "print(classification_report(y_test, np.argmax(model.predict(X_test), axis = -1)))\n",
    "\n",
    "cr = classification_report(y_test, np.argmax(model.predict(X_test), axis = -1), output_dict = True)\n",
    "cr_df = pd.DataFrame(cr).transpose()\n",
    "#cr_df.to_csv(cr_path, index = True, header = True)"
   ]
  },
  {
   "cell_type": "code",
   "execution_count": null,
   "metadata": {},
   "outputs": [],
   "source": []
  },
  {
   "cell_type": "code",
   "execution_count": null,
   "metadata": {},
   "outputs": [],
   "source": []
  }
 ],
 "metadata": {
  "colab": {
   "collapsed_sections": [],
   "name": "dev_12_10_20_MLP_using _raw.ipynb",
   "provenance": []
  },
  "kernelspec": {
   "display_name": "Python 3",
   "language": "python",
   "name": "python3"
  },
  "language_info": {
   "codemirror_mode": {
    "name": "ipython",
    "version": 3
   },
   "file_extension": ".py",
   "mimetype": "text/x-python",
   "name": "python",
   "nbconvert_exporter": "python",
   "pygments_lexer": "ipython3",
   "version": "3.7.7"
  }
 },
 "nbformat": 4,
 "nbformat_minor": 1
}
