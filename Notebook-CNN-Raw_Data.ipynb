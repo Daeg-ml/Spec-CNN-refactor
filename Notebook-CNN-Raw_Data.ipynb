{
 "cells": [
  {
   "cell_type": "markdown",
   "metadata": {},
   "source": [
    "<h1>CNN Using Raw Spectra as Inputs</h1>\n",
    "\n",
    "<p>This notebook is used to train and explore a CNN model that classifies minerals by taking in raw spectra</p>"
   ]
  },
  {
   "cell_type": "code",
   "execution_count": 1,
   "metadata": {
    "colab": {
     "base_uri": "https://localhost:8080/",
     "height": 303
    },
    "colab_type": "code",
    "executionInfo": {
     "elapsed": 27827,
     "status": "ok",
     "timestamp": 1596338524706,
     "user": {
      "displayName": "Nathan Temiquel",
      "photoUrl": "",
      "userId": "01657354188638757810"
     },
     "user_tz": 420
    },
    "id": "RjoK0CooyLaq",
    "outputId": "9bf5bbda-bf0f-4d00-c444-a2d1d54e39c7"
   },
   "outputs": [],
   "source": [
    "import numpy as np\n",
    "import pandas as pd\n",
    "import cnnmodel_raw as cnn_raw\n",
    "from tensorflow.keras.models import Model\n"
   ]
  },
  {
   "cell_type": "markdown",
   "metadata": {
    "colab_type": "text",
    "id": "rEAAkuTBHgH3"
   },
   "source": [
    "# **Use this space below for fiddling with model training**\n",
    "\n",
    "### **If you need to retrain the model, be sure to restart the runtime**\n",
    "\n",
    "## **Define Hyperparameters below**"
   ]
  },
  {
   "cell_type": "code",
   "execution_count": 2,
   "metadata": {
    "colab": {},
    "colab_type": "code",
    "executionInfo": {
     "elapsed": 367,
     "status": "ok",
     "timestamp": 1596338577846,
     "user": {
      "displayName": "Nathan Temiquel",
      "photoUrl": "",
      "userId": "01657354188638757810"
     },
     "user_tz": 420
    },
    "id": "NmrT68QWPumc"
   },
   "outputs": [],
   "source": [
    "learning_rate=0.0001\n",
    "batch_size=100\n",
    "drop_rate=0.7\n",
    "epochs=1\n",
    "\n",
    "#don't change the line below\n",
    "hyperparameters=[learning_rate,batch_size,drop_rate,epochs]"
   ]
  },
  {
   "cell_type": "code",
   "execution_count": 3,
   "metadata": {
    "colab": {},
    "colab_type": "code",
    "executionInfo": {
     "elapsed": 365,
     "status": "ok",
     "timestamp": 1596338609885,
     "user": {
      "displayName": "Nathan Temiquel",
      "photoUrl": "",
      "userId": "01657354188638757810"
     },
     "user_tz": 420
    },
    "id": "yEPR4aaYG1bq"
   },
   "outputs": [],
   "source": [
    "#this string is prepended to all output files for unique identification\n",
    "id_value='test_1'\n",
    "\n",
    "#training data file path\n",
    "fin_path=r'Data/Raw Data/Single/'\n",
    "\n",
    "#output file path for the trained model data\n",
    "mout_path=r'Data/Model Data/CWT CNN/'\n",
    "\n",
    "#proportion of the training data allocated to the dev set - a float x: 0<x<1\n",
    "dev_size=0.2\n",
    "\n",
    "#random seed used for train/dev split to ensure repeatable outcomes. None \n",
    "#provides a psuedorandom value that won't be repeatable\n",
    "r_state=1\n",
    "\n",
    "#fast - True for doing quick training that does not output probability weights\n",
    "#for each sample during training. False for doing deep analysis and tracking\n",
    "#note if fast is true, model will train in <5 min while false may be >30 min\n",
    "fast=True\n",
    "\n",
    "#threshold - float in the range [0.0,1.0) determines the discrimination threshold\n",
    "threshold=0.5\n"
   ]
  },
  {
   "cell_type": "code",
   "execution_count": 4,
   "metadata": {
    "colab": {
     "base_uri": "https://localhost:8080/",
     "height": 1000
    },
    "colab_type": "code",
    "executionInfo": {
     "elapsed": 110837,
     "status": "error",
     "timestamp": 1596338721605,
     "user": {
      "displayName": "Nathan Temiquel",
      "photoUrl": "",
      "userId": "01657354188638757810"
     },
     "user_tz": 420
    },
    "id": "n1cWmQtCGmrF",
    "outputId": "88035cf6-d238-4dae-c556-282f3e000c9e"
   },
   "outputs": [
    {
     "name": "stdout",
     "output_type": "stream",
     "text": [
      "Master data set shape is (71674, 951) \n",
      "\n",
      " Master data set is\n",
      "                             150      151      152      153      154      155  \\\n",
      "an_train_015s_5600-0    1462.55  1464.53  1470.13  1472.67  1470.26  1467.80   \n",
      "an_train_015s_5600-1    1384.08  1387.80  1396.29  1396.04  1373.02  1366.30   \n",
      "an_train_015s_5600-2    1424.49  1415.20  1414.14  1417.03  1413.58  1410.43   \n",
      "an_train_015s_5600-3    1542.68  1548.87  1537.69  1527.16  1522.17  1518.86   \n",
      "an_train_015s_5600-4    1661.08  1649.81  1643.46  1645.90  1644.90  1640.17   \n",
      "...                         ...      ...      ...      ...      ...      ...   \n",
      "cal_train_1s_2300-2295  1313.30  1336.07  1397.53  1438.65  1462.09  1475.82   \n",
      "cal_train_1s_2300-2296  1313.59  1332.70  1385.34  1437.70  1483.00  1480.94   \n",
      "cal_train_1s_2300-2297  1339.32  1356.20  1416.57  1446.77  1477.90  1488.92   \n",
      "cal_train_1s_2300-2298  1331.32  1356.17  1421.01  1460.85  1502.31  1482.43   \n",
      "cal_train_1s_2300-2299  1339.50  1358.85  1416.45  1448.29  1481.47  1490.07   \n",
      "\n",
      "                            156      157      158      159  ...     1091  \\\n",
      "an_train_015s_5600-0    1461.13  1457.69  1458.36  1465.45  ...  1554.67   \n",
      "an_train_015s_5600-1    1362.82  1372.31  1374.00  1374.38  ...  1495.11   \n",
      "an_train_015s_5600-2    1405.88  1404.44  1405.14  1408.87  ...  1544.61   \n",
      "an_train_015s_5600-3    1512.96  1513.14  1521.13  1535.74  ...  1704.25   \n",
      "an_train_015s_5600-4    1620.58  1614.07  1619.00  1629.78  ...  1799.50   \n",
      "...                         ...      ...      ...      ...  ...      ...   \n",
      "cal_train_1s_2300-2295  1451.02  1381.10  1358.61  1345.69  ...  1711.46   \n",
      "cal_train_1s_2300-2296  1456.81  1390.12  1356.16  1338.51  ...  1704.55   \n",
      "cal_train_1s_2300-2297  1476.09  1401.62  1363.21  1330.94  ...  1705.79   \n",
      "cal_train_1s_2300-2298  1454.50  1383.95  1366.26  1346.07  ...  1707.85   \n",
      "cal_train_1s_2300-2299  1480.99  1416.08  1385.61  1354.50  ...  1727.69   \n",
      "\n",
      "                           1092     1093     1094     1095     1096     1097  \\\n",
      "an_train_015s_5600-0    1556.63  1567.19  1572.34  1567.58  1564.19  1569.37   \n",
      "an_train_015s_5600-1    1508.59  1511.88  1509.13  1499.42  1495.84  1513.47   \n",
      "an_train_015s_5600-2    1544.29  1536.94  1536.74  1546.95  1558.21  1555.35   \n",
      "an_train_015s_5600-3    1692.64  1646.94  1685.92  1693.26  1687.60  1684.80   \n",
      "an_train_015s_5600-4    1813.54  1826.06  1812.36  1807.55  1811.15  1826.52   \n",
      "...                         ...      ...      ...      ...      ...      ...   \n",
      "cal_train_1s_2300-2295  1689.50  1677.12  1663.21  1662.37  1667.64  1671.60   \n",
      "cal_train_1s_2300-2296  1683.32  1665.34  1657.44  1650.11  1651.52  1654.58   \n",
      "cal_train_1s_2300-2297  1692.12  1684.15  1676.91  1661.31  1649.64  1643.74   \n",
      "cal_train_1s_2300-2298  1714.42  1709.49  1699.32  1688.55  1684.05  1679.95   \n",
      "cal_train_1s_2300-2299  1701.31  1689.13  1679.54  1672.74  1673.64  1676.34   \n",
      "\n",
      "                           1098     1099  label  \n",
      "an_train_015s_5600-0    1573.14  1573.88      8  \n",
      "an_train_015s_5600-1    1517.06  1509.18      8  \n",
      "an_train_015s_5600-2    1552.20  1551.96      8  \n",
      "an_train_015s_5600-3    1682.91  1681.53      8  \n",
      "an_train_015s_5600-4    1816.78  1812.11      8  \n",
      "...                         ...      ...    ...  \n",
      "cal_train_1s_2300-2295  1673.08  1671.55     10  \n",
      "cal_train_1s_2300-2296  1655.63  1654.75     10  \n",
      "cal_train_1s_2300-2297  1635.68  1642.27     10  \n",
      "cal_train_1s_2300-2298  1672.22  1669.69     10  \n",
      "cal_train_1s_2300-2299  1669.57  1666.61     10  \n",
      "\n",
      "[71674 rows x 951 columns]\n",
      "574/574 [==============================] - 316s 551ms/step - loss: 0.4170 - sparse_categorical_accuracy: 0.9818 - val_loss: 0.3079 - val_sparse_categorical_accuracy: 0.9978\n"
     ]
    },
    {
     "ename": "TypeError",
     "evalue": "'numpy.float64' object cannot be interpreted as an integer",
     "output_type": "error",
     "traceback": [
      "\u001b[0;31m---------------------------------------------------------------------------\u001b[0m",
      "\u001b[0;31mTypeError\u001b[0m                                 Traceback (most recent call last)",
      "\u001b[0;32m<ipython-input-4-232e88a35d34>\u001b[0m in \u001b[0;36m<module>\u001b[0;34m\u001b[0m\n\u001b[1;32m      1\u001b[0m \u001b[0;34m'''train the model'''\u001b[0m\u001b[0;34m\u001b[0m\u001b[0m\n\u001b[1;32m      2\u001b[0m cnn_model=cnn_raw.raw_cnn_model(fin_path,mout_path,dev_size,r_state,hyperparameters,\n\u001b[0;32m----> 3\u001b[0;31m                           fast,id_value,threshold=threshold)\n\u001b[0m",
      "\u001b[0;32m~/venv-scnn/Spec-CNN/cnnmodel_raw.py\u001b[0m in \u001b[0;36mraw_cnn_model\u001b[0;34m(fin_path, mout_path, dev_size, r_state, hyperparameters, fast, fil_id, threshold)\u001b[0m\n\u001b[1;32m    298\u001b[0m \u001b[0;34m\u001b[0m\u001b[0m\n\u001b[1;32m    299\u001b[0m   \u001b[0;31m#test cnn model with dev set\u001b[0m\u001b[0;34m\u001b[0m\u001b[0;34m\u001b[0m\u001b[0m\n\u001b[0;32m--> 300\u001b[0;31m   \u001b[0mtest_cnn_model\u001b[0m\u001b[0;34m(\u001b[0m\u001b[0mcnn_model\u001b[0m\u001b[0;34m,\u001b[0m\u001b[0mX_dev\u001b[0m\u001b[0;34m,\u001b[0m\u001b[0my_dev\u001b[0m\u001b[0;34m,\u001b[0m\u001b[0mtest\u001b[0m\u001b[0;34m=\u001b[0m\u001b[0;32mFalse\u001b[0m\u001b[0;34m,\u001b[0m\u001b[0mthreshold\u001b[0m\u001b[0;34m=\u001b[0m\u001b[0mthreshold\u001b[0m\u001b[0;34m)\u001b[0m\u001b[0;34m\u001b[0m\u001b[0m\n\u001b[0m\u001b[1;32m    301\u001b[0m \u001b[0;34m\u001b[0m\u001b[0m\n\u001b[1;32m    302\u001b[0m   \u001b[0;31m#save model\u001b[0m\u001b[0;34m\u001b[0m\u001b[0;34m\u001b[0m\u001b[0m\n",
      "\u001b[0;32m~/venv-scnn/Spec-CNN/cnnmodel_raw.py\u001b[0m in \u001b[0;36mtest_cnn_model\u001b[0;34m(model, X_test, y_test, id_val, test, threshold, fast)\u001b[0m\n\u001b[1;32m    194\u001b[0m \u001b[0;34m\u001b[0m\u001b[0m\n\u001b[1;32m    195\u001b[0m   \u001b[0;31m#report confusion matrix\u001b[0m\u001b[0;34m\u001b[0m\u001b[0;34m\u001b[0m\u001b[0m\n\u001b[0;32m--> 196\u001b[0;31m   \u001b[0mconfmat\u001b[0m\u001b[0;34m=\u001b[0m\u001b[0mbuild_confmat\u001b[0m\u001b[0;34m(\u001b[0m\u001b[0my_test\u001b[0m\u001b[0;34m,\u001b[0m\u001b[0my_pred\u001b[0m\u001b[0;34m,\u001b[0m\u001b[0mthreshold\u001b[0m\u001b[0;34m)\u001b[0m\u001b[0;34m\u001b[0m\u001b[0m\n\u001b[0m\u001b[1;32m    197\u001b[0m   \u001b[0mdisplay\u001b[0m\u001b[0;34m(\u001b[0m\u001b[0mconfmat\u001b[0m\u001b[0;34m)\u001b[0m\u001b[0;34m\u001b[0m\u001b[0m\n\u001b[1;32m    198\u001b[0m \u001b[0;34m\u001b[0m\u001b[0m\n",
      "\u001b[0;32m~/venv-scnn/Spec-CNN/cnnmodel_raw.py\u001b[0m in \u001b[0;36mbuild_confmat\u001b[0;34m(y_label, y_pred, threshold)\u001b[0m\n\u001b[1;32m    260\u001b[0m   \u001b[0m_y_pred\u001b[0m\u001b[0;34m=\u001b[0m\u001b[0mdec_pred\u001b[0m\u001b[0;34m(\u001b[0m\u001b[0my_pred\u001b[0m\u001b[0;34m,\u001b[0m\u001b[0mthreshold\u001b[0m\u001b[0;34m)\u001b[0m\u001b[0;34m\u001b[0m\u001b[0m\n\u001b[1;32m    261\u001b[0m \u001b[0;34m\u001b[0m\u001b[0m\n\u001b[0;32m--> 262\u001b[0;31m   \u001b[0mmat_labels\u001b[0m\u001b[0;34m=\u001b[0m\u001b[0mrange\u001b[0m\u001b[0;34m(\u001b[0m\u001b[0mmax\u001b[0m\u001b[0;34m(\u001b[0m\u001b[0;34m[\u001b[0m\u001b[0mmax\u001b[0m\u001b[0;34m(\u001b[0m\u001b[0my_label\u001b[0m\u001b[0;34m)\u001b[0m\u001b[0;34m,\u001b[0m\u001b[0mmax\u001b[0m\u001b[0;34m(\u001b[0m\u001b[0m_y_pred\u001b[0m\u001b[0;34m)\u001b[0m\u001b[0;34m]\u001b[0m\u001b[0;34m)\u001b[0m\u001b[0;34m+\u001b[0m\u001b[0;36m1\u001b[0m\u001b[0;34m)\u001b[0m\u001b[0;34m\u001b[0m\u001b[0m\n\u001b[0m\u001b[1;32m    263\u001b[0m \u001b[0;34m\u001b[0m\u001b[0m\n\u001b[1;32m    264\u001b[0m   \u001b[0;32mfrom\u001b[0m \u001b[0msklearn\u001b[0m\u001b[0;34m.\u001b[0m\u001b[0mmetrics\u001b[0m \u001b[0;32mimport\u001b[0m \u001b[0mconfusion_matrix\u001b[0m\u001b[0;34m\u001b[0m\u001b[0m\n",
      "\u001b[0;31mTypeError\u001b[0m: 'numpy.float64' object cannot be interpreted as an integer"
     ]
    }
   ],
   "source": [
    "'''train the model'''\n",
    "cnn_model=cnn_raw.raw_cnn_model(fin_path,mout_path,dev_size,r_state,hyperparameters,\n",
    "                          fast,id_value,threshold=threshold)"
   ]
  },
  {
   "cell_type": "markdown",
   "metadata": {
    "colab_type": "text",
    "id": "vgHv6RqnMtT2"
   },
   "source": [
    "# **Test the model**"
   ]
  },
  {
   "cell_type": "code",
   "execution_count": null,
   "metadata": {
    "colab": {
     "base_uri": "https://localhost:8080/",
     "height": 680
    },
    "colab_type": "code",
    "executionInfo": {
     "elapsed": 8878,
     "status": "ok",
     "timestamp": 1593717912411,
     "user": {
      "displayName": "Nathan Temiquel",
      "photoUrl": "",
      "userId": "01657354188638757810"
     },
     "user_tz": 420
    },
    "id": "-gA4ADAtGN05",
    "outputId": "153b4641-5f30-4018-9706-75c0bcf121dc"
   },
   "outputs": [],
   "source": [
    "\n",
    "#test data path - do not include /content/.../ML Spectroscopy/\n",
    "testin_path=r'Data/Raw Data/Labeled Test/'\n",
    "\n",
    "#build test set, drops samples with Null values\n",
    "test_df=h.dfbuilder(testin_path,synth=False,split_df=False,use_trash=False,raw=False,test=True)\n",
    "\n",
    "\n",
    "#separates features and labels\n",
    "y_test=test_df[test_df.columns[-1]]\n",
    "X_test=test_df.drop(test_df.columns[-1],axis=1).values\n",
    "\n",
    "#roc_out=h.roc_all(cnn_model.predict(X_test),y_test)\n",
    "\n",
    "if not fast:\n",
    "  roc_out.to_csv(mout_path+id_value+'roc_data.csv')\n",
    "\n",
    "#tests model, you can also use model.predict outside of this scope\n",
    "cnn.test_cnn_model(cnn_model,X_test,y_test,id_value,threshold=0.0)\n",
    "\n",
    "#this is that old folder we were talking about where CNN.csv files get saved, i just commented it out and pointed it to the folder with the rest of the outputs\n",
    "#saved_data=r'/content/drive/My Drive/ML Spectroscopy/Programs/Data Processing/Saved Lists/'\n",
    "saved_data=r'/content/drive/My Drive/ML Spectroscopy/Model Data/CNN Model/'\n",
    "pd.DataFrame(data=cnn_model.predict(X_test),index=test_df.index.values).to_csv(saved_data+id_value+r'CNN.csv')\n"
   ]
  },
  {
   "cell_type": "markdown",
   "metadata": {
    "colab_type": "text",
    "id": "B2Q1sVEgatZX"
   },
   "source": [
    "# Play space for whatever other training/testing you want to do\n"
   ]
  },
  {
   "cell_type": "markdown",
   "metadata": {
    "colab_type": "text",
    "id": "6icXV9e0J4U0"
   },
   "source": [
    "Testing/Training Parameters"
   ]
  },
  {
   "cell_type": "code",
   "execution_count": null,
   "metadata": {
    "colab": {},
    "colab_type": "code",
    "id": "D4SZP3BnJ7gD"
   },
   "outputs": [],
   "source": [
    "\n",
    "'''define the hyperparameters here!'''\n",
    "learning_rate=0.001\n",
    "batch_size=100\n",
    "drop_rate=0.55\n",
    "epochs=50\n",
    "\n",
    "#don't change the line below\n",
    "hyperparameters=[learning_rate,batch_size,drop_rate,epochs]\n"
   ]
  },
  {
   "cell_type": "code",
   "execution_count": null,
   "metadata": {
    "colab": {},
    "colab_type": "code",
    "id": "cwEGPb2EJ8U3"
   },
   "outputs": [],
   "source": [
    "\n",
    "'''define other parameters here!'''\n",
    "#this string is prepended to all output files for identification\n",
    "id_value='multi_size_granite_only_update_with_probs'\n",
    "\n",
    "#training data file path (do not include /content/drive/My Drive/ML Spectroscopy/)\n",
    "fin_path=r'Data/Preprocessed/Continuous Wavelet Transformation/Labeled/'\n",
    "\n",
    "#output file path for the trained model data\n",
    "mout_path=r'Model Data/CNN Model/'\n",
    "\n",
    "#proportion of the training data allocated to the dev set - a float x: 0<x<1\n",
    "dev_size=0.2\n",
    "\n",
    "#random seed used for train/dev split to ensure repeatable outcomes. None \n",
    "#provides a psuedorandom value that won't be repeatable\n",
    "r_state=1\n",
    "\n",
    "#fast - True for doing quick training that does not output probability weights\n",
    "#for each sample during training. False for doing deep analysis and tracking\n",
    "fast=False\n",
    "\n",
    "#trash - True for using trash data in the model\n",
    "trash=False\n",
    "\n",
    "#threshold - float in the range [0.0,1.0) determines the discrimination threshold\n",
    "threshold=0.0\n"
   ]
  },
  {
   "cell_type": "markdown",
   "metadata": {
    "colab_type": "text",
    "id": "ke5vv95gJg_P"
   },
   "source": [
    "Build a test set with out of class samples (RRUFF untrained data) and our in class test data set"
   ]
  },
  {
   "cell_type": "code",
   "execution_count": null,
   "metadata": {
    "colab": {
     "base_uri": "https://localhost:8080/",
     "height": 106
    },
    "colab_type": "code",
    "executionInfo": {
     "elapsed": 724,
     "status": "ok",
     "timestamp": 1593628731101,
     "user": {
      "displayName": "Nathan Temiquel",
      "photoUrl": "",
      "userId": "01657354188638757810"
     },
     "user_tz": 420
    },
    "id": "C8Vqc5YyP5Jb",
    "outputId": "6583e804-f4d4-4911-d2ee-0a482f6b74b5"
   },
   "outputs": [],
   "source": [
    "\n",
    "#test data path\n",
    "testin_path1=r'Data/Preprocessed/Continuous Wavelet Transformation/Test Set/Labeled/'\n",
    "\n",
    "#build test set, drops samples with Null values\n",
    "test_df1=h.dfbuilder(testin_path1,synth=synth,split_df=False)\n",
    "test_df1.dropna(inplace=True)\n",
    "\n",
    "\n",
    "#test data path - do not include /content/.../ML Spectroscopy/\n",
    "testin_path2=r'Data/Preprocessed/Continuous Wavelet Transformation/Test Set/RRUFF_untrained/Labeled/'\n",
    "\n",
    "#build test set, drops samples with Null values\n",
    "test_df2=h.dfbuilder(testin_path2,synth=True,split_df=False)\n",
    "test_df2.dropna(inplace=True)\n",
    "\n",
    "test_df=pd.concat([test_df1,test_df2])\n",
    "\n",
    "test_df.loc[test_df['label']==9]=6\n",
    "\n",
    "y_test=test_df[test_df.columns[-1]]\n",
    "X_test=test_df.drop(test_df.columns[-1],axis=1).values\n",
    "\n"
   ]
  },
  {
   "cell_type": "markdown",
   "metadata": {
    "colab_type": "text",
    "id": "XdcOiXBip9rr"
   },
   "source": [
    "Build test set with just granite data"
   ]
  },
  {
   "cell_type": "code",
   "execution_count": null,
   "metadata": {
    "colab": {
     "base_uri": "https://localhost:8080/",
     "height": 318
    },
    "colab_type": "code",
    "executionInfo": {
     "elapsed": 784,
     "status": "ok",
     "timestamp": 1593628733666,
     "user": {
      "displayName": "Nathan Temiquel",
      "photoUrl": "",
      "userId": "01657354188638757810"
     },
     "user_tz": 420
    },
    "id": "PeCfIF2apzjW",
    "outputId": "5462231a-811f-4ec8-a125-6b8647021efd"
   },
   "outputs": [],
   "source": [
    "\n",
    "#test data path - do not include /content/.../ML Spectroscopy/\n",
    "testin_path=r'Data/Preprocessed/Continuous Wavelet Transformation/Test Set/Labeled/'\n",
    "\n",
    "#build test set, drops samples with Null values\n",
    "test_df=h.dfbuilder(testin_path,synth=False,split_df=False)\n",
    "test_df.dropna(inplace=True)\n",
    "\n",
    "print(test_df)\n",
    "y_test=test_df[test_df.columns[-1]]\n",
    "X_test=test_df.drop(test_df.columns[-1],axis=1).values\n"
   ]
  },
  {
   "cell_type": "markdown",
   "metadata": {
    "colab_type": "text",
    "id": "dGnyTCsiHS2G"
   },
   "source": [
    "Running model with limited data sets"
   ]
  },
  {
   "cell_type": "code",
   "execution_count": null,
   "metadata": {
    "colab": {
     "base_uri": "https://localhost:8080/",
     "height": 1000
    },
    "colab_type": "code",
    "id": "YtG_bz_zRK8J",
    "outputId": "1fb07389-a624-4969-d23f-727564883d52"
   },
   "outputs": [],
   "source": [
    "\n",
    "fin_path=r'Data/Preprocessed/Continuous Wavelet Transformation/Labeled/Limited Sizes/'\n",
    "\n",
    "for i in [1,2,4,8,16,32,64,128,256,512,1024,2048,4096]:\n",
    "  #adjusting some parameters for the size\n",
    "  hyperparameters[1]=max([1,round(((i*9*4)/5)/411)])\n",
    "  temp_id=id_value+str(i)\n",
    "  \n",
    "  print('\\n\\n\\n\\n', 'Model ',i,'\\n')\n",
    "  cnn_model=cwt_cnn_model(fin_path+str(i)+'/',mout_path,dev_size,r_state,hyperparameters,fast,temp_id,use_trash=trash,threshold=threshold)\n",
    "  print('\\nTest CM\\n')\n",
    "  cnn_cwt.test_cnn_model(cnn_model,X_test,y_test,temp_id,test=True,threshold=threshold,fast=fast)\n",
    "\n"
   ]
  },
  {
   "cell_type": "code",
   "execution_count": null,
   "metadata": {
    "colab": {},
    "colab_type": "code",
    "id": "QwcMpGgsPHVQ"
   },
   "outputs": [],
   "source": [
    "#print(roc_out)"
   ]
  },
  {
   "cell_type": "code",
   "execution_count": null,
   "metadata": {
    "colab": {
     "base_uri": "https://localhost:8080/",
     "height": 54
    },
    "colab_type": "code",
    "executionInfo": {
     "elapsed": 235678,
     "status": "ok",
     "timestamp": 1592182441203,
     "user": {
      "displayName": "Nathan Temiquel",
      "photoUrl": "",
      "userId": "01657354188638757810"
     },
     "user_tz": 420
    },
    "id": "DvCbgnqtHPDx",
    "outputId": "db45da65-a761-4f09-cfac-5f0df6a92cd1"
   },
   "outputs": [],
   "source": [
    "\"\"\"\n",
    "opt_thresh=np.array((roc_out.columns.values.astype(float)))\n",
    "for i in range(len(roc_out.columns)):\n",
    "  tpr_ls,fpr_ls,thresh_ls=roc_out[roc_out.columns.values[i]]\n",
    "  #print(np.subtract(tpr_ls,fpr_ls))\n",
    "  opt_thresh[i]=thresh_ls[np.argmax(np.subtract(tpr_ls,fpr_ls))]\n",
    "  print('Optimal Threshold for class:',roc_out.columns.values[i],'\\n',opt_thresh[i])\n",
    "print(opt_thresh.sum()*(1.0/len(opt_thresh)))\n",
    "\"\"\""
   ]
  },
  {
   "cell_type": "code",
   "execution_count": null,
   "metadata": {
    "colab": {
     "base_uri": "https://localhost:8080/",
     "height": 34
    },
    "colab_type": "code",
    "executionInfo": {
     "elapsed": 235676,
     "status": "ok",
     "timestamp": 1592182441204,
     "user": {
      "displayName": "Nathan Temiquel",
      "photoUrl": "",
      "userId": "01657354188638757810"
     },
     "user_tz": 420
    },
    "id": "AjhJLgIqFhrr",
    "outputId": "4884d55a-3c5c-466f-c6ce-7ac8beb1bcc2"
   },
   "outputs": [],
   "source": [
    "\"\"\"\n",
    "#tests model, you can also use model.predict outside of this scope\n",
    "cnn_cwt.test_cnn_model(cnn_model,X_test,y_test,id_value,.0,fast=True)\n",
    "\"\"\""
   ]
  },
  {
   "cell_type": "code",
   "execution_count": null,
   "metadata": {
    "colab": {
     "base_uri": "https://localhost:8080/",
     "height": 301
    },
    "colab_type": "code",
    "executionInfo": {
     "elapsed": 235670,
     "status": "ok",
     "timestamp": 1592182441205,
     "user": {
      "displayName": "Nathan Temiquel",
      "photoUrl": "",
      "userId": "01657354188638757810"
     },
     "user_tz": 420
    },
    "id": "qaJIBF-FZEw0",
    "outputId": "32694c44-c3eb-43ff-f980-470ec342cb63"
   },
   "outputs": [],
   "source": [
    "#report metrics: precision, recall, f1-score, support for test set\n",
    "from sklearn.metrics import classification_report\n",
    "print(classification_report(y_test,cnn_cwt.dec_pred(cnn_model.predict(X_test),threshold)))\n"
   ]
  }
 ],
 "metadata": {
  "accelerator": "GPU",
  "colab": {
   "collapsed_sections": [],
   "machine_shape": "hm",
   "name": "Stable_7-1-20_CNN_using_raw.ipynb",
   "provenance": []
  },
  "kernelspec": {
   "display_name": "Python 3",
   "language": "python",
   "name": "python3"
  },
  "language_info": {
   "codemirror_mode": {
    "name": "ipython",
    "version": 3
   },
   "file_extension": ".py",
   "mimetype": "text/x-python",
   "name": "python",
   "nbconvert_exporter": "python",
   "pygments_lexer": "ipython3",
   "version": "3.7.0"
  }
 },
 "nbformat": 4,
 "nbformat_minor": 1
}
