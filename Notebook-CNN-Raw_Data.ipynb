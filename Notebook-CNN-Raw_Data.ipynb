{
 "cells": [
  {
   "cell_type": "markdown",
   "metadata": {},
   "source": [
    "<h1>CNN Using Raw Spectra as Inputs</h1>\n",
    "\n",
    "<p>This notebook is used to train and explore a CNN model that classifies minerals by taking in raw spectra</p>"
   ]
  },
  {
   "cell_type": "code",
   "execution_count": 1,
   "metadata": {
    "colab": {
     "base_uri": "https://localhost:8080/",
     "height": 303
    },
    "colab_type": "code",
    "executionInfo": {
     "elapsed": 27827,
     "status": "ok",
     "timestamp": 1596338524706,
     "user": {
      "displayName": "Nathan Temiquel",
      "photoUrl": "",
      "userId": "01657354188638757810"
     },
     "user_tz": 420
    },
    "id": "RjoK0CooyLaq",
    "outputId": "9bf5bbda-bf0f-4d00-c444-a2d1d54e39c7"
   },
   "outputs": [],
   "source": [
    "import numpy as np\n",
    "import pandas as pd\n",
    "import cnnmodel_raw as cnn_raw\n",
    "from tensorflow.keras.models import Model\n"
   ]
  },
  {
   "cell_type": "markdown",
   "metadata": {
    "colab_type": "text",
    "id": "rEAAkuTBHgH3"
   },
   "source": [
    "<h1>Use this space below for fiddling with model training</h1>\n",
    "\n",
    "<p>If you need to retrain the model, be sure to restart the runtime</p>\n",
    "\n",
    "<h3>Define Hyperparameters below</h3>"
   ]
  },
  {
   "cell_type": "code",
   "execution_count": 2,
   "metadata": {
    "colab": {},
    "colab_type": "code",
    "executionInfo": {
     "elapsed": 367,
     "status": "ok",
     "timestamp": 1596338577846,
     "user": {
      "displayName": "Nathan Temiquel",
      "photoUrl": "",
      "userId": "01657354188638757810"
     },
     "user_tz": 420
    },
    "id": "NmrT68QWPumc"
   },
   "outputs": [],
   "source": [
    "learning_rate=0.0001\n",
    "batch_size=100\n",
    "drop_rate=0.7\n",
    "epochs=50\n",
    "\n",
    "#don't change the line below\n",
    "hyperparameters=[learning_rate,batch_size,drop_rate,epochs]"
   ]
  },
  {
   "cell_type": "code",
   "execution_count": 3,
   "metadata": {
    "colab": {},
    "colab_type": "code",
    "executionInfo": {
     "elapsed": 365,
     "status": "ok",
     "timestamp": 1596338609885,
     "user": {
      "displayName": "Nathan Temiquel",
      "photoUrl": "",
      "userId": "01657354188638757810"
     },
     "user_tz": 420
    },
    "id": "yEPR4aaYG1bq"
   },
   "outputs": [],
   "source": [
    "#this string is prepended to all output files for unique identification\n",
    "id_value='scrap_test'\n",
    "\n",
    "#training data file path\n",
    "fin_path=r'Data/Raw Data/Single/'\n",
    "\n",
    "#output file path for the trained model data\n",
    "mout_path=r'Model Data/CNN Model/'\n",
    "\n",
    "#proportion of the training data allocated to the dev set - a float x: 0<x<1\n",
    "dev_size=0.2\n",
    "\n",
    "#random seed used for train/dev split to ensure repeatable outcomes. None \n",
    "#provides a psuedorandom value that won't be repeatable\n",
    "r_state=1\n",
    "\n",
    "#fast - True for doing quick training that does not output probability weights\n",
    "#for each sample during training. False for doing deep analysis and tracking\n",
    "#note if fast is true, model will train in <5 min while false may be >30 min\n",
    "fast=True\n",
    "\n",
    "#threshold - float in the range [0.0,1.0) determines the discrimination threshold\n",
    "threshold=0.5\n"
   ]
  },
  {
   "cell_type": "code",
   "execution_count": 4,
   "metadata": {
    "colab": {
     "base_uri": "https://localhost:8080/",
     "height": 1000
    },
    "colab_type": "code",
    "executionInfo": {
     "elapsed": 110837,
     "status": "error",
     "timestamp": 1596338721605,
     "user": {
      "displayName": "Nathan Temiquel",
      "photoUrl": "",
      "userId": "01657354188638757810"
     },
     "user_tz": 420
    },
    "id": "n1cWmQtCGmrF",
    "outputId": "88035cf6-d238-4dae-c556-282f3e000c9e",
    "scrolled": true
   },
   "outputs": [
    {
     "name": "stdout",
     "output_type": "stream",
     "text": [
      "Master data set shape is (71674, 951) \n",
      "\n",
      " Master data set is\n",
      "                               150      151      152      153      154  \\\n",
      "albite_train_015s_5250-0  1843.10  1848.63  1855.44  1872.17  1893.32   \n",
      "albite_train_015s_5250-1  1835.52  1845.35  1855.77  1869.89  1889.67   \n",
      "albite_train_015s_5250-2  1802.07  1814.18  1831.13  1853.05  1880.13   \n",
      "albite_train_015s_5250-3  1808.57  1815.09  1823.15  1839.00  1864.86   \n",
      "albite_train_015s_5250-4  1800.92  1810.23  1822.96  1839.00  1858.79   \n",
      "...                           ...      ...      ...      ...      ...   \n",
      "qtz_train_015s_625-620    2576.47  2568.46  2556.91  2539.18  2439.98   \n",
      "qtz_train_015s_625-621    2575.20  2541.80  2516.90  2489.10  2427.84   \n",
      "qtz_train_015s_625-622    2575.00  2558.69  2553.06  2531.36  2460.90   \n",
      "qtz_train_015s_625-623    2562.41  2541.03  2520.78  2504.17  2451.60   \n",
      "qtz_train_015s_625-624    2566.18  2529.75  2500.82  2475.56  2412.82   \n",
      "\n",
      "                              155      156      157      158      159  ...  \\\n",
      "albite_train_015s_5250-0  1959.38  2005.12  2054.00  2100.20  2146.60  ...   \n",
      "albite_train_015s_5250-1  1944.04  1975.08  2009.51  2044.68  2078.60  ...   \n",
      "albite_train_015s_5250-2  1939.70  1968.41  1998.25  2029.33  2060.20  ...   \n",
      "albite_train_015s_5250-3  1918.63  1949.33  1982.72  2018.79  2056.86  ...   \n",
      "albite_train_015s_5250-4  1909.52  1939.95  1973.31  2009.18  2046.95  ...   \n",
      "...                           ...      ...      ...      ...      ...  ...   \n",
      "qtz_train_015s_625-620    2419.70  2426.48  2437.83  2450.14  2462.26  ...   \n",
      "qtz_train_015s_625-621    2405.30  2387.21  2394.60  2401.87  2416.69  ...   \n",
      "qtz_train_015s_625-622    2430.19  2413.80  2415.77  2434.98  2461.12  ...   \n",
      "qtz_train_015s_625-623    2420.77  2401.79  2404.89  2412.42  2424.00  ...   \n",
      "qtz_train_015s_625-624    2393.90  2381.14  2379.69  2398.22  2414.29  ...   \n",
      "\n",
      "                             1091     1092     1093     1094     1095  \\\n",
      "albite_train_015s_5250-0  2099.97  2097.72  2098.40  2106.61  2129.03   \n",
      "albite_train_015s_5250-1  2119.69  2117.31  2113.63  2102.34  2092.63   \n",
      "albite_train_015s_5250-2  2075.46  2081.75  2080.39  2071.16  2067.97   \n",
      "albite_train_015s_5250-3  2067.97  2100.38  2107.08  2105.71  2105.35   \n",
      "albite_train_015s_5250-4  2063.30  2079.19  2085.56  2088.05  2084.16   \n",
      "...                           ...      ...      ...      ...      ...   \n",
      "qtz_train_015s_625-620    2104.16  2104.32  2105.45  2107.72  2110.40   \n",
      "qtz_train_015s_625-621    2000.36  2005.13  2005.88  2002.48  2011.28   \n",
      "qtz_train_015s_625-622    2055.99  2062.58  2067.19  2069.68  2072.28   \n",
      "qtz_train_015s_625-623    2016.72  2032.91  2038.03  2042.59  2048.45   \n",
      "qtz_train_015s_625-624    2009.98  2010.31  2014.67  2029.12  2036.87   \n",
      "\n",
      "                             1096     1097     1098     1099  label  \n",
      "albite_train_015s_5250-0  2137.04  2141.69  2147.31  2147.44      1  \n",
      "albite_train_015s_5250-1  2084.30  2084.42  2098.68  2106.45      1  \n",
      "albite_train_015s_5250-2  2067.09  2067.51  2071.61  2075.17      1  \n",
      "albite_train_015s_5250-3  2105.42  2100.68  2093.34  2084.89      1  \n",
      "albite_train_015s_5250-4  2078.43  2067.12  2066.17  2066.20      1  \n",
      "...                           ...      ...      ...      ...    ...  \n",
      "qtz_train_015s_625-620    2110.30  2105.24  2097.86  2090.96      0  \n",
      "qtz_train_015s_625-621    2015.64  2021.02  2030.24  2030.44      0  \n",
      "qtz_train_015s_625-622    2072.27  2074.42  2103.47  2130.74      0  \n",
      "qtz_train_015s_625-623    2049.61  2050.08  2049.21  2049.14      0  \n",
      "qtz_train_015s_625-624    2039.43  2040.39  2038.50  2034.72      0  \n",
      "\n",
      "[71674 rows x 951 columns]\n",
      "Model: \"functional_1\"\n",
      "_________________________________________________________________\n",
      "Layer (type)                 Output Shape              Param #   \n",
      "=================================================================\n",
      "input_1 (InputLayer)         [(None, 950, 1)]          0         \n",
      "_________________________________________________________________\n",
      "conv1 (Conv1D)               (None, 930, 16)           352       \n",
      "_________________________________________________________________\n",
      "bn1 (BatchNormalization)     (None, 930, 16)           64        \n",
      "_________________________________________________________________\n",
      "relu1 (LeakyReLU)            (None, 930, 16)           0         \n",
      "_________________________________________________________________\n",
      "mpool1 (MaxPooling1D)        (None, 465, 16)           0         \n",
      "_________________________________________________________________\n",
      "conv2 (Conv1D)               (None, 455, 32)           5664      \n",
      "_________________________________________________________________\n",
      "bn2 (BatchNormalization)     (None, 455, 32)           128       \n",
      "_________________________________________________________________\n",
      "relu2 (LeakyReLU)            (None, 455, 32)           0         \n",
      "_________________________________________________________________\n",
      "mpool2 (MaxPooling1D)        (None, 227, 32)           0         \n",
      "_________________________________________________________________\n",
      "conv3 (Conv1D)               (None, 223, 64)           10304     \n",
      "_________________________________________________________________\n",
      "bn3 (BatchNormalization)     (None, 223, 64)           256       \n",
      "_________________________________________________________________\n",
      "relu3 (LeakyReLU)            (None, 223, 64)           0         \n",
      "_________________________________________________________________\n",
      "mpool3 (MaxPooling1D)        (None, 111, 64)           0         \n",
      "_________________________________________________________________\n",
      "flatten (Flatten)            (None, 7104)              0         \n",
      "_________________________________________________________________\n",
      "dense4 (Dense)               (None, 2048)              14548992  \n",
      "_________________________________________________________________\n",
      "bn4 (BatchNormalization)     (None, 2048)              8192      \n",
      "_________________________________________________________________\n",
      "tanh4 (Activation)           (None, 2048)              0         \n",
      "_________________________________________________________________\n",
      "dropout4 (Dropout)           (None, 2048)              0         \n",
      "_________________________________________________________________\n",
      "dense5 (Dense)               (None, 12)                24576     \n",
      "_________________________________________________________________\n",
      "bn5 (BatchNormalization)     (None, 12)                48        \n",
      "_________________________________________________________________\n",
      "softmax5 (Activation)        (None, 12)                0         \n",
      "=================================================================\n",
      "Total params: 14,598,576\n",
      "Trainable params: 14,594,232\n",
      "Non-trainable params: 4,344\n",
      "_________________________________________________________________\n",
      "Epoch 1/50\n",
      "574/574 [==============================] - 118s 205ms/step - loss: 0.4199 - sparse_categorical_accuracy: 0.9803 - val_loss: 0.3790 - val_sparse_categorical_accuracy: 0.9962\n",
      "Epoch 2/50\n",
      "574/574 [==============================] - 118s 205ms/step - loss: 0.2928 - sparse_categorical_accuracy: 0.9984 - val_loss: 0.2312 - val_sparse_categorical_accuracy: 0.9987\n",
      "Epoch 3/50\n",
      "574/574 [==============================] - 118s 205ms/step - loss: 0.2475 - sparse_categorical_accuracy: 0.9989 - val_loss: 0.1961 - val_sparse_categorical_accuracy: 0.9991\n",
      "Epoch 4/50\n",
      "574/574 [==============================] - 117s 204ms/step - loss: 0.2106 - sparse_categorical_accuracy: 0.9993 - val_loss: 0.1773 - val_sparse_categorical_accuracy: 0.9994\n",
      "Epoch 5/50\n",
      "574/574 [==============================] - 118s 206ms/step - loss: 0.1822 - sparse_categorical_accuracy: 0.9994 - val_loss: 0.1442 - val_sparse_categorical_accuracy: 0.9992\n",
      "Epoch 6/50\n",
      "574/574 [==============================] - 118s 206ms/step - loss: 0.1583 - sparse_categorical_accuracy: 0.9996 - val_loss: 0.1405 - val_sparse_categorical_accuracy: 0.9994\n",
      "Epoch 7/50\n",
      "574/574 [==============================] - 118s 206ms/step - loss: 0.1381 - sparse_categorical_accuracy: 0.9996 - val_loss: 0.0992 - val_sparse_categorical_accuracy: 0.9995\n",
      "Epoch 8/50\n",
      "574/574 [==============================] - 127s 221ms/step - loss: 0.1189 - sparse_categorical_accuracy: 0.9997 - val_loss: 0.1012 - val_sparse_categorical_accuracy: 0.9997\n"
     ]
    },
    {
     "name": "stdout",
     "output_type": "stream",
     "text": [
      "Epoch 9/50\n",
      "574/574 [==============================] - 182s 318ms/step - loss: 0.1047 - sparse_categorical_accuracy: 0.9997 - val_loss: 0.0812 - val_sparse_categorical_accuracy: 0.9997\n",
      "Epoch 10/50\n",
      "574/574 [==============================] - 180s 314ms/step - loss: 0.0905 - sparse_categorical_accuracy: 0.9998 - val_loss: 0.0750 - val_sparse_categorical_accuracy: 0.9997\n",
      "Epoch 11/50\n",
      "379/574 [==================>...........] - ETA: 59s - loss: 0.0811 - sparse_categorical_accuracy: 0.9998"
     ]
    },
    {
     "ename": "KeyboardInterrupt",
     "evalue": "",
     "output_type": "error",
     "traceback": [
      "\u001b[1;31m---------------------------------------------------------------------------\u001b[0m",
      "\u001b[1;31mKeyboardInterrupt\u001b[0m                         Traceback (most recent call last)",
      "\u001b[1;32m<ipython-input-4-27693dd8e97b>\u001b[0m in \u001b[0;36m<module>\u001b[1;34m\u001b[0m\n\u001b[0;32m      1\u001b[0m \u001b[1;34m'''train the model'''\u001b[0m\u001b[1;33m\u001b[0m\u001b[1;33m\u001b[0m\u001b[0m\n\u001b[0;32m      2\u001b[0m cnn_model,train_history,X_val,y_val=cnn_raw.raw_cnn_model(fin_path,mout_path,dev_size,r_state,hyperparameters,\n\u001b[1;32m----> 3\u001b[1;33m                           fast,id_value,threshold=threshold)\n\u001b[0m",
      "\u001b[1;32m~\\venv-scnn\\Spec-CNN\\cnnmodel_raw.py\u001b[0m in \u001b[0;36mraw_cnn_model\u001b[1;34m(fin_path, mout_path, dev_size, r_state, hyperparameters, fast, fil_id, threshold)\u001b[0m\n\u001b[0;32m    296\u001b[0m \u001b[1;33m\u001b[0m\u001b[0m\n\u001b[0;32m    297\u001b[0m   \u001b[1;31m#train a cnn model - v0.01\u001b[0m\u001b[1;33m\u001b[0m\u001b[1;33m\u001b[0m\u001b[1;33m\u001b[0m\u001b[0m\n\u001b[1;32m--> 298\u001b[1;33m   \u001b[0mcnn_model\u001b[0m\u001b[1;33m,\u001b[0m\u001b[0mcnn_hist\u001b[0m\u001b[1;33m=\u001b[0m\u001b[0mtrain_cnn_model\u001b[0m\u001b[1;33m(\u001b[0m\u001b[0mX_train\u001b[0m\u001b[1;33m,\u001b[0m\u001b[0my_train\u001b[0m\u001b[1;33m,\u001b[0m\u001b[0mX_dev\u001b[0m\u001b[1;33m,\u001b[0m\u001b[0my_dev\u001b[0m\u001b[1;33m,\u001b[0m\u001b[0mhyperparameters\u001b[0m\u001b[1;33m,\u001b[0m\u001b[0mfast\u001b[0m\u001b[1;33m,\u001b[0m\u001b[0mfil_id\u001b[0m\u001b[1;33m)\u001b[0m\u001b[1;33m\u001b[0m\u001b[1;33m\u001b[0m\u001b[0m\n\u001b[0m\u001b[0;32m    299\u001b[0m   \u001b[0mpd\u001b[0m\u001b[1;33m.\u001b[0m\u001b[0mDataFrame\u001b[0m\u001b[1;33m(\u001b[0m\u001b[0mcnn_hist\u001b[0m\u001b[1;33m.\u001b[0m\u001b[0mhistory\u001b[0m\u001b[1;33m)\u001b[0m\u001b[1;33m.\u001b[0m\u001b[0mto_csv\u001b[0m\u001b[1;33m(\u001b[0m\u001b[0mmout_path\u001b[0m\u001b[1;33m+\u001b[0m\u001b[0mfil_id\u001b[0m\u001b[1;33m+\u001b[0m\u001b[1;34m'hist.csv'\u001b[0m\u001b[1;33m)\u001b[0m\u001b[1;33m\u001b[0m\u001b[1;33m\u001b[0m\u001b[0m\n\u001b[0;32m    300\u001b[0m \u001b[1;33m\u001b[0m\u001b[0m\n",
      "\u001b[1;32m~\\venv-scnn\\Spec-CNN\\cnnmodel_raw.py\u001b[0m in \u001b[0;36mtrain_cnn_model\u001b[1;34m(X_train, y_train, X_dev, y_dev, hyperparameters, fast, id_val)\u001b[0m\n\u001b[0;32m     87\u001b[0m   \u001b[0mmout_path\u001b[0m\u001b[1;33m=\u001b[0m\u001b[1;34mr'Data/Model Data/Raw CNN/'\u001b[0m\u001b[1;33m\u001b[0m\u001b[1;33m\u001b[0m\u001b[0m\n\u001b[0;32m     88\u001b[0m \u001b[1;33m\u001b[0m\u001b[0m\n\u001b[1;32m---> 89\u001b[1;33m   \u001b[0mcnn_hist\u001b[0m\u001b[1;33m=\u001b[0m\u001b[0mcnn_model\u001b[0m\u001b[1;33m.\u001b[0m\u001b[0mfit\u001b[0m\u001b[1;33m(\u001b[0m\u001b[0mX_train\u001b[0m\u001b[1;33m,\u001b[0m\u001b[0my_train\u001b[0m\u001b[1;33m,\u001b[0m\u001b[0mbatch_size\u001b[0m\u001b[1;33m=\u001b[0m\u001b[0mbatch_size\u001b[0m\u001b[1;33m,\u001b[0m\u001b[0mepochs\u001b[0m\u001b[1;33m=\u001b[0m\u001b[0mepochs\u001b[0m\u001b[1;33m,\u001b[0m\u001b[0mvalidation_data\u001b[0m\u001b[1;33m=\u001b[0m\u001b[1;33m(\u001b[0m\u001b[0mX_dev\u001b[0m\u001b[1;33m,\u001b[0m\u001b[0my_dev\u001b[0m\u001b[1;33m)\u001b[0m\u001b[1;33m,\u001b[0m\u001b[0mcallbacks\u001b[0m\u001b[1;33m=\u001b[0m\u001b[0mcallbacks\u001b[0m\u001b[1;33m)\u001b[0m\u001b[1;33m\u001b[0m\u001b[1;33m\u001b[0m\u001b[0m\n\u001b[0m\u001b[0;32m     90\u001b[0m \u001b[1;33m\u001b[0m\u001b[0m\n\u001b[0;32m     91\u001b[0m   \u001b[1;32mreturn\u001b[0m \u001b[0mcnn_model\u001b[0m\u001b[1;33m,\u001b[0m\u001b[0mcnn_hist\u001b[0m\u001b[1;33m\u001b[0m\u001b[1;33m\u001b[0m\u001b[0m\n",
      "\u001b[1;32mc:\\users\\ntemi\\venv-scnn\\venv\\lib\\site-packages\\tensorflow\\python\\keras\\engine\\training.py\u001b[0m in \u001b[0;36m_method_wrapper\u001b[1;34m(self, *args, **kwargs)\u001b[0m\n\u001b[0;32m    106\u001b[0m   \u001b[1;32mdef\u001b[0m \u001b[0m_method_wrapper\u001b[0m\u001b[1;33m(\u001b[0m\u001b[0mself\u001b[0m\u001b[1;33m,\u001b[0m \u001b[1;33m*\u001b[0m\u001b[0margs\u001b[0m\u001b[1;33m,\u001b[0m \u001b[1;33m**\u001b[0m\u001b[0mkwargs\u001b[0m\u001b[1;33m)\u001b[0m\u001b[1;33m:\u001b[0m\u001b[1;33m\u001b[0m\u001b[1;33m\u001b[0m\u001b[0m\n\u001b[0;32m    107\u001b[0m     \u001b[1;32mif\u001b[0m \u001b[1;32mnot\u001b[0m \u001b[0mself\u001b[0m\u001b[1;33m.\u001b[0m\u001b[0m_in_multi_worker_mode\u001b[0m\u001b[1;33m(\u001b[0m\u001b[1;33m)\u001b[0m\u001b[1;33m:\u001b[0m  \u001b[1;31m# pylint: disable=protected-access\u001b[0m\u001b[1;33m\u001b[0m\u001b[1;33m\u001b[0m\u001b[0m\n\u001b[1;32m--> 108\u001b[1;33m       \u001b[1;32mreturn\u001b[0m \u001b[0mmethod\u001b[0m\u001b[1;33m(\u001b[0m\u001b[0mself\u001b[0m\u001b[1;33m,\u001b[0m \u001b[1;33m*\u001b[0m\u001b[0margs\u001b[0m\u001b[1;33m,\u001b[0m \u001b[1;33m**\u001b[0m\u001b[0mkwargs\u001b[0m\u001b[1;33m)\u001b[0m\u001b[1;33m\u001b[0m\u001b[1;33m\u001b[0m\u001b[0m\n\u001b[0m\u001b[0;32m    109\u001b[0m \u001b[1;33m\u001b[0m\u001b[0m\n\u001b[0;32m    110\u001b[0m     \u001b[1;31m# Running inside `run_distribute_coordinator` already.\u001b[0m\u001b[1;33m\u001b[0m\u001b[1;33m\u001b[0m\u001b[1;33m\u001b[0m\u001b[0m\n",
      "\u001b[1;32mc:\\users\\ntemi\\venv-scnn\\venv\\lib\\site-packages\\tensorflow\\python\\keras\\engine\\training.py\u001b[0m in \u001b[0;36mfit\u001b[1;34m(self, x, y, batch_size, epochs, verbose, callbacks, validation_split, validation_data, shuffle, class_weight, sample_weight, initial_epoch, steps_per_epoch, validation_steps, validation_batch_size, validation_freq, max_queue_size, workers, use_multiprocessing)\u001b[0m\n\u001b[0;32m   1096\u001b[0m                 batch_size=batch_size):\n\u001b[0;32m   1097\u001b[0m               \u001b[0mcallbacks\u001b[0m\u001b[1;33m.\u001b[0m\u001b[0mon_train_batch_begin\u001b[0m\u001b[1;33m(\u001b[0m\u001b[0mstep\u001b[0m\u001b[1;33m)\u001b[0m\u001b[1;33m\u001b[0m\u001b[1;33m\u001b[0m\u001b[0m\n\u001b[1;32m-> 1098\u001b[1;33m               \u001b[0mtmp_logs\u001b[0m \u001b[1;33m=\u001b[0m \u001b[0mtrain_function\u001b[0m\u001b[1;33m(\u001b[0m\u001b[0miterator\u001b[0m\u001b[1;33m)\u001b[0m\u001b[1;33m\u001b[0m\u001b[1;33m\u001b[0m\u001b[0m\n\u001b[0m\u001b[0;32m   1099\u001b[0m               \u001b[1;32mif\u001b[0m \u001b[0mdata_handler\u001b[0m\u001b[1;33m.\u001b[0m\u001b[0mshould_sync\u001b[0m\u001b[1;33m:\u001b[0m\u001b[1;33m\u001b[0m\u001b[1;33m\u001b[0m\u001b[0m\n\u001b[0;32m   1100\u001b[0m                 \u001b[0mcontext\u001b[0m\u001b[1;33m.\u001b[0m\u001b[0masync_wait\u001b[0m\u001b[1;33m(\u001b[0m\u001b[1;33m)\u001b[0m\u001b[1;33m\u001b[0m\u001b[1;33m\u001b[0m\u001b[0m\n",
      "\u001b[1;32mc:\\users\\ntemi\\venv-scnn\\venv\\lib\\site-packages\\tensorflow\\python\\eager\\def_function.py\u001b[0m in \u001b[0;36m__call__\u001b[1;34m(self, *args, **kwds)\u001b[0m\n\u001b[0;32m    778\u001b[0m       \u001b[1;32melse\u001b[0m\u001b[1;33m:\u001b[0m\u001b[1;33m\u001b[0m\u001b[1;33m\u001b[0m\u001b[0m\n\u001b[0;32m    779\u001b[0m         \u001b[0mcompiler\u001b[0m \u001b[1;33m=\u001b[0m \u001b[1;34m\"nonXla\"\u001b[0m\u001b[1;33m\u001b[0m\u001b[1;33m\u001b[0m\u001b[0m\n\u001b[1;32m--> 780\u001b[1;33m         \u001b[0mresult\u001b[0m \u001b[1;33m=\u001b[0m \u001b[0mself\u001b[0m\u001b[1;33m.\u001b[0m\u001b[0m_call\u001b[0m\u001b[1;33m(\u001b[0m\u001b[1;33m*\u001b[0m\u001b[0margs\u001b[0m\u001b[1;33m,\u001b[0m \u001b[1;33m**\u001b[0m\u001b[0mkwds\u001b[0m\u001b[1;33m)\u001b[0m\u001b[1;33m\u001b[0m\u001b[1;33m\u001b[0m\u001b[0m\n\u001b[0m\u001b[0;32m    781\u001b[0m \u001b[1;33m\u001b[0m\u001b[0m\n\u001b[0;32m    782\u001b[0m       \u001b[0mnew_tracing_count\u001b[0m \u001b[1;33m=\u001b[0m \u001b[0mself\u001b[0m\u001b[1;33m.\u001b[0m\u001b[0m_get_tracing_count\u001b[0m\u001b[1;33m(\u001b[0m\u001b[1;33m)\u001b[0m\u001b[1;33m\u001b[0m\u001b[1;33m\u001b[0m\u001b[0m\n",
      "\u001b[1;32mc:\\users\\ntemi\\venv-scnn\\venv\\lib\\site-packages\\tensorflow\\python\\eager\\def_function.py\u001b[0m in \u001b[0;36m_call\u001b[1;34m(self, *args, **kwds)\u001b[0m\n\u001b[0;32m    805\u001b[0m       \u001b[1;31m# In this case we have created variables on the first call, so we run the\u001b[0m\u001b[1;33m\u001b[0m\u001b[1;33m\u001b[0m\u001b[1;33m\u001b[0m\u001b[0m\n\u001b[0;32m    806\u001b[0m       \u001b[1;31m# defunned version which is guaranteed to never create variables.\u001b[0m\u001b[1;33m\u001b[0m\u001b[1;33m\u001b[0m\u001b[1;33m\u001b[0m\u001b[0m\n\u001b[1;32m--> 807\u001b[1;33m       \u001b[1;32mreturn\u001b[0m \u001b[0mself\u001b[0m\u001b[1;33m.\u001b[0m\u001b[0m_stateless_fn\u001b[0m\u001b[1;33m(\u001b[0m\u001b[1;33m*\u001b[0m\u001b[0margs\u001b[0m\u001b[1;33m,\u001b[0m \u001b[1;33m**\u001b[0m\u001b[0mkwds\u001b[0m\u001b[1;33m)\u001b[0m  \u001b[1;31m# pylint: disable=not-callable\u001b[0m\u001b[1;33m\u001b[0m\u001b[1;33m\u001b[0m\u001b[0m\n\u001b[0m\u001b[0;32m    808\u001b[0m     \u001b[1;32melif\u001b[0m \u001b[0mself\u001b[0m\u001b[1;33m.\u001b[0m\u001b[0m_stateful_fn\u001b[0m \u001b[1;32mis\u001b[0m \u001b[1;32mnot\u001b[0m \u001b[1;32mNone\u001b[0m\u001b[1;33m:\u001b[0m\u001b[1;33m\u001b[0m\u001b[1;33m\u001b[0m\u001b[0m\n\u001b[0;32m    809\u001b[0m       \u001b[1;31m# Release the lock early so that multiple threads can perform the call\u001b[0m\u001b[1;33m\u001b[0m\u001b[1;33m\u001b[0m\u001b[1;33m\u001b[0m\u001b[0m\n",
      "\u001b[1;32mc:\\users\\ntemi\\venv-scnn\\venv\\lib\\site-packages\\tensorflow\\python\\eager\\function.py\u001b[0m in \u001b[0;36m__call__\u001b[1;34m(self, *args, **kwargs)\u001b[0m\n\u001b[0;32m   2827\u001b[0m     \u001b[1;32mwith\u001b[0m \u001b[0mself\u001b[0m\u001b[1;33m.\u001b[0m\u001b[0m_lock\u001b[0m\u001b[1;33m:\u001b[0m\u001b[1;33m\u001b[0m\u001b[1;33m\u001b[0m\u001b[0m\n\u001b[0;32m   2828\u001b[0m       \u001b[0mgraph_function\u001b[0m\u001b[1;33m,\u001b[0m \u001b[0margs\u001b[0m\u001b[1;33m,\u001b[0m \u001b[0mkwargs\u001b[0m \u001b[1;33m=\u001b[0m \u001b[0mself\u001b[0m\u001b[1;33m.\u001b[0m\u001b[0m_maybe_define_function\u001b[0m\u001b[1;33m(\u001b[0m\u001b[0margs\u001b[0m\u001b[1;33m,\u001b[0m \u001b[0mkwargs\u001b[0m\u001b[1;33m)\u001b[0m\u001b[1;33m\u001b[0m\u001b[1;33m\u001b[0m\u001b[0m\n\u001b[1;32m-> 2829\u001b[1;33m     \u001b[1;32mreturn\u001b[0m \u001b[0mgraph_function\u001b[0m\u001b[1;33m.\u001b[0m\u001b[0m_filtered_call\u001b[0m\u001b[1;33m(\u001b[0m\u001b[0margs\u001b[0m\u001b[1;33m,\u001b[0m \u001b[0mkwargs\u001b[0m\u001b[1;33m)\u001b[0m  \u001b[1;31m# pylint: disable=protected-access\u001b[0m\u001b[1;33m\u001b[0m\u001b[1;33m\u001b[0m\u001b[0m\n\u001b[0m\u001b[0;32m   2830\u001b[0m \u001b[1;33m\u001b[0m\u001b[0m\n\u001b[0;32m   2831\u001b[0m   \u001b[1;33m@\u001b[0m\u001b[0mproperty\u001b[0m\u001b[1;33m\u001b[0m\u001b[1;33m\u001b[0m\u001b[0m\n",
      "\u001b[1;32mc:\\users\\ntemi\\venv-scnn\\venv\\lib\\site-packages\\tensorflow\\python\\eager\\function.py\u001b[0m in \u001b[0;36m_filtered_call\u001b[1;34m(self, args, kwargs, cancellation_manager)\u001b[0m\n\u001b[0;32m   1846\u001b[0m                            resource_variable_ops.BaseResourceVariable))],\n\u001b[0;32m   1847\u001b[0m         \u001b[0mcaptured_inputs\u001b[0m\u001b[1;33m=\u001b[0m\u001b[0mself\u001b[0m\u001b[1;33m.\u001b[0m\u001b[0mcaptured_inputs\u001b[0m\u001b[1;33m,\u001b[0m\u001b[1;33m\u001b[0m\u001b[1;33m\u001b[0m\u001b[0m\n\u001b[1;32m-> 1848\u001b[1;33m         cancellation_manager=cancellation_manager)\n\u001b[0m\u001b[0;32m   1849\u001b[0m \u001b[1;33m\u001b[0m\u001b[0m\n\u001b[0;32m   1850\u001b[0m   \u001b[1;32mdef\u001b[0m \u001b[0m_call_flat\u001b[0m\u001b[1;33m(\u001b[0m\u001b[0mself\u001b[0m\u001b[1;33m,\u001b[0m \u001b[0margs\u001b[0m\u001b[1;33m,\u001b[0m \u001b[0mcaptured_inputs\u001b[0m\u001b[1;33m,\u001b[0m \u001b[0mcancellation_manager\u001b[0m\u001b[1;33m=\u001b[0m\u001b[1;32mNone\u001b[0m\u001b[1;33m)\u001b[0m\u001b[1;33m:\u001b[0m\u001b[1;33m\u001b[0m\u001b[1;33m\u001b[0m\u001b[0m\n",
      "\u001b[1;32mc:\\users\\ntemi\\venv-scnn\\venv\\lib\\site-packages\\tensorflow\\python\\eager\\function.py\u001b[0m in \u001b[0;36m_call_flat\u001b[1;34m(self, args, captured_inputs, cancellation_manager)\u001b[0m\n\u001b[0;32m   1922\u001b[0m       \u001b[1;31m# No tape is watching; skip to running the function.\u001b[0m\u001b[1;33m\u001b[0m\u001b[1;33m\u001b[0m\u001b[1;33m\u001b[0m\u001b[0m\n\u001b[0;32m   1923\u001b[0m       return self._build_call_outputs(self._inference_function.call(\n\u001b[1;32m-> 1924\u001b[1;33m           ctx, args, cancellation_manager=cancellation_manager))\n\u001b[0m\u001b[0;32m   1925\u001b[0m     forward_backward = self._select_forward_and_backward_functions(\n\u001b[0;32m   1926\u001b[0m         \u001b[0margs\u001b[0m\u001b[1;33m,\u001b[0m\u001b[1;33m\u001b[0m\u001b[1;33m\u001b[0m\u001b[0m\n",
      "\u001b[1;32mc:\\users\\ntemi\\venv-scnn\\venv\\lib\\site-packages\\tensorflow\\python\\eager\\function.py\u001b[0m in \u001b[0;36mcall\u001b[1;34m(self, ctx, args, cancellation_manager)\u001b[0m\n\u001b[0;32m    548\u001b[0m               \u001b[0minputs\u001b[0m\u001b[1;33m=\u001b[0m\u001b[0margs\u001b[0m\u001b[1;33m,\u001b[0m\u001b[1;33m\u001b[0m\u001b[1;33m\u001b[0m\u001b[0m\n\u001b[0;32m    549\u001b[0m               \u001b[0mattrs\u001b[0m\u001b[1;33m=\u001b[0m\u001b[0mattrs\u001b[0m\u001b[1;33m,\u001b[0m\u001b[1;33m\u001b[0m\u001b[1;33m\u001b[0m\u001b[0m\n\u001b[1;32m--> 550\u001b[1;33m               ctx=ctx)\n\u001b[0m\u001b[0;32m    551\u001b[0m         \u001b[1;32melse\u001b[0m\u001b[1;33m:\u001b[0m\u001b[1;33m\u001b[0m\u001b[1;33m\u001b[0m\u001b[0m\n\u001b[0;32m    552\u001b[0m           outputs = execute.execute_with_cancellation(\n",
      "\u001b[1;32mc:\\users\\ntemi\\venv-scnn\\venv\\lib\\site-packages\\tensorflow\\python\\eager\\execute.py\u001b[0m in \u001b[0;36mquick_execute\u001b[1;34m(op_name, num_outputs, inputs, attrs, ctx, name)\u001b[0m\n\u001b[0;32m     58\u001b[0m     \u001b[0mctx\u001b[0m\u001b[1;33m.\u001b[0m\u001b[0mensure_initialized\u001b[0m\u001b[1;33m(\u001b[0m\u001b[1;33m)\u001b[0m\u001b[1;33m\u001b[0m\u001b[1;33m\u001b[0m\u001b[0m\n\u001b[0;32m     59\u001b[0m     tensors = pywrap_tfe.TFE_Py_Execute(ctx._handle, device_name, op_name,\n\u001b[1;32m---> 60\u001b[1;33m                                         inputs, attrs, num_outputs)\n\u001b[0m\u001b[0;32m     61\u001b[0m   \u001b[1;32mexcept\u001b[0m \u001b[0mcore\u001b[0m\u001b[1;33m.\u001b[0m\u001b[0m_NotOkStatusException\u001b[0m \u001b[1;32mas\u001b[0m \u001b[0me\u001b[0m\u001b[1;33m:\u001b[0m\u001b[1;33m\u001b[0m\u001b[1;33m\u001b[0m\u001b[0m\n\u001b[0;32m     62\u001b[0m     \u001b[1;32mif\u001b[0m \u001b[0mname\u001b[0m \u001b[1;32mis\u001b[0m \u001b[1;32mnot\u001b[0m \u001b[1;32mNone\u001b[0m\u001b[1;33m:\u001b[0m\u001b[1;33m\u001b[0m\u001b[1;33m\u001b[0m\u001b[0m\n",
      "\u001b[1;31mKeyboardInterrupt\u001b[0m: "
     ]
    }
   ],
   "source": [
    "'''train the model'''\n",
    "cnn_model,train_history,X_val,y_val=cnn_raw.raw_cnn_model(fin_path,mout_path,dev_size,r_state,hyperparameters,\n",
    "                          fast,id_value,threshold=threshold)"
   ]
  },
  {
   "cell_type": "markdown",
   "metadata": {
    "colab_type": "text",
    "id": "vgHv6RqnMtT2"
   },
   "source": [
    "<h2><b>Test the model</b></h2>"
   ]
  },
  {
   "cell_type": "code",
   "execution_count": null,
   "metadata": {
    "colab": {
     "base_uri": "https://localhost:8080/",
     "height": 680
    },
    "colab_type": "code",
    "executionInfo": {
     "elapsed": 8878,
     "status": "ok",
     "timestamp": 1593717912411,
     "user": {
      "displayName": "Nathan Temiquel",
      "photoUrl": "",
      "userId": "01657354188638757810"
     },
     "user_tz": 420
    },
    "id": "-gA4ADAtGN05",
    "outputId": "153b4641-5f30-4018-9706-75c0bcf121dc"
   },
   "outputs": [],
   "source": [
    "import matplotlib.pyplot as plt\n",
    "import seaborn as sn\n",
    "from sklearn.metrics import classification_report\n",
    "from sklearn.metrics import confusion_matrix\n",
    "\n",
    "from pprint import pprint\n",
    "from IPython.display import clear_output\n",
    "from sklearn.metrics import roc_curve\n",
    "\n",
    "train_accuracy = train_history.history['sparse_categorical_accuracy']\n",
    "train_accuracy_df = pd.DataFrame(train_accuracy)\n",
    "#train_accuracy_df.to_csv(train_accuracy_path, index = False, header = False)\n",
    "\n",
    "val_accuracy = train_history.history['val_sparse_categorical_accuracy']\n",
    "val_accuracy_df = pd.DataFrame(val_accuracy)\n",
    "#val_accuracy_df.to_csv(val_accuracy_path, index = False, header = False)\n",
    "\n",
    "\n",
    "plt.plot(train_accuracy, label = 'Training Accuracy')\n",
    "plt.plot(val_accuracy, label = 'Validation Accuracy')\n",
    "plt.title('Accuracy Curves')\n",
    "plt.ylabel('Accuracy')\n",
    "plt.xlabel('Epoch')\n",
    "plt.legend(loc = 'best')\n",
    "plt.show()"
   ]
  },
  {
   "cell_type": "code",
   "execution_count": null,
   "metadata": {},
   "outputs": [],
   "source": [
    "train_loss = train_history.history['loss']\n",
    "train_loss_df = pd.DataFrame(train_loss)\n",
    "#train_loss_df.to_csv(train_loss_path, index = False, header = False)\n",
    "\n",
    "val_loss = train_history.history['val_loss']\n",
    "val_loss_df = pd.DataFrame(val_loss)\n",
    "#val_loss_df.to_csv(val_loss_path, index = False, header = False)\n",
    "\n",
    "plt.plot(train_loss, label = 'Training Loss')\n",
    "plt.plot(val_loss, label = 'Validation Loss')\n",
    "plt.title('Loss Curves')\n",
    "plt.ylabel('Loss')\n",
    "plt.xlabel('Epoch')\n",
    "plt.legend(loc = 'best')\n",
    "plt.show()"
   ]
  },
  {
   "cell_type": "code",
   "execution_count": null,
   "metadata": {},
   "outputs": [],
   "source": [
    "def plot_confusion_matrix(y_true, y_pred, title, path):\n",
    "  labels = np.arange(15)\n",
    "  cm = confusion_matrix(y_true, y_pred, labels)\n",
    "  cm_df = pd.DataFrame(cm, columns = labels, index = labels)\n",
    "  #cm_df.to_csv(path, index = True, header = True)\n",
    "  cm_df.columns.name = 'Predicted'\n",
    "  cm_df.index.name = 'Actual'\n",
    "  sn.heatmap(cm_df, annot = True, cmap = 'Blues', fmt = 'd')\n",
    "  plt.title(title)\n",
    "  plt.show()"
   ]
  },
  {
   "cell_type": "code",
   "execution_count": null,
   "metadata": {},
   "outputs": [],
   "source": [
    "val_cm_path=r'Model Data/CNN Model/Raw/val_confusion_matrix_'+id_value+r'.csv'\n",
    "plot_confusion_matrix(y_val, np.argmax(cnn_model.predict(X_val), axis = 1), 'Validation Confusion Matrix', val_cm_path)"
   ]
  },
  {
   "cell_type": "code",
   "execution_count": null,
   "metadata": {},
   "outputs": [],
   "source": [
    "testin_path=r'Data/Raw Data/Mixed/Test Set/'\n",
    "test_cm_path=r'Model Data/CNN Model/Raw/test_confusion_matrix_'+id_value+r'.csv'\n",
    "\n",
    "import helper as h\n",
    "#build test set, drops samples with Null values\n",
    "test_df=h.dfbuilder(testin_path,split_df=False,dev_size=0.2,r_state=1,raw=True)\n",
    "\n",
    "\n",
    "#separates features and labels\n",
    "y_test=test_df[test_df.columns[-1]]\n",
    "X_test=test_df.drop(test_df.columns[-1],axis=1).values\n",
    "\n",
    "\n",
    "plot_confusion_matrix(y_test, np.argmax(cnn_model.predict(X_test), axis = 1), 'Test Confusion Matrix', test_cm_path) \n",
    "print(cnn_model.predict(X_test))"
   ]
  },
  {
   "cell_type": "code",
   "execution_count": null,
   "metadata": {},
   "outputs": [],
   "source": [
    "print(classification_report(y_test, np.argmax(cnn_model.predict(X_test), axis = -1)))\n",
    "\n",
    "cr = classification_report(y_test, np.argmax(cnn_model.predict(X_test), axis = -1), output_dict = True)\n",
    "cr_df = pd.DataFrame(cr).transpose()\n",
    "#cr_df.to_csv(cr_path, index = True, header = True)"
   ]
  }
 ],
 "metadata": {
  "accelerator": "GPU",
  "colab": {
   "collapsed_sections": [],
   "machine_shape": "hm",
   "name": "Stable_7-1-20_CNN_using_raw.ipynb",
   "provenance": []
  },
  "kernelspec": {
   "display_name": "Python 3",
   "language": "python",
   "name": "python3"
  },
  "language_info": {
   "codemirror_mode": {
    "name": "ipython",
    "version": 3
   },
   "file_extension": ".py",
   "mimetype": "text/x-python",
   "name": "python",
   "nbconvert_exporter": "python",
   "pygments_lexer": "ipython3",
   "version": "3.7.7"
  }
 },
 "nbformat": 4,
 "nbformat_minor": 1
}
