{
 "cells": [
  {
   "cell_type": "markdown",
   "metadata": {},
   "source": [
    "<h1>Traditional Models</h1>\n",
    "\n",
    "<p>This notebook is used to train and explore a series of machine learning models including logistic regression, linear support vector classification (SVC), and an ensemble of binary random forest classifiers</p>"
   ]
  },
  {
   "cell_type": "code",
   "execution_count": 1,
   "metadata": {
    "colab": {
     "base_uri": "https://localhost:8080/",
     "height": 303
    },
    "colab_type": "code",
    "executionInfo": {
     "elapsed": 26730,
     "status": "ok",
     "timestamp": 1593641782515,
     "user": {
      "displayName": "Nathan Temiquel",
      "photoUrl": "",
      "userId": "01657354188638757810"
     },
     "user_tz": 420
    },
    "id": "RjoK0CooyLaq",
    "outputId": "8bb8fc78-e7fe-41ef-8e20-dafce951c243"
   },
   "outputs": [],
   "source": [
    "import tradmodels as tmodel"
   ]
  },
  {
   "cell_type": "markdown",
   "metadata": {
    "colab_type": "text",
    "id": "rEAAkuTBHgH3"
   },
   "source": [
    "<h1>Training the Binary Classifier Ensemble</h1>\n",
    "\n",
    "<p>If you need to retrain the models, be sure to restart the runtime</p>\n",
    "\n",
    "<h3>Train below</h3>"
   ]
  },
  {
   "cell_type": "code",
   "execution_count": 2,
   "metadata": {
    "colab": {},
    "colab_type": "code",
    "executionInfo": {
     "elapsed": 408,
     "status": "ok",
     "timestamp": 1593641791363,
     "user": {
      "displayName": "Nathan Temiquel",
      "photoUrl": "",
      "userId": "01657354188638757810"
     },
     "user_tz": 420
    },
    "id": "NmrT68QWPumc"
   },
   "outputs": [],
   "source": [
    "'''define the filepaths for your data here!'''\n",
    "\n",
    "output_label='testing_1_12-30'\n",
    "training_set_path='Data/CWT Data/Single/'\n",
    "test_set_path='Data/CWT Data/Mixed/'"
   ]
  },
  {
   "cell_type": "code",
   "execution_count": 4,
   "metadata": {
    "colab": {
     "base_uri": "https://localhost:8080/",
     "height": 893
    },
    "colab_type": "code",
    "executionInfo": {
     "elapsed": 104408,
     "status": "ok",
     "timestamp": 1593641897400,
     "user": {
      "displayName": "Nathan Temiquel",
      "photoUrl": "",
      "userId": "01657354188638757810"
     },
     "user_tz": 420
    },
    "id": "n1cWmQtCGmrF",
    "outputId": "15bd0462-31e2-4cd3-bff4-ea127369b506"
   },
   "outputs": [
    {
     "name": "stdout",
     "output_type": "stream",
     "text": [
      "Master data set shape is (71674, 951) \n",
      "\n",
      " Master data set is\n",
      "                                150       151       152       153       154  \\\n",
      "albite_train_015s_5250-0 -0.060426  0.364363  0.655384  0.748199  0.667854   \n",
      "albite_train_015s_5250-1 -0.050979  0.370427  0.661060  0.755651  0.676321   \n",
      "albite_train_015s_5250-2 -0.065293  0.378984  0.688549  0.793750  0.715698   \n",
      "albite_train_015s_5250-3 -0.054342  0.375322  0.671679  0.768352  0.688044   \n",
      "albite_train_015s_5250-4 -0.054718  0.385046  0.688442  0.786872  0.702929   \n",
      "...                            ...       ...       ...       ...       ...   \n",
      "qtz_train_015s_625-620    0.003787  0.043815  0.070439  0.077455  0.067289   \n",
      "qtz_train_015s_625-621    0.004155  0.043077  0.068879  0.075580  0.065538   \n",
      "qtz_train_015s_625-622    0.003540  0.042567  0.068623  0.075576  0.065634   \n",
      "qtz_train_015s_625-623    0.003601  0.043714  0.070567  0.077919  0.068031   \n",
      "qtz_train_015s_625-624    0.004089  0.042137  0.067314  0.073799  0.063936   \n",
      "\n",
      "                               155       156       157       158       159  \\\n",
      "albite_train_015s_5250-0  0.496181  0.318162  0.185195  0.109323  0.077749   \n",
      "albite_train_015s_5250-1  0.501629  0.314986  0.169079  0.079796  0.039225   \n",
      "albite_train_015s_5250-2  0.534693  0.337332  0.179948  0.081911  0.037798   \n",
      "albite_train_015s_5250-3  0.510962  0.322309  0.175963  0.087966  0.049388   \n",
      "albite_train_015s_5250-4  0.518523  0.321335  0.167549  0.074912  0.035545   \n",
      "...                            ...       ...       ...       ...       ...   \n",
      "qtz_train_015s_625-620    0.048019  0.028216  0.013206  0.004299  0.000159   \n",
      "qtz_train_015s_625-621    0.046543  0.026883  0.011815  0.002833 -0.001107   \n",
      "qtz_train_015s_625-622    0.046558  0.026746  0.011615  0.002744 -0.000960   \n",
      "qtz_train_015s_625-623    0.048767  0.028588  0.012938  0.003450 -0.000850   \n",
      "qtz_train_015s_625-624    0.045365  0.026184  0.011491  0.002694 -0.001256   \n",
      "\n",
      "                          ...      1091      1092      1093      1094  \\\n",
      "albite_train_015s_5250-0  ...  0.033498  0.094618  0.217422  0.412980   \n",
      "albite_train_015s_5250-1  ...  0.076453  0.142140  0.255032  0.426998   \n",
      "albite_train_015s_5250-2  ...  0.054740  0.131200  0.259925  0.450937   \n",
      "albite_train_015s_5250-3  ...  0.035153  0.118537  0.257787  0.457909   \n",
      "albite_train_015s_5250-4  ...  0.049010  0.125969  0.259054  0.455346   \n",
      "...                       ...       ...       ...       ...       ...   \n",
      "qtz_train_015s_625-620    ...  0.002606  0.007139  0.015264  0.027574   \n",
      "qtz_train_015s_625-621    ...  0.002133  0.006294  0.013861  0.025481   \n",
      "qtz_train_015s_625-622    ...  0.001191  0.005387  0.013221  0.025251   \n",
      "qtz_train_015s_625-623    ...  0.001359  0.006321  0.014808  0.027324   \n",
      "qtz_train_015s_625-624    ...  0.007947  0.004349  0.007085  0.017442   \n",
      "\n",
      "                              1095      1096      1097      1098      1099  \\\n",
      "albite_train_015s_5250-0  0.660274  0.891085  1.000000  0.889898  0.534820   \n",
      "albite_train_015s_5250-1  0.643002  0.844503  0.936010  0.826456  0.489260   \n",
      "albite_train_015s_5250-2  0.686345  0.903073  1.000000  0.881721  0.521713   \n",
      "albite_train_015s_5250-3  0.696824  0.910374  1.000000  0.875015  0.513028   \n",
      "albite_train_015s_5250-4  0.693414  0.908336  1.000000  0.876104  0.513243   \n",
      "...                            ...       ...       ...       ...       ...   \n",
      "qtz_train_015s_625-620    0.042753  0.056629  0.062749  0.055183  0.032422   \n",
      "qtz_train_015s_625-621    0.039995  0.053479  0.059751  0.053037  0.031741   \n",
      "qtz_train_015s_625-622    0.040261  0.054273  0.060999  0.054494  0.033011   \n",
      "qtz_train_015s_625-623    0.042554  0.056411  0.062566  0.055176  0.032730   \n",
      "qtz_train_015s_625-624    0.033172  0.048732  0.056808  0.051271  0.030684   \n",
      "\n",
      "                          label  \n",
      "albite_train_015s_5250-0      1  \n",
      "albite_train_015s_5250-1      1  \n",
      "albite_train_015s_5250-2      1  \n",
      "albite_train_015s_5250-3      1  \n",
      "albite_train_015s_5250-4      1  \n",
      "...                         ...  \n",
      "qtz_train_015s_625-620        0  \n",
      "qtz_train_015s_625-621        0  \n",
      "qtz_train_015s_625-622        0  \n",
      "qtz_train_015s_625-623        0  \n",
      "qtz_train_015s_625-624        0  \n",
      "\n",
      "[71674 rows x 951 columns]\n",
      "in loop, label is 0 \n",
      "\n",
      "\n"
     ]
    },
    {
     "name": "stderr",
     "output_type": "stream",
     "text": [
      "c:\\users\\ntemi\\venv-scnn\\venv\\lib\\site-packages\\pandas\\core\\generic.py:5165: SettingWithCopyWarning: \n",
      "A value is trying to be set on a copy of a slice from a DataFrame.\n",
      "Try using .loc[row_indexer,col_indexer] = value instead\n",
      "\n",
      "See the caveats in the documentation: https://pandas.pydata.org/pandas-docs/stable/user_guide/indexing.html#returning-a-view-versus-a-copy\n",
      "  self[name] = value\n"
     ]
    },
    {
     "name": "stdout",
     "output_type": "stream",
     "text": [
      "model trained\n",
      "fo_train_030s_5040-2963        0\n",
      "qtz_train_003s_4760-2060       1\n",
      "albite_train_015s_5250-709     0\n",
      "an_train_015s_5600-3371        0\n",
      "cal_train_1s_2732-477          0\n",
      "                              ..\n",
      "hb_train_120s_1225_02-683      0\n",
      "bt_train_015s_5600-3534        0\n",
      "bt_train_015s_5600-4365        0\n",
      "mc_train_015s_5600-415         0\n",
      "albite_train_015s_5250-5192    0\n",
      "Name: label, Length: 57339, dtype: int64\n",
      "1.0\n",
      "Model label  0 \n",
      " [[49295     0]\n",
      " [    0  8044]] \n",
      "\n",
      "\n",
      "\n",
      "Model prectictions [[1. 0.]\n",
      " [0. 1.]\n",
      " [1. 0.]\n",
      " ...\n",
      " [1. 0.]\n",
      " [1. 0.]\n",
      " [1. 0.]]\n",
      "0.9987443320544123\n",
      "Model label  0 \n",
      " [[12342     5]\n",
      " [   13  1975]] \n",
      "\n",
      "\n",
      "\n",
      "Model prectictions [[1.   0.  ]\n",
      " [1.   0.  ]\n",
      " [1.   0.  ]\n",
      " ...\n",
      " [0.96 0.04]\n",
      " [1.   0.  ]\n",
      " [1.   0.  ]]\n",
      "in loop, label is 1 \n",
      "\n",
      "\n"
     ]
    },
    {
     "name": "stderr",
     "output_type": "stream",
     "text": [
      "c:\\users\\ntemi\\venv-scnn\\venv\\lib\\site-packages\\pandas\\core\\generic.py:5165: SettingWithCopyWarning: \n",
      "A value is trying to be set on a copy of a slice from a DataFrame.\n",
      "Try using .loc[row_indexer,col_indexer] = value instead\n",
      "\n",
      "See the caveats in the documentation: https://pandas.pydata.org/pandas-docs/stable/user_guide/indexing.html#returning-a-view-versus-a-copy\n",
      "  self[name] = value\n"
     ]
    },
    {
     "name": "stdout",
     "output_type": "stream",
     "text": [
      "model trained\n",
      "gyp_train_15s_1680-462        0\n",
      "albite_train_015s_5250-650    1\n",
      "an_train_015s_5600-709        0\n",
      "aug_train_030s_5600-3646      0\n",
      "en_train_015s_5600-3620       0\n",
      "                             ..\n",
      "mc_train_015s_5600-5333       0\n",
      "cal_train_1s_2732-284         0\n",
      "cal_train_1s_2732-1115        0\n",
      "ms_train_015s_6400-690        0\n",
      "an_train_015s_5600-5192       0\n",
      "Name: label, Length: 57339, dtype: int64\n",
      "1.0\n",
      "Model label  1 \n",
      " [[52624     0]\n",
      " [    0  4715]] \n",
      "\n",
      "\n",
      "\n",
      "Model prectictions [[1. 0.]\n",
      " [0. 1.]\n",
      " [1. 0.]\n",
      " ...\n",
      " [1. 0.]\n",
      " [1. 0.]\n",
      " [1. 0.]]\n",
      "0.9991628880362748\n",
      "Model label  1 \n",
      " [[13170     5]\n",
      " [    7  1153]] \n",
      "\n",
      "\n",
      "\n",
      "Model prectictions [[1. 0.]\n",
      " [1. 0.]\n",
      " [1. 0.]\n",
      " ...\n",
      " [1. 0.]\n",
      " [1. 0.]\n",
      " [1. 0.]]\n",
      "in loop, label is 2 \n",
      "\n",
      "\n"
     ]
    },
    {
     "name": "stderr",
     "output_type": "stream",
     "text": [
      "c:\\users\\ntemi\\venv-scnn\\venv\\lib\\site-packages\\pandas\\core\\generic.py:5165: SettingWithCopyWarning: \n",
      "A value is trying to be set on a copy of a slice from a DataFrame.\n",
      "Try using .loc[row_indexer,col_indexer] = value instead\n",
      "\n",
      "See the caveats in the documentation: https://pandas.pydata.org/pandas-docs/stable/user_guide/indexing.html#returning-a-view-versus-a-copy\n",
      "  self[name] = value\n"
     ]
    },
    {
     "name": "stdout",
     "output_type": "stream",
     "text": [
      "model trained\n",
      "fo_train_030s_5040-2963        0\n",
      "qtz_train_015s_625-454         0\n",
      "albite_train_015s_5250-709     0\n",
      "an_train_015s_5600-3371        0\n",
      "cal_train_1s_2732-477          0\n",
      "                              ..\n",
      "mc_train_015s_5600-4512        0\n",
      "bt_train_015s_5600-3534        0\n",
      "bt_train_015s_5600-4365        0\n",
      "mc_train_015s_5600-5469        0\n",
      "albite_train_015s_5250-5192    0\n",
      "Name: label, Length: 57339, dtype: int64\n",
      "1.0\n",
      "Model label  2 \n",
      " [[53272     0]\n",
      " [    0  4067]] \n",
      "\n",
      "\n",
      "\n",
      "Model prectictions [[1.   0.  ]\n",
      " [1.   0.  ]\n",
      " [1.   0.  ]\n",
      " ...\n",
      " [1.   0.  ]\n",
      " [0.99 0.01]\n",
      " [1.   0.  ]]\n",
      "0.9934426229508196\n",
      "Model label  2 \n",
      " [[13323    25]\n",
      " [   69   918]] \n",
      "\n",
      "\n",
      "\n",
      "Model prectictions [[1. 0.]\n",
      " [1. 0.]\n",
      " [1. 0.]\n",
      " ...\n",
      " [1. 0.]\n",
      " [1. 0.]\n",
      " [1. 0.]]\n",
      "in loop, label is 3 \n",
      "\n",
      "\n"
     ]
    },
    {
     "name": "stderr",
     "output_type": "stream",
     "text": [
      "c:\\users\\ntemi\\venv-scnn\\venv\\lib\\site-packages\\pandas\\core\\generic.py:5165: SettingWithCopyWarning: \n",
      "A value is trying to be set on a copy of a slice from a DataFrame.\n",
      "Try using .loc[row_indexer,col_indexer] = value instead\n",
      "\n",
      "See the caveats in the documentation: https://pandas.pydata.org/pandas-docs/stable/user_guide/indexing.html#returning-a-view-versus-a-copy\n",
      "  self[name] = value\n"
     ]
    },
    {
     "name": "stdout",
     "output_type": "stream",
     "text": [
      "model trained\n",
      "gyp_train_15s_1680-1412        0\n",
      "bt_train_015s_5600-1600        1\n",
      "albite_train_015s_5250-709     0\n",
      "an_train_015s_5600-3371        0\n",
      "en_train_015s_5600-4570        0\n",
      "                              ..\n",
      "ms_train_015s_6400-683         0\n",
      "cal_train_1s_2732-1234         0\n",
      "cal_train_1s_2732-2065         0\n",
      "ms_train_015s_6400-1640        0\n",
      "albite_train_015s_5250-5192    0\n",
      "Name: label, Length: 57339, dtype: int64\n",
      "1.0\n",
      "Model label  3 \n",
      " [[51863     0]\n",
      " [    0  5476]] \n",
      "\n",
      "\n",
      "\n",
      "Model prectictions [[1.   0.  ]\n",
      " [0.07 0.93]\n",
      " [1.   0.  ]\n",
      " ...\n",
      " [1.   0.  ]\n",
      " [1.   0.  ]\n",
      " [1.   0.  ]]\n",
      "0.9907917683990234\n",
      "Model label  3 \n",
      " [[12932    54]\n",
      " [   78  1271]] \n",
      "\n",
      "\n",
      "\n",
      "Model prectictions [[1. 0.]\n",
      " [1. 0.]\n",
      " [1. 0.]\n",
      " ...\n",
      " [1. 0.]\n",
      " [1. 0.]\n",
      " [1. 0.]]\n",
      "in loop, label is 4 \n",
      "\n",
      "\n"
     ]
    },
    {
     "name": "stderr",
     "output_type": "stream",
     "text": [
      "c:\\users\\ntemi\\venv-scnn\\venv\\lib\\site-packages\\pandas\\core\\generic.py:5165: SettingWithCopyWarning: \n",
      "A value is trying to be set on a copy of a slice from a DataFrame.\n",
      "Try using .loc[row_indexer,col_indexer] = value instead\n",
      "\n",
      "See the caveats in the documentation: https://pandas.pydata.org/pandas-docs/stable/user_guide/indexing.html#returning-a-view-versus-a-copy\n",
      "  self[name] = value\n"
     ]
    },
    {
     "name": "stdout",
     "output_type": "stream",
     "text": [
      "model trained\n",
      "fo_train_030s_5040-2963        0\n",
      "ms_train_015s_6400-1175        1\n",
      "albite_train_015s_5250-709     0\n",
      "an_train_015s_5600-3371        0\n",
      "cal_train_1s_2732-477          0\n",
      "                              ..\n",
      "hb_train_120s_1225_02-683      0\n",
      "bt_train_015s_5600-3534        0\n",
      "bt_train_015s_5600-4365        0\n",
      "mc_train_015s_5600-415         0\n",
      "albite_train_015s_5250-5192    0\n",
      "Name: label, Length: 57339, dtype: int64\n",
      "1.0\n",
      "Model label  4 \n",
      " [[52204     0]\n",
      " [    0  5135]] \n",
      "\n",
      "\n",
      "\n",
      "Model prectictions [[1. 0.]\n",
      " [0. 1.]\n",
      " [1. 0.]\n",
      " ...\n",
      " [1. 0.]\n",
      " [1. 0.]\n",
      " [1. 0.]]\n",
      "0.9988838507150332\n",
      "Model label  4 \n",
      " [[13062     8]\n",
      " [    8  1257]] \n",
      "\n",
      "\n",
      "\n",
      "Model prectictions [[1. 0.]\n",
      " [1. 0.]\n",
      " [1. 0.]\n",
      " ...\n",
      " [1. 0.]\n",
      " [1. 0.]\n",
      " [1. 0.]]\n",
      "in loop, label is 5 \n",
      "\n",
      "\n"
     ]
    },
    {
     "name": "stderr",
     "output_type": "stream",
     "text": [
      "c:\\users\\ntemi\\venv-scnn\\venv\\lib\\site-packages\\pandas\\core\\generic.py:5165: SettingWithCopyWarning: \n",
      "A value is trying to be set on a copy of a slice from a DataFrame.\n",
      "Try using .loc[row_indexer,col_indexer] = value instead\n",
      "\n",
      "See the caveats in the documentation: https://pandas.pydata.org/pandas-docs/stable/user_guide/indexing.html#returning-a-view-versus-a-copy\n",
      "  self[name] = value\n"
     ]
    },
    {
     "name": "stdout",
     "output_type": "stream",
     "text": [
      "model trained\n",
      "gyp_train_12s_3336-2963        0\n",
      "qtz_train_015s_625-440         0\n",
      "albite_train_015s_5250-709     0\n",
      "an_train_015s_5600-3371        0\n",
      "cal_train_1s_2732-477          0\n",
      "                              ..\n",
      "mc_train_015s_5600-4498        0\n",
      "bt_train_015s_5600-3534        0\n",
      "bt_train_015s_5600-4365        0\n",
      "mc_train_015s_5600-5455        0\n",
      "albite_train_015s_5250-5192    0\n",
      "Name: label, Length: 57339, dtype: int64\n",
      "1.0\n",
      "Model label  5 \n",
      " [[53284     0]\n",
      " [    0  4055]] \n",
      "\n",
      "\n",
      "\n",
      "Model prectictions [[1. 0.]\n",
      " [1. 0.]\n",
      " [1. 0.]\n",
      " ...\n",
      " [1. 0.]\n",
      " [1. 0.]\n",
      " [1. 0.]]\n",
      "0.9997907220090687\n",
      "Model label  5 \n",
      " [[13349     1]\n",
      " [    2   983]] \n",
      "\n",
      "\n",
      "\n",
      "Model prectictions [[1. 0.]\n",
      " [1. 0.]\n",
      " [1. 0.]\n",
      " ...\n",
      " [1. 0.]\n",
      " [1. 0.]\n",
      " [1. 0.]]\n",
      "in loop, label is 6 \n",
      "\n",
      "\n"
     ]
    },
    {
     "name": "stderr",
     "output_type": "stream",
     "text": [
      "c:\\users\\ntemi\\venv-scnn\\venv\\lib\\site-packages\\pandas\\core\\generic.py:5165: SettingWithCopyWarning: \n",
      "A value is trying to be set on a copy of a slice from a DataFrame.\n",
      "Try using .loc[row_indexer,col_indexer] = value instead\n",
      "\n",
      "See the caveats in the documentation: https://pandas.pydata.org/pandas-docs/stable/user_guide/indexing.html#returning-a-view-versus-a-copy\n",
      "  self[name] = value\n"
     ]
    },
    {
     "name": "stdout",
     "output_type": "stream",
     "text": [
      "model trained\n",
      "gyp_train_15s_1680-187         0\n",
      "aug_train_030s_5600-375        1\n",
      "albite_train_015s_5250-709     0\n",
      "an_train_015s_5600-3371        0\n",
      "en_train_015s_5600-3345        0\n",
      "                              ..\n",
      "mc_train_015s_5600-5058        0\n",
      "cal_train_1s_2732-9            0\n",
      "cal_train_1s_2732-840          0\n",
      "ms_train_015s_6400-415         0\n",
      "albite_train_015s_5250-5192    0\n",
      "Name: label, Length: 57339, dtype: int64\n",
      "1.0\n",
      "Model label  6 \n",
      " [[52831     0]\n",
      " [    0  4508]] \n",
      "\n",
      "\n",
      "\n",
      "Model prectictions [[1. 0.]\n",
      " [0. 1.]\n",
      " [1. 0.]\n",
      " ...\n",
      " [1. 0.]\n",
      " [1. 0.]\n",
      " [1. 0.]]\n",
      "0.9978374607603767\n",
      "Model label  6 \n",
      " [[13231    12]\n",
      " [   19  1073]] \n",
      "\n",
      "\n",
      "\n",
      "Model prectictions [[1. 0.]\n",
      " [1. 0.]\n",
      " [1. 0.]\n",
      " ...\n",
      " [1. 0.]\n",
      " [1. 0.]\n",
      " [1. 0.]]\n",
      "in loop, label is 7 \n",
      "\n",
      "\n"
     ]
    },
    {
     "name": "stderr",
     "output_type": "stream",
     "text": [
      "c:\\users\\ntemi\\venv-scnn\\venv\\lib\\site-packages\\pandas\\core\\generic.py:5165: SettingWithCopyWarning: \n",
      "A value is trying to be set on a copy of a slice from a DataFrame.\n",
      "Try using .loc[row_indexer,col_indexer] = value instead\n",
      "\n",
      "See the caveats in the documentation: https://pandas.pydata.org/pandas-docs/stable/user_guide/indexing.html#returning-a-view-versus-a-copy\n",
      "  self[name] = value\n"
     ]
    },
    {
     "name": "stdout",
     "output_type": "stream",
     "text": [
      "model trained\n",
      "gyp_train_15s_1680-187         0\n",
      "en_train_015s_5600-375         1\n",
      "albite_train_015s_5250-709     0\n",
      "an_train_015s_5600-3371        0\n",
      "cal_train_1s_2732-477          0\n",
      "                              ..\n",
      "mc_train_015s_5600-5058        0\n",
      "bt_train_015s_5600-3534        0\n",
      "bt_train_015s_5600-4365        0\n",
      "ms_train_015s_6400-415         0\n",
      "albite_train_015s_5250-5192    0\n",
      "Name: label, Length: 57339, dtype: int64\n",
      "1.0\n",
      "Model label  7 \n",
      " [[52831     0]\n",
      " [    0  4508]] \n",
      "\n",
      "\n",
      "\n",
      "Model prectictions [[1. 0.]\n",
      " [0. 1.]\n",
      " [1. 0.]\n",
      " ...\n",
      " [1. 0.]\n",
      " [1. 0.]\n",
      " [1. 0.]]\n",
      "0.9991628880362748\n",
      "Model label  7 \n",
      " [[13240     3]\n",
      " [    9  1083]] \n",
      "\n",
      "\n",
      "\n",
      "Model prectictions [[1. 0.]\n",
      " [1. 0.]\n",
      " [1. 0.]\n",
      " ...\n",
      " [1. 0.]\n",
      " [1. 0.]\n",
      " [1. 0.]]\n",
      "in loop, label is 8 \n",
      "\n",
      "\n"
     ]
    },
    {
     "name": "stderr",
     "output_type": "stream",
     "text": [
      "c:\\users\\ntemi\\venv-scnn\\venv\\lib\\site-packages\\pandas\\core\\generic.py:5165: SettingWithCopyWarning: \n",
      "A value is trying to be set on a copy of a slice from a DataFrame.\n",
      "Try using .loc[row_indexer,col_indexer] = value instead\n",
      "\n",
      "See the caveats in the documentation: https://pandas.pydata.org/pandas-docs/stable/user_guide/indexing.html#returning-a-view-versus-a-copy\n",
      "  self[name] = value\n"
     ]
    },
    {
     "name": "stdout",
     "output_type": "stream",
     "text": [
      "model trained\n",
      "gyp_train_15s_1680-187         0\n",
      "an_train_015s_5600-375         1\n",
      "albite_train_015s_5250-709     0\n",
      "aug_train_030s_5600-3371       0\n",
      "en_train_015s_5600-3345        0\n",
      "                              ..\n",
      "mc_train_015s_5600-5058        0\n",
      "cal_train_1s_2732-9            0\n",
      "cal_train_1s_2732-840          0\n",
      "ms_train_015s_6400-415         0\n",
      "albite_train_015s_5250-5192    0\n",
      "Name: label, Length: 57339, dtype: int64\n",
      "1.0\n",
      "Model label  8 \n",
      " [[52831     0]\n",
      " [    0  4508]] \n",
      "\n",
      "\n",
      "\n",
      "Model prectictions [[1.   0.  ]\n",
      " [0.01 0.99]\n",
      " [1.   0.  ]\n",
      " ...\n",
      " [1.   0.  ]\n",
      " [1.   0.  ]\n",
      " [1.   0.  ]]\n",
      "0.9943494942448553\n",
      "Model label  8 \n",
      " [[13236     7]\n",
      " [   74  1018]] \n",
      "\n",
      "\n",
      "\n",
      "Model prectictions [[1. 0.]\n",
      " [1. 0.]\n",
      " [1. 0.]\n",
      " ...\n",
      " [1. 0.]\n",
      " [1. 0.]\n",
      " [1. 0.]]\n",
      "in loop, label is 9 \n",
      "\n",
      "\n"
     ]
    },
    {
     "name": "stderr",
     "output_type": "stream",
     "text": [
      "c:\\users\\ntemi\\venv-scnn\\venv\\lib\\site-packages\\pandas\\core\\generic.py:5165: SettingWithCopyWarning: \n",
      "A value is trying to be set on a copy of a slice from a DataFrame.\n",
      "Try using .loc[row_indexer,col_indexer] = value instead\n",
      "\n",
      "See the caveats in the documentation: https://pandas.pydata.org/pandas-docs/stable/user_guide/indexing.html#returning-a-view-versus-a-copy\n",
      "  self[name] = value\n"
     ]
    },
    {
     "name": "stdout",
     "output_type": "stream",
     "text": [
      "model trained\n",
      "fo_train_030s_5040-2963        0\n",
      "mc_train_015s_5600-375         1\n",
      "albite_train_015s_5250-709     0\n",
      "an_train_015s_5600-3371        0\n",
      "cal_train_1s_2732-477          0\n",
      "                              ..\n",
      "hb_train_120s_1225_02-683      0\n",
      "bt_train_015s_5600-3534        0\n",
      "bt_train_015s_5600-4365        0\n",
      "ms_train_015s_6400-415         0\n",
      "albite_train_015s_5250-5192    0\n",
      "Name: label, Length: 57339, dtype: int64\n",
      "1.0\n",
      "Model label  9 \n",
      " [[52831     0]\n",
      " [    0  4508]] \n",
      "\n",
      "\n",
      "\n",
      "Model prectictions [[1. 0.]\n",
      " [0. 1.]\n",
      " [1. 0.]\n",
      " ...\n",
      " [1. 0.]\n",
      " [1. 0.]\n",
      " [1. 0.]]\n",
      "0.9967213114754099\n",
      "Model label  9 \n",
      " [[13227    16]\n",
      " [   31  1061]] \n",
      "\n",
      "\n",
      "\n",
      "Model prectictions [[0.99 0.01]\n",
      " [1.   0.  ]\n",
      " [1.   0.  ]\n",
      " ...\n",
      " [1.   0.  ]\n",
      " [1.   0.  ]\n",
      " [1.   0.  ]]\n",
      "in loop, label is 10 \n",
      "\n",
      "\n"
     ]
    },
    {
     "name": "stderr",
     "output_type": "stream",
     "text": [
      "c:\\users\\ntemi\\venv-scnn\\venv\\lib\\site-packages\\pandas\\core\\generic.py:5165: SettingWithCopyWarning: \n",
      "A value is trying to be set on a copy of a slice from a DataFrame.\n",
      "Try using .loc[row_indexer,col_indexer] = value instead\n",
      "\n",
      "See the caveats in the documentation: https://pandas.pydata.org/pandas-docs/stable/user_guide/indexing.html#returning-a-view-versus-a-copy\n",
      "  self[name] = value\n"
     ]
    },
    {
     "name": "stdout",
     "output_type": "stream",
     "text": [
      "model trained\n",
      "gyp_train_12s_3336-2955        0\n",
      "qtz_train_015s_625-432         0\n",
      "albite_train_015s_5250-709     0\n",
      "an_train_015s_5600-3371        0\n",
      "en_train_015s_5600-2777        0\n",
      "                              ..\n",
      "mc_train_015s_5600-4490        0\n",
      "bt_train_015s_5600-3534        0\n",
      "bt_train_015s_5600-4365        0\n",
      "mc_train_015s_5600-5447        0\n",
      "albite_train_015s_5250-5192    0\n",
      "Name: label, Length: 57339, dtype: int64\n",
      "1.0\n",
      "Model label  10 \n",
      " [[53292     0]\n",
      " [    0  4047]] \n",
      "\n",
      "\n",
      "\n",
      "Model prectictions [[1. 0.]\n",
      " [1. 0.]\n",
      " [1. 0.]\n",
      " ...\n",
      " [1. 0.]\n",
      " [1. 0.]\n",
      " [1. 0.]]\n",
      "0.9996512033484478\n",
      "Model label  10 \n",
      " [[13350     0]\n",
      " [    5   980]] \n",
      "\n",
      "\n",
      "\n",
      "Model prectictions [[1. 0.]\n",
      " [1. 0.]\n",
      " [1. 0.]\n",
      " ...\n",
      " [1. 0.]\n",
      " [1. 0.]\n",
      " [1. 0.]]\n",
      "in loop, label is 11 \n",
      "\n",
      "\n"
     ]
    },
    {
     "name": "stderr",
     "output_type": "stream",
     "text": [
      "c:\\users\\ntemi\\venv-scnn\\venv\\lib\\site-packages\\pandas\\core\\generic.py:5165: SettingWithCopyWarning: \n",
      "A value is trying to be set on a copy of a slice from a DataFrame.\n",
      "Try using .loc[row_indexer,col_indexer] = value instead\n",
      "\n",
      "See the caveats in the documentation: https://pandas.pydata.org/pandas-docs/stable/user_guide/indexing.html#returning-a-view-versus-a-copy\n",
      "  self[name] = value\n"
     ]
    },
    {
     "name": "stdout",
     "output_type": "stream",
     "text": [
      "model trained\n",
      "fo_train_030s_5040-2963        0\n",
      "qtz_train_015s_625-416         0\n",
      "albite_train_015s_5250-709     0\n",
      "an_train_015s_5600-3371        0\n",
      "cal_train_1s_2732-477          0\n",
      "                              ..\n",
      "mc_train_015s_5600-4474        0\n",
      "bt_train_015s_5600-3534        0\n",
      "bt_train_015s_5600-4365        0\n",
      "mc_train_015s_5600-5431        0\n",
      "albite_train_015s_5250-5192    0\n",
      "Name: label, Length: 57339, dtype: int64\n",
      "1.0\n",
      "Model label  11 \n",
      " [[53305     0]\n",
      " [    0  4034]] \n",
      "\n",
      "\n",
      "\n",
      "Model prectictions [[1. 0.]\n",
      " [1. 0.]\n",
      " [1. 0.]\n",
      " ...\n",
      " [1. 0.]\n",
      " [1. 0.]\n",
      " [1. 0.]]\n",
      "0.9998604813393791\n",
      "Model label  11 \n",
      " [[13352     1]\n",
      " [    1   981]] \n",
      "\n",
      "\n",
      "\n",
      "Model prectictions [[1. 0.]\n",
      " [1. 0.]\n",
      " [1. 0.]\n",
      " ...\n",
      " [1. 0.]\n",
      " [1. 0.]\n",
      " [1. 0.]]\n"
     ]
    },
    {
     "ename": "IndexError",
     "evalue": "list index out of range",
     "output_type": "error",
     "traceback": [
      "\u001b[1;31m---------------------------------------------------------------------------\u001b[0m",
      "\u001b[1;31mIndexError\u001b[0m                                Traceback (most recent call last)",
      "\u001b[1;32m<ipython-input-4-1ec2292fc1f0>\u001b[0m in \u001b[0;36m<module>\u001b[1;34m\u001b[0m\n\u001b[0;32m      1\u001b[0m \u001b[1;34m'''train the model'''\u001b[0m\u001b[1;33m\u001b[0m\u001b[1;33m\u001b[0m\u001b[0m\n\u001b[1;32m----> 2\u001b[1;33m \u001b[0mtest_outputs_df\u001b[0m\u001b[1;33m,\u001b[0m\u001b[0mmodel_ls\u001b[0m\u001b[1;33m,\u001b[0m\u001b[0mpca_ls\u001b[0m\u001b[1;33m=\u001b[0m\u001b[0mtmodel\u001b[0m\u001b[1;33m.\u001b[0m\u001b[0mmodel_set\u001b[0m\u001b[1;33m(\u001b[0m\u001b[0mtraining_set_path\u001b[0m\u001b[1;33m,\u001b[0m\u001b[0mtest_set_path\u001b[0m\u001b[1;33m,\u001b[0m\u001b[0moutput_label\u001b[0m\u001b[1;33m,\u001b[0m\u001b[1;32mFalse\u001b[0m\u001b[1;33m)\u001b[0m\u001b[1;33m\u001b[0m\u001b[1;33m\u001b[0m\u001b[0m\n\u001b[0m",
      "\u001b[1;32m~\\venv-scnn\\Spec-CNN\\tradmodels.py\u001b[0m in \u001b[0;36mmodel_set\u001b[1;34m(fin_path, testin_path, fil_id, raw)\u001b[0m\n\u001b[0;32m    121\u001b[0m \u001b[1;33m\u001b[0m\u001b[0m\n\u001b[0;32m    122\u001b[0m   \u001b[1;34m'''should this and the following section be combined into one method?'''\u001b[0m\u001b[1;33m\u001b[0m\u001b[1;33m\u001b[0m\u001b[0m\n\u001b[1;32m--> 123\u001b[1;33m   \u001b[0minit_test_df\u001b[0m\u001b[1;33m=\u001b[0m\u001b[0mh\u001b[0m\u001b[1;33m.\u001b[0m\u001b[0mdfbuilder\u001b[0m\u001b[1;33m(\u001b[0m\u001b[0mtestin_path\u001b[0m\u001b[1;33m,\u001b[0m\u001b[0msplit_df\u001b[0m\u001b[1;33m=\u001b[0m\u001b[1;32mFalse\u001b[0m\u001b[1;33m,\u001b[0m\u001b[0mr_state\u001b[0m\u001b[1;33m=\u001b[0m\u001b[1;36m1\u001b[0m\u001b[1;33m,\u001b[0m\u001b[0mraw\u001b[0m\u001b[1;33m=\u001b[0m\u001b[0mraw\u001b[0m\u001b[1;33m)\u001b[0m\u001b[1;33m\u001b[0m\u001b[1;33m\u001b[0m\u001b[0m\n\u001b[0m\u001b[0;32m    124\u001b[0m   \u001b[0mprint\u001b[0m\u001b[1;33m(\u001b[0m\u001b[0minit_test_df\u001b[0m\u001b[1;33m)\u001b[0m\u001b[1;33m\u001b[0m\u001b[1;33m\u001b[0m\u001b[0m\n\u001b[0;32m    125\u001b[0m \u001b[1;33m\u001b[0m\u001b[0m\n",
      "\u001b[1;32m~\\venv-scnn\\Spec-CNN\\helper.py\u001b[0m in \u001b[0;36mdfbuilder\u001b[1;34m(fin_path, split_df, dev_size, r_state, raw)\u001b[0m\n\u001b[0;32m     82\u001b[0m     \u001b[0mdf\u001b[0m\u001b[1;33m=\u001b[0m\u001b[0mpd\u001b[0m\u001b[1;33m.\u001b[0m\u001b[0mconcat\u001b[0m\u001b[1;33m(\u001b[0m\u001b[0mdf_ls\u001b[0m\u001b[1;33m)\u001b[0m\u001b[1;33m\u001b[0m\u001b[1;33m\u001b[0m\u001b[0m\n\u001b[0;32m     83\u001b[0m   \u001b[1;32melse\u001b[0m\u001b[1;33m:\u001b[0m\u001b[1;33m\u001b[0m\u001b[1;33m\u001b[0m\u001b[0m\n\u001b[1;32m---> 84\u001b[1;33m     \u001b[0mdf\u001b[0m\u001b[1;33m=\u001b[0m\u001b[0mdf_ls\u001b[0m\u001b[1;33m[\u001b[0m\u001b[1;36m0\u001b[0m\u001b[1;33m]\u001b[0m\u001b[1;33m\u001b[0m\u001b[1;33m\u001b[0m\u001b[0m\n\u001b[0m\u001b[0;32m     85\u001b[0m \u001b[1;33m\u001b[0m\u001b[0m\n\u001b[0;32m     86\u001b[0m   \u001b[1;31m#remove rows with \"None\"s that will break the model\u001b[0m\u001b[1;33m\u001b[0m\u001b[1;33m\u001b[0m\u001b[1;33m\u001b[0m\u001b[0m\n",
      "\u001b[1;31mIndexError\u001b[0m: list index out of range"
     ]
    }
   ],
   "source": [
    "'''train the model'''\n",
    "test_outputs_df,model_ls,pca_ls=tmodel.model_set(training_set_path,test_set_path,output_label,False)"
   ]
  },
  {
   "cell_type": "markdown",
   "metadata": {
    "colab_type": "text",
    "id": "vgHv6RqnMtT2"
   },
   "source": [
    "# **Test the model! Outside of function scope!**"
   ]
  },
  {
   "cell_type": "code",
   "execution_count": null,
   "metadata": {
    "colab": {
     "base_uri": "https://localhost:8080/",
     "height": 1000
    },
    "colab_type": "code",
    "executionInfo": {
     "elapsed": 73810,
     "status": "ok",
     "timestamp": 1593628417557,
     "user": {
      "displayName": "Nathan Temiquel",
      "photoUrl": "",
      "userId": "01657354188638757810"
     },
     "user_tz": 420
    },
    "id": "-gA4ADAtGN05",
    "outputId": "bc546e79-2cbe-4ade-d44c-c6c347440426",
    "scrolled": false
   },
   "outputs": [],
   "source": [
    "\n",
    "#test data path - do not include /content/.../ML Spectroscopy/\n",
    "testin_path=r'Data/Preprocessed/Continuous Wavelet Transformation/Test Set/Labeled/'\n",
    "\n",
    "#build test set, drops samples with Null values\n",
    "test_df=h.dfbuilder(testin_path,synth=synth,split_df=False,use_trash=trash)\n",
    "test_df.dropna(inplace=True)\n",
    "\n",
    "#separates features and labels\n",
    "y_test=test_df[test_df.columns[-1]]\n",
    "X_test=test_df.drop(test_df.columns[-1],axis=1).values\n",
    "\n",
    "roc_out=h.roc_all(cnn_model.predict(X_test),y_test)\n",
    "\n",
    "if not fast:\n",
    "  roc_out.to_csv(mout_path+id_value+'roc_data.csv')\n",
    "\n",
    "#tests model, you can also use model.predict outside of this scope\n",
    "cnn_cwt.test_cnn_model(cnn_model,X_test,y_test,id_value)\n",
    "\n",
    "#this is that old folder we were talking about where CNN.csv files get saved, i just commented it out and pointed it to the folder with the rest of the outputs\n",
    "#saved_data=r'/content/drive/My Drive/ML Spectroscopy/Programs/Data Processing/Saved Lists/'\n",
    "saved_data=r'/content/drive/My Drive/ML Spectroscopy/Model Data/CNN Model/'\n",
    "pd.DataFrame(data=cnn_model.predict(X_test),index=test_df.index.values).to_csv(saved_data+id_value+r'CNN.csv')\n"
   ]
  },
  {
   "cell_type": "markdown",
   "metadata": {
    "colab_type": "text",
    "id": "B2Q1sVEgatZX"
   },
   "source": [
    "# Play space for whatever other training/testing you want to do\n"
   ]
  },
  {
   "cell_type": "markdown",
   "metadata": {
    "colab_type": "text",
    "id": "6icXV9e0J4U0"
   },
   "source": [
    "Testing/Training Parameters"
   ]
  },
  {
   "cell_type": "code",
   "execution_count": null,
   "metadata": {
    "colab": {},
    "colab_type": "code",
    "id": "D4SZP3BnJ7gD"
   },
   "outputs": [],
   "source": [
    "\n",
    "'''define the hyperparameters here!'''\n",
    "learning_rate=0.001\n",
    "batch_size=100\n",
    "drop_rate=0.55\n",
    "epochs=50\n",
    "\n",
    "#don't change the line below\n",
    "hyperparameters=[learning_rate,batch_size,drop_rate,epochs]\n"
   ]
  },
  {
   "cell_type": "code",
   "execution_count": null,
   "metadata": {
    "colab": {},
    "colab_type": "code",
    "id": "cwEGPb2EJ8U3"
   },
   "outputs": [],
   "source": [
    "\n",
    "'''define other parameters here!'''\n",
    "#this string is prepended to all output files for identification\n",
    "id_value='multi_size_granite_only_update_with_probs'\n",
    "\n",
    "#training data file path (do not include /content/drive/My Drive/ML Spectroscopy/)\n",
    "fin_path=r'Data/Preprocessed/Continuous Wavelet Transformation/Labeled/'\n",
    "\n",
    "#output file path for the trained model data\n",
    "mout_path=r'Model Data/CNN Model/'\n",
    "\n",
    "#proportion of the training data allocated to the dev set - a float x: 0<x<1\n",
    "dev_size=0.2\n",
    "\n",
    "#random seed used for train/dev split to ensure repeatable outcomes. None \n",
    "#provides a psuedorandom value that won't be repeatable\n",
    "r_state=1\n",
    "\n",
    "#fast - True for doing quick training that does not output probability weights\n",
    "#for each sample during training. False for doing deep analysis and tracking\n",
    "fast=False\n",
    "\n",
    "#trash - True for using trash data in the model\n",
    "trash=False\n",
    "\n",
    "#threshold - float in the range [0.0,1.0) determines the discrimination threshold\n",
    "threshold=0.0\n"
   ]
  },
  {
   "cell_type": "markdown",
   "metadata": {
    "colab_type": "text",
    "id": "ke5vv95gJg_P"
   },
   "source": [
    "Build a test set with out of class samples (RRUFF untrained data) and our in class test data set"
   ]
  },
  {
   "cell_type": "code",
   "execution_count": null,
   "metadata": {
    "colab": {
     "base_uri": "https://localhost:8080/",
     "height": 106
    },
    "colab_type": "code",
    "executionInfo": {
     "elapsed": 724,
     "status": "ok",
     "timestamp": 1593628731101,
     "user": {
      "displayName": "Nathan Temiquel",
      "photoUrl": "",
      "userId": "01657354188638757810"
     },
     "user_tz": 420
    },
    "id": "C8Vqc5YyP5Jb",
    "outputId": "6583e804-f4d4-4911-d2ee-0a482f6b74b5",
    "scrolled": true
   },
   "outputs": [],
   "source": [
    "\"\"\"\n",
    "#test data path - do not include /content/.../ML Spectroscopy/\n",
    "testin_path1=r'Data/Preprocessed/Continuous Wavelet Transformation/Test Set/Labeled/'\n",
    "\n",
    "#build test set, drops samples with Null values\n",
    "test_df1=h.dfbuilder(testin_path1,synth=synth,split_df=False)\n",
    "test_df1.dropna(inplace=True)\n",
    "\n",
    "\n",
    "#test data path - do not include /content/.../ML Spectroscopy/\n",
    "testin_path2=r'Data/Preprocessed/Continuous Wavelet Transformation/Test Set/RRUFF_untrained/Labeled/'\n",
    "\n",
    "#build test set, drops samples with Null values\n",
    "test_df2=h.dfbuilder(testin_path2,synth=True,split_df=False)\n",
    "test_df2.dropna(inplace=True)\n",
    "\n",
    "test_df=pd.concat([test_df1,test_df2])\n",
    "\n",
    "test_df.loc[test_df['label']==9]=6\n",
    "\n",
    "y_test=test_df[test_df.columns[-1]]\n",
    "X_test=test_df.drop(test_df.columns[-1],axis=1).values\n",
    "\"\"\"\n"
   ]
  },
  {
   "cell_type": "markdown",
   "metadata": {
    "colab_type": "text",
    "id": "XdcOiXBip9rr"
   },
   "source": [
    "Build test set with just granite data"
   ]
  },
  {
   "cell_type": "code",
   "execution_count": null,
   "metadata": {
    "colab": {
     "base_uri": "https://localhost:8080/",
     "height": 318
    },
    "colab_type": "code",
    "executionInfo": {
     "elapsed": 784,
     "status": "ok",
     "timestamp": 1593628733666,
     "user": {
      "displayName": "Nathan Temiquel",
      "photoUrl": "",
      "userId": "01657354188638757810"
     },
     "user_tz": 420
    },
    "id": "PeCfIF2apzjW",
    "outputId": "5462231a-811f-4ec8-a125-6b8647021efd"
   },
   "outputs": [],
   "source": [
    "\n",
    "#test data path - do not include /content/.../ML Spectroscopy/\n",
    "testin_path=r'Data/Preprocessed/Continuous Wavelet Transformation/Test Set/Labeled/'\n",
    "\n",
    "#build test set, drops samples with Null values\n",
    "test_df=h.dfbuilder(testin_path,synth=False,split_df=False)\n",
    "test_df.dropna(inplace=True)\n",
    "\n",
    "print(test_df)\n",
    "y_test=test_df[test_df.columns[-1]]\n",
    "X_test=test_df.drop(test_df.columns[-1],axis=1).values\n"
   ]
  },
  {
   "cell_type": "markdown",
   "metadata": {
    "colab_type": "text",
    "id": "dGnyTCsiHS2G"
   },
   "source": [
    "Running model with limited data sets"
   ]
  },
  {
   "cell_type": "code",
   "execution_count": null,
   "metadata": {
    "colab": {
     "base_uri": "https://localhost:8080/",
     "height": 1000
    },
    "colab_type": "code",
    "id": "YtG_bz_zRK8J",
    "outputId": "1fb07389-a624-4969-d23f-727564883d52"
   },
   "outputs": [],
   "source": [
    "\n",
    "fin_path=r'Data/Preprocessed/Continuous Wavelet Transformation/Labeled/Limited Sizes/'\n",
    "\n",
    "for i in [1,2,4,8,16,32,64,128,256,512,1024,2048,4096]:\n",
    "  #adjusting some parameters for the size\n",
    "  hyperparameters[1]=max([1,round(((i*9*4)/5)/411)])\n",
    "  temp_id=id_value+str(i)\n",
    "  \n",
    "  print('\\n\\n\\n\\n', 'Model ',i,'\\n')\n",
    "  cnn_model=cwt_cnn_model(fin_path+str(i)+'/',mout_path,dev_size,r_state,hyperparameters,fast,temp_id,use_trash=trash,threshold=threshold)\n",
    "  print('\\nTest CM\\n')\n",
    "  cnn_cwt.test_cnn_model(cnn_model,X_test,y_test,temp_id,test=True,threshold=threshold,fast=fast)\n",
    "\n"
   ]
  },
  {
   "cell_type": "code",
   "execution_count": null,
   "metadata": {
    "colab": {},
    "colab_type": "code",
    "id": "QwcMpGgsPHVQ"
   },
   "outputs": [],
   "source": [
    "#print(roc_out)"
   ]
  },
  {
   "cell_type": "code",
   "execution_count": null,
   "metadata": {
    "colab": {
     "base_uri": "https://localhost:8080/",
     "height": 54
    },
    "colab_type": "code",
    "executionInfo": {
     "elapsed": 235678,
     "status": "ok",
     "timestamp": 1592182441203,
     "user": {
      "displayName": "Nathan Temiquel",
      "photoUrl": "",
      "userId": "01657354188638757810"
     },
     "user_tz": 420
    },
    "id": "DvCbgnqtHPDx",
    "outputId": "db45da65-a761-4f09-cfac-5f0df6a92cd1"
   },
   "outputs": [],
   "source": [
    "\"\"\"\n",
    "opt_thresh=np.array((roc_out.columns.values.astype(float)))\n",
    "for i in range(len(roc_out.columns)):\n",
    "  tpr_ls,fpr_ls,thresh_ls=roc_out[roc_out.columns.values[i]]\n",
    "  #print(np.subtract(tpr_ls,fpr_ls))\n",
    "  opt_thresh[i]=thresh_ls[np.argmax(np.subtract(tpr_ls,fpr_ls))]\n",
    "  print('Optimal Threshold for class:',roc_out.columns.values[i],'\\n',opt_thresh[i])\n",
    "print(opt_thresh.sum()*(1.0/len(opt_thresh)))\n",
    "\"\"\""
   ]
  },
  {
   "cell_type": "code",
   "execution_count": null,
   "metadata": {
    "colab": {
     "base_uri": "https://localhost:8080/",
     "height": 34
    },
    "colab_type": "code",
    "executionInfo": {
     "elapsed": 235676,
     "status": "ok",
     "timestamp": 1592182441204,
     "user": {
      "displayName": "Nathan Temiquel",
      "photoUrl": "",
      "userId": "01657354188638757810"
     },
     "user_tz": 420
    },
    "id": "AjhJLgIqFhrr",
    "outputId": "4884d55a-3c5c-466f-c6ce-7ac8beb1bcc2"
   },
   "outputs": [],
   "source": [
    "\"\"\"\n",
    "#tests model, you can also use model.predict outside of this scope\n",
    "cnn_cwt.test_cnn_model(cnn_model,X_test,y_test,id_value,.0,fast=True)\n",
    "\"\"\""
   ]
  },
  {
   "cell_type": "code",
   "execution_count": null,
   "metadata": {
    "colab": {
     "base_uri": "https://localhost:8080/",
     "height": 301
    },
    "colab_type": "code",
    "executionInfo": {
     "elapsed": 235670,
     "status": "ok",
     "timestamp": 1592182441205,
     "user": {
      "displayName": "Nathan Temiquel",
      "photoUrl": "",
      "userId": "01657354188638757810"
     },
     "user_tz": 420
    },
    "id": "qaJIBF-FZEw0",
    "outputId": "32694c44-c3eb-43ff-f980-470ec342cb63"
   },
   "outputs": [],
   "source": [
    "#report metrics: precision, recall, f1-score, support for test set\n",
    "from sklearn.metrics import classification_report\n",
    "print(classification_report(y_test,cnn_cwt.dec_pred(cnn_model.predict(X_test),threshold)))\n"
   ]
  },
  {
   "cell_type": "code",
   "execution_count": null,
   "metadata": {
    "colab": {},
    "colab_type": "code",
    "id": "pRFjOvNOzp9E"
   },
   "outputs": [],
   "source": []
  }
 ],
 "metadata": {
  "accelerator": "GPU",
  "colab": {
   "collapsed_sections": [],
   "machine_shape": "hm",
   "name": "stable_7-1-20_CNN_using_CWT.ipynb",
   "provenance": []
  },
  "kernelspec": {
   "display_name": "Python 3",
   "language": "python",
   "name": "python3"
  },
  "language_info": {
   "codemirror_mode": {
    "name": "ipython",
    "version": 3
   },
   "file_extension": ".py",
   "mimetype": "text/x-python",
   "name": "python",
   "nbconvert_exporter": "python",
   "pygments_lexer": "ipython3",
   "version": "3.7.7"
  }
 },
 "nbformat": 4,
 "nbformat_minor": 1
}
