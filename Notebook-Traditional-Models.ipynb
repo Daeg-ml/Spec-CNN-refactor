{
 "cells": [
  {
   "cell_type": "markdown",
   "metadata": {},
   "source": [
    "<h1>Traditional Models</h1>\n",
    "\n",
    "<p>This notebook is used to train and explore a series of machine learning models including logistic regression, linear support vector classification (SVC), and an ensemble of binary random forest classifiers</p>"
   ]
  },
  {
   "cell_type": "code",
   "execution_count": 1,
   "metadata": {
    "colab": {
     "base_uri": "https://localhost:8080/",
     "height": 303
    },
    "colab_type": "code",
    "executionInfo": {
     "elapsed": 26730,
     "status": "ok",
     "timestamp": 1593641782515,
     "user": {
      "displayName": "Nathan Temiquel",
      "photoUrl": "",
      "userId": "01657354188638757810"
     },
     "user_tz": 420
    },
    "id": "RjoK0CooyLaq",
    "outputId": "8bb8fc78-e7fe-41ef-8e20-dafce951c243"
   },
   "outputs": [],
   "source": [
    "import tradmodels as tmodel"
   ]
  },
  {
   "cell_type": "markdown",
   "metadata": {
    "colab_type": "text",
    "id": "rEAAkuTBHgH3"
   },
   "source": [
    "<h1>Training the Binary Classifier Ensemble</h1>\n",
    "\n",
    "<p>If you need to retrain the models, be sure to restart the runtime</p>\n",
    "\n",
    "<h3>Train below</h3>"
   ]
  },
  {
   "cell_type": "code",
   "execution_count": 2,
   "metadata": {
    "colab": {},
    "colab_type": "code",
    "executionInfo": {
     "elapsed": 408,
     "status": "ok",
     "timestamp": 1593641791363,
     "user": {
      "displayName": "Nathan Temiquel",
      "photoUrl": "",
      "userId": "01657354188638757810"
     },
     "user_tz": 420
    },
    "id": "NmrT68QWPumc"
   },
   "outputs": [],
   "source": [
    "'''define the filepaths for your data here!'''\n",
    "\n",
    "output_label='testing_1_12-30'\n",
    "training_set_path='Data/CWT Data/Single/'\n",
    "test_set_path='Data/CWT Data/Mixed/'"
   ]
  },
  {
   "cell_type": "code",
   "execution_count": 3,
   "metadata": {
    "colab": {
     "base_uri": "https://localhost:8080/",
     "height": 893
    },
    "colab_type": "code",
    "executionInfo": {
     "elapsed": 104408,
     "status": "ok",
     "timestamp": 1593641897400,
     "user": {
      "displayName": "Nathan Temiquel",
      "photoUrl": "",
      "userId": "01657354188638757810"
     },
     "user_tz": 420
    },
    "id": "n1cWmQtCGmrF",
    "outputId": "15bd0462-31e2-4cd3-bff4-ea127369b506"
   },
   "outputs": [
    {
     "ename": "IndexError",
     "evalue": "list index out of range",
     "output_type": "error",
     "traceback": [
      "\u001b[0;31m---------------------------------------------------------------------------\u001b[0m",
      "\u001b[0;31mIndexError\u001b[0m                                Traceback (most recent call last)",
      "\u001b[0;32m<ipython-input-3-53d828e21450>\u001b[0m in \u001b[0;36m<module>\u001b[0;34m\u001b[0m\n\u001b[1;32m      1\u001b[0m \u001b[0;34m'''train the model'''\u001b[0m\u001b[0;34m\u001b[0m\u001b[0m\n\u001b[0;32m----> 2\u001b[0;31m \u001b[0mtest_outputs_df\u001b[0m\u001b[0;34m,\u001b[0m\u001b[0mmodel_ls\u001b[0m\u001b[0;34m,\u001b[0m\u001b[0mpca_ls\u001b[0m\u001b[0;34m=\u001b[0m\u001b[0mtmodel\u001b[0m\u001b[0;34m.\u001b[0m\u001b[0mbinary_model_set\u001b[0m\u001b[0;34m(\u001b[0m\u001b[0mtraining_set_path\u001b[0m\u001b[0;34m,\u001b[0m\u001b[0mtest_set_path\u001b[0m\u001b[0;34m,\u001b[0m\u001b[0moutput_label\u001b[0m\u001b[0;34m,\u001b[0m\u001b[0;32mFalse\u001b[0m\u001b[0;34m,\u001b[0m\u001b[0;36m1\u001b[0m\u001b[0;34m)\u001b[0m\u001b[0;34m\u001b[0m\u001b[0m\n\u001b[0m",
      "\u001b[0;32m~/venv-scnn/Spec-CNN/tradmodels.py\u001b[0m in \u001b[0;36mbinary_model_set\u001b[0;34m(fin_path, testin_path, fil_id, raw, r_state)\u001b[0m\n\u001b[1;32m    125\u001b[0m \u001b[0;34m\u001b[0m\u001b[0m\n\u001b[1;32m    126\u001b[0m   \u001b[0;31m#train the models for testing\u001b[0m\u001b[0;34m\u001b[0m\u001b[0;34m\u001b[0m\u001b[0m\n\u001b[0;32m--> 127\u001b[0;31m   \u001b[0mm_list\u001b[0m\u001b[0;34m,\u001b[0m\u001b[0ml_list\u001b[0m\u001b[0;34m,\u001b[0m\u001b[0mpca\u001b[0m\u001b[0;34m=\u001b[0m\u001b[0mtrain_model_set\u001b[0m\u001b[0;34m(\u001b[0m\u001b[0mfin_path\u001b[0m\u001b[0;34m,\u001b[0m\u001b[0mfil_id\u001b[0m\u001b[0;34m,\u001b[0m\u001b[0msave_path\u001b[0m\u001b[0;34m)\u001b[0m\u001b[0;34m\u001b[0m\u001b[0m\n\u001b[0m\u001b[1;32m    128\u001b[0m \u001b[0;34m\u001b[0m\u001b[0m\n\u001b[1;32m    129\u001b[0m   \u001b[0;31m#import test data, perform pca, re-associate labels\u001b[0m\u001b[0;34m\u001b[0m\u001b[0;34m\u001b[0m\u001b[0m\n",
      "\u001b[0;32m~/venv-scnn/Spec-CNN/tradmodels.py\u001b[0m in \u001b[0;36mtrain_model_set\u001b[0;34m(fin_path, fil_id, save_path)\u001b[0m\n\u001b[1;32m     73\u001b[0m \u001b[0;34m\u001b[0m\u001b[0m\n\u001b[1;32m     74\u001b[0m   \u001b[0;31m#build master dataframe of data from fin_path and run pca to reduce the feature set\u001b[0m\u001b[0;34m\u001b[0m\u001b[0;34m\u001b[0m\u001b[0m\n\u001b[0;32m---> 75\u001b[0;31m   \u001b[0mdf\u001b[0m\u001b[0;34m,\u001b[0m\u001b[0mpca\u001b[0m\u001b[0;34m=\u001b[0m\u001b[0mrun_pca\u001b[0m\u001b[0;34m(\u001b[0m\u001b[0mh\u001b[0m\u001b[0;34m.\u001b[0m\u001b[0mdfbuilder\u001b[0m\u001b[0;34m(\u001b[0m\u001b[0mfin_path\u001b[0m\u001b[0;34m,\u001b[0m\u001b[0msplit_df\u001b[0m\u001b[0;34m=\u001b[0m\u001b[0;32mFalse\u001b[0m\u001b[0;34m,\u001b[0m\u001b[0mdev_size\u001b[0m\u001b[0;34m=\u001b[0m\u001b[0;36m.2\u001b[0m\u001b[0;34m,\u001b[0m\u001b[0mr_state\u001b[0m\u001b[0;34m=\u001b[0m\u001b[0;36m1\u001b[0m\u001b[0;34m,\u001b[0m\u001b[0mraw\u001b[0m\u001b[0;34m=\u001b[0m\u001b[0;32mFalse\u001b[0m\u001b[0;34m)\u001b[0m\u001b[0;34m)\u001b[0m\u001b[0;34m\u001b[0m\u001b[0m\n\u001b[0m\u001b[1;32m     76\u001b[0m \u001b[0;34m\u001b[0m\u001b[0m\n\u001b[1;32m     77\u001b[0m   \u001b[0;31m#list for holding models\u001b[0m\u001b[0;34m\u001b[0m\u001b[0;34m\u001b[0m\u001b[0m\n",
      "\u001b[0;32m~/venv-scnn/Spec-CNN/helper.py\u001b[0m in \u001b[0;36mdfbuilder\u001b[0;34m(fin_path, split_df, dev_size, r_state, raw)\u001b[0m\n\u001b[1;32m     82\u001b[0m     \u001b[0mdf\u001b[0m\u001b[0;34m=\u001b[0m\u001b[0mpd\u001b[0m\u001b[0;34m.\u001b[0m\u001b[0mconcat\u001b[0m\u001b[0;34m(\u001b[0m\u001b[0mdf_ls\u001b[0m\u001b[0;34m)\u001b[0m\u001b[0;34m\u001b[0m\u001b[0m\n\u001b[1;32m     83\u001b[0m   \u001b[0;32melse\u001b[0m\u001b[0;34m:\u001b[0m\u001b[0;34m\u001b[0m\u001b[0m\n\u001b[0;32m---> 84\u001b[0;31m     \u001b[0mdf\u001b[0m\u001b[0;34m=\u001b[0m\u001b[0mdf_ls\u001b[0m\u001b[0;34m[\u001b[0m\u001b[0;36m0\u001b[0m\u001b[0;34m]\u001b[0m\u001b[0;34m\u001b[0m\u001b[0m\n\u001b[0m\u001b[1;32m     85\u001b[0m \u001b[0;34m\u001b[0m\u001b[0m\n\u001b[1;32m     86\u001b[0m   \u001b[0;31m#remove rows with \"None\"s that will break the model\u001b[0m\u001b[0;34m\u001b[0m\u001b[0;34m\u001b[0m\u001b[0m\n",
      "\u001b[0;31mIndexError\u001b[0m: list index out of range"
     ]
    }
   ],
   "source": [
    "'''train the model'''\n",
    "test_outputs_df,model_ls,pca_ls=tmodel.binary_model_set(training_set_path,test_set_path,output_label,False,1)"
   ]
  },
  {
   "cell_type": "markdown",
   "metadata": {
    "colab_type": "text",
    "id": "vgHv6RqnMtT2"
   },
   "source": [
    "<h1>Training the Logistic Regress Model</h1>\n",
    "\n",
    "<p>If you need to retrain the models, be sure to restart the runtime</p>\n",
    "\n",
    "<h3>Train below</h3>"
   ]
  },
  {
   "cell_type": "code",
   "execution_count": 1,
   "metadata": {
    "colab": {},
    "colab_type": "code",
    "id": "pRFjOvNOzp9E"
   },
   "outputs": [],
   "source": [
    "'''define the filepaths for your data here!'''\n",
    "\n",
    "output_label='testing_1_1-02'\n",
    "training_set_path='Data/CWT Data/Single/'\n",
    "test_set_path='Data/CWT Data/Mixed/'"
   ]
  },
  {
   "cell_type": "code",
   "execution_count": null,
   "metadata": {},
   "outputs": [],
   "source": [
    "'''train the model'''\n",
    "test_outputs_df,model,pca=tmodel.logistic_model(training_set_path,test_set_path,output_label,False,1)"
   ]
  }
 ],
 "metadata": {
  "accelerator": "GPU",
  "colab": {
   "collapsed_sections": [],
   "machine_shape": "hm",
   "name": "stable_7-1-20_CNN_using_CWT.ipynb",
   "provenance": []
  },
  "kernelspec": {
   "display_name": "Python 3",
   "language": "python",
   "name": "python3"
  },
  "language_info": {
   "codemirror_mode": {
    "name": "ipython",
    "version": 3
   },
   "file_extension": ".py",
   "mimetype": "text/x-python",
   "name": "python",
   "nbconvert_exporter": "python",
   "pygments_lexer": "ipython3",
   "version": "3.7.0"
  }
 },
 "nbformat": 4,
 "nbformat_minor": 1
}
