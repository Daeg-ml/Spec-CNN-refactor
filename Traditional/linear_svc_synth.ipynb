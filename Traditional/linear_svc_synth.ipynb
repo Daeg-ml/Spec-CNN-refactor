{
  "nbformat": 4,
  "nbformat_minor": 0,
  "metadata": {
    "colab": {
      "name": "linear_svc_synth.ipynb",
      "provenance": [],
      "collapsed_sections": []
    },
    "kernelspec": {
      "name": "python3",
      "display_name": "Python 3"
    }
  },
  "cells": [
    {
      "cell_type": "code",
      "metadata": {
        "id": "RjoK0CooyLaq",
        "colab": {
          "base_uri": "https://localhost:8080/",
          "height": 124
        },
        "outputId": "21d63b6b-741d-4555-9335-844423b7729e"
      },
      "source": [
        "'''clear to run, check with nate if issues'''\n",
        "\n",
        "\n",
        "#import pandas for data processing\n",
        "import pandas as pd\n",
        "from google.colab import drive\n",
        "drive.mount('/content/drive/')"
      ],
      "execution_count": null,
      "outputs": [
        {
          "output_type": "stream",
          "text": [
            "Go to this URL in a browser: https://accounts.google.com/o/oauth2/auth?client_id=947318989803-6bn6qk8qdgf4n4g3pfee6491hc0brc4i.apps.googleusercontent.com&redirect_uri=urn%3aietf%3awg%3aoauth%3a2.0%3aoob&response_type=code&scope=email%20https%3a%2f%2fwww.googleapis.com%2fauth%2fdocs.test%20https%3a%2f%2fwww.googleapis.com%2fauth%2fdrive%20https%3a%2f%2fwww.googleapis.com%2fauth%2fdrive.photos.readonly%20https%3a%2f%2fwww.googleapis.com%2fauth%2fpeopleapi.readonly\n",
            "\n",
            "Enter your authorization code:\n",
            "··········\n",
            "Mounted at /content/drive/\n"
          ],
          "name": "stdout"
        }
      ]
    },
    {
      "cell_type": "code",
      "metadata": {
        "id": "X6znpiKhys4I"
      },
      "source": [
        "def fname_ls_builder(fin_path,initial=True):\n",
        "  #Find all files in data directory\n",
        "  from os import listdir\n",
        "  from os.path import isfile, join\n",
        "  if initial:\n",
        "    return [f for f in listdir(fin_path) if isfile(join(fin_path,f)) and (not ('_ds' in f or '_r' in f))]\n",
        "  else:\n",
        "    return [f for f in listdir(fin_path) if (isfile(join(fin_path,f)) and ('_ds' in f or '_r' in f))]\n",
        "\n",
        "def df_builder(fin_path,fname_ls):\n",
        "  #this function imports data from CSV files to one large dataframe\n",
        "\n",
        "  #create list to hold dataframes\n",
        "  df_ls=[]\n",
        "\n",
        "  #read in each file\n",
        "  for i in fname_ls:\n",
        "    temp_df=pd.read_csv(fin_path+i,index_col=0)\n",
        "    #print(i,'loaded\\n\\n')\n",
        "    df_ls.append(temp_df)\n",
        "\n",
        "  #create one large df\n",
        "  df=pd.concat(df_ls)\n",
        "  #print(df.shape)\n",
        "  return df\n",
        "\n",
        "def split_data(X):\n",
        "  #separate y from X\n",
        "  y=X['label']\n",
        "  X.drop(['label'],axis=1,inplace=True)\n",
        "  #split into train and dev sets\n",
        "  #print(X,'\\n\\n',y)\n",
        "  return X,y\n",
        "\n",
        "\n",
        "#set filepaths for import/export\n",
        "pkin_path=r'/content/drive/My Drive/ML Spectroscopy/Data/Preprocessed/Peaks Only/Labeled/'\n",
        "\n",
        "pk_fname_ls=fname_ls_builder(pkin_path)\n",
        "\n",
        "pk_df=df_builder(pkin_path,pk_fname_ls)\n",
        "\n",
        "#drop relative intensities\n",
        "pk_df.drop(columns=[i for i in pk_df.columns.values if 'val' in i],inplace=True)\n",
        "\n",
        "pk_df,y=split_data(pk_df)\n"
      ],
      "execution_count": null,
      "outputs": []
    },
    {
      "cell_type": "code",
      "metadata": {
        "id": "-WAqmgIW_Kru",
        "colab": {
          "base_uri": "https://localhost:8080/",
          "height": 1000
        },
        "outputId": "a1e4c6b9-e888-413f-8d3a-99e7fefb416f"
      },
      "source": [
        "#split into train and dev sets\n",
        "from sklearn.model_selection import train_test_split\n",
        "X_train, X_dev, y_train, y_dev = train_test_split(pk_df, y, test_size = 0.20, random_state = 0)\n",
        "#print(X_train,'\\n\\n',X_dev,'\\n\\n',y_train,'\\n\\n',y_dev)\n",
        "\n",
        "#build a df of synthetic data for the training set\n",
        "pk_fname_ls2=fname_ls_builder(pkin_path,initial=False)\n",
        "pk_df2=df_builder(pkin_path,pk_fname_ls2)\n",
        "\n",
        "#create columns to compare similar samples\n",
        "temp_pk=pk_df2.copy()\n",
        "X_temp=X_train.copy()\n",
        "temp_pk.index.name='temp'\n",
        "X_temp.index.name='temp'\n",
        "#print('test X_train', X_train,'\\n\\n\\n\\n')\n",
        "temp_pk.reset_index(inplace=True)\n",
        "X_temp.reset_index(inplace=True)\n",
        "temp_pk.rename(columns={temp_pk.index.name:'temp'},inplace=True)\n",
        "#print(X_temp,'\\n\\n',temp_pk,'\\n\\nX_train\\n\\n',X_train)\n",
        "\n",
        "#print(X_temp['temp'].str.split('-',expand=True)[[0,1]])\n",
        "X_temp[['file','line']]=X_temp['temp'].str.split('-',expand=True)[[0,1]]\n",
        "temp_pk[['file','line']]=temp_pk['temp'].str.split('-',expand=True)[[0,1]]\n",
        "for i in X_temp.index.values:\n",
        "#for i in range(10):\n",
        "  #print(X_temp.loc[i,['temp']])\n",
        "  temp_df=temp_pk.loc[temp_pk['line']==X_temp.loc[i,['line']].values[0]]\n",
        "  #print('temp should be equal to string above\\n',temp_df)\n",
        "  temp_df=temp_df.loc[temp_df['file'].str.contains(X_temp.loc[i,['file']].values[0])]\n",
        "  \n",
        "  temp_df.set_index(keys=temp_df['temp'],drop=True,inplace=True)\n",
        "  temp_df,temp_y=split_data(temp_df.set_index(keys=temp_df.temp,drop=True).drop(columns=['file','line','temp']))\n",
        "  X_train.append(temp_df)\n",
        "  #print(X_train)\n",
        "  y_train.append(temp_y)\n",
        "  if i%1000==0:\n",
        "    print(i)\n",
        "\n",
        "print(X_train,'\\n\\n',y_train)\n"
      ],
      "execution_count": null,
      "outputs": [
        {
          "output_type": "stream",
          "text": [
            "0\n",
            "1000\n",
            "2000\n",
            "3000\n",
            "4000\n",
            "5000\n",
            "6000\n",
            "7000\n",
            "8000\n",
            "9000\n",
            "10000\n",
            "11000\n",
            "12000\n",
            "13000\n",
            "14000\n",
            "15000\n",
            "16000\n",
            "17000\n",
            "18000\n",
            "19000\n",
            "20000\n",
            "21000\n",
            "22000\n",
            "23000\n",
            "24000\n",
            "25000\n",
            "26000\n",
            "27000\n",
            "28000\n",
            "29000\n",
            "30000\n",
            "31000\n",
            "32000\n",
            "33000\n",
            "34000\n",
            "35000\n",
            "36000\n",
            "37000\n",
            "38000\n",
            "39000\n",
            "40000\n",
            "41000\n",
            "42000\n",
            "43000\n",
            "44000\n",
            "                          peak1  peak2  peak3  peak4       peak5\n",
            "hb_train_015s_2500-1758     680    225    365  545.0  430.000000\n",
            "qtz_train_003s_1148-633     465    205    355  590.0  690.000000\n",
            "qtz_train_003s_4760-3823    465    205    355  700.0  630.000000\n",
            "aug_train_030s_5600-2080    670    225    370  530.0  300.000000\n",
            "bt_train_120s_1225-184      680    340    555  435.0  275.000000\n",
            "...                         ...    ...    ...    ...         ...\n",
            "ms_train_015s_6400-2764     265    700    405  630.0  545.000000\n",
            "mc_train_015s_5600-2889     355    295    505  435.0  640.000000\n",
            "en_train_015s_5600-5086     345    675    410  240.0  540.000000\n",
            "ms_train_015s_6400-440      265    700    410  630.0    0.557015\n",
            "bt_train_060s_4701-2732     680    555    335  275.0  430.000000\n",
            "\n",
            "[44101 rows x 5 columns] \n",
            "\n",
            " hb_train_015s_2500-1758      2\n",
            "qtz_train_003s_1148-633      0\n",
            "qtz_train_003s_4760-3823     0\n",
            "aug_train_030s_5600-2080     7\n",
            "bt_train_120s_1225-184       3\n",
            "                            ..\n",
            "ms_train_015s_6400-2764      4\n",
            "mc_train_015s_5600-2889     10\n",
            "en_train_015s_5600-5086      8\n",
            "ms_train_015s_6400-440       4\n",
            "bt_train_060s_4701-2732      3\n",
            "Name: label, Length: 44101, dtype: int64\n"
          ],
          "name": "stdout"
        }
      ]
    },
    {
      "cell_type": "code",
      "metadata": {
        "id": "_GmzJl-v63Jg"
      },
      "source": [
        "#scale data((X-mean)/std_dev)\n",
        "\n",
        "from sklearn.preprocessing import StandardScaler\n",
        "sc = StandardScaler()\n",
        "X_train_sc = sc.fit_transform(X_train)\n",
        "X_dev_sc = sc.fit_transform(X_dev)\n",
        "#print(X.shape)"
      ],
      "execution_count": null,
      "outputs": []
    },
    {
      "cell_type": "code",
      "metadata": {
        "id": "uamWMnnsWEgl"
      },
      "source": [
        "from sklearn.decomposition import PCA\n",
        "#run PCA\n",
        "X_train_p=PCA(n_components=3).fit_transform(X_train_sc)\n",
        "X_dev_p=PCA(n_components=3).fit_transform(X_dev_sc)\n",
        "#print(X_transformed)"
      ],
      "execution_count": null,
      "outputs": []
    },
    {
      "cell_type": "code",
      "metadata": {
        "id": "Puy0uSDafO0s"
      },
      "source": [
        "#create model\n",
        "from sklearn.svm import LinearSVC\n",
        "model=LinearSVC(max_iter=5000).fit(X_train_sc,y_train)\n",
        "modelp=LinearSVC(max_iter=5000).fit(X_train_p,y_train)"
      ],
      "execution_count": null,
      "outputs": []
    },
    {
      "cell_type": "code",
      "metadata": {
        "id": "UIsiKSe5wGc9",
        "colab": {
          "base_uri": "https://localhost:8080/",
          "height": 52
        },
        "outputId": "65c6b5ad-0dec-475b-9dbd-7a265913d8c3"
      },
      "source": [
        "#check model\n",
        "print(model.score(X_dev_sc,y_dev))\n",
        "print(modelp.score(X_dev_p,y_dev))"
      ],
      "execution_count": null,
      "outputs": [
        {
          "output_type": "stream",
          "text": [
            "0.798022855069835\n",
            "0.6632504988209686\n"
          ],
          "name": "stdout"
        }
      ]
    },
    {
      "cell_type": "code",
      "metadata": {
        "id": "vVFT7gaqw2X8",
        "colab": {
          "base_uri": "https://localhost:8080/",
          "height": 363
        },
        "outputId": "c134be89-1a18-486b-b36c-d87f0b74575f"
      },
      "source": [
        "from sklearn.metrics import confusion_matrix\n",
        "cm=confusion_matrix(y_dev,model.predict(X_dev_sc))\n",
        "pcm=confusion_matrix(y_dev,modelp.predict(X_dev_p))\n",
        "print(cm,'\\n\\n\\n',pcm)"
      ],
      "execution_count": null,
      "outputs": [
        {
          "output_type": "stream",
          "text": [
            "[[1842  101    0   42    0    5    0   12   14]\n",
            " [ 152 1008    2    0    0    1    0    0    0]\n",
            " [   3    0  483   49    0    9  434   16    0]\n",
            " [   0    0   17 1052    4    5   79    1    0]\n",
            " [   0    2    0    0 1245    0    0    2    0]\n",
            " [  45   31    7    6    5  916    0    5    7]\n",
            " [   0   17   89    7    0    0 1012    2    0]\n",
            " [   0    0    0    0    1    0    0 1153    0]\n",
            " [ 340  561   45   24    5   75    2    3   88]] \n",
            "\n",
            "\n",
            " [[1785   70    0    1   11   67   76    6    0]\n",
            " [ 154 1006    0    0    0    1    2    0    0]\n",
            " [  40   24  458    0    7    8  445   12    0]\n",
            " [ 651  405   18   16   11    3   53    1    0]\n",
            " [   0    0    0    0 1245    2    0    2    0]\n",
            " [  60  115    0    7    6  702    3  129    0]\n",
            " [  27   18  131    0    1    1  949    0    0]\n",
            " [   0    0    0    0    3    0    0 1151    0]\n",
            " [ 320  571    0  167    7   76    1    0    1]]\n"
          ],
          "name": "stdout"
        }
      ]
    },
    {
      "cell_type": "code",
      "metadata": {
        "id": "rMMQJ9LJBhOT"
      },
      "source": [
        "testin_path=r'/content/drive/My Drive/ML Spectroscopy/Data/Preprocessed/Peaks Only/Unlabeled/'\n",
        "test_ls=fname_ls_builder(testin_path)\n",
        "test_df=df_builder(testin_path,test_ls)\n",
        "test_df.drop(columns=[i for i in test_df.columns.values if 'val' in i],inplace=True)\n",
        "X_test=sc.fit_transform(test_df)\n",
        "X_test_p=PCA(n_components=3).fit_transform(X_test)\n",
        "\n",
        "saved_data=r'/content/drive/My Drive/ML Spectroscopy/Programs/Data Processing/Saved Lists/'\n",
        "\n",
        "pd.DataFrame(data=model.decision_function(X_test),index=test_df.index.values,columns=sorted(y.unique())).to_csv(saved_data+r'linear_svc.csv')\n",
        "pd.DataFrame(data=modelp.decision_function(X_test_p),index=test_df.index.values,columns=sorted(y.unique())).to_csv(saved_data+r'linear_svc_pca.csv')\n"
      ],
      "execution_count": null,
      "outputs": []
    },
    {
      "cell_type": "code",
      "metadata": {
        "id": "FGu-wNPuTsTX"
      },
      "source": [
        ""
      ],
      "execution_count": null,
      "outputs": []
    }
  ]
}