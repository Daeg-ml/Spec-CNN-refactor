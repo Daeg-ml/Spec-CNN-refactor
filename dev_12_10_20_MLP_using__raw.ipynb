{
 "cells": [
  {
   "cell_type": "code",
   "execution_count": null,
   "metadata": {
    "id": "_j7atLBIrm2-"
   },
   "outputs": [],
   "source": [
    "'''\n",
    "NATE USE THIS ONE!!!\n",
    "'''\n",
    "\n",
    "import warnings\n",
    "warnings.filterwarnings('ignore')"
   ]
  },
  {
   "cell_type": "code",
   "execution_count": null,
   "metadata": {
    "colab": {
     "base_uri": "https://localhost:8080/"
    },
    "id": "eKY525IfDuw_",
    "outputId": "8bfc6729-445e-43d7-db56-e2a881abe02c"
   },
   "outputs": [
    {
     "name": "stdout",
     "output_type": "stream",
     "text": [
      "Mounted at /content/drive/\n"
     ]
    }
   ],
   "source": [
    "import numpy as np\n",
    "import pandas as pd\n",
    "import matplotlib.pyplot as plt\n",
    "from scipy.interpolate import interp1d\n",
    "import seaborn as sn\n",
    "from sklearn.metrics import classification_report\n",
    "from sklearn.metrics import confusion_matrix\n",
    "\n",
    "from pprint import pprint\n",
    "from IPython.display import clear_output\n",
    "from sklearn.metrics import roc_curve\n",
    "\n",
    "from keras.models import Sequential\n",
    "from keras.layers import Dense\n",
    "from keras.layers import LeakyReLU\n",
    "from keras.optimizers import RMSprop \n",
    "from keras.utils import to_categorical\n",
    "\n",
    "\n",
    "np.random.seed(42)"
   ]
  },
  {
   "cell_type": "code",
   "execution_count": null,
   "metadata": {
    "id": "SrPGkmxM3Ol2"
   },
   "outputs": [],
   "source": [
    "num_minerals = 6\n",
    "ab_path = '/content/drive/My Drive/ML Spectroscopy/Data/Raw Data/MLP Spectra in CSV Format/albite_train_015s_5250.csv'\n",
    "bt_path = '/content/drive/My Drive/ML Spectroscopy/Data/Raw Data/MLP Spectra in CSV Format/bt_train_015s_5600.csv'\n",
    "mc_path = '/content/drive/My Drive/ML Spectroscopy/Data/Raw Data/MLP Spectra in CSV Format/mc_train_015s_5600.csv'\n",
    "fo_path = '/content/drive/My Drive/ML Spectroscopy/Data/Raw Data/MLP Spectra in CSV Format/fo_train_030s_5040.csv'\n",
    "aug_path = '/content/drive/My Drive/ML Spectroscopy/Data/Raw Data/MLP Spectra in CSV Format/aug_train_030s_5600.csv'\n",
    "qtz_path = '/content/drive/My Drive/ML Spectroscopy/Data/Raw Data/MLP Spectra in CSV Format/qtz_train_003s_4760.csv'\n",
    "mineral_paths = np.array([ab_path, bt_path, mc_path, fo_path, aug_path, qtz_path])\n",
    "\n",
    "X_test_path = '/content/drive/My Drive/ML Spectroscopy/Data/Raw Data/Labeled Test/Lraw_granite0dust_test_gbnew_015s_4839.csv' #spectra\n",
    "y_test_path = '/content/drive/My Drive/ML Spectroscopy/Data/Raw Data/Labeled Test/Lraw_granite0dust_test_gbnew_015s_4839.csv' #labels \n",
    "label_test = False\n",
    "\n",
    "min_shift = 101\n",
    "max_shift = 1100\n",
    "spectra_len = 4750 #chose min # of spectra from train and test to not mess with different df shapes between data sets during interpolation for now\n",
    "\n",
    "val_split = 0.15\n",
    "\n",
    "learning_rate = 0.001\n",
    "batch_size = 64\n",
    "epochs = 50\n",
    "\n",
    "train_accuracy_path = '/content/drive/My Drive/ML Spectroscopy/Data/Raw Data/MLP Spectra in CSV Format/train_accuracy.csv'\n",
    "val_accuracy_path = '/content/drive/My Drive/ML Spectroscopy/Data/Raw Data/MLP Spectra in CSV Format/val_accuracy.csv'\n",
    "train_loss_path = '/content/drive/My Drive/ML Spectroscopy/Data/Raw Data/MLP Spectra in CSV Format/train_loss.csv'\n",
    "val_loss_path = '/content/drive/My Drive/ML Spectroscopy/Data/Raw Data/MLP Spectra in CSV Format/val_loss.csv'\n",
    "val_cm_path = '/content/drive/My Drive/ML Spectroscopy/Data/Raw Data/MLP Spectra in CSV Format/val_confusion_matrix.csv'\n",
    "test_cm_path = '/content/drive/My Drive/ML Spectroscopy/Data/Raw Data/MLP Spectra in CSV Format/test_confusion_matrix.csv'\n",
    "cr_path = '/content/drive/My Drive/ML Spectroscopy/Data/Raw Data/MLP Spectra in CSV Format/classification_report.csv'\n"
   ]
  },
  {
   "cell_type": "code",
   "execution_count": null,
   "metadata": {
    "id": "BYSRqScV0BZe"
   },
   "outputs": [],
   "source": [
    "def interpolate_df(df, xnew, spectra_len):\n",
    "  arr = np.empty((0, spectra_len))\n",
    "  x = df.values[0]\n",
    "  for i in range(len(df) - 1):\n",
    "    y = df.values[i + 1]\n",
    "    f = interp1d(x, y, bounds_error=False)\n",
    "    ynew = f(xnew)\n",
    "    arr = np.append(arr, [ynew], axis = 0)\n",
    "  return arr"
   ]
  },
  {
   "cell_type": "code",
   "execution_count": null,
   "metadata": {
    "id": "5cksc0irX1ZF"
   },
   "outputs": [],
   "source": [
    "def load_spectra():\n",
    "  xnew = np.linspace(min_shift, max_shift, num = spectra_len, endpoint = True)\n",
    "\n",
    "  X_data = np.empty((0, spectra_len))\n",
    "  y_data = np.array([])\n",
    "  for i in range(num_minerals):\n",
    "    mineral_df = pd.read_csv(mineral_paths[i], header = None)\n",
    "    mineral_df.drop(mineral_df.columns[[0, 1]], axis = 1, inplace = True)\n",
    "    mineral_arr = interpolate_df(mineral_df, xnew, spectra_len)\n",
    "    X_data = np.append(X_data, mineral_arr, axis = 0)\n",
    "    y_data = np.append(y_data, np.full(len(mineral_arr), i))    \n",
    "  \n",
    "  y_data = y_data.astype(int)\n",
    "\n",
    "  X_test_df = pd.read_csv(X_test_path, header = None)\n",
    "  X_test_df.drop(X_test_df.columns[[0, -1]], axis = 1, inplace = True)\n",
    "  X_test = interpolate_df(X_test_df, xnew, spectra_len)\n",
    "\n",
    "  y_test_df = pd.read_csv(y_test_path, header = None) \n",
    "  print(y_test_df.head(3)) #print troubleshoot\n",
    "  y_test_df = y_test_df.drop(y_test_df.index[0]) #remove first wave row\n",
    "  print(y_test_df.head(3)) #print troubleshoot\n",
    "  y_test_df = y_test_df[y_test_df.columns[-1]] #extract only last column\n",
    "  print(y_test_df.head(3)) #print troubleshoot\n",
    "  y_test = np.squeeze(y_test_df.to_numpy())\n",
    "  #print(y_test.head(3)) #print troubleshoot\n",
    "  \n",
    "  y_test = y_test.astype(int)\n",
    "\n",
    "  s = np.arange(X_data.shape[0])\n",
    "  np.random.shuffle(s)\n",
    "  X_data = X_data[s]\n",
    "  y_data = y_data[s]\n",
    "\n",
    "  X_min = min(np.amin(X_data), np.amin(X_test))\n",
    "  X_max = max(np.amax(X_data), np.amax(X_test))\n",
    "\n",
    "  X_data = (X_data - X_min) / (X_max - X_min)\n",
    "  X_test = (X_test - X_min) / (X_max - X_min)\n",
    "\n",
    "  data_len = len(X_data)\n",
    "\n",
    "  X_train = X_data[int(data_len * val_split):]\n",
    "  y_train = y_data[int(data_len * val_split):]\n",
    "\n",
    "  X_val = X_data[:int(data_len * val_split)]\n",
    "  y_val = y_data[:int(data_len * val_split)]\n",
    "\n",
    "#troubleshooting for X_test y_test shape discrepancy in confmat\n",
    "  bb=X_test\n",
    "  cc=y_test.shape \n",
    "  ccc=y_test_df.shape\n",
    "  dd=X_val.shape\n",
    "  ee=y_val.shape\n",
    "\n",
    "  print('X_test', bb)\n",
    "  print('y_test shape', cc)\n",
    "  print('y_test_df shpae', ccc)\n",
    "  print(dd)\n",
    "  print(ee)\n",
    "\n",
    "  return X_train, y_train, X_val, y_val, X_test, y_test\n",
    "  "
   ]
  },
  {
   "cell_type": "code",
   "execution_count": null,
   "metadata": {
    "colab": {
     "base_uri": "https://localhost:8080/"
    },
    "id": "ba-f-esKeBLP",
    "outputId": "8bfc8930-8a47-441d-fcc7-db83e767d679"
   },
   "outputs": [
    {
     "name": "stdout",
     "output_type": "stream",
     "text": [
      "                            0         1         2     ...     2183     2184   2185\n",
      "0                            NaN   100.473   101.341  ...  1799.59  1800.29  label\n",
      "1  granite0dust_test_015s_4839-0  1127.220  1136.450  ...  1146.21  1139.40      0\n",
      "2  granite0dust_test_015s_4839-1  1143.000  1106.990  ...  1120.04  1117.67      0\n",
      "\n",
      "[3 rows x 2186 columns]\n",
      "                            0        1        2     ...     2183     2184  2185\n",
      "1  granite0dust_test_015s_4839-0  1127.22  1136.45  ...  1146.21  1139.40     0\n",
      "2  granite0dust_test_015s_4839-1  1143.00  1106.99  ...  1120.04  1117.67     0\n",
      "3  granite0dust_test_015s_4839-2  1115.56  1125.27  ...  1140.97  1140.66     0\n",
      "\n",
      "[3 rows x 2186 columns]\n",
      "1    0\n",
      "2    0\n",
      "3    0\n",
      "Name: 2185, dtype: object\n",
      "(4839, 4750)\n",
      "(4839,)\n",
      "(4839,)\n",
      "(4777, 4750)\n",
      "(4777,)\n"
     ]
    }
   ],
   "source": [
    "X_train, y_train, X_val, y_val, X_test, y_test = load_spectra()"
   ]
  },
  {
   "cell_type": "code",
   "execution_count": null,
   "metadata": {
    "colab": {
     "base_uri": "https://localhost:8080/"
    },
    "id": "lUZTKNJc15vk",
    "outputId": "310e7d2a-d8f4-4ead-a945-10ed3b6e45da"
   },
   "outputs": [
    {
     "name": "stdout",
     "output_type": "stream",
     "text": [
      "Model: \"sequential\"\n",
      "_________________________________________________________________\n",
      "Layer (type)                 Output Shape              Param #   \n",
      "=================================================================\n",
      "dense (Dense)                (None, 100)               475100    \n",
      "_________________________________________________________________\n",
      "leaky_re_lu (LeakyReLU)      (None, 100)               0         \n",
      "_________________________________________________________________\n",
      "dense_1 (Dense)              (None, 25)                2525      \n",
      "_________________________________________________________________\n",
      "leaky_re_lu_1 (LeakyReLU)    (None, 25)                0         \n",
      "_________________________________________________________________\n",
      "dense_2 (Dense)              (None, 6)                 156       \n",
      "=================================================================\n",
      "Total params: 477,781\n",
      "Trainable params: 477,781\n",
      "Non-trainable params: 0\n",
      "_________________________________________________________________\n"
     ]
    }
   ],
   "source": [
    "model = Sequential()\n",
    "model.add(Dense(100, input_shape = (spectra_len,)))\n",
    "model.add(LeakyReLU(alpha=0.1))\n",
    "model.add(Dense(25))\n",
    "model.add(LeakyReLU(alpha=0.1))\n",
    "model.add(Dense(num_minerals, activation = 'softmax'))\n",
    "model.summary()"
   ]
  },
  {
   "cell_type": "code",
   "execution_count": null,
   "metadata": {
    "colab": {
     "base_uri": "https://localhost:8080/"
    },
    "id": "A2riZHAe2BMM",
    "outputId": "bb453c47-97d4-4585-c849-720be1214d6c"
   },
   "outputs": [
    {
     "name": "stdout",
     "output_type": "stream",
     "text": [
      "Epoch 1/50\n",
      "424/424 [==============================] - 4s 8ms/step - loss: 1.1133 - accuracy: 0.5592 - val_loss: 0.5767 - val_accuracy: 0.8993\n",
      "Epoch 2/50\n",
      "424/424 [==============================] - 3s 7ms/step - loss: 0.2776 - accuracy: 0.9308 - val_loss: 0.7354 - val_accuracy: 0.6793\n",
      "Epoch 3/50\n",
      "424/424 [==============================] - 3s 7ms/step - loss: 0.1195 - accuracy: 0.9674 - val_loss: 0.0327 - val_accuracy: 0.9967\n",
      "Epoch 4/50\n",
      "424/424 [==============================] - 3s 7ms/step - loss: 0.0713 - accuracy: 0.9807 - val_loss: 0.0246 - val_accuracy: 0.9975\n",
      "Epoch 5/50\n",
      "424/424 [==============================] - 3s 7ms/step - loss: 0.0587 - accuracy: 0.9849 - val_loss: 0.0815 - val_accuracy: 0.9816\n",
      "Epoch 6/50\n",
      "424/424 [==============================] - 5s 11ms/step - loss: 0.0680 - accuracy: 0.9810 - val_loss: 0.0211 - val_accuracy: 0.9977\n",
      "Epoch 7/50\n",
      "424/424 [==============================] - 3s 8ms/step - loss: 0.0610 - accuracy: 0.9864 - val_loss: 0.0197 - val_accuracy: 0.9983\n",
      "Epoch 8/50\n",
      "424/424 [==============================] - 3s 7ms/step - loss: 0.0538 - accuracy: 0.9846 - val_loss: 0.0236 - val_accuracy: 0.9969\n",
      "Epoch 9/50\n",
      "424/424 [==============================] - 3s 7ms/step - loss: 0.0471 - accuracy: 0.9877 - val_loss: 1.3277 - val_accuracy: 0.8577\n",
      "Epoch 10/50\n",
      "424/424 [==============================] - 3s 7ms/step - loss: 0.0714 - accuracy: 0.9872 - val_loss: 0.0298 - val_accuracy: 0.9943\n",
      "Epoch 11/50\n",
      "424/424 [==============================] - 3s 7ms/step - loss: 0.0354 - accuracy: 0.9909 - val_loss: 2.4221 - val_accuracy: 0.6910\n",
      "Epoch 12/50\n",
      "424/424 [==============================] - 3s 7ms/step - loss: 0.0629 - accuracy: 0.9871 - val_loss: 0.0327 - val_accuracy: 0.9925\n",
      "Epoch 13/50\n",
      "424/424 [==============================] - 3s 7ms/step - loss: 0.0347 - accuracy: 0.9882 - val_loss: 0.3030 - val_accuracy: 0.8269\n",
      "Epoch 14/50\n",
      "424/424 [==============================] - 3s 7ms/step - loss: 0.0542 - accuracy: 0.9853 - val_loss: 0.2619 - val_accuracy: 0.8325\n",
      "Epoch 15/50\n",
      "424/424 [==============================] - 3s 7ms/step - loss: 0.0396 - accuracy: 0.9883 - val_loss: 0.0240 - val_accuracy: 0.9985\n",
      "Epoch 16/50\n",
      "424/424 [==============================] - 3s 7ms/step - loss: 0.0308 - accuracy: 0.9922 - val_loss: 0.0221 - val_accuracy: 0.9981\n",
      "Epoch 17/50\n",
      "424/424 [==============================] - 3s 7ms/step - loss: 0.0390 - accuracy: 0.9904 - val_loss: 0.0223 - val_accuracy: 0.9979\n",
      "Epoch 18/50\n",
      "424/424 [==============================] - 3s 7ms/step - loss: 0.0452 - accuracy: 0.9910 - val_loss: 0.0220 - val_accuracy: 0.9987\n",
      "Epoch 19/50\n",
      "424/424 [==============================] - 3s 7ms/step - loss: 0.0344 - accuracy: 0.9904 - val_loss: 0.0224 - val_accuracy: 0.9983\n",
      "Epoch 20/50\n",
      "424/424 [==============================] - 3s 7ms/step - loss: 0.0307 - accuracy: 0.9917 - val_loss: 0.0224 - val_accuracy: 0.9979\n",
      "Epoch 21/50\n",
      "424/424 [==============================] - 3s 7ms/step - loss: 0.0269 - accuracy: 0.9925 - val_loss: 0.0214 - val_accuracy: 0.9981\n",
      "Epoch 22/50\n",
      "424/424 [==============================] - 3s 7ms/step - loss: 0.0223 - accuracy: 0.9938 - val_loss: 0.0655 - val_accuracy: 0.9866\n",
      "Epoch 23/50\n",
      "424/424 [==============================] - 3s 7ms/step - loss: 0.0262 - accuracy: 0.9942 - val_loss: 0.0268 - val_accuracy: 0.9981\n",
      "Epoch 24/50\n",
      "424/424 [==============================] - 3s 7ms/step - loss: 0.0409 - accuracy: 0.9920 - val_loss: 0.0275 - val_accuracy: 0.9973\n",
      "Epoch 25/50\n",
      "424/424 [==============================] - 3s 7ms/step - loss: 0.0316 - accuracy: 0.9925 - val_loss: 0.0247 - val_accuracy: 0.9979\n",
      "Epoch 26/50\n",
      "424/424 [==============================] - 3s 7ms/step - loss: 0.0380 - accuracy: 0.9923 - val_loss: 0.0225 - val_accuracy: 0.9979\n",
      "Epoch 27/50\n",
      "424/424 [==============================] - 3s 7ms/step - loss: 0.0331 - accuracy: 0.9931 - val_loss: 0.0218 - val_accuracy: 0.9985\n",
      "Epoch 28/50\n",
      "424/424 [==============================] - 3s 7ms/step - loss: 0.0224 - accuracy: 0.9925 - val_loss: 0.0237 - val_accuracy: 0.9979\n",
      "Epoch 29/50\n",
      "424/424 [==============================] - 3s 7ms/step - loss: 0.0352 - accuracy: 0.9945 - val_loss: 0.0684 - val_accuracy: 0.9860\n",
      "Epoch 30/50\n",
      "424/424 [==============================] - 3s 7ms/step - loss: 0.0203 - accuracy: 0.9938 - val_loss: 0.0235 - val_accuracy: 0.9983\n",
      "Epoch 31/50\n",
      "424/424 [==============================] - 3s 7ms/step - loss: 0.0328 - accuracy: 0.9930 - val_loss: 0.0263 - val_accuracy: 0.9979\n",
      "Epoch 32/50\n",
      "424/424 [==============================] - 3s 7ms/step - loss: 0.0207 - accuracy: 0.9952 - val_loss: 0.0499 - val_accuracy: 0.9902\n",
      "Epoch 33/50\n",
      "424/424 [==============================] - 3s 7ms/step - loss: 0.0328 - accuracy: 0.9929 - val_loss: 0.0252 - val_accuracy: 0.9981\n",
      "Epoch 34/50\n",
      "424/424 [==============================] - 3s 7ms/step - loss: 0.0209 - accuracy: 0.9959 - val_loss: 0.0351 - val_accuracy: 0.9948\n",
      "Epoch 35/50\n",
      "424/424 [==============================] - 3s 7ms/step - loss: 0.0178 - accuracy: 0.9948 - val_loss: 0.0274 - val_accuracy: 0.9979\n",
      "Epoch 36/50\n",
      "424/424 [==============================] - 3s 7ms/step - loss: 0.0265 - accuracy: 0.9943 - val_loss: 0.0238 - val_accuracy: 0.9985\n",
      "Epoch 37/50\n",
      "424/424 [==============================] - 3s 7ms/step - loss: 0.0252 - accuracy: 0.9962 - val_loss: 0.0236 - val_accuracy: 0.9987\n",
      "Epoch 38/50\n",
      "424/424 [==============================] - 3s 7ms/step - loss: 0.0242 - accuracy: 0.9955 - val_loss: 0.0263 - val_accuracy: 0.9969\n",
      "Epoch 39/50\n",
      "424/424 [==============================] - 3s 7ms/step - loss: 0.0182 - accuracy: 0.9965 - val_loss: 0.0239 - val_accuracy: 0.9985\n",
      "Epoch 40/50\n",
      "424/424 [==============================] - 3s 7ms/step - loss: 0.0197 - accuracy: 0.9963 - val_loss: 0.0234 - val_accuracy: 0.9983\n",
      "Epoch 41/50\n",
      "424/424 [==============================] - 3s 7ms/step - loss: 0.0284 - accuracy: 0.9945 - val_loss: 0.0313 - val_accuracy: 0.9962\n",
      "Epoch 42/50\n",
      "424/424 [==============================] - 3s 7ms/step - loss: 0.0197 - accuracy: 0.9949 - val_loss: 0.0249 - val_accuracy: 0.9985\n",
      "Epoch 43/50\n",
      "424/424 [==============================] - 3s 8ms/step - loss: 0.0253 - accuracy: 0.9956 - val_loss: 0.0265 - val_accuracy: 0.9985\n",
      "Epoch 44/50\n",
      "424/424 [==============================] - 3s 7ms/step - loss: 0.0246 - accuracy: 0.9953 - val_loss: 0.0255 - val_accuracy: 0.9981\n",
      "Epoch 45/50\n",
      "424/424 [==============================] - 3s 7ms/step - loss: 0.0156 - accuracy: 0.9963 - val_loss: 0.0292 - val_accuracy: 0.9962\n",
      "Epoch 46/50\n",
      "424/424 [==============================] - 3s 7ms/step - loss: 0.0139 - accuracy: 0.9972 - val_loss: 0.0237 - val_accuracy: 0.9981\n",
      "Epoch 47/50\n",
      "424/424 [==============================] - 3s 7ms/step - loss: 0.0115 - accuracy: 0.9973 - val_loss: 0.0273 - val_accuracy: 0.9983\n",
      "Epoch 48/50\n",
      "424/424 [==============================] - 3s 7ms/step - loss: 0.0306 - accuracy: 0.9956 - val_loss: 0.0257 - val_accuracy: 0.9985\n",
      "Epoch 49/50\n",
      "424/424 [==============================] - 3s 7ms/step - loss: 0.0302 - accuracy: 0.9945 - val_loss: 0.0276 - val_accuracy: 0.9983\n",
      "Epoch 50/50\n",
      "424/424 [==============================] - 3s 7ms/step - loss: 0.0491 - accuracy: 0.9937 - val_loss: 0.0263 - val_accuracy: 0.9983\n"
     ]
    }
   ],
   "source": [
    "model.compile(optimizer = RMSprop(learning_rate), loss = 'categorical_crossentropy', metrics = ['accuracy'])\n",
    "training = model.fit(X_train, to_categorical(y_train), batch_size, epochs, validation_data = (X_val, to_categorical(y_val)))"
   ]
  },
  {
   "cell_type": "code",
   "execution_count": null,
   "metadata": {
    "colab": {
     "base_uri": "https://localhost:8080/",
     "height": 295
    },
    "id": "FuDhoH1R2Y8b",
    "outputId": "c994108e-d0b9-4623-f252-28642b1f79a8"
   },
   "outputs": [
    {
     "data": {
      "image/png": "[encoded data removed]",
      "text/plain": [
       "<Figure size 432x288 with 1 Axes>"
      ]
     },
     "metadata": {
      "needs_background": "light",
      "tags": []
     },
     "output_type": "display_data"
    }
   ],
   "source": [
    "train_accuracy = training.history['accuracy']\n",
    "train_accuracy_df = pd.DataFrame(train_accuracy)\n",
    "#train_accuracy_df.to_csv(train_accuracy_path, index = False, header = False)\n",
    "\n",
    "val_accuracy = training.history['val_accuracy']\n",
    "val_accuracy_df = pd.DataFrame(val_accuracy)\n",
    "#val_accuracy_df.to_csv(val_accuracy_path, index = False, header = False)\n",
    "\n",
    "\n",
    "plt.plot(train_accuracy, label = 'Training Accuracy')\n",
    "plt.plot(val_accuracy, label = 'Validation Accuracy')\n",
    "plt.title('Accuracy Curves')\n",
    "plt.ylabel('Accuracy')\n",
    "plt.xlabel('Epoch')\n",
    "plt.legend(loc = 'best')\n",
    "plt.show()"
   ]
  },
  {
   "cell_type": "code",
   "execution_count": null,
   "metadata": {
    "colab": {
     "base_uri": "https://localhost:8080/",
     "height": 295
    },
    "id": "qgJERMaM2bDb",
    "outputId": "f0fa429f-b043-4151-bed4-c8a4d0de8949"
   },
   "outputs": [
    {
     "data": {
      "image/png": "[encoded data removed]",
      "text/plain": [
       "<Figure size 432x288 with 1 Axes>"
      ]
     },
     "metadata": {
      "needs_background": "light",
      "tags": []
     },
     "output_type": "display_data"
    }
   ],
   "source": [
    "train_loss = training.history['loss']\n",
    "train_loss_df = pd.DataFrame(train_loss)\n",
    "#train_loss_df.to_csv(train_loss_path, index = False, header = False)\n",
    "\n",
    "val_loss = training.history['val_loss']\n",
    "val_loss_df = pd.DataFrame(val_loss)\n",
    "#val_loss_df.to_csv(val_loss_path, index = False, header = False)\n",
    "\n",
    "plt.plot(train_loss, label = 'Training Loss')\n",
    "plt.plot(val_loss, label = 'Validation Loss')\n",
    "plt.title('Loss Curves')\n",
    "plt.ylabel('Loss')\n",
    "plt.xlabel('Epoch')\n",
    "plt.legend(loc = 'best')\n",
    "plt.show()"
   ]
  },
  {
   "cell_type": "code",
   "execution_count": null,
   "metadata": {
    "id": "q6pwCNTyraV0"
   },
   "outputs": [],
   "source": [
    "def plot_confusion_matrix(y_true, y_pred, title, path):\n",
    "  labels = np.arange(num_minerals)\n",
    "  cm = confusion_matrix(y_true, y_pred, labels)\n",
    "  cm_df = pd.DataFrame(cm, columns = labels, index = labels)\n",
    "  #cm_df.to_csv(path, index = True, header = True)\n",
    "  cm_df.columns.name = 'Predicted'\n",
    "  cm_df.index.name = 'Actual'\n",
    "  sn.heatmap(cm_df, annot = True, cmap = 'Blues', fmt = 'd')\n",
    "  plt.title(title)\n",
    "  plt.show()"
   ]
  },
  {
   "cell_type": "code",
   "execution_count": null,
   "metadata": {
    "colab": {
     "base_uri": "https://localhost:8080/",
     "height": 295
    },
    "id": "lUC9ZRCqrcXu",
    "outputId": "bd14d45e-4329-4b60-ea28-66f37b71a57b"
   },
   "outputs": [
    {
     "data": {
      "image/png": "[encoded data removed]",
      "text/plain": [
       "<Figure size 432x288 with 2 Axes>"
      ]
     },
     "metadata": {
      "needs_background": "light",
      "tags": []
     },
     "output_type": "display_data"
    }
   ],
   "source": [
    "plot_confusion_matrix(y_val, np.argmax(model.predict(X_val), axis = 1), 'Validation Confusion Matrix', val_cm_path)"
   ]
  },
  {
   "cell_type": "markdown",
   "metadata": {
    "id": "xImU_4_3imis"
   },
   "source": [
    "Labels: 0 - Albite, 1 - Biotite, 2 - Microcline, 3 - Olivine, 4 - Pyroxene, 5 - Quartz"
   ]
  },
  {
   "cell_type": "code",
   "execution_count": null,
   "metadata": {
    "colab": {
     "base_uri": "https://localhost:8080/",
     "height": 414
    },
    "id": "wY2gR2f9rdPt",
    "outputId": "18ddf042-422c-4582-9625-7f9b365bf777"
   },
   "outputs": [
    {
     "data": {
      "image/png": "[encoded data removed]",
      "text/plain": [
       "<Figure size 432x288 with 2 Axes>"
      ]
     },
     "metadata": {
      "needs_background": "light",
      "tags": []
     },
     "output_type": "display_data"
    },
    {
     "name": "stdout",
     "output_type": "stream",
     "text": [
      "[[nan nan nan nan nan nan]\n",
      " [nan nan nan nan nan nan]\n",
      " [nan nan nan nan nan nan]\n",
      " ...\n",
      " [nan nan nan nan nan nan]\n",
      " [nan nan nan nan nan nan]\n",
      " [nan nan nan nan nan nan]]\n"
     ]
    }
   ],
   "source": [
    "plot_confusion_matrix(y_test, np.argmax(model.predict(X_test), axis = 1), 'Test Confusion Matrix', test_cm_path) \n",
    "print(model.predict(X_test))"
   ]
  },
  {
   "cell_type": "markdown",
   "metadata": {
    "id": "L5TBYOXiiU6R"
   },
   "source": [
    "Labels: 0 - Albite, 1 - Biotite, 2 - Microcline, 3 - Olivine, 4 - Pyroxene, 5 - Quartz\n",
    "\n",
    "\n",
    "\n"
   ]
  },
  {
   "cell_type": "code",
   "execution_count": null,
   "metadata": {
    "colab": {
     "base_uri": "https://localhost:8080/"
    },
    "id": "HCG9tqwjrfxp",
    "outputId": "dc26aae7-89b0-4841-a24a-c8c2e3d5e596"
   },
   "outputs": [
    {
     "name": "stdout",
     "output_type": "stream",
     "text": [
      "              precision    recall  f1-score   support\n",
      "\n",
      "           0       0.32      1.00      0.49      1557\n",
      "           1       0.00      0.00      0.00       978\n",
      "           2       0.00      0.00      0.00        72\n",
      "           3       0.00      0.00      0.00       134\n",
      "           4       0.00      0.00      0.00         2\n",
      "           9       0.00      0.00      0.00      2096\n",
      "\n",
      "    accuracy                           0.32      4839\n",
      "   macro avg       0.05      0.17      0.08      4839\n",
      "weighted avg       0.10      0.32      0.16      4839\n",
      "\n"
     ]
    }
   ],
   "source": [
    "print(classification_report(y_test, np.argmax(model.predict(X_test), axis = -1)))\n",
    "\n",
    "cr = classification_report(y_test, np.argmax(model.predict(X_test), axis = -1), output_dict = True)\n",
    "cr_df = pd.DataFrame(cr).transpose()\n",
    "#cr_df.to_csv(cr_path, index = True, header = True)"
   ]
  }
 ],
 "metadata": {
  "colab": {
   "collapsed_sections": [],
   "name": "dev_12_10_20_MLP_using _raw.ipynb",
   "provenance": []
  },
  "kernelspec": {
   "display_name": "Python 3",
   "language": "python",
   "name": "python3"
  },
  "language_info": {
   "codemirror_mode": {
    "name": "ipython",
    "version": 3
   },
   "file_extension": ".py",
   "mimetype": "text/x-python",
   "name": "python",
   "nbconvert_exporter": "python",
   "pygments_lexer": "ipython3",
   "version": "3.7.7"
  }
 },
 "nbformat": 4,
 "nbformat_minor": 1
}
