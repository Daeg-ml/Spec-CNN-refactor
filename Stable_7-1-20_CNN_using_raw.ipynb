{
 "cells": [
  {
   "cell_type": "markdown",
   "metadata": {},
   "source": [
    "<h1>CNN Using Raw Spectra as Inputs</h1>\n",
    "\n",
    "<p>This notebook is used to train and explore a CNN model that classifies minerals by taking in raw spectra</p>"
   ]
  },
  {
   "cell_type": "code",
   "execution_count": 1,
   "metadata": {
    "colab": {
     "base_uri": "https://localhost:8080/",
     "height": 303
    },
    "colab_type": "code",
    "executionInfo": {
     "elapsed": 27827,
     "status": "ok",
     "timestamp": 1596338524706,
     "user": {
      "displayName": "Nathan Temiquel",
      "photoUrl": "",
      "userId": "01657354188638757810"
     },
     "user_tz": 420
    },
    "id": "RjoK0CooyLaq",
    "outputId": "9bf5bbda-bf0f-4d00-c444-a2d1d54e39c7"
   },
   "outputs": [],
   "source": [
    "import numpy as np\n",
    "import pandas as pd\n",
    "import tensorflow as tf\n",
    "import tensorflow.keras as K\n",
    "from tensorflow.keras.models import Model"
   ]
  },
  {
   "cell_type": "code",
   "execution_count": 2,
   "metadata": {
    "colab": {
     "base_uri": "https://localhost:8080/",
     "height": 52
    },
    "colab_type": "code",
    "executionInfo": {
     "elapsed": 492,
     "status": "ok",
     "timestamp": 1596338563325,
     "user": {
      "displayName": "Nathan Temiquel",
      "photoUrl": "",
      "userId": "01657354188638757810"
     },
     "user_tz": 420
    },
    "id": "Q9Obx3IKTcEE",
    "outputId": "8db5f53e-71d7-40e1-d0b3-65b71fd96b31"
   },
   "outputs": [],
   "source": [
    "import dev_helper as h\n",
    "import cnnmodel_raw as cnn_raw"
   ]
  },
  {
   "cell_type": "markdown",
   "metadata": {
    "colab_type": "text",
    "id": "rEAAkuTBHgH3"
   },
   "source": [
    "# **Use this space below for fiddling with model training**\n",
    "\n",
    "### **If you need to retrain the model, be sure to restart the runtime**"
   ]
  },
  {
   "cell_type": "code",
   "execution_count": 3,
   "metadata": {
    "colab": {},
    "colab_type": "code",
    "executionInfo": {
     "elapsed": 367,
     "status": "ok",
     "timestamp": 1596338577846,
     "user": {
      "displayName": "Nathan Temiquel",
      "photoUrl": "",
      "userId": "01657354188638757810"
     },
     "user_tz": 420
    },
    "id": "NmrT68QWPumc"
   },
   "outputs": [],
   "source": [
    "'''define the hyperparameters here!'''\n",
    "learning_rate=0.0001\n",
    "batch_size=100\n",
    "drop_rate=0.7\n",
    "epochs=50\n",
    "\n",
    "#don't change the line below\n",
    "hyperparameters=[learning_rate,batch_size,drop_rate,epochs]"
   ]
  },
  {
   "cell_type": "code",
   "execution_count": 4,
   "metadata": {
    "colab": {},
    "colab_type": "code",
    "executionInfo": {
     "elapsed": 365,
     "status": "ok",
     "timestamp": 1596338609885,
     "user": {
      "displayName": "Nathan Temiquel",
      "photoUrl": "",
      "userId": "01657354188638757810"
     },
     "user_tz": 420
    },
    "id": "yEPR4aaYG1bq"
   },
   "outputs": [],
   "source": [
    "'''define other parameters here!'''\n",
    "#this string is prepended to all output files for unique identification\n",
    "id_value='test_1'\n",
    "\n",
    "#training data file path\n",
    "fin_path=r'Data/Raw Data/'\n",
    "\n",
    "#output file path for the trained model data\n",
    "mout_path=r'Model Data/CNN Model/'\n",
    "\n",
    "#proportion of the training data allocated to the dev set - a float x: 0<x<1\n",
    "dev_size=0.2\n",
    "\n",
    "#random seed used for train/dev split to ensure repeatable outcomes. None \n",
    "#provides a psuedorandom value that won't be repeatable\n",
    "r_state=1\n",
    "\n",
    "#fast - True for doing quick training that does not output probability weights\n",
    "#for each sample during training. False for doing deep analysis and tracking\n",
    "fast=True\n",
    "\n",
    "#trash - True for using trash data in the model\n",
    "trash=False\n",
    "\n",
    "#synth - True for RRUFF Data\n",
    "synth=False\n",
    "\n",
    "#threshold - float in the range [0.0,1.0) determines the discrimination threshold\n",
    "threshold=0.5\n"
   ]
  },
  {
   "cell_type": "code",
   "execution_count": 5,
   "metadata": {
    "colab": {
     "base_uri": "https://localhost:8080/",
     "height": 1000
    },
    "colab_type": "code",
    "executionInfo": {
     "elapsed": 110837,
     "status": "error",
     "timestamp": 1596338721605,
     "user": {
      "displayName": "Nathan Temiquel",
      "photoUrl": "",
      "userId": "01657354188638757810"
     },
     "user_tz": 420
    },
    "id": "n1cWmQtCGmrF",
    "outputId": "88035cf6-d238-4dae-c556-282f3e000c9e"
   },
   "outputs": [
    {
     "name": "stdout",
     "output_type": "stream",
     "text": [
      "                                150      151      152      153      154  \\\n",
      "mc_train_015s_5600-0        2966.89  2967.19  2987.83  3008.36  3018.51   \n",
      "mc_train_015s_5600-1        2592.87  2599.11  2610.90  2617.07  2623.17   \n",
      "mc_train_015s_5600-2        2538.25  2539.41  2554.91  2567.23  2564.36   \n",
      "mc_train_015s_5600-3        2216.50  2201.93  2203.68  2218.75  2232.76   \n",
      "mc_train_015s_5600-4        2116.35  2108.02  2111.91  2141.61  2164.73   \n",
      "...                             ...      ...      ...      ...      ...   \n",
      "qtzalb_train_60s_3000-2995  4493.94  4513.53  4572.71  4602.57  4638.74   \n",
      "qtzalb_train_60s_3000-2996  4305.30  4345.35  4428.01  4455.20  4480.20   \n",
      "qtzalb_train_60s_3000-2997  4588.90  4632.70  4707.32  4725.48  4743.04   \n",
      "qtzalb_train_60s_3000-2998  4165.44  4215.77  4286.21  4312.87  4342.73   \n",
      "qtzalb_train_60s_3000-2999  4293.21  4330.90  4394.62  4421.67  4447.26   \n",
      "\n",
      "                                155      156      157      158      159  ...  \\\n",
      "mc_train_015s_5600-0        3021.11  3013.84  2990.13  2957.67  2918.63  ...   \n",
      "mc_train_015s_5600-1        2629.84  2628.52  2600.51  2543.46  2515.80  ...   \n",
      "mc_train_015s_5600-2        2568.44  2575.27  2571.21  2541.79  2504.99  ...   \n",
      "mc_train_015s_5600-3        2249.48  2258.25  2267.07  2246.12  2229.89  ...   \n",
      "mc_train_015s_5600-4        2158.95  2145.30  2132.17  2129.63  2121.01  ...   \n",
      "...                             ...      ...      ...      ...      ...  ...   \n",
      "qtzalb_train_60s_3000-2995  4678.20  4718.33  4757.39  4826.59  4858.03  ...   \n",
      "qtzalb_train_60s_3000-2996  4504.21  4531.90  4564.27  4634.80  4655.01  ...   \n",
      "qtzalb_train_60s_3000-2997  4743.64  4743.62  4759.09  4841.84  4893.35  ...   \n",
      "qtzalb_train_60s_3000-2998  4371.66  4403.03  4433.55  4489.45  4517.47  ...   \n",
      "qtzalb_train_60s_3000-2999  4470.53  4495.27  4543.22  4647.63  4699.48  ...   \n",
      "\n",
      "                               1091     1092     1093     1094     1095  \\\n",
      "mc_train_015s_5600-0        2636.22  2636.79  2636.07  2632.10  2625.90   \n",
      "mc_train_015s_5600-1        2393.45  2393.68  2418.85  2428.29  2403.09   \n",
      "mc_train_015s_5600-2        2324.15  2309.19  2307.67  2326.11  2337.61   \n",
      "mc_train_015s_5600-3        2389.16  2398.02  2412.34  2406.95  2390.78   \n",
      "mc_train_015s_5600-4        2492.90  2502.96  2515.84  2518.88  2521.17   \n",
      "...                             ...      ...      ...      ...      ...   \n",
      "qtzalb_train_60s_3000-2995  4308.97  4308.30  4308.43  4308.55  4309.35   \n",
      "qtzalb_train_60s_3000-2996  4309.49  4308.88  4308.74  4309.46  4310.42   \n",
      "qtzalb_train_60s_3000-2997  4478.64  4497.13  4511.88  4532.52  4552.59   \n",
      "qtzalb_train_60s_3000-2998  4043.42  4039.14  4036.53  4036.99  4039.29   \n",
      "qtzalb_train_60s_3000-2999  4254.49  4273.56  4279.49  4283.90  4270.07   \n",
      "\n",
      "                               1096     1097     1098     1099  label  \n",
      "mc_train_015s_5600-0        2625.05  2626.54  2630.50  2623.80     10  \n",
      "mc_train_015s_5600-1        2408.93  2394.48  2394.12  2403.01     10  \n",
      "mc_train_015s_5600-2        2340.59  2338.48  2336.43  2333.24     10  \n",
      "mc_train_015s_5600-3        2392.55  2396.97  2406.04  2420.30     10  \n",
      "mc_train_015s_5600-4        2525.33  2525.39  2524.47  2529.01     10  \n",
      "...                             ...      ...      ...      ...    ...  \n",
      "qtzalb_train_60s_3000-2995  4310.91  4309.47  4293.27  4291.60   None  \n",
      "qtzalb_train_60s_3000-2996  4312.46  4314.22  4317.02  4327.70   None  \n",
      "qtzalb_train_60s_3000-2997  4564.41  4560.16  4543.29  4527.98   None  \n",
      "qtzalb_train_60s_3000-2998  4049.25  4055.38  4060.30  4064.79   None  \n",
      "qtzalb_train_60s_3000-2999  4260.23  4255.14  4255.36  4271.34   None  \n",
      "\n",
      "[69755 rows x 951 columns]\n",
      "Master data set shape is (54465, 951) \n",
      "\n",
      "\n",
      "<class 'pandas.core.frame.DataFrame'> <class 'pandas.core.frame.DataFrame'> <class 'pandas.core.series.Series'> <class 'pandas.core.series.Series'>\n"
     ]
    },
    {
     "ename": "ValueError",
     "evalue": "Failed to convert a NumPy array to a Tensor (Unsupported object type int).",
     "output_type": "error",
     "traceback": [
      "\u001b[0;31m---------------------------------------------------------------------------\u001b[0m",
      "\u001b[0;31mValueError\u001b[0m                                Traceback (most recent call last)",
      "\u001b[0;32m<ipython-input-5-a37fcbe1238e>\u001b[0m in \u001b[0;36m<module>\u001b[0;34m\u001b[0m\n\u001b[1;32m      1\u001b[0m \u001b[0;34m'''train the model'''\u001b[0m\u001b[0;34m\u001b[0m\u001b[0m\n\u001b[1;32m      2\u001b[0m cnn_model=cnn_raw.raw_cnn_model(fin_path,mout_path,dev_size,r_state,hyperparameters,\n\u001b[0;32m----> 3\u001b[0;31m                           fast,id_value,use_trash=trash,threshold=threshold,raw=True)\n\u001b[0m",
      "\u001b[0;32m~/venv-scnn/Spec-CNN/cnnmodel_raw.py\u001b[0m in \u001b[0;36mraw_cnn_model\u001b[0;34m(fin_path, mout_path, dev_size, r_state, hyperparameters, fast, fil_id, use_trash, threshold, raw)\u001b[0m\n\u001b[1;32m    226\u001b[0m \u001b[0;34m\u001b[0m\u001b[0m\n\u001b[1;32m    227\u001b[0m   \u001b[0;31m#train a cnn model - v0.01\u001b[0m\u001b[0;34m\u001b[0m\u001b[0;34m\u001b[0m\u001b[0m\n\u001b[0;32m--> 228\u001b[0;31m   \u001b[0mcnn_model\u001b[0m\u001b[0;34m,\u001b[0m\u001b[0mcnn_hist\u001b[0m\u001b[0;34m=\u001b[0m\u001b[0mtrain_cnn_model\u001b[0m\u001b[0;34m(\u001b[0m\u001b[0mX_train\u001b[0m\u001b[0;34m,\u001b[0m\u001b[0my_train\u001b[0m\u001b[0;34m.\u001b[0m\u001b[0mvalues\u001b[0m\u001b[0;34m,\u001b[0m\u001b[0mX_dev\u001b[0m\u001b[0;34m,\u001b[0m\u001b[0my_dev\u001b[0m\u001b[0;34m.\u001b[0m\u001b[0mvalues\u001b[0m\u001b[0;34m,\u001b[0m\u001b[0mhyperparameters\u001b[0m\u001b[0;34m,\u001b[0m\u001b[0mfast\u001b[0m\u001b[0;34m,\u001b[0m\u001b[0mfil_id\u001b[0m\u001b[0;34m)\u001b[0m\u001b[0;34m\u001b[0m\u001b[0m\n\u001b[0m\u001b[1;32m    229\u001b[0m   \u001b[0mpd\u001b[0m\u001b[0;34m.\u001b[0m\u001b[0mDataFrame\u001b[0m\u001b[0;34m(\u001b[0m\u001b[0mcnn_hist\u001b[0m\u001b[0;34m.\u001b[0m\u001b[0mhistory\u001b[0m\u001b[0;34m)\u001b[0m\u001b[0;34m.\u001b[0m\u001b[0mto_csv\u001b[0m\u001b[0;34m(\u001b[0m\u001b[0mmout_path\u001b[0m\u001b[0;34m+\u001b[0m\u001b[0mfil_id\u001b[0m\u001b[0;34m+\u001b[0m\u001b[0;34m'hist.csv'\u001b[0m\u001b[0;34m)\u001b[0m\u001b[0;34m\u001b[0m\u001b[0m\n\u001b[1;32m    230\u001b[0m \u001b[0;34m\u001b[0m\u001b[0m\n",
      "\u001b[0;32m~/venv-scnn/Spec-CNN/cnnmodel_raw.py\u001b[0m in \u001b[0;36mtrain_cnn_model\u001b[0;34m(X_train, y_train, X_dev, y_dev, hyperparameters, fast, id_val)\u001b[0m\n\u001b[1;32m     82\u001b[0m   \u001b[0mmout_path\u001b[0m\u001b[0;34m=\u001b[0m\u001b[0;34mr'Model Data/CNN Model/'\u001b[0m\u001b[0;34m\u001b[0m\u001b[0m\n\u001b[1;32m     83\u001b[0m \u001b[0;34m\u001b[0m\u001b[0m\n\u001b[0;32m---> 84\u001b[0;31m   \u001b[0mcnn_hist\u001b[0m\u001b[0;34m=\u001b[0m\u001b[0mcnn_model\u001b[0m\u001b[0;34m.\u001b[0m\u001b[0mfit\u001b[0m\u001b[0;34m(\u001b[0m\u001b[0mX_train\u001b[0m\u001b[0;34m,\u001b[0m\u001b[0my_train\u001b[0m\u001b[0;34m,\u001b[0m\u001b[0mbatch_size\u001b[0m\u001b[0;34m=\u001b[0m\u001b[0mbatch_size\u001b[0m\u001b[0;34m,\u001b[0m\u001b[0mepochs\u001b[0m\u001b[0;34m=\u001b[0m\u001b[0mepochs\u001b[0m\u001b[0;34m,\u001b[0m\u001b[0mvalidation_data\u001b[0m\u001b[0;34m=\u001b[0m\u001b[0;34m(\u001b[0m\u001b[0mX_dev\u001b[0m\u001b[0;34m,\u001b[0m\u001b[0my_dev\u001b[0m\u001b[0;34m)\u001b[0m\u001b[0;34m,\u001b[0m\u001b[0mcallbacks\u001b[0m\u001b[0;34m=\u001b[0m\u001b[0mcallbacks\u001b[0m\u001b[0;34m)\u001b[0m\u001b[0;34m\u001b[0m\u001b[0m\n\u001b[0m\u001b[1;32m     85\u001b[0m \u001b[0;34m\u001b[0m\u001b[0m\n\u001b[1;32m     86\u001b[0m   \u001b[0;32mreturn\u001b[0m \u001b[0mcnn_model\u001b[0m\u001b[0;34m,\u001b[0m\u001b[0mcnn_hist\u001b[0m\u001b[0;34m\u001b[0m\u001b[0m\n",
      "\u001b[0;32m~/venv-scnn/lib/python3.7/site-packages/tensorflow/python/keras/engine/training.py\u001b[0m in \u001b[0;36m_method_wrapper\u001b[0;34m(self, *args, **kwargs)\u001b[0m\n\u001b[1;32m    106\u001b[0m   \u001b[0;32mdef\u001b[0m \u001b[0m_method_wrapper\u001b[0m\u001b[0;34m(\u001b[0m\u001b[0mself\u001b[0m\u001b[0;34m,\u001b[0m \u001b[0;34m*\u001b[0m\u001b[0margs\u001b[0m\u001b[0;34m,\u001b[0m \u001b[0;34m**\u001b[0m\u001b[0mkwargs\u001b[0m\u001b[0;34m)\u001b[0m\u001b[0;34m:\u001b[0m\u001b[0;34m\u001b[0m\u001b[0m\n\u001b[1;32m    107\u001b[0m     \u001b[0;32mif\u001b[0m \u001b[0;32mnot\u001b[0m \u001b[0mself\u001b[0m\u001b[0;34m.\u001b[0m\u001b[0m_in_multi_worker_mode\u001b[0m\u001b[0;34m(\u001b[0m\u001b[0;34m)\u001b[0m\u001b[0;34m:\u001b[0m  \u001b[0;31m# pylint: disable=protected-access\u001b[0m\u001b[0;34m\u001b[0m\u001b[0m\n\u001b[0;32m--> 108\u001b[0;31m       \u001b[0;32mreturn\u001b[0m \u001b[0mmethod\u001b[0m\u001b[0;34m(\u001b[0m\u001b[0mself\u001b[0m\u001b[0;34m,\u001b[0m \u001b[0;34m*\u001b[0m\u001b[0margs\u001b[0m\u001b[0;34m,\u001b[0m \u001b[0;34m**\u001b[0m\u001b[0mkwargs\u001b[0m\u001b[0;34m)\u001b[0m\u001b[0;34m\u001b[0m\u001b[0m\n\u001b[0m\u001b[1;32m    109\u001b[0m \u001b[0;34m\u001b[0m\u001b[0m\n\u001b[1;32m    110\u001b[0m     \u001b[0;31m# Running inside `run_distribute_coordinator` already.\u001b[0m\u001b[0;34m\u001b[0m\u001b[0;34m\u001b[0m\u001b[0m\n",
      "\u001b[0;32m~/venv-scnn/lib/python3.7/site-packages/tensorflow/python/keras/engine/training.py\u001b[0m in \u001b[0;36mfit\u001b[0;34m(self, x, y, batch_size, epochs, verbose, callbacks, validation_split, validation_data, shuffle, class_weight, sample_weight, initial_epoch, steps_per_epoch, validation_steps, validation_batch_size, validation_freq, max_queue_size, workers, use_multiprocessing)\u001b[0m\n\u001b[1;32m   1061\u001b[0m           \u001b[0muse_multiprocessing\u001b[0m\u001b[0;34m=\u001b[0m\u001b[0muse_multiprocessing\u001b[0m\u001b[0;34m,\u001b[0m\u001b[0;34m\u001b[0m\u001b[0m\n\u001b[1;32m   1062\u001b[0m           \u001b[0mmodel\u001b[0m\u001b[0;34m=\u001b[0m\u001b[0mself\u001b[0m\u001b[0;34m,\u001b[0m\u001b[0;34m\u001b[0m\u001b[0m\n\u001b[0;32m-> 1063\u001b[0;31m           steps_per_execution=self._steps_per_execution)\n\u001b[0m\u001b[1;32m   1064\u001b[0m \u001b[0;34m\u001b[0m\u001b[0m\n\u001b[1;32m   1065\u001b[0m       \u001b[0;31m# Container that configures and calls `tf.keras.Callback`s.\u001b[0m\u001b[0;34m\u001b[0m\u001b[0;34m\u001b[0m\u001b[0m\n",
      "\u001b[0;32m~/venv-scnn/lib/python3.7/site-packages/tensorflow/python/keras/engine/data_adapter.py\u001b[0m in \u001b[0;36m__init__\u001b[0;34m(self, x, y, sample_weight, batch_size, steps_per_epoch, initial_epoch, epochs, shuffle, class_weight, max_queue_size, workers, use_multiprocessing, model, steps_per_execution)\u001b[0m\n\u001b[1;32m   1115\u001b[0m         \u001b[0muse_multiprocessing\u001b[0m\u001b[0;34m=\u001b[0m\u001b[0muse_multiprocessing\u001b[0m\u001b[0;34m,\u001b[0m\u001b[0;34m\u001b[0m\u001b[0m\n\u001b[1;32m   1116\u001b[0m         \u001b[0mdistribution_strategy\u001b[0m\u001b[0;34m=\u001b[0m\u001b[0mds_context\u001b[0m\u001b[0;34m.\u001b[0m\u001b[0mget_strategy\u001b[0m\u001b[0;34m(\u001b[0m\u001b[0;34m)\u001b[0m\u001b[0;34m,\u001b[0m\u001b[0;34m\u001b[0m\u001b[0m\n\u001b[0;32m-> 1117\u001b[0;31m         model=model)\n\u001b[0m\u001b[1;32m   1118\u001b[0m \u001b[0;34m\u001b[0m\u001b[0m\n\u001b[1;32m   1119\u001b[0m     \u001b[0mstrategy\u001b[0m \u001b[0;34m=\u001b[0m \u001b[0mds_context\u001b[0m\u001b[0;34m.\u001b[0m\u001b[0mget_strategy\u001b[0m\u001b[0;34m(\u001b[0m\u001b[0;34m)\u001b[0m\u001b[0;34m\u001b[0m\u001b[0m\n",
      "\u001b[0;32m~/venv-scnn/lib/python3.7/site-packages/tensorflow/python/keras/engine/data_adapter.py\u001b[0m in \u001b[0;36m__init__\u001b[0;34m(self, x, y, sample_weights, sample_weight_modes, batch_size, epochs, steps, shuffle, **kwargs)\u001b[0m\n\u001b[1;32m    263\u001b[0m                **kwargs):\n\u001b[1;32m    264\u001b[0m     \u001b[0msuper\u001b[0m\u001b[0;34m(\u001b[0m\u001b[0mTensorLikeDataAdapter\u001b[0m\u001b[0;34m,\u001b[0m \u001b[0mself\u001b[0m\u001b[0;34m)\u001b[0m\u001b[0;34m.\u001b[0m\u001b[0m__init__\u001b[0m\u001b[0;34m(\u001b[0m\u001b[0mx\u001b[0m\u001b[0;34m,\u001b[0m \u001b[0my\u001b[0m\u001b[0;34m,\u001b[0m \u001b[0;34m**\u001b[0m\u001b[0mkwargs\u001b[0m\u001b[0;34m)\u001b[0m\u001b[0;34m\u001b[0m\u001b[0m\n\u001b[0;32m--> 265\u001b[0;31m     \u001b[0mx\u001b[0m\u001b[0;34m,\u001b[0m \u001b[0my\u001b[0m\u001b[0;34m,\u001b[0m \u001b[0msample_weights\u001b[0m \u001b[0;34m=\u001b[0m \u001b[0m_process_tensorlike\u001b[0m\u001b[0;34m(\u001b[0m\u001b[0;34m(\u001b[0m\u001b[0mx\u001b[0m\u001b[0;34m,\u001b[0m \u001b[0my\u001b[0m\u001b[0;34m,\u001b[0m \u001b[0msample_weights\u001b[0m\u001b[0;34m)\u001b[0m\u001b[0;34m)\u001b[0m\u001b[0;34m\u001b[0m\u001b[0m\n\u001b[0m\u001b[1;32m    266\u001b[0m     sample_weight_modes = broadcast_sample_weight_modes(\n\u001b[1;32m    267\u001b[0m         sample_weights, sample_weight_modes)\n",
      "\u001b[0;32m~/venv-scnn/lib/python3.7/site-packages/tensorflow/python/keras/engine/data_adapter.py\u001b[0m in \u001b[0;36m_process_tensorlike\u001b[0;34m(inputs)\u001b[0m\n\u001b[1;32m   1019\u001b[0m     \u001b[0;32mreturn\u001b[0m \u001b[0mx\u001b[0m\u001b[0;34m\u001b[0m\u001b[0m\n\u001b[1;32m   1020\u001b[0m \u001b[0;34m\u001b[0m\u001b[0m\n\u001b[0;32m-> 1021\u001b[0;31m   \u001b[0minputs\u001b[0m \u001b[0;34m=\u001b[0m \u001b[0mnest\u001b[0m\u001b[0;34m.\u001b[0m\u001b[0mmap_structure\u001b[0m\u001b[0;34m(\u001b[0m\u001b[0m_convert_numpy_and_scipy\u001b[0m\u001b[0;34m,\u001b[0m \u001b[0minputs\u001b[0m\u001b[0;34m)\u001b[0m\u001b[0;34m\u001b[0m\u001b[0m\n\u001b[0m\u001b[1;32m   1022\u001b[0m   \u001b[0;32mreturn\u001b[0m \u001b[0mnest\u001b[0m\u001b[0;34m.\u001b[0m\u001b[0mlist_to_tuple\u001b[0m\u001b[0;34m(\u001b[0m\u001b[0minputs\u001b[0m\u001b[0;34m)\u001b[0m\u001b[0;34m\u001b[0m\u001b[0m\n\u001b[1;32m   1023\u001b[0m \u001b[0;34m\u001b[0m\u001b[0m\n",
      "\u001b[0;32m~/venv-scnn/lib/python3.7/site-packages/tensorflow/python/util/nest.py\u001b[0m in \u001b[0;36mmap_structure\u001b[0;34m(func, *structure, **kwargs)\u001b[0m\n\u001b[1;32m    633\u001b[0m \u001b[0;34m\u001b[0m\u001b[0m\n\u001b[1;32m    634\u001b[0m   return pack_sequence_as(\n\u001b[0;32m--> 635\u001b[0;31m       \u001b[0mstructure\u001b[0m\u001b[0;34m[\u001b[0m\u001b[0;36m0\u001b[0m\u001b[0;34m]\u001b[0m\u001b[0;34m,\u001b[0m \u001b[0;34m[\u001b[0m\u001b[0mfunc\u001b[0m\u001b[0;34m(\u001b[0m\u001b[0;34m*\u001b[0m\u001b[0mx\u001b[0m\u001b[0;34m)\u001b[0m \u001b[0;32mfor\u001b[0m \u001b[0mx\u001b[0m \u001b[0;32min\u001b[0m \u001b[0mentries\u001b[0m\u001b[0;34m]\u001b[0m\u001b[0;34m,\u001b[0m\u001b[0;34m\u001b[0m\u001b[0m\n\u001b[0m\u001b[1;32m    636\u001b[0m       expand_composites=expand_composites)\n\u001b[1;32m    637\u001b[0m \u001b[0;34m\u001b[0m\u001b[0m\n",
      "\u001b[0;32m~/venv-scnn/lib/python3.7/site-packages/tensorflow/python/util/nest.py\u001b[0m in \u001b[0;36m<listcomp>\u001b[0;34m(.0)\u001b[0m\n\u001b[1;32m    633\u001b[0m \u001b[0;34m\u001b[0m\u001b[0m\n\u001b[1;32m    634\u001b[0m   return pack_sequence_as(\n\u001b[0;32m--> 635\u001b[0;31m       \u001b[0mstructure\u001b[0m\u001b[0;34m[\u001b[0m\u001b[0;36m0\u001b[0m\u001b[0;34m]\u001b[0m\u001b[0;34m,\u001b[0m \u001b[0;34m[\u001b[0m\u001b[0mfunc\u001b[0m\u001b[0;34m(\u001b[0m\u001b[0;34m*\u001b[0m\u001b[0mx\u001b[0m\u001b[0;34m)\u001b[0m \u001b[0;32mfor\u001b[0m \u001b[0mx\u001b[0m \u001b[0;32min\u001b[0m \u001b[0mentries\u001b[0m\u001b[0;34m]\u001b[0m\u001b[0;34m,\u001b[0m\u001b[0;34m\u001b[0m\u001b[0m\n\u001b[0m\u001b[1;32m    636\u001b[0m       expand_composites=expand_composites)\n\u001b[1;32m    637\u001b[0m \u001b[0;34m\u001b[0m\u001b[0m\n",
      "\u001b[0;32m~/venv-scnn/lib/python3.7/site-packages/tensorflow/python/keras/engine/data_adapter.py\u001b[0m in \u001b[0;36m_convert_numpy_and_scipy\u001b[0;34m(x)\u001b[0m\n\u001b[1;32m   1014\u001b[0m       \u001b[0;32mif\u001b[0m \u001b[0missubclass\u001b[0m\u001b[0;34m(\u001b[0m\u001b[0mx\u001b[0m\u001b[0;34m.\u001b[0m\u001b[0mdtype\u001b[0m\u001b[0;34m.\u001b[0m\u001b[0mtype\u001b[0m\u001b[0;34m,\u001b[0m \u001b[0mnp\u001b[0m\u001b[0;34m.\u001b[0m\u001b[0mfloating\u001b[0m\u001b[0;34m)\u001b[0m\u001b[0;34m:\u001b[0m\u001b[0;34m\u001b[0m\u001b[0m\n\u001b[1;32m   1015\u001b[0m         \u001b[0mdtype\u001b[0m \u001b[0;34m=\u001b[0m \u001b[0mbackend\u001b[0m\u001b[0;34m.\u001b[0m\u001b[0mfloatx\u001b[0m\u001b[0;34m(\u001b[0m\u001b[0;34m)\u001b[0m\u001b[0;34m\u001b[0m\u001b[0m\n\u001b[0;32m-> 1016\u001b[0;31m       \u001b[0;32mreturn\u001b[0m \u001b[0mops\u001b[0m\u001b[0;34m.\u001b[0m\u001b[0mconvert_to_tensor\u001b[0m\u001b[0;34m(\u001b[0m\u001b[0mx\u001b[0m\u001b[0;34m,\u001b[0m \u001b[0mdtype\u001b[0m\u001b[0;34m=\u001b[0m\u001b[0mdtype\u001b[0m\u001b[0;34m)\u001b[0m\u001b[0;34m\u001b[0m\u001b[0m\n\u001b[0m\u001b[1;32m   1017\u001b[0m     \u001b[0;32melif\u001b[0m \u001b[0mscipy_sparse\u001b[0m \u001b[0;32mand\u001b[0m \u001b[0mscipy_sparse\u001b[0m\u001b[0;34m.\u001b[0m\u001b[0missparse\u001b[0m\u001b[0;34m(\u001b[0m\u001b[0mx\u001b[0m\u001b[0;34m)\u001b[0m\u001b[0;34m:\u001b[0m\u001b[0;34m\u001b[0m\u001b[0m\n\u001b[1;32m   1018\u001b[0m       \u001b[0;32mreturn\u001b[0m \u001b[0m_scipy_sparse_to_sparse_tensor\u001b[0m\u001b[0;34m(\u001b[0m\u001b[0mx\u001b[0m\u001b[0;34m)\u001b[0m\u001b[0;34m\u001b[0m\u001b[0m\n",
      "\u001b[0;32m~/venv-scnn/lib/python3.7/site-packages/tensorflow/python/framework/ops.py\u001b[0m in \u001b[0;36mconvert_to_tensor\u001b[0;34m(value, dtype, name, as_ref, preferred_dtype, dtype_hint, ctx, accepted_result_types)\u001b[0m\n\u001b[1;32m   1497\u001b[0m \u001b[0;34m\u001b[0m\u001b[0m\n\u001b[1;32m   1498\u001b[0m     \u001b[0;32mif\u001b[0m \u001b[0mret\u001b[0m \u001b[0;32mis\u001b[0m \u001b[0;32mNone\u001b[0m\u001b[0;34m:\u001b[0m\u001b[0;34m\u001b[0m\u001b[0m\n\u001b[0;32m-> 1499\u001b[0;31m       \u001b[0mret\u001b[0m \u001b[0;34m=\u001b[0m \u001b[0mconversion_func\u001b[0m\u001b[0;34m(\u001b[0m\u001b[0mvalue\u001b[0m\u001b[0;34m,\u001b[0m \u001b[0mdtype\u001b[0m\u001b[0;34m=\u001b[0m\u001b[0mdtype\u001b[0m\u001b[0;34m,\u001b[0m \u001b[0mname\u001b[0m\u001b[0;34m=\u001b[0m\u001b[0mname\u001b[0m\u001b[0;34m,\u001b[0m \u001b[0mas_ref\u001b[0m\u001b[0;34m=\u001b[0m\u001b[0mas_ref\u001b[0m\u001b[0;34m)\u001b[0m\u001b[0;34m\u001b[0m\u001b[0m\n\u001b[0m\u001b[1;32m   1500\u001b[0m \u001b[0;34m\u001b[0m\u001b[0m\n\u001b[1;32m   1501\u001b[0m     \u001b[0;32mif\u001b[0m \u001b[0mret\u001b[0m \u001b[0;32mis\u001b[0m \u001b[0mNotImplemented\u001b[0m\u001b[0;34m:\u001b[0m\u001b[0;34m\u001b[0m\u001b[0m\n",
      "\u001b[0;32m~/venv-scnn/lib/python3.7/site-packages/tensorflow/python/framework/tensor_conversion_registry.py\u001b[0m in \u001b[0;36m_default_conversion_function\u001b[0;34m(***failed resolving arguments***)\u001b[0m\n\u001b[1;32m     50\u001b[0m \u001b[0;32mdef\u001b[0m \u001b[0m_default_conversion_function\u001b[0m\u001b[0;34m(\u001b[0m\u001b[0mvalue\u001b[0m\u001b[0;34m,\u001b[0m \u001b[0mdtype\u001b[0m\u001b[0;34m,\u001b[0m \u001b[0mname\u001b[0m\u001b[0;34m,\u001b[0m \u001b[0mas_ref\u001b[0m\u001b[0;34m)\u001b[0m\u001b[0;34m:\u001b[0m\u001b[0;34m\u001b[0m\u001b[0m\n\u001b[1;32m     51\u001b[0m   \u001b[0;32mdel\u001b[0m \u001b[0mas_ref\u001b[0m  \u001b[0;31m# Unused.\u001b[0m\u001b[0;34m\u001b[0m\u001b[0m\n\u001b[0;32m---> 52\u001b[0;31m   \u001b[0;32mreturn\u001b[0m \u001b[0mconstant_op\u001b[0m\u001b[0;34m.\u001b[0m\u001b[0mconstant\u001b[0m\u001b[0;34m(\u001b[0m\u001b[0mvalue\u001b[0m\u001b[0;34m,\u001b[0m \u001b[0mdtype\u001b[0m\u001b[0;34m,\u001b[0m \u001b[0mname\u001b[0m\u001b[0;34m=\u001b[0m\u001b[0mname\u001b[0m\u001b[0;34m)\u001b[0m\u001b[0;34m\u001b[0m\u001b[0m\n\u001b[0m\u001b[1;32m     53\u001b[0m \u001b[0;34m\u001b[0m\u001b[0m\n\u001b[1;32m     54\u001b[0m \u001b[0;34m\u001b[0m\u001b[0m\n",
      "\u001b[0;32m~/venv-scnn/lib/python3.7/site-packages/tensorflow/python/framework/constant_op.py\u001b[0m in \u001b[0;36mconstant\u001b[0;34m(value, dtype, shape, name)\u001b[0m\n\u001b[1;32m    262\u001b[0m   \"\"\"\n\u001b[1;32m    263\u001b[0m   return _constant_impl(value, dtype, shape, name, verify_shape=False,\n\u001b[0;32m--> 264\u001b[0;31m                         allow_broadcast=True)\n\u001b[0m\u001b[1;32m    265\u001b[0m \u001b[0;34m\u001b[0m\u001b[0m\n\u001b[1;32m    266\u001b[0m \u001b[0;34m\u001b[0m\u001b[0m\n",
      "\u001b[0;32m~/venv-scnn/lib/python3.7/site-packages/tensorflow/python/framework/constant_op.py\u001b[0m in \u001b[0;36m_constant_impl\u001b[0;34m(value, dtype, shape, name, verify_shape, allow_broadcast)\u001b[0m\n\u001b[1;32m    273\u001b[0m       \u001b[0;32mwith\u001b[0m \u001b[0mtrace\u001b[0m\u001b[0;34m.\u001b[0m\u001b[0mTrace\u001b[0m\u001b[0;34m(\u001b[0m\u001b[0;34m\"tf.constant\"\u001b[0m\u001b[0;34m)\u001b[0m\u001b[0;34m:\u001b[0m\u001b[0;34m\u001b[0m\u001b[0m\n\u001b[1;32m    274\u001b[0m         \u001b[0;32mreturn\u001b[0m \u001b[0m_constant_eager_impl\u001b[0m\u001b[0;34m(\u001b[0m\u001b[0mctx\u001b[0m\u001b[0;34m,\u001b[0m \u001b[0mvalue\u001b[0m\u001b[0;34m,\u001b[0m \u001b[0mdtype\u001b[0m\u001b[0;34m,\u001b[0m \u001b[0mshape\u001b[0m\u001b[0;34m,\u001b[0m \u001b[0mverify_shape\u001b[0m\u001b[0;34m)\u001b[0m\u001b[0;34m\u001b[0m\u001b[0m\n\u001b[0;32m--> 275\u001b[0;31m     \u001b[0;32mreturn\u001b[0m \u001b[0m_constant_eager_impl\u001b[0m\u001b[0;34m(\u001b[0m\u001b[0mctx\u001b[0m\u001b[0;34m,\u001b[0m \u001b[0mvalue\u001b[0m\u001b[0;34m,\u001b[0m \u001b[0mdtype\u001b[0m\u001b[0;34m,\u001b[0m \u001b[0mshape\u001b[0m\u001b[0;34m,\u001b[0m \u001b[0mverify_shape\u001b[0m\u001b[0;34m)\u001b[0m\u001b[0;34m\u001b[0m\u001b[0m\n\u001b[0m\u001b[1;32m    276\u001b[0m \u001b[0;34m\u001b[0m\u001b[0m\n\u001b[1;32m    277\u001b[0m   \u001b[0mg\u001b[0m \u001b[0;34m=\u001b[0m \u001b[0mops\u001b[0m\u001b[0;34m.\u001b[0m\u001b[0mget_default_graph\u001b[0m\u001b[0;34m(\u001b[0m\u001b[0;34m)\u001b[0m\u001b[0;34m\u001b[0m\u001b[0m\n",
      "\u001b[0;32m~/venv-scnn/lib/python3.7/site-packages/tensorflow/python/framework/constant_op.py\u001b[0m in \u001b[0;36m_constant_eager_impl\u001b[0;34m(ctx, value, dtype, shape, verify_shape)\u001b[0m\n\u001b[1;32m    298\u001b[0m \u001b[0;32mdef\u001b[0m \u001b[0m_constant_eager_impl\u001b[0m\u001b[0;34m(\u001b[0m\u001b[0mctx\u001b[0m\u001b[0;34m,\u001b[0m \u001b[0mvalue\u001b[0m\u001b[0;34m,\u001b[0m \u001b[0mdtype\u001b[0m\u001b[0;34m,\u001b[0m \u001b[0mshape\u001b[0m\u001b[0;34m,\u001b[0m \u001b[0mverify_shape\u001b[0m\u001b[0;34m)\u001b[0m\u001b[0;34m:\u001b[0m\u001b[0;34m\u001b[0m\u001b[0m\n\u001b[1;32m    299\u001b[0m   \u001b[0;34m\"\"\"Implementation of eager constant.\"\"\"\u001b[0m\u001b[0;34m\u001b[0m\u001b[0m\n\u001b[0;32m--> 300\u001b[0;31m   \u001b[0mt\u001b[0m \u001b[0;34m=\u001b[0m \u001b[0mconvert_to_eager_tensor\u001b[0m\u001b[0;34m(\u001b[0m\u001b[0mvalue\u001b[0m\u001b[0;34m,\u001b[0m \u001b[0mctx\u001b[0m\u001b[0;34m,\u001b[0m \u001b[0mdtype\u001b[0m\u001b[0;34m)\u001b[0m\u001b[0;34m\u001b[0m\u001b[0m\n\u001b[0m\u001b[1;32m    301\u001b[0m   \u001b[0;32mif\u001b[0m \u001b[0mshape\u001b[0m \u001b[0;32mis\u001b[0m \u001b[0;32mNone\u001b[0m\u001b[0;34m:\u001b[0m\u001b[0;34m\u001b[0m\u001b[0m\n\u001b[1;32m    302\u001b[0m     \u001b[0;32mreturn\u001b[0m \u001b[0mt\u001b[0m\u001b[0;34m\u001b[0m\u001b[0m\n",
      "\u001b[0;32m~/venv-scnn/lib/python3.7/site-packages/tensorflow/python/framework/constant_op.py\u001b[0m in \u001b[0;36mconvert_to_eager_tensor\u001b[0;34m(value, ctx, dtype)\u001b[0m\n\u001b[1;32m     96\u001b[0m       \u001b[0mdtype\u001b[0m \u001b[0;34m=\u001b[0m \u001b[0mdtypes\u001b[0m\u001b[0;34m.\u001b[0m\u001b[0mas_dtype\u001b[0m\u001b[0;34m(\u001b[0m\u001b[0mdtype\u001b[0m\u001b[0;34m)\u001b[0m\u001b[0;34m.\u001b[0m\u001b[0mas_datatype_enum\u001b[0m\u001b[0;34m\u001b[0m\u001b[0m\n\u001b[1;32m     97\u001b[0m   \u001b[0mctx\u001b[0m\u001b[0;34m.\u001b[0m\u001b[0mensure_initialized\u001b[0m\u001b[0;34m(\u001b[0m\u001b[0;34m)\u001b[0m\u001b[0;34m\u001b[0m\u001b[0m\n\u001b[0;32m---> 98\u001b[0;31m   \u001b[0;32mreturn\u001b[0m \u001b[0mops\u001b[0m\u001b[0;34m.\u001b[0m\u001b[0mEagerTensor\u001b[0m\u001b[0;34m(\u001b[0m\u001b[0mvalue\u001b[0m\u001b[0;34m,\u001b[0m \u001b[0mctx\u001b[0m\u001b[0;34m.\u001b[0m\u001b[0mdevice_name\u001b[0m\u001b[0;34m,\u001b[0m \u001b[0mdtype\u001b[0m\u001b[0;34m)\u001b[0m\u001b[0;34m\u001b[0m\u001b[0m\n\u001b[0m\u001b[1;32m     99\u001b[0m \u001b[0;34m\u001b[0m\u001b[0m\n\u001b[1;32m    100\u001b[0m \u001b[0;34m\u001b[0m\u001b[0m\n",
      "\u001b[0;31mValueError\u001b[0m: Failed to convert a NumPy array to a Tensor (Unsupported object type int)."
     ]
    }
   ],
   "source": [
    "'''train the model'''\n",
    "cnn_model=cnn_raw.raw_cnn_model(fin_path,mout_path,dev_size,r_state,hyperparameters,\n",
    "                          fast,id_value,use_trash=trash,threshold=threshold,raw=True)"
   ]
  },
  {
   "cell_type": "markdown",
   "metadata": {
    "colab_type": "text",
    "id": "vgHv6RqnMtT2"
   },
   "source": [
    "# **Test the model! Outside of function scope!**"
   ]
  },
  {
   "cell_type": "code",
   "execution_count": null,
   "metadata": {
    "colab": {
     "base_uri": "https://localhost:8080/",
     "height": 680
    },
    "colab_type": "code",
    "executionInfo": {
     "elapsed": 8878,
     "status": "ok",
     "timestamp": 1593717912411,
     "user": {
      "displayName": "Nathan Temiquel",
      "photoUrl": "",
      "userId": "01657354188638757810"
     },
     "user_tz": 420
    },
    "id": "-gA4ADAtGN05",
    "outputId": "153b4641-5f30-4018-9706-75c0bcf121dc"
   },
   "outputs": [],
   "source": [
    "\n",
    "#test data path - do not include /content/.../ML Spectroscopy/\n",
    "testin_path=r'Data/Raw Data/Labeled Test/'\n",
    "\n",
    "#build test set, drops samples with Null values\n",
    "test_df=h.dfbuilder(testin_path,synth=False,split_df=False,use_trash=False,raw=False,test=True)\n",
    "\n",
    "\n",
    "#separates features and labels\n",
    "y_test=test_df[test_df.columns[-1]]\n",
    "X_test=test_df.drop(test_df.columns[-1],axis=1).values\n",
    "\n",
    "#roc_out=h.roc_all(cnn_model.predict(X_test),y_test)\n",
    "\n",
    "if not fast:\n",
    "  roc_out.to_csv(mout_path+id_value+'roc_data.csv')\n",
    "\n",
    "#tests model, you can also use model.predict outside of this scope\n",
    "cnn.test_cnn_model(cnn_model,X_test,y_test,id_value,threshold=0.0)\n",
    "\n",
    "#this is that old folder we were talking about where CNN.csv files get saved, i just commented it out and pointed it to the folder with the rest of the outputs\n",
    "#saved_data=r'/content/drive/My Drive/ML Spectroscopy/Programs/Data Processing/Saved Lists/'\n",
    "saved_data=r'/content/drive/My Drive/ML Spectroscopy/Model Data/CNN Model/'\n",
    "pd.DataFrame(data=cnn_model.predict(X_test),index=test_df.index.values).to_csv(saved_data+id_value+r'CNN.csv')\n"
   ]
  },
  {
   "cell_type": "markdown",
   "metadata": {
    "colab_type": "text",
    "id": "B2Q1sVEgatZX"
   },
   "source": [
    "# Play space for whatever other training/testing you want to do\n"
   ]
  },
  {
   "cell_type": "markdown",
   "metadata": {
    "colab_type": "text",
    "id": "6icXV9e0J4U0"
   },
   "source": [
    "Testing/Training Parameters"
   ]
  },
  {
   "cell_type": "code",
   "execution_count": null,
   "metadata": {
    "colab": {},
    "colab_type": "code",
    "id": "D4SZP3BnJ7gD"
   },
   "outputs": [],
   "source": [
    "\n",
    "'''define the hyperparameters here!'''\n",
    "learning_rate=0.001\n",
    "batch_size=100\n",
    "drop_rate=0.55\n",
    "epochs=50\n",
    "\n",
    "#don't change the line below\n",
    "hyperparameters=[learning_rate,batch_size,drop_rate,epochs]\n"
   ]
  },
  {
   "cell_type": "code",
   "execution_count": null,
   "metadata": {
    "colab": {},
    "colab_type": "code",
    "id": "cwEGPb2EJ8U3"
   },
   "outputs": [],
   "source": [
    "\n",
    "'''define other parameters here!'''\n",
    "#this string is prepended to all output files for identification\n",
    "id_value='multi_size_granite_only_update_with_probs'\n",
    "\n",
    "#training data file path (do not include /content/drive/My Drive/ML Spectroscopy/)\n",
    "fin_path=r'Data/Preprocessed/Continuous Wavelet Transformation/Labeled/'\n",
    "\n",
    "#output file path for the trained model data\n",
    "mout_path=r'Model Data/CNN Model/'\n",
    "\n",
    "#proportion of the training data allocated to the dev set - a float x: 0<x<1\n",
    "dev_size=0.2\n",
    "\n",
    "#random seed used for train/dev split to ensure repeatable outcomes. None \n",
    "#provides a psuedorandom value that won't be repeatable\n",
    "r_state=1\n",
    "\n",
    "#fast - True for doing quick training that does not output probability weights\n",
    "#for each sample during training. False for doing deep analysis and tracking\n",
    "fast=False\n",
    "\n",
    "#trash - True for using trash data in the model\n",
    "trash=False\n",
    "\n",
    "#threshold - float in the range [0.0,1.0) determines the discrimination threshold\n",
    "threshold=0.0\n"
   ]
  },
  {
   "cell_type": "markdown",
   "metadata": {
    "colab_type": "text",
    "id": "ke5vv95gJg_P"
   },
   "source": [
    "Build a test set with out of class samples (RRUFF untrained data) and our in class test data set"
   ]
  },
  {
   "cell_type": "code",
   "execution_count": null,
   "metadata": {
    "colab": {
     "base_uri": "https://localhost:8080/",
     "height": 106
    },
    "colab_type": "code",
    "executionInfo": {
     "elapsed": 724,
     "status": "ok",
     "timestamp": 1593628731101,
     "user": {
      "displayName": "Nathan Temiquel",
      "photoUrl": "",
      "userId": "01657354188638757810"
     },
     "user_tz": 420
    },
    "id": "C8Vqc5YyP5Jb",
    "outputId": "6583e804-f4d4-4911-d2ee-0a482f6b74b5"
   },
   "outputs": [],
   "source": [
    "\n",
    "#test data path\n",
    "testin_path1=r'Data/Preprocessed/Continuous Wavelet Transformation/Test Set/Labeled/'\n",
    "\n",
    "#build test set, drops samples with Null values\n",
    "test_df1=h.dfbuilder(testin_path1,synth=synth,split_df=False)\n",
    "test_df1.dropna(inplace=True)\n",
    "\n",
    "\n",
    "#test data path - do not include /content/.../ML Spectroscopy/\n",
    "testin_path2=r'Data/Preprocessed/Continuous Wavelet Transformation/Test Set/RRUFF_untrained/Labeled/'\n",
    "\n",
    "#build test set, drops samples with Null values\n",
    "test_df2=h.dfbuilder(testin_path2,synth=True,split_df=False)\n",
    "test_df2.dropna(inplace=True)\n",
    "\n",
    "test_df=pd.concat([test_df1,test_df2])\n",
    "\n",
    "test_df.loc[test_df['label']==9]=6\n",
    "\n",
    "y_test=test_df[test_df.columns[-1]]\n",
    "X_test=test_df.drop(test_df.columns[-1],axis=1).values\n",
    "\n"
   ]
  },
  {
   "cell_type": "markdown",
   "metadata": {
    "colab_type": "text",
    "id": "XdcOiXBip9rr"
   },
   "source": [
    "Build test set with just granite data"
   ]
  },
  {
   "cell_type": "code",
   "execution_count": null,
   "metadata": {
    "colab": {
     "base_uri": "https://localhost:8080/",
     "height": 318
    },
    "colab_type": "code",
    "executionInfo": {
     "elapsed": 784,
     "status": "ok",
     "timestamp": 1593628733666,
     "user": {
      "displayName": "Nathan Temiquel",
      "photoUrl": "",
      "userId": "01657354188638757810"
     },
     "user_tz": 420
    },
    "id": "PeCfIF2apzjW",
    "outputId": "5462231a-811f-4ec8-a125-6b8647021efd"
   },
   "outputs": [],
   "source": [
    "\n",
    "#test data path - do not include /content/.../ML Spectroscopy/\n",
    "testin_path=r'Data/Preprocessed/Continuous Wavelet Transformation/Test Set/Labeled/'\n",
    "\n",
    "#build test set, drops samples with Null values\n",
    "test_df=h.dfbuilder(testin_path,synth=False,split_df=False)\n",
    "test_df.dropna(inplace=True)\n",
    "\n",
    "print(test_df)\n",
    "y_test=test_df[test_df.columns[-1]]\n",
    "X_test=test_df.drop(test_df.columns[-1],axis=1).values\n"
   ]
  },
  {
   "cell_type": "markdown",
   "metadata": {
    "colab_type": "text",
    "id": "dGnyTCsiHS2G"
   },
   "source": [
    "Running model with limited data sets"
   ]
  },
  {
   "cell_type": "code",
   "execution_count": null,
   "metadata": {
    "colab": {
     "base_uri": "https://localhost:8080/",
     "height": 1000
    },
    "colab_type": "code",
    "id": "YtG_bz_zRK8J",
    "outputId": "1fb07389-a624-4969-d23f-727564883d52"
   },
   "outputs": [],
   "source": [
    "\n",
    "fin_path=r'Data/Preprocessed/Continuous Wavelet Transformation/Labeled/Limited Sizes/'\n",
    "\n",
    "for i in [1,2,4,8,16,32,64,128,256,512,1024,2048,4096]:\n",
    "  #adjusting some parameters for the size\n",
    "  hyperparameters[1]=max([1,round(((i*9*4)/5)/411)])\n",
    "  temp_id=id_value+str(i)\n",
    "  \n",
    "  print('\\n\\n\\n\\n', 'Model ',i,'\\n')\n",
    "  cnn_model=cwt_cnn_model(fin_path+str(i)+'/',mout_path,dev_size,r_state,hyperparameters,fast,temp_id,use_trash=trash,threshold=threshold)\n",
    "  print('\\nTest CM\\n')\n",
    "  cnn_cwt.test_cnn_model(cnn_model,X_test,y_test,temp_id,test=True,threshold=threshold,fast=fast)\n",
    "\n"
   ]
  },
  {
   "cell_type": "code",
   "execution_count": null,
   "metadata": {
    "colab": {},
    "colab_type": "code",
    "id": "QwcMpGgsPHVQ"
   },
   "outputs": [],
   "source": [
    "#print(roc_out)"
   ]
  },
  {
   "cell_type": "code",
   "execution_count": null,
   "metadata": {
    "colab": {
     "base_uri": "https://localhost:8080/",
     "height": 54
    },
    "colab_type": "code",
    "executionInfo": {
     "elapsed": 235678,
     "status": "ok",
     "timestamp": 1592182441203,
     "user": {
      "displayName": "Nathan Temiquel",
      "photoUrl": "",
      "userId": "01657354188638757810"
     },
     "user_tz": 420
    },
    "id": "DvCbgnqtHPDx",
    "outputId": "db45da65-a761-4f09-cfac-5f0df6a92cd1"
   },
   "outputs": [],
   "source": [
    "\"\"\"\n",
    "opt_thresh=np.array((roc_out.columns.values.astype(float)))\n",
    "for i in range(len(roc_out.columns)):\n",
    "  tpr_ls,fpr_ls,thresh_ls=roc_out[roc_out.columns.values[i]]\n",
    "  #print(np.subtract(tpr_ls,fpr_ls))\n",
    "  opt_thresh[i]=thresh_ls[np.argmax(np.subtract(tpr_ls,fpr_ls))]\n",
    "  print('Optimal Threshold for class:',roc_out.columns.values[i],'\\n',opt_thresh[i])\n",
    "print(opt_thresh.sum()*(1.0/len(opt_thresh)))\n",
    "\"\"\""
   ]
  },
  {
   "cell_type": "code",
   "execution_count": null,
   "metadata": {
    "colab": {
     "base_uri": "https://localhost:8080/",
     "height": 34
    },
    "colab_type": "code",
    "executionInfo": {
     "elapsed": 235676,
     "status": "ok",
     "timestamp": 1592182441204,
     "user": {
      "displayName": "Nathan Temiquel",
      "photoUrl": "",
      "userId": "01657354188638757810"
     },
     "user_tz": 420
    },
    "id": "AjhJLgIqFhrr",
    "outputId": "4884d55a-3c5c-466f-c6ce-7ac8beb1bcc2"
   },
   "outputs": [],
   "source": [
    "\"\"\"\n",
    "#tests model, you can also use model.predict outside of this scope\n",
    "cnn_cwt.test_cnn_model(cnn_model,X_test,y_test,id_value,.0,fast=True)\n",
    "\"\"\""
   ]
  },
  {
   "cell_type": "code",
   "execution_count": null,
   "metadata": {
    "colab": {
     "base_uri": "https://localhost:8080/",
     "height": 301
    },
    "colab_type": "code",
    "executionInfo": {
     "elapsed": 235670,
     "status": "ok",
     "timestamp": 1592182441205,
     "user": {
      "displayName": "Nathan Temiquel",
      "photoUrl": "",
      "userId": "01657354188638757810"
     },
     "user_tz": 420
    },
    "id": "qaJIBF-FZEw0",
    "outputId": "32694c44-c3eb-43ff-f980-470ec342cb63"
   },
   "outputs": [],
   "source": [
    "#report metrics: precision, recall, f1-score, support for test set\n",
    "from sklearn.metrics import classification_report\n",
    "print(classification_report(y_test,cnn_cwt.dec_pred(cnn_model.predict(X_test),threshold)))\n"
   ]
  },
  {
   "cell_type": "code",
   "execution_count": null,
   "metadata": {
    "colab": {},
    "colab_type": "code",
    "id": "pRFjOvNOzp9E"
   },
   "outputs": [],
   "source": [
    "'''\n",
    "#Used this to label the raw test data using the labels from the CWT test data\n",
    "fin_path='Data/Raw Data/'\n",
    "use_trash=False\n",
    "raw=True\n",
    "test=True\n",
    "\n",
    "test_raw=h.dfbuilder(fin_path=fin_path,directory=directory,split_df=False,use_trash=use_trash,raw=raw,test=test)\n",
    "\n",
    "fin_path='Data/Preprocessed/Continuous Wavelet Transformation/Test Set/Labeled/'\n",
    "use_trash=False\n",
    "raw=False\n",
    "test=True\n",
    "\n",
    "test_labeled=h.dfbuilder(fin_path=fin_path,directory=directory,split_df=False,use_trash=use_trash,raw=raw,test=test)\n",
    "\n",
    "ignore_ls\n",
    "final_df=pd.DataFrame()\n",
    "for idx,row in test_raw.iterrows():\n",
    "  try:\n",
    "    row['label']=test_labeled.loc[idx,'label']\n",
    "    final_df[idx]=row\n",
    "  except:\n",
    "    ignore_ls.append(idx)\n",
    "final_df_t=final_df.transpose()\n",
    "display(final_df_t)\n",
    "\n",
    "final_df_t.to_csv(directory+'Data/Raw Data/Labeled Test/L_raw_gabbro_granite_0dust_test_015s_937_4840.csv')\n",
    "'''"
   ]
  }
 ],
 "metadata": {
  "accelerator": "GPU",
  "colab": {
   "collapsed_sections": [],
   "machine_shape": "hm",
   "name": "Stable_7-1-20_CNN_using_raw.ipynb",
   "provenance": []
  },
  "kernelspec": {
   "display_name": "Python 3",
   "language": "python",
   "name": "python3"
  },
  "language_info": {
   "codemirror_mode": {
    "name": "ipython",
    "version": 3
   },
   "file_extension": ".py",
   "mimetype": "text/x-python",
   "name": "python",
   "nbconvert_exporter": "python",
   "pygments_lexer": "ipython3",
   "version": "3.7.0"
  }
 },
 "nbformat": 4,
 "nbformat_minor": 1
}
