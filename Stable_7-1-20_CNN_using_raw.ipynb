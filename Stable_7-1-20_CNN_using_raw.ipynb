{
 "cells": [
  {
   "cell_type": "code",
   "execution_count": null,
   "metadata": {
    "colab": {
     "base_uri": "https://localhost:8080/",
     "height": 303
    },
    "colab_type": "code",
    "executionInfo": {
     "elapsed": 27827,
     "status": "ok",
     "timestamp": 1596338524706,
     "user": {
      "displayName": "Nathan Temiquel",
      "photoUrl": "",
      "userId": "01657354188638757810"
     },
     "user_tz": 420
    },
    "id": "RjoK0CooyLaq",
    "outputId": "9bf5bbda-bf0f-4d00-c444-a2d1d54e39c7"
   },
   "outputs": [],
   "source": [
    "'''Stable - Reach out if you have any issues'''\n",
    "\n",
    "import numpy as np\n",
    "import pandas as pd\n",
    "import tensorflow as tf\n",
    "import tensorflow.keras as K\n",
    "from tensorflow.keras.models import Model"
   ]
  },
  {
   "cell_type": "code",
   "execution_count": null,
   "metadata": {
    "colab": {
     "base_uri": "https://localhost:8080/",
     "height": 52
    },
    "colab_type": "code",
    "executionInfo": {
     "elapsed": 492,
     "status": "ok",
     "timestamp": 1596338563325,
     "user": {
      "displayName": "Nathan Temiquel",
      "photoUrl": "",
      "userId": "01657354188638757810"
     },
     "user_tz": 420
    },
    "id": "Q9Obx3IKTcEE",
    "outputId": "8db5f53e-71d7-40e1-d0b3-65b71fd96b31"
   },
   "outputs": [],
   "source": [
    "import import_ipynb\n",
    "import Dev_Helper as h\n",
    "import CNNModel_raw as cnn_raw\n",
    "%cd '/content/drive/My Drive/ML Spectroscopy/'\n",
    "#set global directory for where files are stored\n",
    "directory=r'/content/drive/My Drive/ML Spectroscopy/'"
   ]
  },
  {
   "cell_type": "code",
   "execution_count": null,
   "metadata": {
    "colab": {},
    "colab_type": "code",
    "executionInfo": {
     "elapsed": 340,
     "status": "ok",
     "timestamp": 1596338572946,
     "user": {
      "displayName": "Nathan Temiquel",
      "photoUrl": "",
      "userId": "01657354188638757810"
     },
     "user_tz": 420
    },
    "id": "e0v1CgJCnt5a"
   },
   "outputs": [],
   "source": [
    "''' \n",
    "DO NOT EDIT THIS FUNCTION - REACH OUT TO NATE IF THERE ARE ISSUES WITH IT\n",
    "'''\n",
    "def cwt_cnn_model(fin_path=r'Data/Raw Data/Continuous Wavelet Transformation/Labeled/',\n",
    "         mout_path=r'Model Data/CNN Model/',dev_size=0.2,r_state=1,\n",
    "         hyperparameters=None,fast=True,fil_id='0',use_trash=False,threshold=.98,\n",
    "         raw=False):\n",
    "\n",
    "  #build dataframes for all data after splitting\n",
    "  X_train,X_dev,y_train,y_dev=h.dfbuilder(fin_path=fin_path,dev_size=dev_size,r_state=r_state,directory=directory,use_trash=use_trash,raw=raw)\n",
    "\n",
    "  #train a cnn model - v0.01\n",
    "  cnn_model,cnn_hist=cnn_raw.train_cnn_model(X_train,y_train,X_dev,y_dev,hyperparameters,fast,fil_id)\n",
    "  pd.DataFrame(cnn_hist.history).to_csv(mout_path+fil_id+'hist.csv')\n",
    "\n",
    "  #test cnn model with dev set\n",
    "  cnn_raw.test_cnn_model(cnn_model,X_dev,y_dev,test=False,threshold=threshold)\n",
    "\n",
    "  #save model\n",
    "  if not fast:\n",
    "    cnn_raw.save_model(cnn_model,mout_path+fil_id)\n",
    "\n",
    "  return cnn_model"
   ]
  },
  {
   "cell_type": "markdown",
   "metadata": {
    "colab_type": "text",
    "id": "rEAAkuTBHgH3"
   },
   "source": [
    "# **Use this space below for fiddling with model training**\n",
    "\n",
    "### **If you need to retrain the model, be sure to restart the runtime**"
   ]
  },
  {
   "cell_type": "code",
   "execution_count": null,
   "metadata": {
    "colab": {},
    "colab_type": "code",
    "executionInfo": {
     "elapsed": 367,
     "status": "ok",
     "timestamp": 1596338577846,
     "user": {
      "displayName": "Nathan Temiquel",
      "photoUrl": "",
      "userId": "01657354188638757810"
     },
     "user_tz": 420
    },
    "id": "NmrT68QWPumc"
   },
   "outputs": [],
   "source": [
    "'''define the hyperparameters here!'''\n",
    "learning_rate=0.0001\n",
    "batch_size=100\n",
    "drop_rate=0.7\n",
    "epochs=50\n",
    "\n",
    "#don't change the line below\n",
    "hyperparameters=[learning_rate,batch_size,drop_rate,epochs]"
   ]
  },
  {
   "cell_type": "code",
   "execution_count": null,
   "metadata": {
    "colab": {},
    "colab_type": "code",
    "executionInfo": {
     "elapsed": 365,
     "status": "ok",
     "timestamp": 1596338609885,
     "user": {
      "displayName": "Nathan Temiquel",
      "photoUrl": "",
      "userId": "01657354188638757810"
     },
     "user_tz": 420
    },
    "id": "yEPR4aaYG1bq"
   },
   "outputs": [],
   "source": [
    "'''define other parameters here!'''\n",
    "#this string is prepended to all output files for identification\n",
    "id_value='t_raw_garbage_test'\n",
    "\n",
    "#training data file path (do not include /content/drive/My Drive/ML Spectroscopy/)\n",
    "fin_path=r'Data/Raw Data/'\n",
    "\n",
    "#output file path for the trained model data\n",
    "mout_path=r'Model Data/CNN Model/'\n",
    "\n",
    "#proportion of the training data allocated to the dev set - a float x: 0<x<1\n",
    "dev_size=0.2\n",
    "\n",
    "#random seed used for train/dev split to ensure repeatable outcomes. None \n",
    "#provides a psuedorandom value that won't be repeatable\n",
    "r_state=1\n",
    "\n",
    "#fast - True for doing quick training that does not output probability weights\n",
    "#for each sample during training. False for doing deep analysis and tracking\n",
    "fast=True\n",
    "\n",
    "#trash - True for using trash data in the model\n",
    "trash=False\n",
    "\n",
    "#synth - True for RRUFF Data\n",
    "synth=False\n",
    "\n",
    "#threshold - float in the range [0.0,1.0) determines the discrimination threshold\n",
    "threshold=0.5\n"
   ]
  },
  {
   "cell_type": "code",
   "execution_count": null,
   "metadata": {
    "colab": {
     "base_uri": "https://localhost:8080/",
     "height": 1000
    },
    "colab_type": "code",
    "executionInfo": {
     "elapsed": 110837,
     "status": "error",
     "timestamp": 1596338721605,
     "user": {
      "displayName": "Nathan Temiquel",
      "photoUrl": "",
      "userId": "01657354188638757810"
     },
     "user_tz": 420
    },
    "id": "n1cWmQtCGmrF",
    "outputId": "88035cf6-d238-4dae-c556-282f3e000c9e"
   },
   "outputs": [],
   "source": [
    "'''train the model'''\n",
    "cnn_model=cwt_cnn_model(fin_path,mout_path,dev_size,r_state,hyperparameters,fast,id_value,use_trash=trash,threshold=threshold,raw=True)"
   ]
  },
  {
   "cell_type": "markdown",
   "metadata": {
    "colab_type": "text",
    "id": "vgHv6RqnMtT2"
   },
   "source": [
    "# **Test the model! Outside of function scope!**"
   ]
  },
  {
   "cell_type": "code",
   "execution_count": null,
   "metadata": {
    "colab": {
     "base_uri": "https://localhost:8080/",
     "height": 680
    },
    "colab_type": "code",
    "executionInfo": {
     "elapsed": 8878,
     "status": "ok",
     "timestamp": 1593717912411,
     "user": {
      "displayName": "Nathan Temiquel",
      "photoUrl": "",
      "userId": "01657354188638757810"
     },
     "user_tz": 420
    },
    "id": "-gA4ADAtGN05",
    "outputId": "153b4641-5f30-4018-9706-75c0bcf121dc"
   },
   "outputs": [],
   "source": [
    "\n",
    "#test data path - do not include /content/.../ML Spectroscopy/\n",
    "testin_path=r'Data/Raw Data/Labeled Test/'\n",
    "\n",
    "#build test set, drops samples with Null values\n",
    "test_df=h.dfbuilder(testin_path,synth=False,split_df=False,use_trash=False,raw=False,test=True)\n",
    "\n",
    "\n",
    "#separates features and labels\n",
    "y_test=test_df[test_df.columns[-1]]\n",
    "X_test=test_df.drop(test_df.columns[-1],axis=1).values\n",
    "\n",
    "#roc_out=h.roc_all(cnn_model.predict(X_test),y_test)\n",
    "\n",
    "if not fast:\n",
    "  roc_out.to_csv(mout_path+id_value+'roc_data.csv')\n",
    "\n",
    "#tests model, you can also use model.predict outside of this scope\n",
    "cnn_raw.test_cnn_model(cnn_model,X_test,y_test,id_value,threshold=0.0)\n",
    "\n",
    "#this is that old folder we were talking about where CNN.csv files get saved, i just commented it out and pointed it to the folder with the rest of the outputs\n",
    "#saved_data=r'/content/drive/My Drive/ML Spectroscopy/Programs/Data Processing/Saved Lists/'\n",
    "saved_data=r'/content/drive/My Drive/ML Spectroscopy/Model Data/CNN Model/'\n",
    "pd.DataFrame(data=cnn_model.predict(X_test),index=test_df.index.values).to_csv(saved_data+id_value+r'CNN.csv')\n"
   ]
  },
  {
   "cell_type": "markdown",
   "metadata": {
    "colab_type": "text",
    "id": "B2Q1sVEgatZX"
   },
   "source": [
    "# Play space for whatever other training/testing you want to do\n"
   ]
  },
  {
   "cell_type": "markdown",
   "metadata": {
    "colab_type": "text",
    "id": "6icXV9e0J4U0"
   },
   "source": [
    "Testing/Training Parameters"
   ]
  },
  {
   "cell_type": "code",
   "execution_count": null,
   "metadata": {
    "colab": {},
    "colab_type": "code",
    "id": "D4SZP3BnJ7gD"
   },
   "outputs": [],
   "source": [
    "\n",
    "'''define the hyperparameters here!'''\n",
    "learning_rate=0.001\n",
    "batch_size=100\n",
    "drop_rate=0.55\n",
    "epochs=50\n",
    "\n",
    "#don't change the line below\n",
    "hyperparameters=[learning_rate,batch_size,drop_rate,epochs]\n"
   ]
  },
  {
   "cell_type": "code",
   "execution_count": null,
   "metadata": {
    "colab": {},
    "colab_type": "code",
    "id": "cwEGPb2EJ8U3"
   },
   "outputs": [],
   "source": [
    "\n",
    "'''define other parameters here!'''\n",
    "#this string is prepended to all output files for identification\n",
    "id_value='multi_size_granite_only_update_with_probs'\n",
    "\n",
    "#training data file path (do not include /content/drive/My Drive/ML Spectroscopy/)\n",
    "fin_path=r'Data/Preprocessed/Continuous Wavelet Transformation/Labeled/'\n",
    "\n",
    "#output file path for the trained model data\n",
    "mout_path=r'Model Data/CNN Model/'\n",
    "\n",
    "#proportion of the training data allocated to the dev set - a float x: 0<x<1\n",
    "dev_size=0.2\n",
    "\n",
    "#random seed used for train/dev split to ensure repeatable outcomes. None \n",
    "#provides a psuedorandom value that won't be repeatable\n",
    "r_state=1\n",
    "\n",
    "#fast - True for doing quick training that does not output probability weights\n",
    "#for each sample during training. False for doing deep analysis and tracking\n",
    "fast=False\n",
    "\n",
    "#trash - True for using trash data in the model\n",
    "trash=False\n",
    "\n",
    "#threshold - float in the range [0.0,1.0) determines the discrimination threshold\n",
    "threshold=0.0\n"
   ]
  },
  {
   "cell_type": "markdown",
   "metadata": {
    "colab_type": "text",
    "id": "ke5vv95gJg_P"
   },
   "source": [
    "Build a test set with out of class samples (RRUFF untrained data) and our in class test data set"
   ]
  },
  {
   "cell_type": "code",
   "execution_count": null,
   "metadata": {
    "colab": {
     "base_uri": "https://localhost:8080/",
     "height": 106
    },
    "colab_type": "code",
    "executionInfo": {
     "elapsed": 724,
     "status": "ok",
     "timestamp": 1593628731101,
     "user": {
      "displayName": "Nathan Temiquel",
      "photoUrl": "",
      "userId": "01657354188638757810"
     },
     "user_tz": 420
    },
    "id": "C8Vqc5YyP5Jb",
    "outputId": "6583e804-f4d4-4911-d2ee-0a482f6b74b5"
   },
   "outputs": [],
   "source": [
    "\"\"\"\n",
    "#test data path - do not include /content/.../ML Spectroscopy/\n",
    "testin_path1=r'Data/Preprocessed/Continuous Wavelet Transformation/Test Set/Labeled/'\n",
    "\n",
    "#build test set, drops samples with Null values\n",
    "test_df1=h.dfbuilder(testin_path1,synth=synth,split_df=False)\n",
    "test_df1.dropna(inplace=True)\n",
    "\n",
    "\n",
    "#test data path - do not include /content/.../ML Spectroscopy/\n",
    "testin_path2=r'Data/Preprocessed/Continuous Wavelet Transformation/Test Set/RRUFF_untrained/Labeled/'\n",
    "\n",
    "#build test set, drops samples with Null values\n",
    "test_df2=h.dfbuilder(testin_path2,synth=True,split_df=False)\n",
    "test_df2.dropna(inplace=True)\n",
    "\n",
    "test_df=pd.concat([test_df1,test_df2])\n",
    "\n",
    "test_df.loc[test_df['label']==9]=6\n",
    "\n",
    "y_test=test_df[test_df.columns[-1]]\n",
    "X_test=test_df.drop(test_df.columns[-1],axis=1).values\n",
    "\"\"\"\n"
   ]
  },
  {
   "cell_type": "markdown",
   "metadata": {
    "colab_type": "text",
    "id": "XdcOiXBip9rr"
   },
   "source": [
    "Build test set with just granite data"
   ]
  },
  {
   "cell_type": "code",
   "execution_count": null,
   "metadata": {
    "colab": {
     "base_uri": "https://localhost:8080/",
     "height": 318
    },
    "colab_type": "code",
    "executionInfo": {
     "elapsed": 784,
     "status": "ok",
     "timestamp": 1593628733666,
     "user": {
      "displayName": "Nathan Temiquel",
      "photoUrl": "",
      "userId": "01657354188638757810"
     },
     "user_tz": 420
    },
    "id": "PeCfIF2apzjW",
    "outputId": "5462231a-811f-4ec8-a125-6b8647021efd"
   },
   "outputs": [],
   "source": [
    "\n",
    "#test data path - do not include /content/.../ML Spectroscopy/\n",
    "testin_path=r'Data/Preprocessed/Continuous Wavelet Transformation/Test Set/Labeled/'\n",
    "\n",
    "#build test set, drops samples with Null values\n",
    "test_df=h.dfbuilder(testin_path,synth=False,split_df=False)\n",
    "test_df.dropna(inplace=True)\n",
    "\n",
    "print(test_df)\n",
    "y_test=test_df[test_df.columns[-1]]\n",
    "X_test=test_df.drop(test_df.columns[-1],axis=1).values\n"
   ]
  },
  {
   "cell_type": "markdown",
   "metadata": {
    "colab_type": "text",
    "id": "dGnyTCsiHS2G"
   },
   "source": [
    "Running model with limited data sets"
   ]
  },
  {
   "cell_type": "code",
   "execution_count": null,
   "metadata": {
    "colab": {
     "base_uri": "https://localhost:8080/",
     "height": 1000
    },
    "colab_type": "code",
    "id": "YtG_bz_zRK8J",
    "outputId": "1fb07389-a624-4969-d23f-727564883d52"
   },
   "outputs": [],
   "source": [
    "\n",
    "fin_path=r'Data/Preprocessed/Continuous Wavelet Transformation/Labeled/Limited Sizes/'\n",
    "\n",
    "for i in [1,2,4,8,16,32,64,128,256,512,1024,2048,4096]:\n",
    "  #adjusting some parameters for the size\n",
    "  hyperparameters[1]=max([1,round(((i*9*4)/5)/411)])\n",
    "  temp_id=id_value+str(i)\n",
    "  \n",
    "  print('\\n\\n\\n\\n', 'Model ',i,'\\n')\n",
    "  cnn_model=cwt_cnn_model(fin_path+str(i)+'/',mout_path,dev_size,r_state,hyperparameters,fast,temp_id,use_trash=trash,threshold=threshold)\n",
    "  print('\\nTest CM\\n')\n",
    "  cnn_cwt.test_cnn_model(cnn_model,X_test,y_test,temp_id,test=True,threshold=threshold,fast=fast)\n",
    "\n"
   ]
  },
  {
   "cell_type": "code",
   "execution_count": null,
   "metadata": {
    "colab": {},
    "colab_type": "code",
    "id": "QwcMpGgsPHVQ"
   },
   "outputs": [],
   "source": [
    "#print(roc_out)"
   ]
  },
  {
   "cell_type": "code",
   "execution_count": null,
   "metadata": {
    "colab": {
     "base_uri": "https://localhost:8080/",
     "height": 54
    },
    "colab_type": "code",
    "executionInfo": {
     "elapsed": 235678,
     "status": "ok",
     "timestamp": 1592182441203,
     "user": {
      "displayName": "Nathan Temiquel",
      "photoUrl": "",
      "userId": "01657354188638757810"
     },
     "user_tz": 420
    },
    "id": "DvCbgnqtHPDx",
    "outputId": "db45da65-a761-4f09-cfac-5f0df6a92cd1"
   },
   "outputs": [],
   "source": [
    "\"\"\"\n",
    "opt_thresh=np.array((roc_out.columns.values.astype(float)))\n",
    "for i in range(len(roc_out.columns)):\n",
    "  tpr_ls,fpr_ls,thresh_ls=roc_out[roc_out.columns.values[i]]\n",
    "  #print(np.subtract(tpr_ls,fpr_ls))\n",
    "  opt_thresh[i]=thresh_ls[np.argmax(np.subtract(tpr_ls,fpr_ls))]\n",
    "  print('Optimal Threshold for class:',roc_out.columns.values[i],'\\n',opt_thresh[i])\n",
    "print(opt_thresh.sum()*(1.0/len(opt_thresh)))\n",
    "\"\"\""
   ]
  },
  {
   "cell_type": "code",
   "execution_count": null,
   "metadata": {
    "colab": {
     "base_uri": "https://localhost:8080/",
     "height": 34
    },
    "colab_type": "code",
    "executionInfo": {
     "elapsed": 235676,
     "status": "ok",
     "timestamp": 1592182441204,
     "user": {
      "displayName": "Nathan Temiquel",
      "photoUrl": "",
      "userId": "01657354188638757810"
     },
     "user_tz": 420
    },
    "id": "AjhJLgIqFhrr",
    "outputId": "4884d55a-3c5c-466f-c6ce-7ac8beb1bcc2"
   },
   "outputs": [],
   "source": [
    "\"\"\"\n",
    "#tests model, you can also use model.predict outside of this scope\n",
    "cnn_cwt.test_cnn_model(cnn_model,X_test,y_test,id_value,.0,fast=True)\n",
    "\"\"\""
   ]
  },
  {
   "cell_type": "code",
   "execution_count": null,
   "metadata": {
    "colab": {
     "base_uri": "https://localhost:8080/",
     "height": 301
    },
    "colab_type": "code",
    "executionInfo": {
     "elapsed": 235670,
     "status": "ok",
     "timestamp": 1592182441205,
     "user": {
      "displayName": "Nathan Temiquel",
      "photoUrl": "",
      "userId": "01657354188638757810"
     },
     "user_tz": 420
    },
    "id": "qaJIBF-FZEw0",
    "outputId": "32694c44-c3eb-43ff-f980-470ec342cb63"
   },
   "outputs": [],
   "source": [
    "#report metrics: precision, recall, f1-score, support for test set\n",
    "from sklearn.metrics import classification_report\n",
    "print(classification_report(y_test,cnn_cwt.dec_pred(cnn_model.predict(X_test),threshold)))\n"
   ]
  },
  {
   "cell_type": "code",
   "execution_count": null,
   "metadata": {
    "colab": {},
    "colab_type": "code",
    "id": "pRFjOvNOzp9E"
   },
   "outputs": [],
   "source": [
    "'''\n",
    "#Used this to label the raw test data using the labels from the CWT test data\n",
    "fin_path='Data/Raw Data/'\n",
    "use_trash=False\n",
    "raw=True\n",
    "test=True\n",
    "\n",
    "test_raw=h.dfbuilder(fin_path=fin_path,directory=directory,split_df=False,use_trash=use_trash,raw=raw,test=test)\n",
    "\n",
    "fin_path='Data/Preprocessed/Continuous Wavelet Transformation/Test Set/Labeled/'\n",
    "use_trash=False\n",
    "raw=False\n",
    "test=True\n",
    "\n",
    "test_labeled=h.dfbuilder(fin_path=fin_path,directory=directory,split_df=False,use_trash=use_trash,raw=raw,test=test)\n",
    "\n",
    "ignore_ls\n",
    "final_df=pd.DataFrame()\n",
    "for idx,row in test_raw.iterrows():\n",
    "  try:\n",
    "    row['label']=test_labeled.loc[idx,'label']\n",
    "    final_df[idx]=row\n",
    "  except:\n",
    "    ignore_ls.append(idx)\n",
    "final_df_t=final_df.transpose()\n",
    "display(final_df_t)\n",
    "\n",
    "final_df_t.to_csv(directory+'Data/Raw Data/Labeled Test/L_raw_gabbro_granite_0dust_test_015s_937_4840.csv')\n",
    "'''"
   ]
  }
 ],
 "metadata": {
  "accelerator": "GPU",
  "colab": {
   "collapsed_sections": [],
   "machine_shape": "hm",
   "name": "Stable_7-1-20_CNN_using_raw.ipynb",
   "provenance": []
  },
  "kernelspec": {
   "display_name": "Python 3",
   "language": "python",
   "name": "python3"
  },
  "language_info": {
   "codemirror_mode": {
    "name": "ipython",
    "version": 3
   },
   "file_extension": ".py",
   "mimetype": "text/x-python",
   "name": "python",
   "nbconvert_exporter": "python",
   "pygments_lexer": "ipython3",
   "version": "3.7.0"
  }
 },
 "nbformat": 4,
 "nbformat_minor": 1
}
