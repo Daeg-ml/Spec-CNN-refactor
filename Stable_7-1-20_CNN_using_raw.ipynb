{
 "cells": [
  {
   "cell_type": "markdown",
   "metadata": {},
   "source": [
    "<h1>CNN Using Raw Spectra as Inputs</h1>\n",
    "\n",
    "<p>This notebook is used to train and explore a CNN model that classifies minerals by taking in raw spectra</p>"
   ]
  },
  {
   "cell_type": "code",
   "execution_count": 3,
   "metadata": {
    "colab": {
     "base_uri": "https://localhost:8080/",
     "height": 303
    },
    "colab_type": "code",
    "executionInfo": {
     "elapsed": 27827,
     "status": "ok",
     "timestamp": 1596338524706,
     "user": {
      "displayName": "Nathan Temiquel",
      "photoUrl": "",
      "userId": "01657354188638757810"
     },
     "user_tz": 420
    },
    "id": "RjoK0CooyLaq",
    "outputId": "9bf5bbda-bf0f-4d00-c444-a2d1d54e39c7"
   },
   "outputs": [],
   "source": [
    "import numpy as np\n",
    "import pandas as pd\n",
    "import tensorflow as tf\n",
    "import tensorflow.keras as K\n",
    "from tensorflow.keras.models import Model"
   ]
  },
  {
   "cell_type": "code",
   "execution_count": 4,
   "metadata": {
    "colab": {
     "base_uri": "https://localhost:8080/",
     "height": 52
    },
    "colab_type": "code",
    "executionInfo": {
     "elapsed": 492,
     "status": "ok",
     "timestamp": 1596338563325,
     "user": {
      "displayName": "Nathan Temiquel",
      "photoUrl": "",
      "userId": "01657354188638757810"
     },
     "user_tz": 420
    },
    "id": "Q9Obx3IKTcEE",
    "outputId": "8db5f53e-71d7-40e1-d0b3-65b71fd96b31"
   },
   "outputs": [],
   "source": [
    "import cnnmodel_raw as cnn_raw"
   ]
  },
  {
   "cell_type": "markdown",
   "metadata": {
    "colab_type": "text",
    "id": "rEAAkuTBHgH3"
   },
   "source": [
    "# **Use this space below for fiddling with model training**\n",
    "\n",
    "### **If you need to retrain the model, be sure to restart the runtime**\n",
    "\n",
    "## **Define Hyperparameters below**"
   ]
  },
  {
   "cell_type": "code",
   "execution_count": 5,
   "metadata": {
    "colab": {},
    "colab_type": "code",
    "executionInfo": {
     "elapsed": 367,
     "status": "ok",
     "timestamp": 1596338577846,
     "user": {
      "displayName": "Nathan Temiquel",
      "photoUrl": "",
      "userId": "01657354188638757810"
     },
     "user_tz": 420
    },
    "id": "NmrT68QWPumc"
   },
   "outputs": [],
   "source": [
    "learning_rate=0.0001\n",
    "batch_size=100\n",
    "drop_rate=0.7\n",
    "epochs=50\n",
    "\n",
    "#don't change the line below\n",
    "hyperparameters=[learning_rate,batch_size,drop_rate,epochs]"
   ]
  },
  {
   "cell_type": "code",
   "execution_count": 6,
   "metadata": {
    "colab": {},
    "colab_type": "code",
    "executionInfo": {
     "elapsed": 365,
     "status": "ok",
     "timestamp": 1596338609885,
     "user": {
      "displayName": "Nathan Temiquel",
      "photoUrl": "",
      "userId": "01657354188638757810"
     },
     "user_tz": 420
    },
    "id": "yEPR4aaYG1bq"
   },
   "outputs": [],
   "source": [
    "#this string is prepended to all output files for unique identification\n",
    "id_value='test_1'\n",
    "\n",
    "#training data file path\n",
    "fin_path=r'Data/Raw Data/Single/'\n",
    "\n",
    "#output file path for the trained model data\n",
    "mout_path=r'Model Data/CNN Model/'\n",
    "\n",
    "#proportion of the training data allocated to the dev set - a float x: 0<x<1\n",
    "dev_size=0.2\n",
    "\n",
    "#random seed used for train/dev split to ensure repeatable outcomes. None \n",
    "#provides a psuedorandom value that won't be repeatable\n",
    "r_state=1\n",
    "\n",
    "#fast - True for doing quick training that does not output probability weights\n",
    "#for each sample during training. False for doing deep analysis and tracking\n",
    "#note if fast is true, model will train in <5 min while false may be >30 min\n",
    "fast=True\n",
    "\n",
    "#threshold - float in the range [0.0,1.0) determines the discrimination threshold\n",
    "threshold=0.5\n"
   ]
  },
  {
   "cell_type": "code",
   "execution_count": 7,
   "metadata": {
    "colab": {
     "base_uri": "https://localhost:8080/",
     "height": 1000
    },
    "colab_type": "code",
    "executionInfo": {
     "elapsed": 110837,
     "status": "error",
     "timestamp": 1596338721605,
     "user": {
      "displayName": "Nathan Temiquel",
      "photoUrl": "",
      "userId": "01657354188638757810"
     },
     "user_tz": 420
    },
    "id": "n1cWmQtCGmrF",
    "outputId": "88035cf6-d238-4dae-c556-282f3e000c9e"
   },
   "outputs": [
    {
     "name": "stdout",
     "output_type": "stream",
     "text": [
      "Master data set shape is (71674, 951) \n",
      "\n",
      " Master data set is\n",
      "                             150      151      152      153      154      155  \\\n",
      "an_train_015s_5600-0    1462.55  1464.53  1470.13  1472.67  1470.26  1467.80   \n",
      "an_train_015s_5600-1    1384.08  1387.80  1396.29  1396.04  1373.02  1366.30   \n",
      "an_train_015s_5600-2    1424.49  1415.20  1414.14  1417.03  1413.58  1410.43   \n",
      "an_train_015s_5600-3    1542.68  1548.87  1537.69  1527.16  1522.17  1518.86   \n",
      "an_train_015s_5600-4    1661.08  1649.81  1643.46  1645.90  1644.90  1640.17   \n",
      "...                         ...      ...      ...      ...      ...      ...   \n",
      "cal_train_1s_2300-2295  1313.30  1336.07  1397.53  1438.65  1462.09  1475.82   \n",
      "cal_train_1s_2300-2296  1313.59  1332.70  1385.34  1437.70  1483.00  1480.94   \n",
      "cal_train_1s_2300-2297  1339.32  1356.20  1416.57  1446.77  1477.90  1488.92   \n",
      "cal_train_1s_2300-2298  1331.32  1356.17  1421.01  1460.85  1502.31  1482.43   \n",
      "cal_train_1s_2300-2299  1339.50  1358.85  1416.45  1448.29  1481.47  1490.07   \n",
      "\n",
      "                            156      157      158      159  ...     1091  \\\n",
      "an_train_015s_5600-0    1461.13  1457.69  1458.36  1465.45  ...  1554.67   \n",
      "an_train_015s_5600-1    1362.82  1372.31  1374.00  1374.38  ...  1495.11   \n",
      "an_train_015s_5600-2    1405.88  1404.44  1405.14  1408.87  ...  1544.61   \n",
      "an_train_015s_5600-3    1512.96  1513.14  1521.13  1535.74  ...  1704.25   \n",
      "an_train_015s_5600-4    1620.58  1614.07  1619.00  1629.78  ...  1799.50   \n",
      "...                         ...      ...      ...      ...  ...      ...   \n",
      "cal_train_1s_2300-2295  1451.02  1381.10  1358.61  1345.69  ...  1711.46   \n",
      "cal_train_1s_2300-2296  1456.81  1390.12  1356.16  1338.51  ...  1704.55   \n",
      "cal_train_1s_2300-2297  1476.09  1401.62  1363.21  1330.94  ...  1705.79   \n",
      "cal_train_1s_2300-2298  1454.50  1383.95  1366.26  1346.07  ...  1707.85   \n",
      "cal_train_1s_2300-2299  1480.99  1416.08  1385.61  1354.50  ...  1727.69   \n",
      "\n",
      "                           1092     1093     1094     1095     1096     1097  \\\n",
      "an_train_015s_5600-0    1556.63  1567.19  1572.34  1567.58  1564.19  1569.37   \n",
      "an_train_015s_5600-1    1508.59  1511.88  1509.13  1499.42  1495.84  1513.47   \n",
      "an_train_015s_5600-2    1544.29  1536.94  1536.74  1546.95  1558.21  1555.35   \n",
      "an_train_015s_5600-3    1692.64  1646.94  1685.92  1693.26  1687.60  1684.80   \n",
      "an_train_015s_5600-4    1813.54  1826.06  1812.36  1807.55  1811.15  1826.52   \n",
      "...                         ...      ...      ...      ...      ...      ...   \n",
      "cal_train_1s_2300-2295  1689.50  1677.12  1663.21  1662.37  1667.64  1671.60   \n",
      "cal_train_1s_2300-2296  1683.32  1665.34  1657.44  1650.11  1651.52  1654.58   \n",
      "cal_train_1s_2300-2297  1692.12  1684.15  1676.91  1661.31  1649.64  1643.74   \n",
      "cal_train_1s_2300-2298  1714.42  1709.49  1699.32  1688.55  1684.05  1679.95   \n",
      "cal_train_1s_2300-2299  1701.31  1689.13  1679.54  1672.74  1673.64  1676.34   \n",
      "\n",
      "                           1098     1099  label  \n",
      "an_train_015s_5600-0    1573.14  1573.88      8  \n",
      "an_train_015s_5600-1    1517.06  1509.18      8  \n",
      "an_train_015s_5600-2    1552.20  1551.96      8  \n",
      "an_train_015s_5600-3    1682.91  1681.53      8  \n",
      "an_train_015s_5600-4    1816.78  1812.11      8  \n",
      "...                         ...      ...    ...  \n",
      "cal_train_1s_2300-2295  1673.08  1671.55     10  \n",
      "cal_train_1s_2300-2296  1655.63  1654.75     10  \n",
      "cal_train_1s_2300-2297  1635.68  1642.27     10  \n",
      "cal_train_1s_2300-2298  1672.22  1669.69     10  \n",
      "cal_train_1s_2300-2299  1669.57  1666.61     10  \n",
      "\n",
      "[71674 rows x 951 columns]\n",
      "<class 'pandas.core.frame.DataFrame'> <class 'pandas.core.frame.DataFrame'> <class 'pandas.core.series.Series'> <class 'pandas.core.series.Series'>\n",
      "Epoch 1/50\n",
      "574/574 [==============================] - 552s 962ms/step - loss: 0.4102 - sparse_categorical_accuracy: 0.9817 - val_loss: 0.3177 - val_sparse_categorical_accuracy: 0.9961\n",
      "Epoch 2/50\n",
      "574/574 [==============================] - 296s 516ms/step - loss: 0.2921 - sparse_categorical_accuracy: 0.9982 - val_loss: 0.2601 - val_sparse_categorical_accuracy: 0.9983\n",
      "Epoch 3/50\n",
      "574/574 [==============================] - 293s 510ms/step - loss: 0.2457 - sparse_categorical_accuracy: 0.9990 - val_loss: 0.2290 - val_sparse_categorical_accuracy: 0.9990\n",
      "Epoch 4/50\n",
      "574/574 [==============================] - 276s 481ms/step - loss: 0.2114 - sparse_categorical_accuracy: 0.9994 - val_loss: 0.1930 - val_sparse_categorical_accuracy: 0.9992\n",
      "Epoch 5/50\n",
      "574/574 [==============================] - 281s 489ms/step - loss: 0.1826 - sparse_categorical_accuracy: 0.9994 - val_loss: 0.1903 - val_sparse_categorical_accuracy: 0.9995\n",
      "Epoch 6/50\n",
      "574/574 [==============================] - 289s 504ms/step - loss: 0.1562 - sparse_categorical_accuracy: 0.9996 - val_loss: 0.1314 - val_sparse_categorical_accuracy: 0.9996\n",
      "Epoch 7/50\n",
      "574/574 [==============================] - 293s 511ms/step - loss: 0.1364 - sparse_categorical_accuracy: 0.9997 - val_loss: 0.1701 - val_sparse_categorical_accuracy: 0.9990\n",
      "Epoch 8/50\n",
      "574/574 [==============================] - 394s 687ms/step - loss: 0.1183 - sparse_categorical_accuracy: 0.9997 - val_loss: 0.0993 - val_sparse_categorical_accuracy: 0.9997\n",
      "Epoch 9/50\n",
      "574/574 [==============================] - 325s 565ms/step - loss: 0.1041 - sparse_categorical_accuracy: 0.9999 - val_loss: 0.1684 - val_sparse_categorical_accuracy: 0.9983\n",
      "Epoch 10/50\n",
      "574/574 [==============================] - 286s 498ms/step - loss: 0.0897 - sparse_categorical_accuracy: 0.9998 - val_loss: 0.0694 - val_sparse_categorical_accuracy: 0.9998\n",
      "Epoch 11/50\n",
      "574/574 [==============================] - 585s 1s/step - loss: 0.0781 - sparse_categorical_accuracy: 0.9998 - val_loss: 0.0595 - val_sparse_categorical_accuracy: 0.9996\n",
      "Epoch 12/50\n",
      "574/574 [==============================] - 541s 942ms/step - loss: 0.0691 - sparse_categorical_accuracy: 0.9999 - val_loss: 0.0456 - val_sparse_categorical_accuracy: 0.9997\n",
      "Epoch 13/50\n",
      "574/574 [==============================] - 576s 1s/step - loss: 0.0607 - sparse_categorical_accuracy: 0.9999 - val_loss: 0.0459 - val_sparse_categorical_accuracy: 0.9998\n",
      "Epoch 14/50\n",
      "574/574 [==============================] - 299s 520ms/step - loss: 0.0530 - sparse_categorical_accuracy: 0.9999 - val_loss: 0.0395 - val_sparse_categorical_accuracy: 0.9997\n",
      "Epoch 15/50\n",
      "574/574 [==============================] - 273s 476ms/step - loss: 0.0468 - sparse_categorical_accuracy: 0.9999 - val_loss: 0.0347 - val_sparse_categorical_accuracy: 0.9996\n",
      "Epoch 16/50\n",
      "574/574 [==============================] - 314s 547ms/step - loss: 0.0411 - sparse_categorical_accuracy: 0.9999 - val_loss: 0.0284 - val_sparse_categorical_accuracy: 0.9997\n",
      "Epoch 17/50\n",
      "574/574 [==============================] - 298s 518ms/step - loss: 0.0371 - sparse_categorical_accuracy: 0.9998 - val_loss: 0.0295 - val_sparse_categorical_accuracy: 0.9993\n",
      "Epoch 18/50\n",
      "574/574 [==============================] - 297s 518ms/step - loss: 0.0325 - sparse_categorical_accuracy: 0.9999 - val_loss: 0.0388 - val_sparse_categorical_accuracy: 0.9998\n",
      "Epoch 19/50\n",
      "574/574 [==============================] - 298s 519ms/step - loss: 0.0286 - sparse_categorical_accuracy: 0.9999 - val_loss: 0.0205 - val_sparse_categorical_accuracy: 0.9996\n",
      "Epoch 20/50\n",
      "574/574 [==============================] - 311s 542ms/step - loss: 0.0252 - sparse_categorical_accuracy: 0.9999 - val_loss: 0.0160 - val_sparse_categorical_accuracy: 0.9997\n",
      "Epoch 21/50\n",
      "574/574 [==============================] - 280s 489ms/step - loss: 0.0228 - sparse_categorical_accuracy: 0.9999 - val_loss: 0.0136 - val_sparse_categorical_accuracy: 0.9996\n",
      "Epoch 22/50\n",
      "574/574 [==============================] - 305s 532ms/step - loss: 0.0201 - sparse_categorical_accuracy: 0.9999 - val_loss: 0.0213 - val_sparse_categorical_accuracy: 0.9997\n",
      "Epoch 23/50\n",
      "574/574 [==============================] - 267s 464ms/step - loss: 0.0180 - sparse_categorical_accuracy: 0.9999 - val_loss: 0.0124 - val_sparse_categorical_accuracy: 0.9996\n",
      "Epoch 24/50\n",
      "574/574 [==============================] - 267s 466ms/step - loss: 0.0159 - sparse_categorical_accuracy: 0.9999 - val_loss: 0.0086 - val_sparse_categorical_accuracy: 0.9996\n",
      "Epoch 25/50\n"
     ]
    },
    {
     "name": "stdout",
     "output_type": "stream",
     "text": [
      "574/574 [==============================] - 268s 467ms/step - loss: 0.0143 - sparse_categorical_accuracy: 0.9999 - val_loss: 0.0082 - val_sparse_categorical_accuracy: 0.9997\n",
      "Epoch 26/50\n",
      "574/574 [==============================] - 6731s 12s/step - loss: 0.0130 - sparse_categorical_accuracy: 0.9999 - val_loss: 0.0078 - val_sparse_categorical_accuracy: 0.9998\n",
      "Epoch 27/50\n",
      "574/574 [==============================] - 7454s 13s/step - loss: 0.0115 - sparse_categorical_accuracy: 0.9999 - val_loss: 0.0079 - val_sparse_categorical_accuracy: 0.9999\n",
      "Epoch 28/50\n",
      "574/574 [==============================] - 2646s 5s/step - loss: 0.0103 - sparse_categorical_accuracy: 0.9999 - val_loss: 0.0057 - val_sparse_categorical_accuracy: 0.9999\n",
      "Epoch 29/50\n",
      "574/574 [==============================] - 2902s 5s/step - loss: 0.0094 - sparse_categorical_accuracy: 0.9999 - val_loss: 0.0058 - val_sparse_categorical_accuracy: 0.9999\n",
      "Epoch 30/50\n",
      "574/574 [==============================] - 994s 2s/step - loss: 0.0084 - sparse_categorical_accuracy: 0.9999 - val_loss: 0.0049 - val_sparse_categorical_accuracy: 0.9998\n",
      "Epoch 31/50\n",
      "574/574 [==============================] - 909s 2s/step - loss: 0.0076 - sparse_categorical_accuracy: 0.9999 - val_loss: 0.0048 - val_sparse_categorical_accuracy: 0.9996\n",
      "Epoch 32/50\n",
      "574/574 [==============================] - 675s 1s/step - loss: 0.0069 - sparse_categorical_accuracy: 0.9999 - val_loss: 0.0059 - val_sparse_categorical_accuracy: 0.9993\n",
      "Epoch 33/50\n",
      "574/574 [==============================] - 1132s 2s/step - loss: 0.0060 - sparse_categorical_accuracy: 1.0000 - val_loss: 0.0047 - val_sparse_categorical_accuracy: 0.9997\n",
      "Epoch 34/50\n",
      "574/574 [==============================] - 749s 1s/step - loss: 0.0056 - sparse_categorical_accuracy: 0.9999 - val_loss: 0.0052 - val_sparse_categorical_accuracy: 0.9999\n",
      "Epoch 35/50\n",
      "574/574 [==============================] - 780s 1s/step - loss: 0.0051 - sparse_categorical_accuracy: 0.9999 - val_loss: 0.0041 - val_sparse_categorical_accuracy: 0.9999\n",
      "Epoch 36/50\n",
      "574/574 [==============================] - 560s 975ms/step - loss: 0.0046 - sparse_categorical_accuracy: 0.9999 - val_loss: 0.0023 - val_sparse_categorical_accuracy: 0.9999\n",
      "Epoch 37/50\n",
      "574/574 [==============================] - 943s 2s/step - loss: 0.0042 - sparse_categorical_accuracy: 0.9999 - val_loss: 0.0087 - val_sparse_categorical_accuracy: 0.9997\n",
      "Epoch 38/50\n",
      "574/574 [==============================] - 993s 2s/step - loss: 0.0039 - sparse_categorical_accuracy: 0.9999 - val_loss: 0.0027 - val_sparse_categorical_accuracy: 0.9998\n",
      "Epoch 39/50\n",
      "574/574 [==============================] - 6027s 11s/step - loss: 0.0034 - sparse_categorical_accuracy: 0.9999 - val_loss: 0.0028 - val_sparse_categorical_accuracy: 0.9999\n"
     ]
    },
    {
     "ename": "FileNotFoundError",
     "evalue": "[Errno 2] No such file or directory: 'Model Data/CNN Model/test_1hist.csv'",
     "output_type": "error",
     "traceback": [
      "\u001b[0;31m---------------------------------------------------------------------------\u001b[0m",
      "\u001b[0;31mFileNotFoundError\u001b[0m                         Traceback (most recent call last)",
      "\u001b[0;32m<ipython-input-7-232e88a35d34>\u001b[0m in \u001b[0;36m<module>\u001b[0;34m\u001b[0m\n\u001b[1;32m      1\u001b[0m \u001b[0;34m'''train the model'''\u001b[0m\u001b[0;34m\u001b[0m\u001b[0m\n\u001b[1;32m      2\u001b[0m cnn_model=cnn_raw.raw_cnn_model(fin_path,mout_path,dev_size,r_state,hyperparameters,\n\u001b[0;32m----> 3\u001b[0;31m                           fast,id_value,threshold=threshold)\n\u001b[0m",
      "\u001b[0;32m~/venv-scnn/Spec-CNN/cnnmodel_raw.py\u001b[0m in \u001b[0;36mraw_cnn_model\u001b[0;34m(fin_path, mout_path, dev_size, r_state, hyperparameters, fast, fil_id, threshold)\u001b[0m\n\u001b[1;32m    299\u001b[0m   \u001b[0;31m#train a cnn model - v0.01\u001b[0m\u001b[0;34m\u001b[0m\u001b[0;34m\u001b[0m\u001b[0m\n\u001b[1;32m    300\u001b[0m   \u001b[0mcnn_model\u001b[0m\u001b[0;34m,\u001b[0m\u001b[0mcnn_hist\u001b[0m\u001b[0;34m=\u001b[0m\u001b[0mtrain_cnn_model\u001b[0m\u001b[0;34m(\u001b[0m\u001b[0mX_train\u001b[0m\u001b[0;34m,\u001b[0m\u001b[0my_train\u001b[0m\u001b[0;34m,\u001b[0m\u001b[0mX_dev\u001b[0m\u001b[0;34m,\u001b[0m\u001b[0my_dev\u001b[0m\u001b[0;34m,\u001b[0m\u001b[0mhyperparameters\u001b[0m\u001b[0;34m,\u001b[0m\u001b[0mfast\u001b[0m\u001b[0;34m,\u001b[0m\u001b[0mfil_id\u001b[0m\u001b[0;34m)\u001b[0m\u001b[0;34m\u001b[0m\u001b[0m\n\u001b[0;32m--> 301\u001b[0;31m   \u001b[0mpd\u001b[0m\u001b[0;34m.\u001b[0m\u001b[0mDataFrame\u001b[0m\u001b[0;34m(\u001b[0m\u001b[0mcnn_hist\u001b[0m\u001b[0;34m.\u001b[0m\u001b[0mhistory\u001b[0m\u001b[0;34m)\u001b[0m\u001b[0;34m.\u001b[0m\u001b[0mto_csv\u001b[0m\u001b[0;34m(\u001b[0m\u001b[0mmout_path\u001b[0m\u001b[0;34m+\u001b[0m\u001b[0mfil_id\u001b[0m\u001b[0;34m+\u001b[0m\u001b[0;34m'hist.csv'\u001b[0m\u001b[0;34m)\u001b[0m\u001b[0;34m\u001b[0m\u001b[0m\n\u001b[0m\u001b[1;32m    302\u001b[0m \u001b[0;34m\u001b[0m\u001b[0m\n\u001b[1;32m    303\u001b[0m   \u001b[0;31m#test cnn model with dev set\u001b[0m\u001b[0;34m\u001b[0m\u001b[0;34m\u001b[0m\u001b[0m\n",
      "\u001b[0;32m~/venv-scnn/lib/python3.7/site-packages/pandas/core/generic.py\u001b[0m in \u001b[0;36mto_csv\u001b[0;34m(self, path_or_buf, sep, na_rep, float_format, columns, header, index, index_label, mode, encoding, compression, quoting, quotechar, line_terminator, chunksize, date_format, doublequote, escapechar, decimal, errors)\u001b[0m\n\u001b[1;32m   3165\u001b[0m             \u001b[0mdecimal\u001b[0m\u001b[0;34m=\u001b[0m\u001b[0mdecimal\u001b[0m\u001b[0;34m,\u001b[0m\u001b[0;34m\u001b[0m\u001b[0m\n\u001b[1;32m   3166\u001b[0m         )\n\u001b[0;32m-> 3167\u001b[0;31m         \u001b[0mformatter\u001b[0m\u001b[0;34m.\u001b[0m\u001b[0msave\u001b[0m\u001b[0;34m(\u001b[0m\u001b[0;34m)\u001b[0m\u001b[0;34m\u001b[0m\u001b[0m\n\u001b[0m\u001b[1;32m   3168\u001b[0m \u001b[0;34m\u001b[0m\u001b[0m\n\u001b[1;32m   3169\u001b[0m         \u001b[0;32mif\u001b[0m \u001b[0mpath_or_buf\u001b[0m \u001b[0;32mis\u001b[0m \u001b[0;32mNone\u001b[0m\u001b[0;34m:\u001b[0m\u001b[0;34m\u001b[0m\u001b[0m\n",
      "\u001b[0;32m~/venv-scnn/lib/python3.7/site-packages/pandas/io/formats/csvs.py\u001b[0m in \u001b[0;36msave\u001b[0;34m(self)\u001b[0m\n\u001b[1;32m    188\u001b[0m                 \u001b[0mencoding\u001b[0m\u001b[0;34m=\u001b[0m\u001b[0mself\u001b[0m\u001b[0;34m.\u001b[0m\u001b[0mencoding\u001b[0m\u001b[0;34m,\u001b[0m\u001b[0;34m\u001b[0m\u001b[0m\n\u001b[1;32m    189\u001b[0m                 \u001b[0merrors\u001b[0m\u001b[0;34m=\u001b[0m\u001b[0mself\u001b[0m\u001b[0;34m.\u001b[0m\u001b[0merrors\u001b[0m\u001b[0;34m,\u001b[0m\u001b[0;34m\u001b[0m\u001b[0m\n\u001b[0;32m--> 190\u001b[0;31m                 \u001b[0mcompression\u001b[0m\u001b[0;34m=\u001b[0m\u001b[0mdict\u001b[0m\u001b[0;34m(\u001b[0m\u001b[0mself\u001b[0m\u001b[0;34m.\u001b[0m\u001b[0mcompression_args\u001b[0m\u001b[0;34m,\u001b[0m \u001b[0mmethod\u001b[0m\u001b[0;34m=\u001b[0m\u001b[0mself\u001b[0m\u001b[0;34m.\u001b[0m\u001b[0mcompression\u001b[0m\u001b[0;34m)\u001b[0m\u001b[0;34m,\u001b[0m\u001b[0;34m\u001b[0m\u001b[0m\n\u001b[0m\u001b[1;32m    191\u001b[0m             )\n\u001b[1;32m    192\u001b[0m             \u001b[0mclose\u001b[0m \u001b[0;34m=\u001b[0m \u001b[0;32mTrue\u001b[0m\u001b[0;34m\u001b[0m\u001b[0m\n",
      "\u001b[0;32m~/venv-scnn/lib/python3.7/site-packages/pandas/io/common.py\u001b[0m in \u001b[0;36mget_handle\u001b[0;34m(path_or_buf, mode, encoding, compression, memory_map, is_text, errors)\u001b[0m\n\u001b[1;32m    491\u001b[0m         \u001b[0;32mif\u001b[0m \u001b[0mencoding\u001b[0m\u001b[0;34m:\u001b[0m\u001b[0;34m\u001b[0m\u001b[0m\n\u001b[1;32m    492\u001b[0m             \u001b[0;31m# Encoding\u001b[0m\u001b[0;34m\u001b[0m\u001b[0;34m\u001b[0m\u001b[0m\n\u001b[0;32m--> 493\u001b[0;31m             \u001b[0mf\u001b[0m \u001b[0;34m=\u001b[0m \u001b[0mopen\u001b[0m\u001b[0;34m(\u001b[0m\u001b[0mpath_or_buf\u001b[0m\u001b[0;34m,\u001b[0m \u001b[0mmode\u001b[0m\u001b[0;34m,\u001b[0m \u001b[0mencoding\u001b[0m\u001b[0;34m=\u001b[0m\u001b[0mencoding\u001b[0m\u001b[0;34m,\u001b[0m \u001b[0merrors\u001b[0m\u001b[0;34m=\u001b[0m\u001b[0merrors\u001b[0m\u001b[0;34m,\u001b[0m \u001b[0mnewline\u001b[0m\u001b[0;34m=\u001b[0m\u001b[0;34m\"\"\u001b[0m\u001b[0;34m)\u001b[0m\u001b[0;34m\u001b[0m\u001b[0m\n\u001b[0m\u001b[1;32m    494\u001b[0m         \u001b[0;32melif\u001b[0m \u001b[0mis_text\u001b[0m\u001b[0;34m:\u001b[0m\u001b[0;34m\u001b[0m\u001b[0m\n\u001b[1;32m    495\u001b[0m             \u001b[0;31m# No explicit encoding\u001b[0m\u001b[0;34m\u001b[0m\u001b[0;34m\u001b[0m\u001b[0m\n",
      "\u001b[0;31mFileNotFoundError\u001b[0m: [Errno 2] No such file or directory: 'Model Data/CNN Model/test_1hist.csv'"
     ]
    }
   ],
   "source": [
    "'''train the model'''\n",
    "cnn_model=cnn_raw.raw_cnn_model(fin_path,mout_path,dev_size,r_state,hyperparameters,\n",
    "                          fast,id_value,threshold=threshold)"
   ]
  },
  {
   "cell_type": "markdown",
   "metadata": {
    "colab_type": "text",
    "id": "vgHv6RqnMtT2"
   },
   "source": [
    "# **Test the model! Outside of function scope!**"
   ]
  },
  {
   "cell_type": "code",
   "execution_count": null,
   "metadata": {
    "colab": {
     "base_uri": "https://localhost:8080/",
     "height": 680
    },
    "colab_type": "code",
    "executionInfo": {
     "elapsed": 8878,
     "status": "ok",
     "timestamp": 1593717912411,
     "user": {
      "displayName": "Nathan Temiquel",
      "photoUrl": "",
      "userId": "01657354188638757810"
     },
     "user_tz": 420
    },
    "id": "-gA4ADAtGN05",
    "outputId": "153b4641-5f30-4018-9706-75c0bcf121dc"
   },
   "outputs": [],
   "source": [
    "\n",
    "#test data path - do not include /content/.../ML Spectroscopy/\n",
    "testin_path=r'Data/Raw Data/Labeled Test/'\n",
    "\n",
    "#build test set, drops samples with Null values\n",
    "test_df=h.dfbuilder(testin_path,synth=False,split_df=False,use_trash=False,raw=False,test=True)\n",
    "\n",
    "\n",
    "#separates features and labels\n",
    "y_test=test_df[test_df.columns[-1]]\n",
    "X_test=test_df.drop(test_df.columns[-1],axis=1).values\n",
    "\n",
    "#roc_out=h.roc_all(cnn_model.predict(X_test),y_test)\n",
    "\n",
    "if not fast:\n",
    "  roc_out.to_csv(mout_path+id_value+'roc_data.csv')\n",
    "\n",
    "#tests model, you can also use model.predict outside of this scope\n",
    "cnn.test_cnn_model(cnn_model,X_test,y_test,id_value,threshold=0.0)\n",
    "\n",
    "#this is that old folder we were talking about where CNN.csv files get saved, i just commented it out and pointed it to the folder with the rest of the outputs\n",
    "#saved_data=r'/content/drive/My Drive/ML Spectroscopy/Programs/Data Processing/Saved Lists/'\n",
    "saved_data=r'/content/drive/My Drive/ML Spectroscopy/Model Data/CNN Model/'\n",
    "pd.DataFrame(data=cnn_model.predict(X_test),index=test_df.index.values).to_csv(saved_data+id_value+r'CNN.csv')\n"
   ]
  },
  {
   "cell_type": "markdown",
   "metadata": {
    "colab_type": "text",
    "id": "B2Q1sVEgatZX"
   },
   "source": [
    "# Play space for whatever other training/testing you want to do\n"
   ]
  },
  {
   "cell_type": "markdown",
   "metadata": {
    "colab_type": "text",
    "id": "6icXV9e0J4U0"
   },
   "source": [
    "Testing/Training Parameters"
   ]
  },
  {
   "cell_type": "code",
   "execution_count": null,
   "metadata": {
    "colab": {},
    "colab_type": "code",
    "id": "D4SZP3BnJ7gD"
   },
   "outputs": [],
   "source": [
    "\n",
    "'''define the hyperparameters here!'''\n",
    "learning_rate=0.001\n",
    "batch_size=100\n",
    "drop_rate=0.55\n",
    "epochs=50\n",
    "\n",
    "#don't change the line below\n",
    "hyperparameters=[learning_rate,batch_size,drop_rate,epochs]\n"
   ]
  },
  {
   "cell_type": "code",
   "execution_count": null,
   "metadata": {
    "colab": {},
    "colab_type": "code",
    "id": "cwEGPb2EJ8U3"
   },
   "outputs": [],
   "source": [
    "\n",
    "'''define other parameters here!'''\n",
    "#this string is prepended to all output files for identification\n",
    "id_value='multi_size_granite_only_update_with_probs'\n",
    "\n",
    "#training data file path (do not include /content/drive/My Drive/ML Spectroscopy/)\n",
    "fin_path=r'Data/Preprocessed/Continuous Wavelet Transformation/Labeled/'\n",
    "\n",
    "#output file path for the trained model data\n",
    "mout_path=r'Model Data/CNN Model/'\n",
    "\n",
    "#proportion of the training data allocated to the dev set - a float x: 0<x<1\n",
    "dev_size=0.2\n",
    "\n",
    "#random seed used for train/dev split to ensure repeatable outcomes. None \n",
    "#provides a psuedorandom value that won't be repeatable\n",
    "r_state=1\n",
    "\n",
    "#fast - True for doing quick training that does not output probability weights\n",
    "#for each sample during training. False for doing deep analysis and tracking\n",
    "fast=False\n",
    "\n",
    "#trash - True for using trash data in the model\n",
    "trash=False\n",
    "\n",
    "#threshold - float in the range [0.0,1.0) determines the discrimination threshold\n",
    "threshold=0.0\n"
   ]
  },
  {
   "cell_type": "markdown",
   "metadata": {
    "colab_type": "text",
    "id": "ke5vv95gJg_P"
   },
   "source": [
    "Build a test set with out of class samples (RRUFF untrained data) and our in class test data set"
   ]
  },
  {
   "cell_type": "code",
   "execution_count": null,
   "metadata": {
    "colab": {
     "base_uri": "https://localhost:8080/",
     "height": 106
    },
    "colab_type": "code",
    "executionInfo": {
     "elapsed": 724,
     "status": "ok",
     "timestamp": 1593628731101,
     "user": {
      "displayName": "Nathan Temiquel",
      "photoUrl": "",
      "userId": "01657354188638757810"
     },
     "user_tz": 420
    },
    "id": "C8Vqc5YyP5Jb",
    "outputId": "6583e804-f4d4-4911-d2ee-0a482f6b74b5"
   },
   "outputs": [],
   "source": [
    "\n",
    "#test data path\n",
    "testin_path1=r'Data/Preprocessed/Continuous Wavelet Transformation/Test Set/Labeled/'\n",
    "\n",
    "#build test set, drops samples with Null values\n",
    "test_df1=h.dfbuilder(testin_path1,synth=synth,split_df=False)\n",
    "test_df1.dropna(inplace=True)\n",
    "\n",
    "\n",
    "#test data path - do not include /content/.../ML Spectroscopy/\n",
    "testin_path2=r'Data/Preprocessed/Continuous Wavelet Transformation/Test Set/RRUFF_untrained/Labeled/'\n",
    "\n",
    "#build test set, drops samples with Null values\n",
    "test_df2=h.dfbuilder(testin_path2,synth=True,split_df=False)\n",
    "test_df2.dropna(inplace=True)\n",
    "\n",
    "test_df=pd.concat([test_df1,test_df2])\n",
    "\n",
    "test_df.loc[test_df['label']==9]=6\n",
    "\n",
    "y_test=test_df[test_df.columns[-1]]\n",
    "X_test=test_df.drop(test_df.columns[-1],axis=1).values\n",
    "\n"
   ]
  },
  {
   "cell_type": "markdown",
   "metadata": {
    "colab_type": "text",
    "id": "XdcOiXBip9rr"
   },
   "source": [
    "Build test set with just granite data"
   ]
  },
  {
   "cell_type": "code",
   "execution_count": null,
   "metadata": {
    "colab": {
     "base_uri": "https://localhost:8080/",
     "height": 318
    },
    "colab_type": "code",
    "executionInfo": {
     "elapsed": 784,
     "status": "ok",
     "timestamp": 1593628733666,
     "user": {
      "displayName": "Nathan Temiquel",
      "photoUrl": "",
      "userId": "01657354188638757810"
     },
     "user_tz": 420
    },
    "id": "PeCfIF2apzjW",
    "outputId": "5462231a-811f-4ec8-a125-6b8647021efd"
   },
   "outputs": [],
   "source": [
    "\n",
    "#test data path - do not include /content/.../ML Spectroscopy/\n",
    "testin_path=r'Data/Preprocessed/Continuous Wavelet Transformation/Test Set/Labeled/'\n",
    "\n",
    "#build test set, drops samples with Null values\n",
    "test_df=h.dfbuilder(testin_path,synth=False,split_df=False)\n",
    "test_df.dropna(inplace=True)\n",
    "\n",
    "print(test_df)\n",
    "y_test=test_df[test_df.columns[-1]]\n",
    "X_test=test_df.drop(test_df.columns[-1],axis=1).values\n"
   ]
  },
  {
   "cell_type": "markdown",
   "metadata": {
    "colab_type": "text",
    "id": "dGnyTCsiHS2G"
   },
   "source": [
    "Running model with limited data sets"
   ]
  },
  {
   "cell_type": "code",
   "execution_count": null,
   "metadata": {
    "colab": {
     "base_uri": "https://localhost:8080/",
     "height": 1000
    },
    "colab_type": "code",
    "id": "YtG_bz_zRK8J",
    "outputId": "1fb07389-a624-4969-d23f-727564883d52"
   },
   "outputs": [],
   "source": [
    "\n",
    "fin_path=r'Data/Preprocessed/Continuous Wavelet Transformation/Labeled/Limited Sizes/'\n",
    "\n",
    "for i in [1,2,4,8,16,32,64,128,256,512,1024,2048,4096]:\n",
    "  #adjusting some parameters for the size\n",
    "  hyperparameters[1]=max([1,round(((i*9*4)/5)/411)])\n",
    "  temp_id=id_value+str(i)\n",
    "  \n",
    "  print('\\n\\n\\n\\n', 'Model ',i,'\\n')\n",
    "  cnn_model=cwt_cnn_model(fin_path+str(i)+'/',mout_path,dev_size,r_state,hyperparameters,fast,temp_id,use_trash=trash,threshold=threshold)\n",
    "  print('\\nTest CM\\n')\n",
    "  cnn_cwt.test_cnn_model(cnn_model,X_test,y_test,temp_id,test=True,threshold=threshold,fast=fast)\n",
    "\n"
   ]
  },
  {
   "cell_type": "code",
   "execution_count": null,
   "metadata": {
    "colab": {},
    "colab_type": "code",
    "id": "QwcMpGgsPHVQ"
   },
   "outputs": [],
   "source": [
    "#print(roc_out)"
   ]
  },
  {
   "cell_type": "code",
   "execution_count": null,
   "metadata": {
    "colab": {
     "base_uri": "https://localhost:8080/",
     "height": 54
    },
    "colab_type": "code",
    "executionInfo": {
     "elapsed": 235678,
     "status": "ok",
     "timestamp": 1592182441203,
     "user": {
      "displayName": "Nathan Temiquel",
      "photoUrl": "",
      "userId": "01657354188638757810"
     },
     "user_tz": 420
    },
    "id": "DvCbgnqtHPDx",
    "outputId": "db45da65-a761-4f09-cfac-5f0df6a92cd1"
   },
   "outputs": [],
   "source": [
    "\"\"\"\n",
    "opt_thresh=np.array((roc_out.columns.values.astype(float)))\n",
    "for i in range(len(roc_out.columns)):\n",
    "  tpr_ls,fpr_ls,thresh_ls=roc_out[roc_out.columns.values[i]]\n",
    "  #print(np.subtract(tpr_ls,fpr_ls))\n",
    "  opt_thresh[i]=thresh_ls[np.argmax(np.subtract(tpr_ls,fpr_ls))]\n",
    "  print('Optimal Threshold for class:',roc_out.columns.values[i],'\\n',opt_thresh[i])\n",
    "print(opt_thresh.sum()*(1.0/len(opt_thresh)))\n",
    "\"\"\""
   ]
  },
  {
   "cell_type": "code",
   "execution_count": null,
   "metadata": {
    "colab": {
     "base_uri": "https://localhost:8080/",
     "height": 34
    },
    "colab_type": "code",
    "executionInfo": {
     "elapsed": 235676,
     "status": "ok",
     "timestamp": 1592182441204,
     "user": {
      "displayName": "Nathan Temiquel",
      "photoUrl": "",
      "userId": "01657354188638757810"
     },
     "user_tz": 420
    },
    "id": "AjhJLgIqFhrr",
    "outputId": "4884d55a-3c5c-466f-c6ce-7ac8beb1bcc2"
   },
   "outputs": [],
   "source": [
    "\"\"\"\n",
    "#tests model, you can also use model.predict outside of this scope\n",
    "cnn_cwt.test_cnn_model(cnn_model,X_test,y_test,id_value,.0,fast=True)\n",
    "\"\"\""
   ]
  },
  {
   "cell_type": "code",
   "execution_count": null,
   "metadata": {
    "colab": {
     "base_uri": "https://localhost:8080/",
     "height": 301
    },
    "colab_type": "code",
    "executionInfo": {
     "elapsed": 235670,
     "status": "ok",
     "timestamp": 1592182441205,
     "user": {
      "displayName": "Nathan Temiquel",
      "photoUrl": "",
      "userId": "01657354188638757810"
     },
     "user_tz": 420
    },
    "id": "qaJIBF-FZEw0",
    "outputId": "32694c44-c3eb-43ff-f980-470ec342cb63"
   },
   "outputs": [],
   "source": [
    "#report metrics: precision, recall, f1-score, support for test set\n",
    "from sklearn.metrics import classification_report\n",
    "print(classification_report(y_test,cnn_cwt.dec_pred(cnn_model.predict(X_test),threshold)))\n"
   ]
  }
 ],
 "metadata": {
  "accelerator": "GPU",
  "colab": {
   "collapsed_sections": [],
   "machine_shape": "hm",
   "name": "Stable_7-1-20_CNN_using_raw.ipynb",
   "provenance": []
  },
  "kernelspec": {
   "display_name": "Python 3",
   "language": "python",
   "name": "python3"
  }
 },
 "nbformat": 4,
 "nbformat_minor": 1
}
