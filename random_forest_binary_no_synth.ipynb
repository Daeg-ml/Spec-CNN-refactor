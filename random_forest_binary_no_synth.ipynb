{
 "cells": [
  {
   "cell_type": "code",
   "execution_count": null,
   "metadata": {
    "colab": {
     "base_uri": "https://localhost:8080/",
     "height": 68
    },
    "id": "RjoK0CooyLaq",
    "outputId": "38f6211c-a173-445b-9ba9-d71d08f341eb"
   },
   "outputs": [
    {
     "name": "stdout",
     "output_type": "stream",
     "text": [
      "Drive already mounted at /content/drive/; to attempt to forcibly remount, call drive.mount(\"/content/drive/\", force_remount=True).\n",
      "Requirement already satisfied: import-ipynb in /usr/local/lib/python3.6/dist-packages (0.1.3)\n",
      "/content/drive/My Drive/ML Spectroscopy/Programs\n"
     ]
    }
   ],
   "source": [
    "'''random forest binary classifier'''\n",
    "\n",
    "#import pandas for data processing\n",
    "import pandas as pd\n",
    "import numpy as np\n",
    "import helper as h"
   ]
  },
  {
   "cell_type": "code",
   "execution_count": null,
   "metadata": {
    "id": "_GmzJl-v63Jg"
   },
   "outputs": [],
   "source": [
    "def scale_data(pk_df):\n",
    "  #scale data((X-mean)/std_dev)\n",
    "  from sklearn.preprocessing import StandardScaler\n",
    "  sc = StandardScaler()\n",
    "  X = sc.fit_transform(pk_df)\n",
    "  return X"
   ]
  },
  {
   "cell_type": "code",
   "execution_count": null,
   "metadata": {
    "id": "KRwQ-rHWDuKr"
   },
   "outputs": [],
   "source": [
    "def set_split(target_set,noise_set):\n",
    "  #get the size of the noise_set for use in the model\n",
    "  size=int((target_set.shape[0]/noise_set.shape[0])*1.2*noise_set.shape[0])\n",
    "\n",
    "  #randomly select 1.2x the target_set rows from the noise set \n",
    "  from numpy.random import default_rng\n",
    "  msk = default_rng(seed=1).uniform(0,1,len(noise_set)) < size\n",
    "  noise_set = noise_set[msk]\n",
    "  noise_set.label=0\n",
    "  target_set.label=1\n",
    "  return h.splitdata(noise_set.append(target_set),dev_size=0.2,r_state=1)"
   ]
  },
  {
   "cell_type": "code",
   "execution_count": null,
   "metadata": {
    "id": "Puy0uSDafO0s"
   },
   "outputs": [],
   "source": [
    "def train_model(X_train,y_train):\n",
    "  #create model\n",
    "  from sklearn.ensemble import RandomForestClassifier\n",
    "  return RandomForestClassifier(n_estimators=100).fit(X_train,y_train)\n"
   ]
  },
  {
   "cell_type": "code",
   "execution_count": null,
   "metadata": {
    "id": "vVFT7gaqw2X8"
   },
   "outputs": [],
   "source": [
    "def assess_model(model,X_dev,y_dev,m_label,thresh=0.0,id_val='0'):\n",
    "  #check model\n",
    "  print(model.score(X_dev,y_dev))\n",
    "\n",
    "  preds=model.predict_proba(X_dev)\n",
    "\n",
    "  from sklearn.metrics import confusion_matrix\n",
    "  cm=confusion_matrix(y_dev,h.dec_pred(preds,thresh))\n",
    "\n",
    "  print('Model label ',m_label,'\\n',cm,'\\n\\n\\n')\n",
    "  print('Model prectictions',model.predict_proba(X_dev))\n",
    "  output_probs=pd.DataFrame(preds,index=y_dev.index.values)\n",
    "  output_probs['label']=y_dev\n",
    "  output_probs.to_csv('Model Data/Binary Model/Single Models/Single Models'+str(m_label)+id_val+'_probs.csv',mode='w')\n",
    "  pd.DataFrame(cm).to_csv('Model Data/Binary Model/Single Models/Single Models'+str(m_label)+id_val+'_confmat.csv',mode='w')"
   ]
  },
  {
   "cell_type": "code",
   "execution_count": null,
   "metadata": {
    "id": "uc6l4g6hGwc5"
   },
   "outputs": [],
   "source": [
    "def run_pca(df):\n",
    "  #print(df)\n",
    "  temp_df=df.drop(['label'],axis=1)\n",
    "\n",
    "  from sklearn.decomposition import PCA\n",
    "  pca=PCA(0.8)\n",
    "  output_df=pd.DataFrame(pca.fit_transform(temp_df.values),index=df.index.values)\n",
    "  output_df['label']=df['label']\n",
    "  #print(output_df)\n",
    "  return output_df,pca"
   ]
  },
  {
   "cell_type": "code",
   "execution_count": null,
   "metadata": {
    "id": "6pRnl46bD3Vy"
   },
   "outputs": [],
   "source": [
    "def train_models():\n",
    "  #set filepaths for import/export\n",
    "  fin_path=r'Data/Preprocessed/Continuous Wavelet Transformation/Labeled/'\n",
    "\n",
    "  #build master dataframe of data from fin_path and run pca to reduce the feature set\n",
    "  df,pca=run_pca(h.dfbuilder(fin_path,synth=False,split_df=False,dev_size=.2,r_state=1,directory=directory,use_trash=False))\n",
    "\n",
    "  #list for holding models\n",
    "  m_list=[]\n",
    "\n",
    "  #loop to create one model for each label in df\n",
    "  l_list=sorted(df['label'].unique().tolist())\n",
    "  for i in l_list:\n",
    "    print('in loop, label is',i,'\\n\\n')\n",
    "    #for label i, select the target label set and create a training and dev set\n",
    "    target_df=df.loc[df['label']==i,:]\n",
    "    noise_df=df.loc[df['label']!=i,:]\n",
    "    X_train,X_dev,y_train,y_dev=set_split(target_df,noise_df)\n",
    "    #print('\\ndata split\\n',X_train.head(),'\\n\\n',y_train.head())\n",
    "    m_list.append(train_model(X_train,y_train.values.ravel()))\n",
    "    print('model trained')\n",
    "    print(y_train)\n",
    "    assess_model(m_list[-1],X_train,y_train,i,id_val='train')\n",
    "    assess_model(m_list[-1],X_dev,y_dev,i,id_val='dev')\n",
    "  return m_list,l_list,pca\n",
    "\n",
    "  "
   ]
  },
  {
   "cell_type": "code",
   "execution_count": null,
   "metadata": {
    "id": "l30r0D1her25"
   },
   "outputs": [],
   "source": [
    "def model_set():\n",
    "  #train the models for testing\n",
    "  m_list,l_list,pca=train_models()\n",
    "  #set path for test data\n",
    "  test_path=r'Data/Preprocessed/Continuous Wavelet Transformation/Test Set/'\n",
    "  init_test_df=h.dfbuilder(test_path,synth=False,split_df=False,directory=directory,use_trash=False)\n",
    "  print(init_test_df)\n",
    "  test_df=pd.DataFrame(pca.transform(init_test_df.drop(['label'],axis=1).values),index=init_test_df.index.values)\n",
    "  test_df['label']=init_test_df['label']\n",
    "  print(len(test_df.index),\",\",len(m_list))\n",
    "  labels=np.empty(shape=(len(test_df.index),len(m_list)))\n",
    "  for j in range(len(m_list)):\n",
    "    labels[:,j]=m_list[j].predict_proba(test_df.drop(['label'],axis=1))[:,1]\n",
    "  label_df=pd.DataFrame(labels,index=test_df.index.values,columns=l_list)\n",
    "  label_df['label']=test_df['label']\n",
    "\n",
    "  label_df.to_csv('Model Data/Binary Model/binary_classifier_probs.csv',mode='w')\n",
    "\n",
    "  return label_df,m_list,pca\n",
    "\n"
   ]
  },
  {
   "cell_type": "code",
   "execution_count": null,
   "metadata": {
    "colab": {
     "base_uri": "https://localhost:8080/",
     "height": 1000
    },
    "id": "aoOyeM1dAhhe",
    "outputId": "e933bda8-3d23-494c-9cfc-09ec41d3f2b1"
   },
   "outputs": [
    {
     "name": "stdout",
     "output_type": "stream",
     "text": [
      "Master data set shape is (51266, 191) \n",
      "\n",
      "\n",
      "in loop, label is 0 \n",
      "\n",
      "\n",
      "model trained\n",
      "bt_train_015s_5600-1146        0\n",
      "en_train_015s_5600-1762        0\n",
      "fo_train_030s_5040-4778        0\n",
      "hb_train_120s_1225_02-847      0\n",
      "fo_train_030s_5040-4279        0\n",
      "                              ..\n",
      "qtz_train_005s_1000-416        1\n",
      "ms_train_015s_6400-4117        0\n",
      "albite_train_015s_5250-5192    0\n",
      "fo_train_030s_5040-2622        0\n",
      "ms_train_015s_6400-4609        0\n",
      "Name: label, Length: 41012, dtype: int64\n",
      "1.0\n",
      "Model label  0 \n",
      " [[36841     0]\n",
      " [    0  4171]] \n",
      "\n",
      "\n",
      "\n",
      "Model prectictions [[1. 0.]\n",
      " [1. 0.]\n",
      " [1. 0.]\n",
      " ...\n",
      " [1. 0.]\n",
      " [1. 0.]\n",
      " [1. 0.]]\n",
      "0.9996099083284572\n",
      "Model label  0 \n",
      " [[9153    0]\n",
      " [   4 1097]] \n",
      "\n",
      "\n",
      "\n",
      "Model prectictions [[1. 0.]\n",
      " [1. 0.]\n",
      " [1. 0.]\n",
      " ...\n",
      " [0. 1.]\n",
      " [1. 0.]\n",
      " [1. 0.]]\n",
      "in loop, label is 1 \n",
      "\n",
      "\n",
      "model trained\n",
      "bt_train_015s_5600-1749        0\n",
      "en_train_015s_5600-2365        0\n",
      "hb_train_015s_2500-237         0\n",
      "bt_train_120s_1225-225         0\n",
      "fo_train_030s_5040-4882        0\n",
      "                              ..\n",
      "albite_train_015s_5250-4666    1\n",
      "ms_train_015s_6400-4720        0\n",
      "hb_train_120s_1225_01-545      0\n",
      "fo_train_030s_5040-3225        0\n",
      "ms_train_015s_6400-5212        0\n",
      "Name: label, Length: 41012, dtype: int64\n",
      "1.0\n",
      "Model label  1 \n",
      " [[36361     0]\n",
      " [    0  4651]] \n",
      "\n",
      "\n",
      "\n",
      "Model prectictions [[1. 0.]\n",
      " [1. 0.]\n",
      " [1. 0.]\n",
      " ...\n",
      " [1. 0.]\n",
      " [1. 0.]\n",
      " [1. 0.]]\n",
      "0.9999024770821143\n",
      "Model label  1 \n",
      " [[9030    0]\n",
      " [   1 1223]] \n",
      "\n",
      "\n",
      "\n",
      "Model prectictions [[1. 0.]\n",
      " [1. 0.]\n",
      " [1. 0.]\n",
      " ...\n",
      " [0. 1.]\n",
      " [1. 0.]\n",
      " [1. 0.]]\n",
      "in loop, label is 2 \n",
      "\n",
      "\n",
      "model trained\n",
      "bt_train_015s_5600-928         0\n",
      "en_train_015s_5600-1544        0\n",
      "fo_train_030s_5040-1956        0\n",
      "albite_train_015s_5250-3675    0\n",
      "fo_train_030s_5040-1457        0\n",
      "                              ..\n",
      "hb_train_015s_2500-1291        1\n",
      "ms_train_015s_6400-3899        0\n",
      "albite_train_015s_5250-1545    0\n",
      "qtz_train_015s_625-425         0\n",
      "ms_train_015s_6400-4391        0\n",
      "Name: label, Length: 41012, dtype: int64\n",
      "0.9999756168926168\n",
      "Model label  2 \n",
      " [[37007     0]\n",
      " [    1  4004]] \n",
      "\n",
      "\n",
      "\n",
      "Model prectictions [[1. 0.]\n",
      " [1. 0.]\n",
      " [1. 0.]\n",
      " ...\n",
      " [1. 0.]\n",
      " [1. 0.]\n",
      " [1. 0.]]\n",
      "0.9979520187244002\n",
      "Model label  2 \n",
      " [[9195   10]\n",
      " [  11 1038]] \n",
      "\n",
      "\n",
      "\n",
      "Model prectictions [[1. 0.]\n",
      " [1. 0.]\n",
      " [1. 0.]\n",
      " ...\n",
      " [0. 1.]\n",
      " [1. 0.]\n",
      " [1. 0.]]\n",
      "in loop, label is 3 \n",
      "\n",
      "\n",
      "model trained\n",
      "mc_train_015s_5600-2699        0\n",
      "aug_train_030s_5600-3315       0\n",
      "fo_train_030s_5040-731         0\n",
      "albite_train_015s_5250-3675    0\n",
      "fo_train_030s_5040-232         0\n",
      "                              ..\n",
      "bt_train_015s_5600-4391        1\n",
      "ms_train_015s_6400-70          0\n",
      "albite_train_015s_5250-1545    0\n",
      "hb_train_120s_1225_02-1050     0\n",
      "ms_train_015s_6400-562         0\n",
      "Name: label, Length: 41012, dtype: int64\n",
      "1.0\n",
      "Model label  3 \n",
      " [[35598     0]\n",
      " [    0  5414]] \n",
      "\n",
      "\n",
      "\n",
      "Model prectictions [[1. 0.]\n",
      " [1. 0.]\n",
      " [1. 0.]\n",
      " ...\n",
      " [1. 0.]\n",
      " [1. 0.]\n",
      " [1. 0.]]\n",
      "0.9996099083284572\n",
      "Model label  3 \n",
      " [[8843    0]\n",
      " [   4 1407]] \n",
      "\n",
      "\n",
      "\n",
      "Model prectictions [[1. 0.]\n",
      " [1. 0.]\n",
      " [1. 0.]\n",
      " ...\n",
      " [0. 1.]\n",
      " [1. 0.]\n",
      " [1. 0.]]\n",
      "in loop, label is 4 \n",
      "\n",
      "\n",
      "model trained\n",
      "bt_train_015s_5600-2274        0\n",
      "aug_train_030s_5600-2090       0\n",
      "qtz_train_015s_625-131         0\n",
      "albite_train_015s_5250-3675    0\n",
      "albite_train_015s_625-257      0\n",
      "                              ..\n",
      "ms_train_015s_6400-5191        1\n",
      "en_train_015s_5600-4445        0\n",
      "albite_train_015s_5250-1545    0\n",
      "hb_train_120s_1225_02-1050     0\n",
      "en_train_015s_5600-4937        0\n",
      "Name: label, Length: 41012, dtype: int64\n",
      "1.0\n",
      "Model label  4 \n",
      " [[35941     0]\n",
      " [    0  5071]] \n",
      "\n",
      "\n",
      "\n",
      "Model prectictions [[1. 0.]\n",
      " [1. 0.]\n",
      " [1. 0.]\n",
      " ...\n",
      " [1. 0.]\n",
      " [1. 0.]\n",
      " [1. 0.]]\n",
      "1.0\n",
      "Model label  4 \n",
      " [[8925    0]\n",
      " [   0 1329]] \n",
      "\n",
      "\n",
      "\n",
      "Model prectictions [[1. 0.]\n",
      " [1. 0.]\n",
      " [1. 0.]\n",
      " ...\n",
      " [0. 1.]\n",
      " [1. 0.]\n",
      " [1. 0.]]\n",
      "in loop, label is 5 \n",
      "\n",
      "\n",
      "model trained\n",
      "bt_train_015s_5600-914         0\n",
      "en_train_015s_5600-1530        0\n",
      "qtz_train_015s_625-131         0\n",
      "albite_train_015s_5250-3675    0\n",
      "albite_train_015s_625-257      0\n",
      "                              ..\n",
      "fo_train_030s_5040-3831        1\n",
      "ms_train_015s_6400-3885        0\n",
      "albite_train_015s_5250-1545    0\n",
      "hb_train_120s_1225_02-1050     0\n",
      "ms_train_015s_6400-4377        0\n",
      "Name: label, Length: 41012, dtype: int64\n",
      "1.0\n",
      "Model label  5 \n",
      " [[37021     0]\n",
      " [    0  3991]] \n",
      "\n",
      "\n",
      "\n",
      "Model prectictions [[1. 0.]\n",
      " [1. 0.]\n",
      " [1. 0.]\n",
      " ...\n",
      " [1. 0.]\n",
      " [1. 0.]\n",
      " [1. 0.]]\n",
      "0.9999024770821143\n",
      "Model label  5 \n",
      " [[9205    0]\n",
      " [   1 1048]] \n",
      "\n",
      "\n",
      "\n",
      "Model prectictions [[1. 0.]\n",
      " [1. 0.]\n",
      " [1. 0.]\n",
      " ...\n",
      " [0. 1.]\n",
      " [1. 0.]\n",
      " [1. 0.]]\n",
      "in loop, label is 7 \n",
      "\n",
      "\n",
      "model trained\n",
      "bt_train_015s_5600-1474        0\n",
      "en_train_015s_5600-2090        0\n",
      "qtz_train_015s_625-131         0\n",
      "albite_train_015s_5250-3675    0\n",
      "albite_train_015s_625-257      0\n",
      "                              ..\n",
      "aug_train_030s_5600-4391       1\n",
      "ms_train_015s_6400-4445        0\n",
      "albite_train_015s_5250-1545    0\n",
      "hb_train_120s_1225_02-1050     0\n",
      "ms_train_015s_6400-4937        0\n",
      "Name: label, Length: 41012, dtype: int64\n",
      "1.0\n",
      "Model label  7 \n",
      " [[36576     0]\n",
      " [    0  4436]] \n",
      "\n",
      "\n",
      "\n",
      "Model prectictions [[1. 0.]\n",
      " [1. 0.]\n",
      " [1. 0.]\n",
      " ...\n",
      " [1. 0.]\n",
      " [1. 0.]\n",
      " [1. 0.]]\n",
      "0.9987322020674858\n",
      "Model label  7 \n",
      " [[9085    5]\n",
      " [   8 1156]] \n",
      "\n",
      "\n",
      "\n",
      "Model prectictions [[1.   0.  ]\n",
      " [1.   0.  ]\n",
      " [1.   0.  ]\n",
      " ...\n",
      " [0.14 0.86]\n",
      " [1.   0.  ]\n",
      " [1.   0.  ]]\n",
      "in loop, label is 8 \n",
      "\n",
      "\n",
      "model trained\n",
      "bt_train_015s_5600-1474        0\n",
      "aug_train_030s_5600-2090       0\n",
      "qtz_train_015s_625-131         0\n",
      "albite_train_015s_5250-3675    0\n",
      "albite_train_015s_625-257      0\n",
      "                              ..\n",
      "en_train_015s_5600-4391        1\n",
      "ms_train_015s_6400-4445        0\n",
      "albite_train_015s_5250-1545    0\n",
      "hb_train_120s_1225_02-1050     0\n",
      "ms_train_015s_6400-4937        0\n",
      "Name: label, Length: 41012, dtype: int64\n",
      "1.0\n",
      "Model label  8 \n",
      " [[36576     0]\n",
      " [    0  4436]] \n",
      "\n",
      "\n",
      "\n",
      "Model prectictions [[1. 0.]\n",
      " [1. 0.]\n",
      " [1. 0.]\n",
      " ...\n",
      " [1. 0.]\n",
      " [1. 0.]\n",
      " [1. 0.]]\n",
      "0.9998049541642285\n",
      "Model label  8 \n",
      " [[9089    1]\n",
      " [   1 1163]] \n",
      "\n",
      "\n",
      "\n",
      "Model prectictions [[1. 0.]\n",
      " [1. 0.]\n",
      " [1. 0.]\n",
      " ...\n",
      " [0. 1.]\n",
      " [1. 0.]\n",
      " [1. 0.]]\n",
      "in loop, label is 10 \n",
      "\n",
      "\n",
      "model trained\n",
      "bt_train_015s_5600-1474        0\n",
      "aug_train_030s_5600-2090       0\n",
      "qtz_train_015s_625-131         0\n",
      "albite_train_015s_5250-3675    0\n",
      "albite_train_015s_625-257      0\n",
      "                              ..\n",
      "mc_train_015s_5600-4391        1\n",
      "en_train_015s_5600-4445        0\n",
      "albite_train_015s_5250-1545    0\n",
      "hb_train_120s_1225_02-1050     0\n",
      "en_train_015s_5600-4937        0\n",
      "Name: label, Length: 41012, dtype: int64\n",
      "1.0\n",
      "Model label  10 \n",
      " [[36576     0]\n",
      " [    0  4436]] \n",
      "\n",
      "\n",
      "\n",
      "Model prectictions [[1. 0.]\n",
      " [1. 0.]\n",
      " [1. 0.]\n",
      " ...\n",
      " [1. 0.]\n",
      " [1. 0.]\n",
      " [1. 0.]]\n",
      "0.9991222937390287\n",
      "Model label  10 \n",
      " [[9085    5]\n",
      " [   4 1160]] \n",
      "\n",
      "\n",
      "\n",
      "Model prectictions [[1. 0.]\n",
      " [1. 0.]\n",
      " [1. 0.]\n",
      " ...\n",
      " [0. 1.]\n",
      " [1. 0.]\n",
      " [1. 0.]]\n",
      "Master data set shape is (5310, 191) \n",
      "\n",
      "\n",
      "                                    150       155  ...      1095  label\n",
      "granite0dust_test_015s_5184-0 -0.049600  0.164744  ...  0.226225      0\n",
      "granite0dust_test_015s_5184-1 -0.048366  0.119668  ...  0.173724      0\n",
      "granite0dust_test_015s_5184-2 -0.052654  0.131285  ...  0.188201      0\n",
      "granite0dust_test_015s_5184-3 -0.051109  0.114049  ...  0.173292      0\n",
      "granite0dust_test_015s_5184-4 -0.061070  0.313235  ...  0.515929      0\n",
      "...                                 ...       ...  ...       ...    ...\n",
      "L_cwt_qtz_rruff_test_5.csv    -0.082538 -0.122935  ...  0.001077      0\n",
      "L_cwt_qtz_rruff_test_6.csv    -0.044578 -0.060850  ... -0.000771      0\n",
      "L_cwt_qtz_rruff_test_7.csv    -0.043728 -0.059529  ... -0.001519      0\n",
      "L_cwt_qtz_rruff_test_8.csv    -0.042953 -0.058225  ... -0.000331      0\n",
      "L_cwt_qtz_rruff_test_9.csv    -0.046770 -0.063467  ...  0.003103      0\n",
      "\n",
      "[5310 rows x 191 columns]\n",
      "5310 , 9\n"
     ]
    }
   ],
   "source": [
    "label_df,m_list,pca=model_set()"
   ]
  },
  {
   "cell_type": "code",
   "execution_count": null,
   "metadata": {
    "colab": {
     "base_uri": "https://localhost:8080/",
     "height": 255
    },
    "id": "eow-Jy4YjFYb",
    "outputId": "1462cf7b-193d-401e-dd92-6ec9eda8d7d0"
   },
   "outputs": [
    {
     "name": "stdout",
     "output_type": "stream",
     "text": [
      "                                  0    1     2     3  ...     7    8    10  label\n",
      "granite0dust_test_015s_5184-0  1.00  0.0  0.02  0.02  ...  0.04  0.0  0.18      0\n",
      "granite0dust_test_015s_5184-1  1.00  0.0  0.01  0.00  ...  0.03  0.0  0.00      0\n",
      "granite0dust_test_015s_5184-2  1.00  0.0  0.06  0.01  ...  0.04  0.0  0.01      0\n",
      "granite0dust_test_015s_5184-3  1.00  0.0  0.01  0.00  ...  0.04  0.0  0.00      0\n",
      "granite0dust_test_015s_5184-4  1.00  0.0  0.00  0.00  ...  0.00  0.0  0.00      0\n",
      "...                             ...  ...   ...   ...  ...   ...  ...   ...    ...\n",
      "L_cwt_qtz_rruff_test_5.csv     0.98  0.0  0.00  0.00  ...  0.00  0.0  0.00      0\n",
      "L_cwt_qtz_rruff_test_6.csv     0.97  0.0  0.01  0.00  ...  0.02  0.0  0.00      0\n",
      "L_cwt_qtz_rruff_test_7.csv     0.97  0.0  0.01  0.00  ...  0.00  0.0  0.00      0\n",
      "L_cwt_qtz_rruff_test_8.csv     0.97  0.0  0.01  0.00  ...  0.02  0.0  0.00      0\n",
      "L_cwt_qtz_rruff_test_9.csv     0.97  0.0  0.01  0.00  ...  0.01  0.0  0.00      0\n",
      "\n",
      "[5310 rows x 10 columns]\n"
     ]
    }
   ],
   "source": [
    "print(label_df)"
   ]
  },
  {
   "cell_type": "code",
   "execution_count": null,
   "metadata": {
    "colab": {
     "base_uri": "https://localhost:8080/",
     "height": 1000
    },
    "id": "bz4gkQBbkZHW",
    "outputId": "c98c4b73-779a-4e51-b31f-ae76c3a41a78"
   },
   "outputs": [
    {
     "data": {
      "image/png": "[encoded data removed]",
      "text/plain": [
       "<Figure size 432x288 with 1 Axes>"
      ]
     },
     "metadata": {
      "needs_background": "light",
      "tags": []
     },
     "output_type": "display_data"
    },
    {
     "data": {
      "image/png": "[encoded data removed]",
      "text/plain": [
       "<Figure size 432x288 with 1 Axes>"
      ]
     },
     "metadata": {
      "needs_background": "light",
      "tags": []
     },
     "output_type": "display_data"
    },
    {
     "data": {
      "image/png": "[encoded data removed]",
      "text/plain": [
       "<Figure size 432x288 with 1 Axes>"
      ]
     },
     "metadata": {
      "needs_background": "light",
      "tags": []
     },
     "output_type": "display_data"
    },
    {
     "data": {
      "image/png": "[encoded data removed]",
      "text/plain": [
       "<Figure size 432x288 with 1 Axes>"
      ]
     },
     "metadata": {
      "needs_background": "light",
      "tags": []
     },
     "output_type": "display_data"
    },
    {
     "data": {
      "image/png": "[encoded data removed]",
      "text/plain": [
       "<Figure size 432x288 with 1 Axes>"
      ]
     },
     "metadata": {
      "needs_background": "light",
      "tags": []
     },
     "output_type": "display_data"
    },
    {
     "data": {
      "image/png": "[encoded data removed]",
      "text/plain": [
       "<Figure size 432x288 with 1 Axes>"
      ]
     },
     "metadata": {
      "needs_background": "light",
      "tags": []
     },
     "output_type": "display_data"
    },
    {
     "data": {
      "image/png": "[encoded data removed]",
      "text/plain": [
       "<Figure size 432x288 with 1 Axes>"
      ]
     },
     "metadata": {
      "needs_background": "light",
      "tags": []
     },
     "output_type": "display_data"
    },
    {
     "data": {
      "image/png": "[encoded data removed]",
      "text/plain": [
       "<Figure size 432x288 with 1 Axes>"
      ]
     },
     "metadata": {
      "needs_background": "light",
      "tags": []
     },
     "output_type": "display_data"
    },
    {
     "data": {
      "image/png": "[encoded data removed]",
      "text/plain": [
       "<Figure size 432x288 with 1 Axes>"
      ]
     },
     "metadata": {
      "needs_background": "light",
      "tags": []
     },
     "output_type": "display_data"
    }
   ],
   "source": [
    "rocs=h.roc_all(label_df.drop(['label'],axis=1),label_df['label'])"
   ]
  },
  {
   "cell_type": "code",
   "execution_count": null,
   "metadata": {
    "id": "_ahetu3Kkf3Y"
   },
   "outputs": [],
   "source": [
    "rocs.to_csv('Model Data/Binary Model/binary_classifier_roc.csv',mode='w')"
   ]
  },
  {
   "cell_type": "code",
   "execution_count": null,
   "metadata": {
    "colab": {
     "base_uri": "https://localhost:8080/",
     "height": 323
    },
    "id": "t93U15BulrRo",
    "outputId": "0326b2f3-b846-4fd0-dbc9-b442792e0e7f"
   },
   "outputs": [
    {
     "name": "stdout",
     "output_type": "stream",
     "text": [
      "Master data set shape is (5310, 191) \n",
      "\n",
      "\n",
      "                                    150       155  ...      1095  label\n",
      "granite0dust_test_015s_5184-0 -0.049600  0.164744  ...  0.226225      0\n",
      "granite0dust_test_015s_5184-1 -0.048366  0.119668  ...  0.173724      0\n",
      "granite0dust_test_015s_5184-2 -0.052654  0.131285  ...  0.188201      0\n",
      "granite0dust_test_015s_5184-3 -0.051109  0.114049  ...  0.173292      0\n",
      "granite0dust_test_015s_5184-4 -0.061070  0.313235  ...  0.515929      0\n",
      "...                                 ...       ...  ...       ...    ...\n",
      "L_cwt_qtz_rruff_test_5.csv    -0.082538 -0.122935  ...  0.001077      0\n",
      "L_cwt_qtz_rruff_test_6.csv    -0.044578 -0.060850  ... -0.000771      0\n",
      "L_cwt_qtz_rruff_test_7.csv    -0.043728 -0.059529  ... -0.001519      0\n",
      "L_cwt_qtz_rruff_test_8.csv    -0.042953 -0.058225  ... -0.000331      0\n",
      "L_cwt_qtz_rruff_test_9.csv    -0.046770 -0.063467  ...  0.003103      0\n",
      "\n",
      "[5310 rows x 191 columns]\n",
      "5310 , 9\n"
     ]
    }
   ],
   "source": [
    "test_path=r'Data/Preprocessed/Continuous Wavelet Transformation/Test Set/'\n",
    "init_test_df=h.dfbuilder(test_path,synth=False,split_df=False,directory=directory,use_trash=False)\n",
    "print(init_test_df)\n",
    "test_df=pd.DataFrame(pca.transform(init_test_df.drop(['label'],axis=1).values),index=init_test_df.index.values)\n",
    "test_df['label']=init_test_df['label']\n",
    "print(len(test_df.index),\",\",len(m_list))\n",
    "labels=np.empty(shape=(len(test_df.index),len(m_list)))\n",
    "for j in range(len(m_list)):\n",
    "  labels[:,j]=m_list[j].predict_proba(test_df.drop(['label'],axis=1))[:,1]\n",
    "label_df=pd.DataFrame(labels,index=test_df.index.values,columns=[0,1,2,3,4,5,7,8,10])\n",
    "label_df['label']=test_df['label']\n",
    "\n",
    "#label_df.to_csv('Model Data/Binary Model/binary_classifier_probs.csv',mode='w')"
   ]
  },
  {
   "cell_type": "code",
   "execution_count": null,
   "metadata": {
    "colab": {
     "base_uri": "https://localhost:8080/",
     "height": 255
    },
    "id": "J_fpi5Qbv48J",
    "outputId": "d2596bd1-541e-4c91-c9d2-7e27ea6a044e"
   },
   "outputs": [
    {
     "name": "stdout",
     "output_type": "stream",
     "text": [
      "                                  0    1     2     3  ...     7    8    10  label\n",
      "granite0dust_test_015s_5184-0  1.00  0.0  0.02  0.02  ...  0.04  0.0  0.18      0\n",
      "granite0dust_test_015s_5184-1  1.00  0.0  0.01  0.00  ...  0.03  0.0  0.00      0\n",
      "granite0dust_test_015s_5184-2  1.00  0.0  0.06  0.01  ...  0.04  0.0  0.01      0\n",
      "granite0dust_test_015s_5184-3  1.00  0.0  0.01  0.00  ...  0.04  0.0  0.00      0\n",
      "granite0dust_test_015s_5184-4  1.00  0.0  0.00  0.00  ...  0.00  0.0  0.00      0\n",
      "...                             ...  ...   ...   ...  ...   ...  ...   ...    ...\n",
      "L_cwt_qtz_rruff_test_5.csv     0.98  0.0  0.00  0.00  ...  0.00  0.0  0.00      0\n",
      "L_cwt_qtz_rruff_test_6.csv     0.97  0.0  0.01  0.00  ...  0.02  0.0  0.00      0\n",
      "L_cwt_qtz_rruff_test_7.csv     0.97  0.0  0.01  0.00  ...  0.00  0.0  0.00      0\n",
      "L_cwt_qtz_rruff_test_8.csv     0.97  0.0  0.01  0.00  ...  0.02  0.0  0.00      0\n",
      "L_cwt_qtz_rruff_test_9.csv     0.97  0.0  0.01  0.00  ...  0.01  0.0  0.00      0\n",
      "\n",
      "[5310 rows x 10 columns]\n"
     ]
    }
   ],
   "source": [
    "print(label_df)"
   ]
  },
  {
   "cell_type": "code",
   "execution_count": null,
   "metadata": {
    "colab": {
     "base_uri": "https://localhost:8080/",
     "height": 34
    },
    "id": "wsk6b7l5u5Ce",
    "outputId": "44cb7855-c316-434d-8be4-6655b4955876"
   },
   "outputs": [
    {
     "name": "stdout",
     "output_type": "stream",
     "text": [
      "[0. 0. 0. ... 0. 0. 0.]\n"
     ]
    }
   ],
   "source": [
    "predicted=h.dec_pred(label_df.drop(['label'],axis=1).values,0.0)\n",
    "print(predicted)"
   ]
  },
  {
   "cell_type": "code",
   "execution_count": null,
   "metadata": {
    "colab": {
     "base_uri": "https://localhost:8080/",
     "height": 187
    },
    "id": "nJMgpm1ytu0H",
    "outputId": "7bb3907a-d4fc-4020-ac98-7e64e948430b"
   },
   "outputs": [
    {
     "name": "stdout",
     "output_type": "stream",
     "text": [
      "[[1571    0   12    0    1    0    0    0    3    0]\n",
      " [   6   99    2    2    0    0    0    0 1111    0]\n",
      " [   9    0   27   58    1    0    0    0    9    0]\n",
      " [  14    0   20  107    1    0    0    0    9    0]\n",
      " [   0    0    0    0   20    0    0    0    0    0]\n",
      " [   0    0    0    0    0   35    0    0    0    0]\n",
      " [   0    0    0    0    0    0    0    0    0    0]\n",
      " [  29    0    5    0    0    0    2    0    0    0]\n",
      " [   3    0    9    0    0    0    0    0    0    0]\n",
      " [   8   10    6    1   28    6    0    0 2086    0]]\n"
     ]
    }
   ],
   "source": [
    "from sklearn.metrics import confusion_matrix\n",
    "cm=confusion_matrix(label_df['label'],predicted)\n",
    "print(cm)\n",
    "output_probs=pd.DataFrame(predicted,index=label_df.index.values)\n",
    "output_probs['label']=label_df['label']\n",
    "output_probs.to_csv('Model Data/Binary Model/predictions_no_thresh.csv',mode='w')\n",
    "pd.DataFrame(cm).to_csv('Model Data/Binary Model/confmat_no_thresh.csv',mode='w')"
   ]
  },
  {
   "cell_type": "code",
   "execution_count": null,
   "metadata": {
    "colab": {
     "base_uri": "https://localhost:8080/",
     "height": 34
    },
    "id": "IzbTnPXi2Kq1",
    "outputId": "0c199908-4a75-4346-978f-241c694493e2"
   },
   "outputs": [
    {
     "name": "stdout",
     "output_type": "stream",
     "text": [
      "0.35821426538981055\n"
     ]
    }
   ],
   "source": [
    "from sklearn.metrics import f1_score\n",
    "\n",
    "actual=label_df['label']\n",
    "print(f1_score(actual, predicted, average=\"weighted\"))"
   ]
  }
 ],
 "metadata": {
  "colab": {
   "collapsed_sections": [],
   "name": "random_forest_binary_no_synth.ipynb",
   "provenance": []
  },
  "kernelspec": {
   "display_name": "Python 3",
   "language": "python",
   "name": "python3"
  },
  "language_info": {
   "codemirror_mode": {
    "name": "ipython",
    "version": 3
   },
   "file_extension": ".py",
   "mimetype": "text/x-python",
   "name": "python",
   "nbconvert_exporter": "python",
   "pygments_lexer": "ipython3",
   "version": "3.7.0"
  }
 },
 "nbformat": 4,
 "nbformat_minor": 1
}
