{
 "cells": [
  {
   "cell_type": "code",
   "execution_count": 2,
   "metadata": {
    "colab": {
     "base_uri": "https://localhost:8080/",
     "height": 303
    },
    "colab_type": "code",
    "executionInfo": {
     "elapsed": 26730,
     "status": "ok",
     "timestamp": 1593641782515,
     "user": {
      "displayName": "Nathan Temiquel",
      "photoUrl": "",
      "userId": "01657354188638757810"
     },
     "user_tz": 420
    },
    "id": "RjoK0CooyLaq",
    "outputId": "8bb8fc78-e7fe-41ef-8e20-dafce951c243"
   },
   "outputs": [],
   "source": [
    "'''Cleared for use'''\n",
    "\n",
    "import numpy as np\n",
    "import pandas as pd\n",
    "import CNNModelCWT as cnn_cwt"
   ]
  },
  {
   "cell_type": "code",
   "execution_count": 3,
   "metadata": {
    "colab": {},
    "colab_type": "code",
    "executionInfo": {
     "elapsed": 421,
     "status": "ok",
     "timestamp": 1593641790037,
     "user": {
      "displayName": "Nathan Temiquel",
      "photoUrl": "",
      "userId": "01657354188638757810"
     },
     "user_tz": 420
    },
    "id": "e0v1CgJCnt5a"
   },
   "outputs": [],
   "source": [
    "''' \n",
    "DO NOT EDIT THIS FUNCTION - REACH OUT TO NATE IF THERE ARE ISSUES WITH IT\n",
    "'''\n",
    "\n",
    "def cwt_cnn_model(fin_path=r'Data/Preprocessed/Continuous Wavelet Transformation/Labeled/',\n",
    "         mout_path=r'Model Data/CNN Model/',dev_size=0.2,r_state=1,\n",
    "         hyperparameters=None,fast=True,fil_id='0',use_trash=False,threshold=.98):\n",
    "\n",
    "  #build dataframes for all data after splitting\n",
    "  X_train,X_dev,y_train,y_dev=h.dfbuilder(fin_path=fin_path,dev_size=dev_size,r_state=r_state,directory=directory,use_trash=use_trash)\n",
    "\n",
    "  #train a cnn model - v0.01\n",
    "  cnn_model,cnn_hist=cnn_cwt.train_cnn_model(X_train,y_train,X_dev,y_dev,hyperparameters,fast,fil_id)\n",
    "  pd.DataFrame(cnn_hist.history).to_csv(mout_path+fil_id+'hist.csv')\n",
    "\n",
    "  #test cnn model with dev set\n",
    "  cnn_cwt.test_cnn_model(cnn_model,X_dev,y_dev,test=False,threshold=threshold)\n",
    "\n",
    "  #save model\n",
    "  if not fast:\n",
    "    cnn_cwt.save_model(cnn_model,mout_path+fil_id)\n",
    "\n",
    "  return cnn_model"
   ]
  },
  {
   "cell_type": "markdown",
   "metadata": {
    "colab_type": "text",
    "id": "rEAAkuTBHgH3"
   },
   "source": [
    "# **Use this space below for fiddling with model training**\n",
    "\n",
    "### **If you need to retrain the model, be sure to restart the runtime**"
   ]
  },
  {
   "cell_type": "code",
   "execution_count": 4,
   "metadata": {
    "colab": {},
    "colab_type": "code",
    "executionInfo": {
     "elapsed": 408,
     "status": "ok",
     "timestamp": 1593641791363,
     "user": {
      "displayName": "Nathan Temiquel",
      "photoUrl": "",
      "userId": "01657354188638757810"
     },
     "user_tz": 420
    },
    "id": "NmrT68QWPumc"
   },
   "outputs": [],
   "source": [
    "'''define the hyperparameters here!'''\n",
    "learning_rate=0.001\n",
    "batch_size=100\n",
    "drop_rate=0.55\n",
    "epochs=50\n",
    "\n",
    "#don't change the line below\n",
    "hyperparameters=[learning_rate,batch_size,drop_rate,epochs]"
   ]
  },
  {
   "cell_type": "code",
   "execution_count": 5,
   "metadata": {
    "colab": {},
    "colab_type": "code",
    "executionInfo": {
     "elapsed": 472,
     "status": "ok",
     "timestamp": 1593641792267,
     "user": {
      "displayName": "Nathan Temiquel",
      "photoUrl": "",
      "userId": "01657354188638757810"
     },
     "user_tz": 420
    },
    "id": "yEPR4aaYG1bq"
   },
   "outputs": [],
   "source": [
    "'''define other parameters here!'''\n",
    "#this string is prepended to all output files for identification\n",
    "id_value='t_new_confmat_test'\n",
    "\n",
    "#training data file path (do not include /content/drive/My Drive/ML Spectroscopy/)\n",
    "fin_path=r'Data/Preprocessed/Continuous Wavelet Transformation/Labeled/'\n",
    "\n",
    "#output file path for the trained model data\n",
    "mout_path=r'Model Data/CNN Model/'\n",
    "\n",
    "#proportion of the training data allocated to the dev set - a float x: 0<x<1\n",
    "dev_size=0.2\n",
    "\n",
    "#random seed used for train/dev split to ensure repeatable outcomes. None \n",
    "#provides a psuedorandom value that won't be repeatable\n",
    "r_state=1\n",
    "\n",
    "#fast - True for doing quick training that does not output probability weights\n",
    "#for each sample during training. False for doing deep analysis and tracking\n",
    "fast=True\n",
    "\n",
    "#trash - True for using trash data in the model\n",
    "trash=False\n",
    "\n",
    "#synth - True for RRUFF Data\n",
    "synth=False\n",
    "\n",
    "#threshold - float in the range [0.0,1.0) determines the discrimination threshold\n",
    "threshold=0.0\n"
   ]
  },
  {
   "cell_type": "code",
   "execution_count": 6,
   "metadata": {
    "colab": {
     "base_uri": "https://localhost:8080/",
     "height": 893
    },
    "colab_type": "code",
    "executionInfo": {
     "elapsed": 104408,
     "status": "ok",
     "timestamp": 1593641897400,
     "user": {
      "displayName": "Nathan Temiquel",
      "photoUrl": "",
      "userId": "01657354188638757810"
     },
     "user_tz": 420
    },
    "id": "n1cWmQtCGmrF",
    "outputId": "15bd0462-31e2-4cd3-bff4-ea127369b506"
   },
   "outputs": [
    {
     "name": "stdout",
     "output_type": "stream",
     "text": [
      "Master data set shape is (51266, 191) \n",
      "\n",
      "\n",
      "Epoch 1/50\n",
      "411/411 [==============================] - 4s 11ms/step - loss: 0.3075 - sparse_categorical_accuracy: 0.9945 - val_loss: 0.3560 - val_sparse_categorical_accuracy: 0.9886\n",
      "Epoch 2/50\n",
      "411/411 [==============================] - 4s 9ms/step - loss: 0.1038 - sparse_categorical_accuracy: 0.9995 - val_loss: 0.0790 - val_sparse_categorical_accuracy: 0.9995\n",
      "Epoch 3/50\n",
      "411/411 [==============================] - 4s 9ms/step - loss: 0.0405 - sparse_categorical_accuracy: 0.9996 - val_loss: 0.0347 - val_sparse_categorical_accuracy: 0.9994\n",
      "Epoch 4/50\n",
      "411/411 [==============================] - 4s 9ms/step - loss: 0.0174 - sparse_categorical_accuracy: 0.9998 - val_loss: 0.0108 - val_sparse_categorical_accuracy: 0.9996\n",
      "Epoch 5/50\n",
      "411/411 [==============================] - 4s 9ms/step - loss: 0.0083 - sparse_categorical_accuracy: 0.9998 - val_loss: 0.0070 - val_sparse_categorical_accuracy: 0.9997\n",
      "Epoch 6/50\n",
      "411/411 [==============================] - 4s 10ms/step - loss: 0.0043 - sparse_categorical_accuracy: 0.9998 - val_loss: 0.0021 - val_sparse_categorical_accuracy: 0.9997\n",
      "Epoch 7/50\n",
      "411/411 [==============================] - 4s 10ms/step - loss: 0.0021 - sparse_categorical_accuracy: 0.9999 - val_loss: 0.0058 - val_sparse_categorical_accuracy: 0.9996\n",
      "Epoch 8/50\n",
      "411/411 [==============================] - 4s 9ms/step - loss: 0.0014 - sparse_categorical_accuracy: 0.9999 - val_loss: 0.0020 - val_sparse_categorical_accuracy: 0.9996\n",
      "Epoch 9/50\n",
      "411/411 [==============================] - 4s 9ms/step - loss: 6.7411e-04 - sparse_categorical_accuracy: 1.0000 - val_loss: 0.0088 - val_sparse_categorical_accuracy: 0.9998\n",
      "Epoch 10/50\n",
      "411/411 [==============================] - 4s 10ms/step - loss: 4.4540e-04 - sparse_categorical_accuracy: 1.0000 - val_loss: 0.0014 - val_sparse_categorical_accuracy: 0.9997\n",
      "Epoch 11/50\n",
      "411/411 [==============================] - 4s 10ms/step - loss: 4.2463e-04 - sparse_categorical_accuracy: 0.9999 - val_loss: 0.0082 - val_sparse_categorical_accuracy: 0.9965\n",
      "Epoch 12/50\n",
      "411/411 [==============================] - 4s 9ms/step - loss: 2.4261e-04 - sparse_categorical_accuracy: 1.0000 - val_loss: 0.0017 - val_sparse_categorical_accuracy: 0.9996\n",
      "Epoch 13/50\n",
      "411/411 [==============================] - 4s 10ms/step - loss: 2.3815e-04 - sparse_categorical_accuracy: 1.0000 - val_loss: 0.0019 - val_sparse_categorical_accuracy: 0.9996\n"
     ]
    },
    {
     "data": {
      "text/html": [
       "<div>\n",
       "<style scoped>\n",
       "    .dataframe tbody tr th:only-of-type {\n",
       "        vertical-align: middle;\n",
       "    }\n",
       "\n",
       "    .dataframe tbody tr th {\n",
       "        vertical-align: top;\n",
       "    }\n",
       "\n",
       "    .dataframe thead th {\n",
       "        text-align: right;\n",
       "    }\n",
       "</style>\n",
       "<table border=\"1\" class=\"dataframe\">\n",
       "  <thead>\n",
       "    <tr style=\"text-align: right;\">\n",
       "      <th></th>\n",
       "      <th>pred_0</th>\n",
       "      <th>pred_1</th>\n",
       "      <th>pred_2</th>\n",
       "      <th>pred_3</th>\n",
       "      <th>pred_4</th>\n",
       "      <th>pred_5</th>\n",
       "      <th>pred_6</th>\n",
       "      <th>pred_7</th>\n",
       "      <th>pred_8</th>\n",
       "      <th>pred_9</th>\n",
       "      <th>pred_10</th>\n",
       "    </tr>\n",
       "  </thead>\n",
       "  <tbody>\n",
       "    <tr>\n",
       "      <th>true_0</th>\n",
       "      <td>1086</td>\n",
       "      <td>0</td>\n",
       "      <td>0</td>\n",
       "      <td>0</td>\n",
       "      <td>0</td>\n",
       "      <td>0</td>\n",
       "      <td>0</td>\n",
       "      <td>0</td>\n",
       "      <td>0</td>\n",
       "      <td>0</td>\n",
       "      <td>0</td>\n",
       "    </tr>\n",
       "    <tr>\n",
       "      <th>true_1</th>\n",
       "      <td>0</td>\n",
       "      <td>1228</td>\n",
       "      <td>0</td>\n",
       "      <td>0</td>\n",
       "      <td>0</td>\n",
       "      <td>0</td>\n",
       "      <td>0</td>\n",
       "      <td>0</td>\n",
       "      <td>0</td>\n",
       "      <td>0</td>\n",
       "      <td>0</td>\n",
       "    </tr>\n",
       "    <tr>\n",
       "      <th>true_2</th>\n",
       "      <td>0</td>\n",
       "      <td>0</td>\n",
       "      <td>994</td>\n",
       "      <td>0</td>\n",
       "      <td>0</td>\n",
       "      <td>0</td>\n",
       "      <td>0</td>\n",
       "      <td>0</td>\n",
       "      <td>0</td>\n",
       "      <td>0</td>\n",
       "      <td>3</td>\n",
       "    </tr>\n",
       "    <tr>\n",
       "      <th>true_3</th>\n",
       "      <td>0</td>\n",
       "      <td>0</td>\n",
       "      <td>0</td>\n",
       "      <td>1394</td>\n",
       "      <td>0</td>\n",
       "      <td>0</td>\n",
       "      <td>0</td>\n",
       "      <td>0</td>\n",
       "      <td>0</td>\n",
       "      <td>0</td>\n",
       "      <td>0</td>\n",
       "    </tr>\n",
       "    <tr>\n",
       "      <th>true_4</th>\n",
       "      <td>0</td>\n",
       "      <td>0</td>\n",
       "      <td>0</td>\n",
       "      <td>0</td>\n",
       "      <td>1254</td>\n",
       "      <td>0</td>\n",
       "      <td>0</td>\n",
       "      <td>0</td>\n",
       "      <td>0</td>\n",
       "      <td>0</td>\n",
       "      <td>0</td>\n",
       "    </tr>\n",
       "    <tr>\n",
       "      <th>true_5</th>\n",
       "      <td>0</td>\n",
       "      <td>0</td>\n",
       "      <td>0</td>\n",
       "      <td>0</td>\n",
       "      <td>0</td>\n",
       "      <td>1044</td>\n",
       "      <td>0</td>\n",
       "      <td>0</td>\n",
       "      <td>0</td>\n",
       "      <td>0</td>\n",
       "      <td>0</td>\n",
       "    </tr>\n",
       "    <tr>\n",
       "      <th>true_6</th>\n",
       "      <td>0</td>\n",
       "      <td>0</td>\n",
       "      <td>0</td>\n",
       "      <td>0</td>\n",
       "      <td>0</td>\n",
       "      <td>0</td>\n",
       "      <td>0</td>\n",
       "      <td>0</td>\n",
       "      <td>0</td>\n",
       "      <td>0</td>\n",
       "      <td>0</td>\n",
       "    </tr>\n",
       "    <tr>\n",
       "      <th>true_7</th>\n",
       "      <td>0</td>\n",
       "      <td>0</td>\n",
       "      <td>0</td>\n",
       "      <td>0</td>\n",
       "      <td>0</td>\n",
       "      <td>0</td>\n",
       "      <td>0</td>\n",
       "      <td>1050</td>\n",
       "      <td>0</td>\n",
       "      <td>0</td>\n",
       "      <td>0</td>\n",
       "    </tr>\n",
       "    <tr>\n",
       "      <th>true_8</th>\n",
       "      <td>0</td>\n",
       "      <td>0</td>\n",
       "      <td>0</td>\n",
       "      <td>0</td>\n",
       "      <td>0</td>\n",
       "      <td>0</td>\n",
       "      <td>0</td>\n",
       "      <td>0</td>\n",
       "      <td>1079</td>\n",
       "      <td>0</td>\n",
       "      <td>0</td>\n",
       "    </tr>\n",
       "    <tr>\n",
       "      <th>true_9</th>\n",
       "      <td>0</td>\n",
       "      <td>0</td>\n",
       "      <td>0</td>\n",
       "      <td>0</td>\n",
       "      <td>0</td>\n",
       "      <td>0</td>\n",
       "      <td>0</td>\n",
       "      <td>0</td>\n",
       "      <td>0</td>\n",
       "      <td>0</td>\n",
       "      <td>0</td>\n",
       "    </tr>\n",
       "    <tr>\n",
       "      <th>true_10</th>\n",
       "      <td>0</td>\n",
       "      <td>1</td>\n",
       "      <td>0</td>\n",
       "      <td>0</td>\n",
       "      <td>0</td>\n",
       "      <td>0</td>\n",
       "      <td>0</td>\n",
       "      <td>0</td>\n",
       "      <td>0</td>\n",
       "      <td>0</td>\n",
       "      <td>1121</td>\n",
       "    </tr>\n",
       "  </tbody>\n",
       "</table>\n",
       "</div>"
      ],
      "text/plain": [
       "         pred_0  pred_1  pred_2  pred_3  ...  pred_7  pred_8  pred_9  pred_10\n",
       "true_0     1086       0       0       0  ...       0       0       0        0\n",
       "true_1        0    1228       0       0  ...       0       0       0        0\n",
       "true_2        0       0     994       0  ...       0       0       0        3\n",
       "true_3        0       0       0    1394  ...       0       0       0        0\n",
       "true_4        0       0       0       0  ...       0       0       0        0\n",
       "true_5        0       0       0       0  ...       0       0       0        0\n",
       "true_6        0       0       0       0  ...       0       0       0        0\n",
       "true_7        0       0       0       0  ...    1050       0       0        0\n",
       "true_8        0       0       0       0  ...       0    1079       0        0\n",
       "true_9        0       0       0       0  ...       0       0       0        0\n",
       "true_10       0       1       0       0  ...       0       0       0     1121\n",
       "\n",
       "[11 rows x 11 columns]"
      ]
     },
     "metadata": {
      "tags": []
     },
     "output_type": "display_data"
    }
   ],
   "source": [
    "'''train the model'''\n",
    "cnn_model=cwt_cnn_model(fin_path,mout_path,dev_size,r_state,hyperparameters,fast,id_value,use_trash=trash,threshold=threshold)"
   ]
  },
  {
   "cell_type": "markdown",
   "metadata": {
    "colab_type": "text",
    "id": "vgHv6RqnMtT2"
   },
   "source": [
    "# **Test the model! Outside of function scope!**"
   ]
  },
  {
   "cell_type": "code",
   "execution_count": null,
   "metadata": {
    "colab": {
     "base_uri": "https://localhost:8080/",
     "height": 1000
    },
    "colab_type": "code",
    "executionInfo": {
     "elapsed": 73810,
     "status": "ok",
     "timestamp": 1593628417557,
     "user": {
      "displayName": "Nathan Temiquel",
      "photoUrl": "",
      "userId": "01657354188638757810"
     },
     "user_tz": 420
    },
    "id": "-gA4ADAtGN05",
    "outputId": "bc546e79-2cbe-4ade-d44c-c6c347440426"
   },
   "outputs": [
    {
     "name": "stdout",
     "output_type": "stream",
     "text": [
      "Master data set shape is (5776, 191) \n",
      "\n",
      "\n"
     ]
    },
    {
     "data": {
      "image/png": "[encoded data removed]",
      "text/plain": [
       "<Figure size 432x288 with 1 Axes>"
      ]
     },
     "metadata": {
      "needs_background": "light",
      "tags": []
     },
     "output_type": "display_data"
    },
    {
     "data": {
      "image/png": "[encoded data removed]",
      "text/plain": [
       "<Figure size 432x288 with 1 Axes>"
      ]
     },
     "metadata": {
      "needs_background": "light",
      "tags": []
     },
     "output_type": "display_data"
    },
    {
     "data": {
      "image/png": "[encoded data removed]",
      "text/plain": [
       "<Figure size 432x288 with 1 Axes>"
      ]
     },
     "metadata": {
      "needs_background": "light",
      "tags": []
     },
     "output_type": "display_data"
    },
    {
     "data": {
      "image/png": "[encoded data removed]",
      "text/plain": [
       "<Figure size 432x288 with 1 Axes>"
      ]
     },
     "metadata": {
      "needs_background": "light",
      "tags": []
     },
     "output_type": "display_data"
    },
    {
     "data": {
      "image/png": "[encoded data removed]",
      "text/plain": [
       "<Figure size 432x288 with 1 Axes>"
      ]
     },
     "metadata": {
      "needs_background": "light",
      "tags": []
     },
     "output_type": "display_data"
    },
    {
     "data": {
      "image/png": "[encoded data removed]",
      "text/plain": [
       "<Figure size 432x288 with 1 Axes>"
      ]
     },
     "metadata": {
      "needs_background": "light",
      "tags": []
     },
     "output_type": "display_data"
    },
    {
     "data": {
      "image/png": "[encoded data removed]",
      "text/plain": [
       "<Figure size 432x288 with 1 Axes>"
      ]
     },
     "metadata": {
      "needs_background": "light",
      "tags": []
     },
     "output_type": "display_data"
    },
    {
     "data": {
      "image/png": "[encoded data removed]",
      "text/plain": [
       "<Figure size 432x288 with 1 Axes>"
      ]
     },
     "metadata": {
      "needs_background": "light",
      "tags": []
     },
     "output_type": "display_data"
    },
    {
     "data": {
      "image/png": "[encoded data removed]",
      "text/plain": [
       "<Figure size 432x288 with 1 Axes>"
      ]
     },
     "metadata": {
      "needs_background": "light",
      "tags": []
     },
     "output_type": "display_data"
    },
    {
     "name": "stdout",
     "output_type": "stream",
     "text": [
      "         pred_0  pred_1  pred_2  pred_3  ...  pred_7  pred_8  pred_9  pred_10\n",
      "true_0     1556       0       0       0  ...       0       0       0        0\n",
      "true_1        0     580       0       1  ...       0       0       0      610\n",
      "true_2        4       0       0      13  ...       0       0       0        0\n",
      "true_3        0       0       0     125  ...       0       0       0        0\n",
      "true_4        0       0       0       0  ...       0       0       0        0\n",
      "true_5        0       0       1       1  ...       0       1       0        8\n",
      "true_6        0       0       0       0  ...       0       0       0        0\n",
      "true_7        0       0      79      25  ...     123       0       0        4\n",
      "true_8        0       0       7       3  ...       0       6       0        0\n",
      "true_9        0       0       0       0  ...       0       0       0        0\n",
      "true_10       0       0       0       0  ...       0       0       0     2089\n",
      "\n",
      "[11 rows x 11 columns]\n"
     ]
    }
   ],
   "source": [
    "\n",
    "#test data path - do not include /content/.../ML Spectroscopy/\n",
    "testin_path=r'Data/Preprocessed/Continuous Wavelet Transformation/Test Set/Labeled/'\n",
    "\n",
    "#build test set, drops samples with Null values\n",
    "test_df=h.dfbuilder(testin_path,synth=synth,split_df=False,use_trash=trash)\n",
    "test_df.dropna(inplace=True)\n",
    "\n",
    "#separates features and labels\n",
    "y_test=test_df[test_df.columns[-1]]\n",
    "X_test=test_df.drop(test_df.columns[-1],axis=1).values\n",
    "\n",
    "roc_out=h.roc_all(cnn_model.predict(X_test),y_test)\n",
    "\n",
    "if not fast:\n",
    "  roc_out.to_csv(mout_path+id_value+'roc_data.csv')\n",
    "\n",
    "#tests model, you can also use model.predict outside of this scope\n",
    "cnn_cwt.test_cnn_model(cnn_model,X_test,y_test,id_value)\n",
    "\n",
    "#this is that old folder we were talking about where CNN.csv files get saved, i just commented it out and pointed it to the folder with the rest of the outputs\n",
    "#saved_data=r'/content/drive/My Drive/ML Spectroscopy/Programs/Data Processing/Saved Lists/'\n",
    "saved_data=r'/content/drive/My Drive/ML Spectroscopy/Model Data/CNN Model/'\n",
    "pd.DataFrame(data=cnn_model.predict(X_test),index=test_df.index.values).to_csv(saved_data+id_value+r'CNN.csv')\n"
   ]
  },
  {
   "cell_type": "markdown",
   "metadata": {
    "colab_type": "text",
    "id": "B2Q1sVEgatZX"
   },
   "source": [
    "# Play space for whatever other training/testing you want to do\n"
   ]
  },
  {
   "cell_type": "markdown",
   "metadata": {
    "colab_type": "text",
    "id": "rQGF0R7-_DiV"
   },
   "source": []
  },
  {
   "cell_type": "markdown",
   "metadata": {
    "colab_type": "text",
    "id": "6icXV9e0J4U0"
   },
   "source": [
    "Testing/Training Parameters"
   ]
  },
  {
   "cell_type": "code",
   "execution_count": null,
   "metadata": {
    "colab": {},
    "colab_type": "code",
    "id": "D4SZP3BnJ7gD"
   },
   "outputs": [],
   "source": [
    "\n",
    "'''define the hyperparameters here!'''\n",
    "learning_rate=0.001\n",
    "batch_size=100\n",
    "drop_rate=0.55\n",
    "epochs=50\n",
    "\n",
    "#don't change the line below\n",
    "hyperparameters=[learning_rate,batch_size,drop_rate,epochs]\n"
   ]
  },
  {
   "cell_type": "code",
   "execution_count": null,
   "metadata": {
    "colab": {},
    "colab_type": "code",
    "id": "cwEGPb2EJ8U3"
   },
   "outputs": [],
   "source": [
    "\n",
    "'''define other parameters here!'''\n",
    "#this string is prepended to all output files for identification\n",
    "id_value='multi_size_granite_only_update_with_probs'\n",
    "\n",
    "#training data file path (do not include /content/drive/My Drive/ML Spectroscopy/)\n",
    "fin_path=r'Data/Preprocessed/Continuous Wavelet Transformation/Labeled/'\n",
    "\n",
    "#output file path for the trained model data\n",
    "mout_path=r'Model Data/CNN Model/'\n",
    "\n",
    "#proportion of the training data allocated to the dev set - a float x: 0<x<1\n",
    "dev_size=0.2\n",
    "\n",
    "#random seed used for train/dev split to ensure repeatable outcomes. None \n",
    "#provides a psuedorandom value that won't be repeatable\n",
    "r_state=1\n",
    "\n",
    "#fast - True for doing quick training that does not output probability weights\n",
    "#for each sample during training. False for doing deep analysis and tracking\n",
    "fast=False\n",
    "\n",
    "#trash - True for using trash data in the model\n",
    "trash=False\n",
    "\n",
    "#threshold - float in the range [0.0,1.0) determines the discrimination threshold\n",
    "threshold=0.0\n"
   ]
  },
  {
   "cell_type": "markdown",
   "metadata": {
    "colab_type": "text",
    "id": "ke5vv95gJg_P"
   },
   "source": [
    "Build a test set with out of class samples (RRUFF untrained data) and our in class test data set"
   ]
  },
  {
   "cell_type": "code",
   "execution_count": null,
   "metadata": {
    "colab": {
     "base_uri": "https://localhost:8080/",
     "height": 106
    },
    "colab_type": "code",
    "executionInfo": {
     "elapsed": 724,
     "status": "ok",
     "timestamp": 1593628731101,
     "user": {
      "displayName": "Nathan Temiquel",
      "photoUrl": "",
      "userId": "01657354188638757810"
     },
     "user_tz": 420
    },
    "id": "C8Vqc5YyP5Jb",
    "outputId": "6583e804-f4d4-4911-d2ee-0a482f6b74b5"
   },
   "outputs": [
    {
     "data": {
      "application/vnd.google.colaboratory.intrinsic": {
       "type": "string"
      },
      "text/plain": [
       "\"\\n#test data path - do not include /content/.../ML Spectroscopy/\\ntestin_path1=r'Data/Preprocessed/Continuous Wavelet Transformation/Test Set/Labeled/'\\n\\n#build test set, drops samples with Null values\\ntest_df1=h.dfbuilder(testin_path1,synth=synth,split_df=False)\\ntest_df1.dropna(inplace=True)\\n\\n\\n#test data path - do not include /content/.../ML Spectroscopy/\\ntestin_path2=r'Data/Preprocessed/Continuous Wavelet Transformation/Test Set/RRUFF_untrained/Labeled/'\\n\\n#build test set, drops samples with Null values\\ntest_df2=h.dfbuilder(testin_path2,synth=True,split_df=False)\\ntest_df2.dropna(inplace=True)\\n\\ntest_df=pd.concat([test_df1,test_df2])\\n\\ntest_df.loc[test_df['label']==9]=6\\n\\ny_test=test_df[test_df.columns[-1]]\\nX_test=test_df.drop(test_df.columns[-1],axis=1).values\\n\""
      ]
     },
     "execution_count": 16,
     "metadata": {
      "tags": []
     },
     "output_type": "execute_result"
    }
   ],
   "source": [
    "\"\"\"\n",
    "#test data path - do not include /content/.../ML Spectroscopy/\n",
    "testin_path1=r'Data/Preprocessed/Continuous Wavelet Transformation/Test Set/Labeled/'\n",
    "\n",
    "#build test set, drops samples with Null values\n",
    "test_df1=h.dfbuilder(testin_path1,synth=synth,split_df=False)\n",
    "test_df1.dropna(inplace=True)\n",
    "\n",
    "\n",
    "#test data path - do not include /content/.../ML Spectroscopy/\n",
    "testin_path2=r'Data/Preprocessed/Continuous Wavelet Transformation/Test Set/RRUFF_untrained/Labeled/'\n",
    "\n",
    "#build test set, drops samples with Null values\n",
    "test_df2=h.dfbuilder(testin_path2,synth=True,split_df=False)\n",
    "test_df2.dropna(inplace=True)\n",
    "\n",
    "test_df=pd.concat([test_df1,test_df2])\n",
    "\n",
    "test_df.loc[test_df['label']==9]=6\n",
    "\n",
    "y_test=test_df[test_df.columns[-1]]\n",
    "X_test=test_df.drop(test_df.columns[-1],axis=1).values\n",
    "\"\"\"\n"
   ]
  },
  {
   "cell_type": "markdown",
   "metadata": {
    "colab_type": "text",
    "id": "XdcOiXBip9rr"
   },
   "source": [
    "Build test set with just granite data"
   ]
  },
  {
   "cell_type": "code",
   "execution_count": null,
   "metadata": {
    "colab": {
     "base_uri": "https://localhost:8080/",
     "height": 318
    },
    "colab_type": "code",
    "executionInfo": {
     "elapsed": 784,
     "status": "ok",
     "timestamp": 1593628733666,
     "user": {
      "displayName": "Nathan Temiquel",
      "photoUrl": "",
      "userId": "01657354188638757810"
     },
     "user_tz": 420
    },
    "id": "PeCfIF2apzjW",
    "outputId": "5462231a-811f-4ec8-a125-6b8647021efd"
   },
   "outputs": [
    {
     "name": "stdout",
     "output_type": "stream",
     "text": [
      "Master data set shape is (5776, 191) \n",
      "\n",
      "\n",
      "                                       150       155  ...      1095  label\n",
      "granite0dust_test_015s_5184-292  -0.014043  0.304867  ...  0.534140     10\n",
      "granite0dust_test_015s_5184-529   0.009289  0.382101  ...  0.535629     10\n",
      "granite0dust_test_015s_5184-2335  0.170840  0.662405  ...  0.431027     10\n",
      "granite0dust_test_015s_5184-2505 -0.006646  0.311082  ...  0.538084     10\n",
      "granite0dust_test_015s_5184-2647 -0.008310  0.302669  ...  0.532043     10\n",
      "...                                    ...       ...  ...       ...    ...\n",
      "gabbro0dust_test_015s_1020-1015  -0.019548  0.505443  ...  0.405214      7\n",
      "gabbro0dust_test_015s_1020-1016  -0.025546  0.498728  ...  0.411627      7\n",
      "gabbro0dust_test_015s_1020-1017  -0.022339  0.465547  ...  0.514873      7\n",
      "gabbro0dust_test_015s_1020-1018  -0.043566  0.503578  ...  0.420759      1\n",
      "gabbro0dust_test_015s_1020-1019  -0.032035  0.508674  ...  0.453980      1\n",
      "\n",
      "[5776 rows x 191 columns]\n"
     ]
    }
   ],
   "source": [
    "\n",
    "#test data path - do not include /content/.../ML Spectroscopy/\n",
    "testin_path=r'Data/Preprocessed/Continuous Wavelet Transformation/Test Set/Labeled/'\n",
    "\n",
    "#build test set, drops samples with Null values\n",
    "test_df=h.dfbuilder(testin_path,synth=False,split_df=False)\n",
    "test_df.dropna(inplace=True)\n",
    "\n",
    "print(test_df)\n",
    "y_test=test_df[test_df.columns[-1]]\n",
    "X_test=test_df.drop(test_df.columns[-1],axis=1).values\n"
   ]
  },
  {
   "cell_type": "markdown",
   "metadata": {
    "colab_type": "text",
    "id": "dGnyTCsiHS2G"
   },
   "source": [
    "Running model with limited data sets"
   ]
  },
  {
   "cell_type": "code",
   "execution_count": null,
   "metadata": {
    "colab": {
     "base_uri": "https://localhost:8080/",
     "height": 1000
    },
    "colab_type": "code",
    "id": "YtG_bz_zRK8J",
    "outputId": "1fb07389-a624-4969-d23f-727564883d52"
   },
   "outputs": [
    {
     "name": "stdout",
     "output_type": "stream",
     "text": [
      "\n",
      "\n",
      "\n",
      "\n",
      " Model  1 \n",
      "\n",
      "Master data set shape is (9, 191) \n",
      "\n",
      "\n",
      "Epoch 1/50\n",
      "7/7 [==============================] - 1s 90ms/step - loss: 2.1998 - sparse_categorical_accuracy: 0.0000e+00 - val_loss: nan - val_sparse_categorical_accuracy: 0.0000e+00\n",
      "Epoch 2/50\n",
      "7/7 [==============================] - 0s 51ms/step - loss: 2.1960 - sparse_categorical_accuracy: 0.1429 - val_loss: nan - val_sparse_categorical_accuracy: 0.0000e+00\n",
      "Epoch 3/50\n",
      "7/7 [==============================] - 0s 50ms/step - loss: 2.1940 - sparse_categorical_accuracy: 0.1429 - val_loss: nan - val_sparse_categorical_accuracy: 0.0000e+00\n",
      "         pred_0  pred_1  pred_2  pred_3  ...  pred_7  pred_8  pred_9  pred_10\n",
      "true_0        0       0       0       0  ...       0       0       0        0\n",
      "true_1        0       0       0       0  ...       0       0       0        0\n",
      "true_2        0       0       0       1  ...       0       0       0        0\n",
      "true_3        0       0       0       0  ...       0       0       0        0\n",
      "true_4        0       0       0       0  ...       0       0       0        0\n",
      "true_5        0       0       0       0  ...       0       0       0        0\n",
      "true_6        0       0       0       0  ...       0       0       0        0\n",
      "true_7        0       0       0       0  ...       0       0       0        0\n",
      "true_8        0       0       0       0  ...       0       0       0        0\n",
      "true_9        0       0       0       0  ...       0       0       0        0\n",
      "true_10       0       0       0       1  ...       0       0       0        0\n",
      "\n",
      "[11 rows x 11 columns]\n",
      "model saved\n",
      "\n",
      "Test CM\n",
      "\n",
      "         pred_0  pred_1  pred_2  pred_3  ...  pred_7  pred_8  pred_9  pred_10\n",
      "true_0        0       0       0      55  ...       0       0       0        0\n",
      "true_1        0       0       0    1290  ...       0       2       0        0\n",
      "true_2        0       0       0      72  ...       0       0       0        0\n",
      "true_3        0       0       0     134  ...       0       0       0        0\n",
      "true_4        0       0       0       2  ...       0       0       0        0\n",
      "true_5        0       0       0      48  ...       0       0       0        0\n",
      "true_6        0       0       0       0  ...       0       0       0        0\n",
      "true_7        0       0       0     462  ...       0      13       0        0\n",
      "true_8        0       0       0      45  ...       0       0       0        0\n",
      "true_9        0       0       0       0  ...       0       0       0        0\n",
      "true_10       0       0       0    1952  ...       0       0       0        0\n",
      "\n",
      "[11 rows x 11 columns]\n",
      "\n",
      "\n",
      "\n",
      "\n",
      " Model  2 \n",
      "\n",
      "Master data set shape is (18, 191) \n",
      "\n",
      "\n",
      "Epoch 1/50\n",
      "14/14 [==============================] - 1s 62ms/step - loss: 2.3994 - sparse_categorical_accuracy: 0.0714 - val_loss: 2.4018 - val_sparse_categorical_accuracy: 0.0000e+00\n",
      "Epoch 2/50\n",
      "14/14 [==============================] - 0s 30ms/step - loss: 2.3930 - sparse_categorical_accuracy: 0.0714 - val_loss: 2.3884 - val_sparse_categorical_accuracy: 0.0000e+00\n",
      "Epoch 3/50\n",
      "14/14 [==============================] - 0s 29ms/step - loss: 2.3885 - sparse_categorical_accuracy: 0.0714 - val_loss: 2.3805 - val_sparse_categorical_accuracy: 0.0000e+00\n",
      "Epoch 4/50\n",
      "14/14 [==============================] - 0s 30ms/step - loss: 2.3845 - sparse_categorical_accuracy: 0.1429 - val_loss: 2.3796 - val_sparse_categorical_accuracy: 0.0000e+00\n",
      "Epoch 5/50\n",
      "14/14 [==============================] - 0s 29ms/step - loss: 2.3804 - sparse_categorical_accuracy: 0.0714 - val_loss: 2.3903 - val_sparse_categorical_accuracy: 0.0000e+00\n",
      "Epoch 6/50\n",
      "14/14 [==============================] - 0s 29ms/step - loss: 2.3764 - sparse_categorical_accuracy: 0.1429 - val_loss: 2.4115 - val_sparse_categorical_accuracy: 0.0000e+00\n",
      "Epoch 7/50\n",
      "14/14 [==============================] - 0s 29ms/step - loss: 2.3725 - sparse_categorical_accuracy: 0.1429 - val_loss: 2.4499 - val_sparse_categorical_accuracy: 0.0000e+00\n",
      "        pred_0  pred_1  pred_2  pred_3  pred_4  pred_5  pred_6  pred_7\n",
      "true_0       0       0       0       0       0       0       0       0\n",
      "true_1       0       0       2       0       0       0       0       0\n",
      "true_2       0       0       0       0       0       0       0       0\n",
      "true_3       0       1       0       0       0       0       0       0\n",
      "true_4       0       0       0       0       0       0       0       0\n",
      "true_5       0       0       0       0       0       0       0       0\n",
      "true_6       0       0       0       0       0       0       0       0\n",
      "true_7       0       1       0       0       0       0       0       0\n",
      "model saved\n",
      "\n",
      "Test CM\n",
      "\n",
      "         pred_0  pred_1  pred_2  pred_3  ...  pred_7  pred_8  pred_9  pred_10\n",
      "true_0        0      36    1521       0  ...       0       0       0        0\n",
      "true_1        0     573     750       0  ...       0       0       0        0\n",
      "true_2        0      32      40       0  ...       0       0       0        0\n",
      "true_3        0      43      91       0  ...       0       0       0        0\n",
      "true_4        0       2       0       0  ...       0       0       0        0\n",
      "true_5        0      49       0       0  ...       0       0       0        0\n",
      "true_6        0       0       0       0  ...       0       0       0        0\n",
      "true_7        3     444      39       0  ...       0       0       0        0\n",
      "true_8        0      55       2       0  ...       0       0       0        0\n",
      "true_9        0       0       0       0  ...       0       0       0        0\n",
      "true_10       0    1460     636       0  ...       0       0       0        0\n",
      "\n",
      "[11 rows x 11 columns]\n",
      "\n",
      "\n",
      "\n",
      "\n",
      " Model  4 \n",
      "\n",
      "Master data set shape is (36, 191) \n",
      "\n",
      "\n",
      "Epoch 1/50\n",
      "28/28 [==============================] - 1s 27ms/step - loss: 2.3979 - sparse_categorical_accuracy: 0.1071 - val_loss: 2.3326 - val_sparse_categorical_accuracy: 0.2500\n",
      "Epoch 2/50\n",
      "28/28 [==============================] - 0s 18ms/step - loss: 2.3903 - sparse_categorical_accuracy: 0.1429 - val_loss: 2.3183 - val_sparse_categorical_accuracy: 0.2500\n",
      "Epoch 3/50\n",
      "28/28 [==============================] - 1s 18ms/step - loss: 2.3848 - sparse_categorical_accuracy: 0.1429 - val_loss: 2.3773 - val_sparse_categorical_accuracy: 0.2500\n",
      "Epoch 4/50\n",
      "28/28 [==============================] - 1s 18ms/step - loss: 2.3795 - sparse_categorical_accuracy: 0.1429 - val_loss: 2.5359 - val_sparse_categorical_accuracy: 0.2500\n",
      "Epoch 5/50\n",
      "28/28 [==============================] - 0s 17ms/step - loss: 2.3744 - sparse_categorical_accuracy: 0.1429 - val_loss: 2.8079 - val_sparse_categorical_accuracy: 0.2500\n",
      "         pred_0  pred_1  pred_2  pred_3  ...  pred_7  pred_8  pred_9  pred_10\n",
      "true_0        0       0       0       0  ...       0       0       0        0\n",
      "true_1        0       0       0       0  ...       0       0       0        0\n",
      "true_2        0       0       0       0  ...       0       0       0        0\n",
      "true_3        0       0       0       0  ...       0       0       0        0\n",
      "true_4        0       0       0       0  ...       0       0       0        0\n",
      "true_5        0       0       0       0  ...       0       0       0        0\n",
      "true_6        0       0       0       0  ...       0       0       0        0\n",
      "true_7        0       0       0       0  ...       0       0       0        0\n",
      "true_8        0       0       0       0  ...       0       0       0        0\n",
      "true_9        0       0       0       0  ...       0       0       0        0\n",
      "true_10       0       0       0       0  ...       0       0       0        0\n",
      "\n",
      "[11 rows x 11 columns]\n",
      "model saved\n",
      "\n",
      "Test CM\n",
      "\n",
      "         pred_0  pred_1  pred_2  pred_3  ...  pred_7  pred_8  pred_9  pred_10\n",
      "true_0        0       0       0       0  ...       0       0       0        0\n",
      "true_1        0       0       0       0  ...       0       0       0        0\n",
      "true_2        0       0       0       0  ...       0       0       0        0\n",
      "true_3        0       0       0       0  ...       0       0       0        0\n",
      "true_4        0       0       0       0  ...       0       0       0        0\n",
      "true_5        0       0       0       0  ...       0       0       0        0\n",
      "true_6        0       0       0       0  ...       0       0       0        0\n",
      "true_7        0       0       0       0  ...       0       0       0        0\n",
      "true_8        0       0       0       0  ...       0       0       0        0\n",
      "true_9        0       0       0       0  ...       0       0       0        0\n",
      "true_10       0       0       0       0  ...       0       0       0        0\n",
      "\n",
      "[11 rows x 11 columns]\n",
      "\n",
      "\n",
      "\n",
      "\n",
      " Model  8 \n",
      "\n",
      "Master data set shape is (72, 191) \n",
      "\n",
      "\n",
      "Epoch 1/50\n",
      "57/57 [==============================] - 1s 17ms/step - loss: 2.3946 - sparse_categorical_accuracy: 0.0702 - val_loss: 2.3876 - val_sparse_categorical_accuracy: 0.1333\n",
      "Epoch 2/50\n",
      "57/57 [==============================] - 1s 12ms/step - loss: 2.3836 - sparse_categorical_accuracy: 0.1053 - val_loss: 2.6315 - val_sparse_categorical_accuracy: 0.0667\n",
      "Epoch 3/50\n",
      "57/57 [==============================] - 1s 12ms/step - loss: 2.3747 - sparse_categorical_accuracy: 0.0702 - val_loss: 3.3836 - val_sparse_categorical_accuracy: 0.0667\n",
      "Epoch 4/50\n",
      "57/57 [==============================] - 1s 12ms/step - loss: 2.3655 - sparse_categorical_accuracy: 0.0877 - val_loss: 4.8855 - val_sparse_categorical_accuracy: 0.0667\n",
      "         pred_0  pred_1  pred_2  pred_3  ...  pred_7  pred_8  pred_9  pred_10\n",
      "true_0        1       0       0       0  ...       0       0       0        0\n",
      "true_1        1       0       0       0  ...       0       0       0        0\n",
      "true_2        1       0       0       0  ...       0       0       0        0\n",
      "true_3        2       0       0       0  ...       0       0       0        0\n",
      "true_4        3       0       0       0  ...       0       0       0        0\n",
      "true_5        1       0       0       0  ...       0       0       0        0\n",
      "true_6        0       0       0       0  ...       0       0       0        0\n",
      "true_7        4       0       0       0  ...       0       0       0        0\n",
      "true_8        1       0       0       0  ...       0       0       0        0\n",
      "true_9        0       0       0       0  ...       0       0       0        0\n",
      "true_10       1       0       0       0  ...       0       0       0        0\n",
      "\n",
      "[11 rows x 11 columns]\n",
      "model saved\n",
      "\n",
      "Test CM\n",
      "\n",
      "         pred_0  pred_1  pred_2  pred_3  ...  pred_7  pred_8  pred_9  pred_10\n",
      "true_0      281       0       0       3  ...       0       0       0        0\n",
      "true_1     1189       0       0       0  ...       0       0       0        0\n",
      "true_2       72       0       0       0  ...       0       0       0        0\n",
      "true_3      134       0       0       0  ...       0       0       0        0\n",
      "true_4        2       0       0       0  ...       0       0       0        0\n",
      "true_5       48       0       0       0  ...       0       0       0        0\n",
      "true_6        0       0       0       0  ...       0       0       0        0\n",
      "true_7      341       0       0       3  ...       0       0       0        0\n",
      "true_8       22       0       0       0  ...       0       0       0        0\n",
      "true_9        0       0       0       0  ...       0       0       0        0\n",
      "true_10    2094       0       0       1  ...       0       0       0        0\n",
      "\n",
      "[11 rows x 11 columns]\n",
      "\n",
      "\n",
      "\n",
      "\n",
      " Model  16 \n",
      "\n",
      "Master data set shape is (144, 191) \n",
      "\n",
      "\n",
      "Epoch 1/50\n",
      "115/115 [==============================] - 1s 10ms/step - loss: 2.3900 - sparse_categorical_accuracy: 0.0870 - val_loss: 2.5645 - val_sparse_categorical_accuracy: 0.1724\n",
      "Epoch 2/50\n",
      "115/115 [==============================] - 1s 8ms/step - loss: 2.3711 - sparse_categorical_accuracy: 0.0957 - val_loss: 4.8705 - val_sparse_categorical_accuracy: 0.0345\n",
      "Epoch 3/50\n",
      "115/115 [==============================] - 1s 8ms/step - loss: 2.3546 - sparse_categorical_accuracy: 0.0870 - val_loss: 12.3908 - val_sparse_categorical_accuracy: 0.0345\n",
      "Epoch 4/50\n",
      "115/115 [==============================] - 1s 8ms/step - loss: 2.3395 - sparse_categorical_accuracy: 0.0957 - val_loss: 26.6657 - val_sparse_categorical_accuracy: 0.0000e+00\n",
      "         pred_0  pred_1  pred_2  pred_3  ...  pred_7  pred_8  pred_9  pred_10\n",
      "true_0        0       0       0       0  ...       0       0       0        0\n",
      "true_1        0       0       5       0  ...       0       0       0        0\n",
      "true_2        0       0       0       0  ...       0       0       0        0\n",
      "true_3        0       0       0       0  ...       0       0       0        0\n",
      "true_4        0       0       0       0  ...       0       0       0        0\n",
      "true_5        0       4       1       0  ...       0       0       0        0\n",
      "true_6        0       0       0       0  ...       0       0       0        0\n",
      "true_7        0       0       0       0  ...       0       0       0        0\n",
      "true_8        2       0       0       1  ...       0       0       0        0\n",
      "true_9        0       0       0       0  ...       0       0       0        0\n",
      "true_10       0       0       0       0  ...       0       0       0        0\n",
      "\n",
      "[11 rows x 11 columns]\n",
      "model saved\n",
      "\n",
      "Test CM\n",
      "\n",
      "         pred_0  pred_1  pred_2  pred_3  ...  pred_7  pred_8  pred_9  pred_10\n",
      "true_0        0       0       0       0  ...       0       0       1        0\n",
      "true_1        0       1     283      20  ...       0       1       2        0\n",
      "true_2        0       0       0       0  ...       0       0       1        0\n",
      "true_3        0       0       0       0  ...       0       0       0        0\n",
      "true_4        0       0       0       0  ...       0       0       0        0\n",
      "true_5        0       0       0       0  ...       0       2      36        0\n",
      "true_6        0       0       0       0  ...       0       0       0        0\n",
      "true_7        0       0       0       0  ...       0       2       1        2\n",
      "true_8        1       0       0       1  ...       0      10       0       11\n",
      "true_9        0       0       0       0  ...       0       0       0        0\n",
      "true_10       0       0      34       0  ...       0       0       1        0\n",
      "\n",
      "[11 rows x 11 columns]\n",
      "\n",
      "\n",
      "\n",
      "\n",
      " Model  32 \n",
      "\n",
      "Master data set shape is (288, 191) \n",
      "\n",
      "\n",
      "Epoch 1/50\n",
      "230/230 [==============================] - 4s 18ms/step - loss: 2.3813 - sparse_categorical_accuracy: 0.0696 - val_loss: 5.8886 - val_sparse_categorical_accuracy: 0.0000e+00\n",
      "Epoch 2/50\n",
      "230/230 [==============================] - 1s 6ms/step - loss: 2.3487 - sparse_categorical_accuracy: 0.1174 - val_loss: 25.3603 - val_sparse_categorical_accuracy: 0.0000e+00\n",
      "Epoch 3/50\n",
      "230/230 [==============================] - 1s 6ms/step - loss: 2.3220 - sparse_categorical_accuracy: 0.1000 - val_loss: 65.7869 - val_sparse_categorical_accuracy: 0.1207\n",
      "Epoch 4/50\n",
      "230/230 [==============================] - 1s 6ms/step - loss: 2.3000 - sparse_categorical_accuracy: 0.1174 - val_loss: 88.1727 - val_sparse_categorical_accuracy: 0.1034\n",
      "         pred_0  pred_1  pred_2  pred_3  ...  pred_7  pred_8  pred_9  pred_10\n",
      "true_0        5       0       0       0  ...       0       0       0        0\n",
      "true_1        0       0       0       0  ...       0       0       4        0\n",
      "true_2        0       0       0       0  ...       0       0       0        1\n",
      "true_3        0       1       0       0  ...       0       0       0        0\n",
      "true_4        0       0       0       7  ...       1       0       0        0\n",
      "true_5        0       8       0       0  ...       0       0       0        0\n",
      "true_6        0       0       0       0  ...       0       0       0        0\n",
      "true_7        0       0       0       2  ...       0       2       0        0\n",
      "true_8        0       2       0       0  ...       1       1       0        0\n",
      "true_9        0       0       0       0  ...       0       0       0        0\n",
      "true_10       2       0       0       0  ...       0       0       0        0\n",
      "\n",
      "[11 rows x 11 columns]\n",
      "model saved\n",
      "\n",
      "Test CM\n",
      "\n",
      "         pred_0  pred_1  pred_2  pred_3  ...  pred_7  pred_8  pred_9  pred_10\n",
      "true_0     1452       0       0       0  ...      31       1       0        1\n",
      "true_1       58       2      53       0  ...       1      15     164        0\n",
      "true_2        0       0       0       0  ...       0       0       0        0\n",
      "true_3        0       0       0       0  ...       0       0       1        0\n",
      "true_4        0       0       0       0  ...       0       0       0        0\n",
      "true_5        0       0       0       0  ...       0       0      32        1\n",
      "true_6        0       0       0       0  ...       0       0       0        0\n",
      "true_7        0      53       5     129  ...      19     157       5       22\n",
      "true_8        0       1       0      13  ...       0      36       0        1\n",
      "true_9        0       0       0       0  ...       0       0       0        0\n",
      "true_10     398       0       2       0  ...      54     140     144        1\n",
      "\n",
      "[11 rows x 11 columns]\n",
      "\n",
      "\n",
      "\n",
      "\n",
      " Model  64 \n",
      "\n",
      "Master data set shape is (576, 191) \n",
      "\n",
      "\n",
      "Epoch 1/50\n",
      "460/460 [==============================] - 4s 9ms/step - loss: 2.3650 - sparse_categorical_accuracy: 0.0978 - val_loss: 16.8703 - val_sparse_categorical_accuracy: 0.1466\n",
      "Epoch 2/50\n",
      "460/460 [==============================] - 3s 6ms/step - loss: 2.3107 - sparse_categorical_accuracy: 0.1000 - val_loss: 61.5562 - val_sparse_categorical_accuracy: 0.0086\n",
      "Epoch 3/50\n",
      "460/460 [==============================] - 3s 6ms/step - loss: 2.2739 - sparse_categorical_accuracy: 0.1043 - val_loss: 64.8388 - val_sparse_categorical_accuracy: 0.0172\n",
      "Epoch 4/50\n",
      "460/460 [==============================] - 3s 6ms/step - loss: 2.2491 - sparse_categorical_accuracy: 0.1087 - val_loss: 63.1217 - val_sparse_categorical_accuracy: 0.0172\n",
      "         pred_0  pred_1  pred_2  pred_3  ...  pred_7  pred_8  pred_9  pred_10\n",
      "true_0        0       0       0       0  ...      14       0       0        0\n",
      "true_1        0       0       0       0  ...       9       3       0        0\n",
      "true_2        2       0       0       0  ...       0       0       0        0\n",
      "true_3        2       0       4       0  ...       0       0       0        0\n",
      "true_4        2       0       0       0  ...       0       0       0        0\n",
      "true_5        0       0       0       1  ...       0       0       0        0\n",
      "true_6        0       0       0       0  ...       0       0       0        0\n",
      "true_7        5       0       0       0  ...       0       0       3        0\n",
      "true_8        1       0       0       6  ...       0       0       7        0\n",
      "true_9        0       0       0       0  ...       0       0       0        0\n",
      "true_10       0       0       0       0  ...       0       3       0        2\n",
      "\n",
      "[11 rows x 11 columns]\n",
      "model saved\n",
      "\n",
      "Test CM\n",
      "\n",
      "         pred_0  pred_1  pred_2  pred_3  ...  pred_7  pred_8  pred_9  pred_10\n",
      "true_0       19       0       0      14  ...    1478      10       0        0\n",
      "true_1        1      58      16       0  ...     254     327       0        5\n",
      "true_2        0       0      12       1  ...       3       0       0        7\n",
      "true_3        1       1       4       0  ...       4      27       0       34\n",
      "true_4        0       0       0       0  ...       0       1       0        0\n",
      "true_5        0       8       5      14  ...       0       0       0        1\n",
      "true_6        0       0       0       0  ...       0       0       0        0\n",
      "true_7       92       1       2       1  ...      61       2     212       23\n",
      "true_8        9       1       1       1  ...       3       0      40        0\n",
      "true_9        0       0       0       0  ...       0       0       0        0\n",
      "true_10       0      68      55       1  ...     201     148       3      210\n",
      "\n",
      "[11 rows x 11 columns]\n",
      "\n",
      "\n",
      "\n",
      "\n",
      " Model  128 \n",
      "\n",
      "Master data set shape is (1152, 191) \n",
      "\n",
      "\n",
      "Epoch 1/50\n",
      "461/461 [==============================] - 5s 11ms/step - loss: 2.1457 - sparse_categorical_accuracy: 0.1944 - val_loss: 1.5768 - val_sparse_categorical_accuracy: 0.5108\n",
      "Epoch 2/50\n",
      "461/461 [==============================] - 3s 7ms/step - loss: 1.9578 - sparse_categorical_accuracy: 0.2552 - val_loss: 1.1087 - val_sparse_categorical_accuracy: 0.8701\n",
      "Epoch 3/50\n",
      "461/461 [==============================] - 3s 7ms/step - loss: 1.8488 - sparse_categorical_accuracy: 0.3236 - val_loss: 1.4070 - val_sparse_categorical_accuracy: 0.4416\n",
      "Epoch 4/50\n",
      "461/461 [==============================] - 3s 7ms/step - loss: 1.9257 - sparse_categorical_accuracy: 0.3051 - val_loss: 1.2328 - val_sparse_categorical_accuracy: 0.6580\n",
      "Epoch 5/50\n",
      "461/461 [==============================] - 3s 7ms/step - loss: 1.8681 - sparse_categorical_accuracy: 0.2606 - val_loss: 1.2701 - val_sparse_categorical_accuracy: 0.6234\n",
      "         pred_0  pred_1  pred_2  pred_3  ...  pred_7  pred_8  pred_9  pred_10\n",
      "true_0        0      22       0       0  ...       0       0       0        2\n",
      "true_1        0      24       0       0  ...       0       0       0        1\n",
      "true_2        0       0       9       0  ...       1       0       0       14\n",
      "true_3        0       0       2       0  ...       1       0       0       21\n",
      "true_4        0       0       0       0  ...       0       0       0        0\n",
      "true_5        0       0       0       0  ...       0       0       0        0\n",
      "true_6        0       0       0       0  ...       0       0       0        0\n",
      "true_7        0       0       4       0  ...      18       0       0        2\n",
      "true_8        0       6       1       0  ...       0      26       0        0\n",
      "true_9        0       0       0       0  ...       0       0       0        0\n",
      "true_10       0       1       0       0  ...       0       0       0       20\n",
      "\n",
      "[11 rows x 11 columns]\n",
      "model saved\n",
      "\n",
      "Test CM\n",
      "\n",
      "         pred_0  pred_1  pred_2  pred_3  ...  pred_7  pred_8  pred_9  pred_10\n",
      "true_0       14    1415       0       0  ...       0       0       0       72\n",
      "true_1        0     370       0       0  ...       1       0       0      952\n",
      "true_2        0       1       0       0  ...       0       0       0       71\n",
      "true_3        0       0       0       0  ...       0       0       0      134\n",
      "true_4        0       0       0       0  ...       0       0       0        2\n",
      "true_5        0       1       0       0  ...       0       0       0       11\n",
      "true_6        0       0       0       0  ...       0       0       0        0\n",
      "true_7        0       6      44       0  ...     295      32       0       76\n",
      "true_8        0       0       8       0  ...      10       8       0        2\n",
      "true_9        0       0       0       0  ...       0       0       0        0\n",
      "true_10       0     232       0       0  ...       1       0       0     1862\n",
      "\n",
      "[11 rows x 11 columns]\n",
      "\n",
      "\n",
      "\n",
      "\n",
      " Model  256 \n",
      "\n",
      "Master data set shape is (2304, 191) \n",
      "\n",
      "\n",
      "Epoch 1/50\n",
      "461/461 [==============================] - 5s 12ms/step - loss: 1.2457 - sparse_categorical_accuracy: 0.7938 - val_loss: 0.7391 - val_sparse_categorical_accuracy: 0.9328\n",
      "Epoch 2/50\n",
      "461/461 [==============================] - 3s 7ms/step - loss: 1.0285 - sparse_categorical_accuracy: 0.8524 - val_loss: 0.2334 - val_sparse_categorical_accuracy: 0.9805\n",
      "Epoch 3/50\n",
      "461/461 [==============================] - 3s 7ms/step - loss: 0.9016 - sparse_categorical_accuracy: 0.8795 - val_loss: 0.1439 - val_sparse_categorical_accuracy: 0.9957\n",
      "Epoch 4/50\n",
      "461/461 [==============================] - 3s 7ms/step - loss: 0.8300 - sparse_categorical_accuracy: 0.8703 - val_loss: 0.1012 - val_sparse_categorical_accuracy: 0.9957\n",
      "Epoch 5/50\n",
      "461/461 [==============================] - 3s 7ms/step - loss: 0.7526 - sparse_categorical_accuracy: 0.8888 - val_loss: 0.1171 - val_sparse_categorical_accuracy: 0.9892\n",
      "Epoch 6/50\n",
      "461/461 [==============================] - 3s 7ms/step - loss: 0.7049 - sparse_categorical_accuracy: 0.8861 - val_loss: 0.0629 - val_sparse_categorical_accuracy: 0.9935\n",
      "Epoch 7/50\n",
      "461/461 [==============================] - 3s 7ms/step - loss: 0.6687 - sparse_categorical_accuracy: 0.8893 - val_loss: 0.0566 - val_sparse_categorical_accuracy: 0.9892\n",
      "Epoch 8/50\n",
      "461/461 [==============================] - 3s 7ms/step - loss: 0.6303 - sparse_categorical_accuracy: 0.8942 - val_loss: 0.0338 - val_sparse_categorical_accuracy: 0.9935\n",
      "Epoch 9/50\n",
      "461/461 [==============================] - 3s 7ms/step - loss: 0.5914 - sparse_categorical_accuracy: 0.9094 - val_loss: 0.0344 - val_sparse_categorical_accuracy: 0.9935\n",
      "Epoch 10/50\n",
      "461/461 [==============================] - 3s 7ms/step - loss: 0.5797 - sparse_categorical_accuracy: 0.8991 - val_loss: 0.0344 - val_sparse_categorical_accuracy: 0.9935\n",
      "Epoch 11/50\n",
      "461/461 [==============================] - 3s 7ms/step - loss: 0.5876 - sparse_categorical_accuracy: 0.8964 - val_loss: 0.0304 - val_sparse_categorical_accuracy: 0.9935\n",
      "Epoch 12/50\n",
      "461/461 [==============================] - 3s 7ms/step - loss: 0.5451 - sparse_categorical_accuracy: 0.9094 - val_loss: 0.0293 - val_sparse_categorical_accuracy: 0.9935\n",
      "Epoch 13/50\n",
      "461/461 [==============================] - 3s 7ms/step - loss: 0.5466 - sparse_categorical_accuracy: 0.8942 - val_loss: 0.0248 - val_sparse_categorical_accuracy: 0.9978\n",
      "Epoch 14/50\n",
      "461/461 [==============================] - 3s 7ms/step - loss: 0.5053 - sparse_categorical_accuracy: 0.9029 - val_loss: 0.0259 - val_sparse_categorical_accuracy: 0.9935\n",
      "Epoch 15/50\n",
      "461/461 [==============================] - 3s 7ms/step - loss: 0.4840 - sparse_categorical_accuracy: 0.9056 - val_loss: 0.0242 - val_sparse_categorical_accuracy: 0.9935\n",
      "Epoch 16/50\n",
      "461/461 [==============================] - 3s 7ms/step - loss: 0.4844 - sparse_categorical_accuracy: 0.9105 - val_loss: 0.0219 - val_sparse_categorical_accuracy: 0.9935\n",
      "Epoch 17/50\n",
      "461/461 [==============================] - 3s 7ms/step - loss: 0.4388 - sparse_categorical_accuracy: 0.9267 - val_loss: 0.0240 - val_sparse_categorical_accuracy: 0.9935\n",
      "Epoch 18/50\n",
      "461/461 [==============================] - 3s 7ms/step - loss: 0.4485 - sparse_categorical_accuracy: 0.9295 - val_loss: 0.0153 - val_sparse_categorical_accuracy: 0.9978\n",
      "Epoch 19/50\n",
      "461/461 [==============================] - 3s 7ms/step - loss: 0.4445 - sparse_categorical_accuracy: 0.9148 - val_loss: 0.0166 - val_sparse_categorical_accuracy: 1.0000\n",
      "Epoch 20/50\n",
      "461/461 [==============================] - 3s 7ms/step - loss: 0.4312 - sparse_categorical_accuracy: 0.9246 - val_loss: 0.0124 - val_sparse_categorical_accuracy: 1.0000\n",
      "Epoch 21/50\n",
      "461/461 [==============================] - 3s 7ms/step - loss: 0.4282 - sparse_categorical_accuracy: 0.9246 - val_loss: 0.0220 - val_sparse_categorical_accuracy: 0.9870\n",
      "Epoch 22/50\n",
      "461/461 [==============================] - 3s 7ms/step - loss: 0.4407 - sparse_categorical_accuracy: 0.9154 - val_loss: 0.0108 - val_sparse_categorical_accuracy: 1.0000\n",
      "Epoch 23/50\n",
      "461/461 [==============================] - 3s 7ms/step - loss: 0.4320 - sparse_categorical_accuracy: 0.9224 - val_loss: 0.0140 - val_sparse_categorical_accuracy: 0.9935\n",
      "Epoch 24/50\n",
      "461/461 [==============================] - 3s 7ms/step - loss: 0.3548 - sparse_categorical_accuracy: 0.9414 - val_loss: 0.0115 - val_sparse_categorical_accuracy: 0.9978\n",
      "Epoch 25/50\n",
      "461/461 [==============================] - 3s 7ms/step - loss: 0.4082 - sparse_categorical_accuracy: 0.9338 - val_loss: 0.0102 - val_sparse_categorical_accuracy: 1.0000\n",
      "Epoch 26/50\n",
      "461/461 [==============================] - 3s 7ms/step - loss: 0.3818 - sparse_categorical_accuracy: 0.9333 - val_loss: 0.0108 - val_sparse_categorical_accuracy: 1.0000\n",
      "Epoch 27/50\n",
      "461/461 [==============================] - 3s 7ms/step - loss: 0.3909 - sparse_categorical_accuracy: 0.9257 - val_loss: 0.0108 - val_sparse_categorical_accuracy: 1.0000\n",
      "Epoch 28/50\n",
      "461/461 [==============================] - 3s 7ms/step - loss: 0.3686 - sparse_categorical_accuracy: 0.9343 - val_loss: 0.0112 - val_sparse_categorical_accuracy: 1.0000\n",
      "         pred_0  pred_1  pred_2  pred_3  ...  pred_7  pred_8  pred_9  pred_10\n",
      "true_0       44       0       0       0  ...       0       0       0        0\n",
      "true_1        0      50       0       0  ...       0       0       0        0\n",
      "true_2        0       0      54       0  ...       0       0       0        0\n",
      "true_3        0       0       0      45  ...       0       0       0        0\n",
      "true_4        0       0       0       0  ...       0       0       0        0\n",
      "true_5        0       0       0       0  ...       0       0       0        0\n",
      "true_6        0       0       0       0  ...       0       0       0        0\n",
      "true_7        0       0       0       0  ...      51       0       0        0\n",
      "true_8        0       0       0       0  ...       0      49       0        0\n",
      "true_9        0       0       0       0  ...       0       0       0        0\n",
      "true_10       0       0       0       0  ...       0       0       0       55\n",
      "\n",
      "[11 rows x 11 columns]\n",
      "model saved\n",
      "\n",
      "Test CM\n",
      "\n",
      "         pred_0  pred_1  pred_2  pred_3  ...  pred_7  pred_8  pred_9  pred_10\n",
      "true_0     1553       0       0       0  ...       0       0       0        4\n",
      "true_1        0     702       0       3  ...       2       0       0      616\n",
      "true_2        5       0       0      61  ...       0       0       0        5\n",
      "true_3        0       0       0     134  ...       0       0       0        0\n",
      "true_4        0       0       0       0  ...       0       0       0        0\n",
      "true_5        0       0       0       1  ...       0       1       0       10\n",
      "true_6        0       0       0       0  ...       0       0       0        0\n",
      "true_7        0       0       0       0  ...     480       2       0        4\n",
      "true_8        0       0       4       1  ...       5      45       0        2\n",
      "true_9        0       0       0       0  ...       0       0       0        0\n",
      "true_10       0       3       0       1  ...       2       0       0     2090\n",
      "\n",
      "[11 rows x 11 columns]\n",
      "\n",
      "\n",
      "\n",
      "\n",
      " Model  512 \n",
      "\n",
      "Master data set shape is (4608, 191) \n",
      "\n",
      "\n",
      "Epoch 1/50\n",
      "410/410 [==============================] - 6s 15ms/step - loss: 0.7867 - sparse_categorical_accuracy: 0.9113 - val_loss: 0.5058 - val_sparse_categorical_accuracy: 0.9588\n",
      "Epoch 2/50\n",
      "410/410 [==============================] - 3s 8ms/step - loss: 0.5677 - sparse_categorical_accuracy: 0.9403 - val_loss: 0.1112 - val_sparse_categorical_accuracy: 0.9989\n",
      "Epoch 3/50\n",
      "410/410 [==============================] - 3s 8ms/step - loss: 0.4408 - sparse_categorical_accuracy: 0.9533 - val_loss: 0.0908 - val_sparse_categorical_accuracy: 1.0000\n",
      "Epoch 4/50\n",
      "410/410 [==============================] - 3s 8ms/step - loss: 0.3752 - sparse_categorical_accuracy: 0.9590 - val_loss: 0.0479 - val_sparse_categorical_accuracy: 1.0000\n",
      "Epoch 5/50\n",
      "410/410 [==============================] - 3s 8ms/step - loss: 0.3155 - sparse_categorical_accuracy: 0.9661 - val_loss: 0.0356 - val_sparse_categorical_accuracy: 1.0000\n",
      "Epoch 6/50\n",
      "410/410 [==============================] - 3s 8ms/step - loss: 0.2811 - sparse_categorical_accuracy: 0.9718 - val_loss: 0.0311 - val_sparse_categorical_accuracy: 1.0000\n",
      "Epoch 7/50\n",
      "410/410 [==============================] - 3s 8ms/step - loss: 0.2350 - sparse_categorical_accuracy: 0.9780 - val_loss: 0.0254 - val_sparse_categorical_accuracy: 0.9978\n",
      "Epoch 8/50\n",
      "410/410 [==============================] - 3s 8ms/step - loss: 0.2135 - sparse_categorical_accuracy: 0.9810 - val_loss: 0.0159 - val_sparse_categorical_accuracy: 0.9989\n",
      "Epoch 9/50\n",
      "410/410 [==============================] - 3s 8ms/step - loss: 0.1939 - sparse_categorical_accuracy: 0.9826 - val_loss: 0.0116 - val_sparse_categorical_accuracy: 1.0000\n",
      "Epoch 10/50\n",
      "410/410 [==============================] - 3s 8ms/step - loss: 0.1764 - sparse_categorical_accuracy: 0.9818 - val_loss: 0.0082 - val_sparse_categorical_accuracy: 1.0000\n",
      "Epoch 11/50\n",
      "410/410 [==============================] - 3s 8ms/step - loss: 0.1514 - sparse_categorical_accuracy: 0.9886 - val_loss: 0.0084 - val_sparse_categorical_accuracy: 1.0000\n",
      "Epoch 12/50\n",
      "410/410 [==============================] - 3s 8ms/step - loss: 0.1473 - sparse_categorical_accuracy: 0.9886 - val_loss: 0.0088 - val_sparse_categorical_accuracy: 1.0000\n",
      "Epoch 13/50\n",
      "410/410 [==============================] - 3s 8ms/step - loss: 0.1384 - sparse_categorical_accuracy: 0.9859 - val_loss: 0.0068 - val_sparse_categorical_accuracy: 1.0000\n",
      "Epoch 14/50\n",
      "410/410 [==============================] - 3s 8ms/step - loss: 0.1297 - sparse_categorical_accuracy: 0.9897 - val_loss: 0.0052 - val_sparse_categorical_accuracy: 1.0000\n",
      "Epoch 15/50\n",
      "410/410 [==============================] - 3s 8ms/step - loss: 0.1238 - sparse_categorical_accuracy: 0.9883 - val_loss: 0.0049 - val_sparse_categorical_accuracy: 1.0000\n",
      "Epoch 16/50\n",
      "410/410 [==============================] - 3s 8ms/step - loss: 0.1159 - sparse_categorical_accuracy: 0.9867 - val_loss: 0.0038 - val_sparse_categorical_accuracy: 1.0000\n",
      "Epoch 17/50\n",
      "410/410 [==============================] - 3s 8ms/step - loss: 0.1060 - sparse_categorical_accuracy: 0.9913 - val_loss: 0.0030 - val_sparse_categorical_accuracy: 1.0000\n",
      "Epoch 18/50\n",
      "410/410 [==============================] - 3s 8ms/step - loss: 0.0915 - sparse_categorical_accuracy: 0.9935 - val_loss: 0.0026 - val_sparse_categorical_accuracy: 1.0000\n",
      "Epoch 19/50\n",
      "410/410 [==============================] - 3s 8ms/step - loss: 0.0924 - sparse_categorical_accuracy: 0.9919 - val_loss: 0.0038 - val_sparse_categorical_accuracy: 1.0000\n",
      "Epoch 20/50\n",
      "410/410 [==============================] - 3s 8ms/step - loss: 0.0946 - sparse_categorical_accuracy: 0.9883 - val_loss: 0.0031 - val_sparse_categorical_accuracy: 1.0000\n",
      "Epoch 21/50\n",
      "410/410 [==============================] - 3s 8ms/step - loss: 0.0788 - sparse_categorical_accuracy: 0.9929 - val_loss: 0.0016 - val_sparse_categorical_accuracy: 1.0000\n",
      "Epoch 22/50\n",
      "410/410 [==============================] - 3s 8ms/step - loss: 0.0758 - sparse_categorical_accuracy: 0.9932 - val_loss: 0.0027 - val_sparse_categorical_accuracy: 1.0000\n",
      "Epoch 23/50\n",
      "410/410 [==============================] - 3s 8ms/step - loss: 0.0791 - sparse_categorical_accuracy: 0.9902 - val_loss: 0.0018 - val_sparse_categorical_accuracy: 1.0000\n",
      "Epoch 24/50\n",
      "410/410 [==============================] - 3s 8ms/step - loss: 0.0654 - sparse_categorical_accuracy: 0.9932 - val_loss: 0.0024 - val_sparse_categorical_accuracy: 1.0000\n",
      "         pred_0  pred_1  pred_2  pred_3  ...  pred_7  pred_8  pred_9  pred_10\n",
      "true_0      105       0       0       0  ...       0       0       0        0\n",
      "true_1        0     106       0       0  ...       0       0       0        0\n",
      "true_2        0       0      94       0  ...       0       0       0        0\n",
      "true_3        0       0       0     108  ...       0       0       0        0\n",
      "true_4        0       0       0       0  ...       0       0       0        0\n",
      "true_5        0       0       0       0  ...       0       0       0        0\n",
      "true_6        0       0       0       0  ...       0       0       0        0\n",
      "true_7        0       0       0       0  ...     100       0       0        0\n",
      "true_8        0       0       0       0  ...       0     102       0        0\n",
      "true_9        0       0       0       0  ...       0       0       0        0\n",
      "true_10       0       0       0       0  ...       0       0       0      102\n",
      "\n",
      "[11 rows x 11 columns]\n",
      "model saved\n",
      "\n",
      "Test CM\n",
      "\n",
      "         pred_0  pred_1  pred_2  pred_3  ...  pred_7  pred_8  pred_9  pred_10\n",
      "true_0     1553       0       0       0  ...       0       0       0        4\n",
      "true_1        0     697       0       1  ...       5       0       0      620\n",
      "true_2       23       0       6      29  ...       2       0       0       12\n",
      "true_3        1       0       0     133  ...       0       0       0        0\n",
      "true_4        0       0       0       0  ...       0       0       0        1\n",
      "true_5        0       0       0       1  ...       1       3       0       10\n",
      "true_6        0       0       0       0  ...       0       0       0        0\n",
      "true_7        0       0       0       0  ...     479       3       0        4\n",
      "true_8        0       0       7       0  ...       4      45       0        1\n",
      "true_9        0       0       0       0  ...       0       0       0        0\n",
      "true_10       0       1       0       0  ...       0       0       0     2095\n",
      "\n",
      "[11 rows x 11 columns]\n",
      "\n",
      "\n",
      "\n",
      "\n",
      " Model  1024 \n",
      "\n",
      "Master data set shape is (9216, 191) \n",
      "\n",
      "\n",
      "Epoch 1/50\n",
      "410/410 [==============================] - 6s 15ms/step - loss: 0.5491 - sparse_categorical_accuracy: 0.9628 - val_loss: 0.4958 - val_sparse_categorical_accuracy: 0.9957\n",
      "Epoch 2/50\n",
      "410/410 [==============================] - 4s 9ms/step - loss: 0.3135 - sparse_categorical_accuracy: 0.9835 - val_loss: 0.1170 - val_sparse_categorical_accuracy: 0.9989\n",
      "Epoch 3/50\n",
      "410/410 [==============================] - 4s 9ms/step - loss: 0.2193 - sparse_categorical_accuracy: 0.9875 - val_loss: 0.0514 - val_sparse_categorical_accuracy: 0.9989\n",
      "Epoch 4/50\n",
      "410/410 [==============================] - 3s 8ms/step - loss: 0.1610 - sparse_categorical_accuracy: 0.9887 - val_loss: 0.0404 - val_sparse_categorical_accuracy: 0.9989\n",
      "Epoch 5/50\n",
      "410/410 [==============================] - 3s 8ms/step - loss: 0.1268 - sparse_categorical_accuracy: 0.9909 - val_loss: 0.0399 - val_sparse_categorical_accuracy: 0.9989\n",
      "Epoch 6/50\n",
      "410/410 [==============================] - 3s 8ms/step - loss: 0.1008 - sparse_categorical_accuracy: 0.9920 - val_loss: 0.0323 - val_sparse_categorical_accuracy: 0.9984\n",
      "Epoch 7/50\n",
      "410/410 [==============================] - 3s 8ms/step - loss: 0.0822 - sparse_categorical_accuracy: 0.9944 - val_loss: 0.0123 - val_sparse_categorical_accuracy: 0.9995\n",
      "Epoch 8/50\n",
      "410/410 [==============================] - 3s 8ms/step - loss: 0.0707 - sparse_categorical_accuracy: 0.9946 - val_loss: 0.0127 - val_sparse_categorical_accuracy: 0.9989\n",
      "Epoch 9/50\n",
      "410/410 [==============================] - 3s 8ms/step - loss: 0.0599 - sparse_categorical_accuracy: 0.9953 - val_loss: 0.0183 - val_sparse_categorical_accuracy: 0.9989\n",
      "Epoch 10/50\n",
      "410/410 [==============================] - 3s 8ms/step - loss: 0.0496 - sparse_categorical_accuracy: 0.9965 - val_loss: 0.0069 - val_sparse_categorical_accuracy: 0.9989\n",
      "Epoch 11/50\n",
      "410/410 [==============================] - 3s 8ms/step - loss: 0.0444 - sparse_categorical_accuracy: 0.9961 - val_loss: 0.0051 - val_sparse_categorical_accuracy: 0.9995\n",
      "Epoch 12/50\n",
      "410/410 [==============================] - 3s 8ms/step - loss: 0.0400 - sparse_categorical_accuracy: 0.9969 - val_loss: 0.0059 - val_sparse_categorical_accuracy: 0.9995\n",
      "Epoch 13/50\n",
      "410/410 [==============================] - 3s 8ms/step - loss: 0.0385 - sparse_categorical_accuracy: 0.9958 - val_loss: 0.0043 - val_sparse_categorical_accuracy: 0.9995\n",
      "Epoch 14/50\n",
      "410/410 [==============================] - 3s 8ms/step - loss: 0.0340 - sparse_categorical_accuracy: 0.9973 - val_loss: 0.0047 - val_sparse_categorical_accuracy: 0.9995\n",
      "Epoch 15/50\n",
      "410/410 [==============================] - 3s 8ms/step - loss: 0.0296 - sparse_categorical_accuracy: 0.9977 - val_loss: 0.0044 - val_sparse_categorical_accuracy: 0.9989\n",
      "Epoch 16/50\n",
      "410/410 [==============================] - 3s 8ms/step - loss: 0.0267 - sparse_categorical_accuracy: 0.9981 - val_loss: 0.0033 - val_sparse_categorical_accuracy: 0.9995\n",
      "Epoch 17/50\n",
      "410/410 [==============================] - 3s 8ms/step - loss: 0.0220 - sparse_categorical_accuracy: 0.9988 - val_loss: 0.0042 - val_sparse_categorical_accuracy: 0.9995\n",
      "Epoch 18/50\n",
      "410/410 [==============================] - 3s 8ms/step - loss: 0.0190 - sparse_categorical_accuracy: 0.9982 - val_loss: 0.0046 - val_sparse_categorical_accuracy: 0.9984\n",
      "Epoch 19/50\n",
      "410/410 [==============================] - 3s 8ms/step - loss: 0.0192 - sparse_categorical_accuracy: 0.9980 - val_loss: 0.0046 - val_sparse_categorical_accuracy: 0.9989\n"
     ]
    }
   ],
   "source": [
    "\n",
    "fin_path=r'Data/Preprocessed/Continuous Wavelet Transformation/Labeled/Limited Sizes/'\n",
    "\n",
    "for i in [1,2,4,8,16,32,64,128,256,512,1024,2048,4096]:\n",
    "  #adjusting some parameters for the size\n",
    "  hyperparameters[1]=max([1,round(((i*9*4)/5)/411)])\n",
    "  temp_id=id_value+str(i)\n",
    "  \n",
    "  print('\\n\\n\\n\\n', 'Model ',i,'\\n')\n",
    "  cnn_model=cwt_cnn_model(fin_path+str(i)+'/',mout_path,dev_size,r_state,hyperparameters,fast,temp_id,use_trash=trash,threshold=threshold)\n",
    "  print('\\nTest CM\\n')\n",
    "  cnn_cwt.test_cnn_model(cnn_model,X_test,y_test,temp_id,test=True,threshold=threshold,fast=fast)\n",
    "\n"
   ]
  },
  {
   "cell_type": "code",
   "execution_count": null,
   "metadata": {
    "colab": {},
    "colab_type": "code",
    "id": "QwcMpGgsPHVQ"
   },
   "outputs": [],
   "source": [
    "#print(roc_out)"
   ]
  },
  {
   "cell_type": "code",
   "execution_count": null,
   "metadata": {
    "colab": {
     "base_uri": "https://localhost:8080/",
     "height": 54
    },
    "colab_type": "code",
    "executionInfo": {
     "elapsed": 235678,
     "status": "ok",
     "timestamp": 1592182441203,
     "user": {
      "displayName": "Nathan Temiquel",
      "photoUrl": "",
      "userId": "01657354188638757810"
     },
     "user_tz": 420
    },
    "id": "DvCbgnqtHPDx",
    "outputId": "db45da65-a761-4f09-cfac-5f0df6a92cd1"
   },
   "outputs": [
    {
     "data": {
      "text/plain": [
       "\"\\nopt_thresh=np.array((roc_out.columns.values.astype(float)))\\nfor i in range(len(roc_out.columns)):\\n  tpr_ls,fpr_ls,thresh_ls=roc_out[roc_out.columns.values[i]]\\n  #print(np.subtract(tpr_ls,fpr_ls))\\n  opt_thresh[i]=thresh_ls[np.argmax(np.subtract(tpr_ls,fpr_ls))]\\n  print('Optimal Threshold for class:',roc_out.columns.values[i],'\\n',opt_thresh[i])\\nprint(opt_thresh.sum()*(1.0/len(opt_thresh)))\\n\""
      ]
     },
     "execution_count": 14,
     "metadata": {
      "tags": []
     },
     "output_type": "execute_result"
    }
   ],
   "source": [
    "\"\"\"\n",
    "opt_thresh=np.array((roc_out.columns.values.astype(float)))\n",
    "for i in range(len(roc_out.columns)):\n",
    "  tpr_ls,fpr_ls,thresh_ls=roc_out[roc_out.columns.values[i]]\n",
    "  #print(np.subtract(tpr_ls,fpr_ls))\n",
    "  opt_thresh[i]=thresh_ls[np.argmax(np.subtract(tpr_ls,fpr_ls))]\n",
    "  print('Optimal Threshold for class:',roc_out.columns.values[i],'\\n',opt_thresh[i])\n",
    "print(opt_thresh.sum()*(1.0/len(opt_thresh)))\n",
    "\"\"\""
   ]
  },
  {
   "cell_type": "code",
   "execution_count": null,
   "metadata": {
    "colab": {
     "base_uri": "https://localhost:8080/",
     "height": 34
    },
    "colab_type": "code",
    "executionInfo": {
     "elapsed": 235676,
     "status": "ok",
     "timestamp": 1592182441204,
     "user": {
      "displayName": "Nathan Temiquel",
      "photoUrl": "",
      "userId": "01657354188638757810"
     },
     "user_tz": 420
    },
    "id": "AjhJLgIqFhrr",
    "outputId": "4884d55a-3c5c-466f-c6ce-7ac8beb1bcc2"
   },
   "outputs": [
    {
     "data": {
      "text/plain": [
       "'\\n#tests model, you can also use model.predict outside of this scope\\ncnn_cwt.test_cnn_model(cnn_model,X_test,y_test,id_value,.0,fast=True)\\n'"
      ]
     },
     "execution_count": 15,
     "metadata": {
      "tags": []
     },
     "output_type": "execute_result"
    }
   ],
   "source": [
    "\"\"\"\n",
    "#tests model, you can also use model.predict outside of this scope\n",
    "cnn_cwt.test_cnn_model(cnn_model,X_test,y_test,id_value,.0,fast=True)\n",
    "\"\"\""
   ]
  },
  {
   "cell_type": "code",
   "execution_count": null,
   "metadata": {
    "colab": {
     "base_uri": "https://localhost:8080/",
     "height": 301
    },
    "colab_type": "code",
    "executionInfo": {
     "elapsed": 235670,
     "status": "ok",
     "timestamp": 1592182441205,
     "user": {
      "displayName": "Nathan Temiquel",
      "photoUrl": "",
      "userId": "01657354188638757810"
     },
     "user_tz": 420
    },
    "id": "qaJIBF-FZEw0",
    "outputId": "32694c44-c3eb-43ff-f980-470ec342cb63"
   },
   "outputs": [
    {
     "name": "stdout",
     "output_type": "stream",
     "text": [
      "              precision    recall  f1-score   support\n",
      "\n",
      "           0       0.99      1.00      1.00      1557\n",
      "           1       1.00      0.43      0.60      1323\n",
      "           2       0.39      0.44      0.42        72\n",
      "           3       0.74      0.99      0.85       134\n",
      "           4       1.00      1.00      1.00         2\n",
      "           5       1.00      0.69      0.82        49\n",
      "           7       0.99      0.87      0.92       486\n",
      "           8       0.94      0.89      0.92        57\n",
      "          10       0.73      1.00      0.85      2096\n",
      "\n",
      "    accuracy                           0.85      5776\n",
      "   macro avg       0.87      0.81      0.82      5776\n",
      "weighted avg       0.89      0.85      0.83      5776\n",
      "\n"
     ]
    }
   ],
   "source": [
    "#report metrics: precision, recall, f1-score, support for test set\n",
    "from sklearn.metrics import classification_report\n",
    "print(classification_report(y_test,cnn_cwt.dec_pred(cnn_model.predict(X_test),threshold)))\n"
   ]
  },
  {
   "cell_type": "code",
   "execution_count": null,
   "metadata": {
    "colab": {},
    "colab_type": "code",
    "id": "pRFjOvNOzp9E"
   },
   "outputs": [],
   "source": []
  }
 ],
 "metadata": {
  "accelerator": "GPU",
  "colab": {
   "collapsed_sections": [],
   "machine_shape": "hm",
   "name": "stable_7-1-20_CNN_using_CWT.ipynb",
   "provenance": []
  },
  "kernelspec": {
   "display_name": "Python 3",
   "language": "python",
   "name": "python3"
  },
  "language_info": {
   "codemirror_mode": {
    "name": "ipython",
    "version": 3
   },
   "file_extension": ".py",
   "mimetype": "text/x-python",
   "name": "python",
   "nbconvert_exporter": "python",
   "pygments_lexer": "ipython3",
   "version": "3.7.0"
  }
 },
 "nbformat": 4,
 "nbformat_minor": 1
}
