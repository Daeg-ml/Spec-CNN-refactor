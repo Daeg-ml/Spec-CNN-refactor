{
  "nbformat": 4,
  "nbformat_minor": 0,
  "metadata": {
    "colab": {
      "name": "Varied_Data_Sets.ipynb",
      "provenance": []
    },
    "kernelspec": {
      "name": "python3",
      "display_name": "Python 3"
    }
  },
  "cells": [
    {
      "cell_type": "code",
      "metadata": {
        "id": "o1QvxFjtUL5V",
        "colab": {
          "base_uri": "https://localhost:8080/",
          "height": 212
        },
        "outputId": "bbcd7c84-4f27-4e79-fe53-3ada5b4e336b"
      },
      "source": [
        "import numpy as np\n",
        "import pandas as pd\n",
        "from google.colab import drive\n",
        "drive.mount('/content/drive/', force_remount=True)\n",
        "!pip install import-ipynb\n",
        "%cd '/content/drive/My Drive/ML Spectroscopy/Programs/'"
      ],
      "execution_count": null,
      "outputs": [
        {
          "output_type": "stream",
          "text": [
            "Mounted at /content/drive/\n",
            "Collecting import-ipynb\n",
            "  Downloading https://files.pythonhosted.org/packages/63/35/495e0021bfdcc924c7cdec4e9fbb87c88dd03b9b9b22419444dc370c8a45/import-ipynb-0.1.3.tar.gz\n",
            "Building wheels for collected packages: import-ipynb\n",
            "  Building wheel for import-ipynb (setup.py) ... \u001b[?25l\u001b[?25hdone\n",
            "  Created wheel for import-ipynb: filename=import_ipynb-0.1.3-cp36-none-any.whl size=2976 sha256=52cae023230ee9598a348da55242b626f0df8ebb0dc84d63a32f4a790b6d6dfa\n",
            "  Stored in directory: /root/.cache/pip/wheels/b4/7b/e9/a3a6e496115dffdb4e3085d0ae39ffe8a814eacc44bbf494b5\n",
            "Successfully built import-ipynb\n",
            "Installing collected packages: import-ipynb\n",
            "Successfully installed import-ipynb-0.1.3\n",
            "/content/drive/My Drive/ML Spectroscopy/Programs\n"
          ],
          "name": "stdout"
        }
      ]
    },
    {
      "cell_type": "code",
      "metadata": {
        "id": "KyBRyNBxUXhv",
        "colab": {
          "base_uri": "https://localhost:8080/",
          "height": 52
        },
        "outputId": "46f35384-9692-4376-cc9d-1f86dc6fcc52"
      },
      "source": [
        "import import_ipynb\n",
        "import Helper as h\n",
        "%cd '/content/drive/My Drive/ML Spectroscopy/'\n",
        "#set global directory for where files are stored\n",
        "directory=r'/content/drive/My Drive/ML Spectroscopy/'"
      ],
      "execution_count": null,
      "outputs": [
        {
          "output_type": "stream",
          "text": [
            "importing Jupyter notebook from Helper.ipynb\n",
            "/content/drive/My Drive/ML Spectroscopy\n"
          ],
          "name": "stdout"
        }
      ]
    },
    {
      "cell_type": "code",
      "metadata": {
        "id": "dWz-71CIMXiE"
      },
      "source": [
        "def sel_ran(X,size):\n",
        "  new_df_ls=[]\n",
        "  for i in [0,1,2,3,4,5,7,8,10]:\n",
        "    temp_df=X.loc[X['label']==i]\n",
        "    new_df_ls.append(temp_df.sample(size))\n",
        "  return pd.concat(new_df_ls)\n"
      ],
      "execution_count": null,
      "outputs": []
    },
    {
      "cell_type": "code",
      "metadata": {
        "id": "ip0KOwKYUiai",
        "colab": {
          "base_uri": "https://localhost:8080/",
          "height": 70
        },
        "outputId": "137034cc-6121-4a58-9328-0b33cf9ad6b7"
      },
      "source": [
        "def main():\n",
        "  #select file path\n",
        "  fin_path=r'Data/Preprocessed/Continuous Wavelet Transformation/Labeled/'\n",
        "  #build data frame of all input data\n",
        "  X=h.dfbuilder(fin_path,synth=False,split_df=False,directory=directory,use_trash=False)\n",
        "  #create a list of numbers of samples per training set\n",
        "  size_ls=[1,2,4,8,16,32,64,128,256,512,1024,2048,4096]\n",
        "  #split into dataframes by sample size\n",
        "  for i in range(len(size_ls)):\n",
        "    #select random samples balanced by class \n",
        "    temp_df=sel_ran(X,size_ls[i])\n",
        "    #output path\n",
        "    out_path=directory+'Data/Preprocessed/Continuous Wavelet Transformation/Labeled/Limited Sizes/'+str(size_ls[i])+'/'+str(size_ls[i])+'_size_train.csv'\n",
        "    #create limited data files\n",
        "    temp_df.to_csv(out_path) \n",
        "    #print(out_path,'\\n\\n',temp_df)    \n",
        "\n",
        "main()  "
      ],
      "execution_count": null,
      "outputs": [
        {
          "output_type": "stream",
          "text": [
            "Master data set shape is (86963, 951) \n",
            "\n",
            "\n"
          ],
          "name": "stdout"
        }
      ]
    },
    {
      "cell_type": "code",
      "metadata": {
        "id": "Q9orpreMMNlO"
      },
      "source": [
        ""
      ],
      "execution_count": null,
      "outputs": []
    }
  ]
}