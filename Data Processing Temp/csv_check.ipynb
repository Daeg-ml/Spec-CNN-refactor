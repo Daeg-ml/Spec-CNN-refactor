{
  "nbformat": 4,
  "nbformat_minor": 0,
  "metadata": {
    "colab": {
      "name": "csv_check.ipynb",
      "provenance": [],
      "collapsed_sections": []
    },
    "kernelspec": {
      "name": "python3",
      "display_name": "Python 3"
    }
  },
  "cells": [
    {
      "cell_type": "code",
      "metadata": {
        "id": "RjoK0CooyLaq",
        "colab": {
          "base_uri": "https://localhost:8080/",
          "height": 124
        },
        "outputId": "7c75dd64-9c1e-4323-e52b-a2bca3c597e7"
      },
      "source": [
        "'''used for checking new unified indices'''\n",
        "\n",
        "\n",
        "#import pandas for data processing\n",
        "import pandas as pd\n",
        "from google.colab import drive\n",
        "drive.mount('/content/drive/')"
      ],
      "execution_count": null,
      "outputs": [
        {
          "output_type": "stream",
          "text": [
            "Go to this URL in a browser: https://accounts.google.com/o/oauth2/auth?client_id=947318989803-6bn6qk8qdgf4n4g3pfee6491hc0brc4i.apps.googleusercontent.com&redirect_uri=urn%3aietf%3awg%3aoauth%3a2.0%3aoob&response_type=code&scope=email%20https%3a%2f%2fwww.googleapis.com%2fauth%2fdocs.test%20https%3a%2f%2fwww.googleapis.com%2fauth%2fdrive%20https%3a%2f%2fwww.googleapis.com%2fauth%2fdrive.photos.readonly%20https%3a%2f%2fwww.googleapis.com%2fauth%2fpeopleapi.readonly\n",
            "\n",
            "Enter your authorization code:\n",
            "··········\n",
            "Mounted at /content/drive/\n"
          ],
          "name": "stdout"
        }
      ]
    },
    {
      "cell_type": "code",
      "metadata": {
        "id": "X6znpiKhys4I",
        "colab": {
          "base_uri": "https://localhost:8080/",
          "height": 1000
        },
        "outputId": "e5bcdf74-4c56-416a-9406-51165e1f3700"
      },
      "source": [
        "def fname_ls_builder(fin_path):\n",
        "  #Find all files in data directory\n",
        "  from os import listdir\n",
        "  from os.path import isfile, join\n",
        "  return [f for f in listdir(fin_path) if isfile(join(fin_path,f))]\n",
        "\n",
        "def df_builder(fin_path,fname_ls):\n",
        "  #this function imports data from CSV files to one large dataframe\n",
        "\n",
        "  #create list to hold dataframes\n",
        "  df_ls=[]\n",
        "\n",
        "  #read in each file\n",
        "  for i in fname_ls:\n",
        "    temp_df=pd.read_csv(fin_path+i,delim_whitespace=True)\n",
        "    print(i,'loaded\\n\\n',temp_df,'\\n\\n\\n\\n')\n",
        "    df_ls.append(temp_df)\n",
        "  #create one large df\n",
        "  df=pd.concat(df_ls,axis=0)\n",
        "  print(df)\n",
        "  return df\n",
        "\n",
        "#set filepaths for import/export\n",
        "pkin_path=r'/content/drive/My Drive/ML Spectroscopy/Model Data/CNN Model/Check Probs/'\n",
        "\n",
        "pk_fname_ls=fname_ls_builder(pkin_path)\n",
        "\n",
        "pk_df=df_builder(pkin_path,pk_fname_ls)\n",
        "\n",
        "print(pk_df.sum(axis=0))\n"
      ],
      "execution_count": null,
      "outputs": [
        {
          "output_type": "stream",
          "text": [
            "dev_probs.csv loaded\n",
            "\n",
            "        1.160227693617343903e-02  ...  1.824230328202247620e-02\n",
            "0                      0.011715  ...                  0.031059\n",
            "1                      0.712129  ...                  0.072291\n",
            "2                      0.011789  ...                  0.021267\n",
            "3                      0.010275  ...                  0.903123\n",
            "4                      0.016782  ...                  0.038343\n",
            "...                         ...  ...                       ...\n",
            "52364                  0.029677  ...                  0.800755\n",
            "52365                  0.021204  ...                  0.063023\n",
            "52366                  0.016093  ...                  0.047274\n",
            "52367                  0.020552  ...                  0.065002\n",
            "52368                  0.016943  ...                  0.889005\n",
            "\n",
            "[52369 rows x 11 columns] \n",
            "\n",
            "\n",
            "\n",
            "\n",
            "train_probs.csv loaded\n",
            "\n",
            "       2.300031483173370361e-02  ...  5.824062228202819824e-02\n",
            "0                     0.032571  ...                  0.057950\n",
            "1                     0.020391  ...                  0.065073\n",
            "2                     0.022635  ...                  0.048797\n",
            "3                     0.018442  ...                  0.048170\n",
            "4                     0.657804  ...                  0.099553\n",
            "...                        ...  ...                       ...\n",
            "2751                  0.019515  ...                  0.040118\n",
            "2752                  0.027102  ...                  0.089817\n",
            "2753                  0.013092  ...                  0.898867\n",
            "2754                  0.021542  ...                  0.066700\n",
            "2755                  0.011824  ...                  0.020617\n",
            "\n",
            "[2756 rows x 11 columns] \n",
            "\n",
            "\n",
            "\n",
            "\n",
            "      1.160227693617343903e-02  ...  5.824062228202819824e-02\n",
            "0                     0.011715  ...                       NaN\n",
            "1                     0.712129  ...                       NaN\n",
            "2                     0.011789  ...                       NaN\n",
            "3                     0.010275  ...                       NaN\n",
            "4                     0.016782  ...                       NaN\n",
            "...                        ...  ...                       ...\n",
            "2751                       NaN  ...                  0.040118\n",
            "2752                       NaN  ...                  0.089817\n",
            "2753                       NaN  ...                  0.898867\n",
            "2754                       NaN  ...                  0.066700\n",
            "2755                       NaN  ...                  0.020617\n",
            "\n",
            "[55125 rows x 22 columns]\n",
            "1.160227693617343903e-02    7342.266029\n",
            "1.490305550396442413e-02    4980.513186\n",
            "1.236877031624317169e-02    4955.041043\n",
            "7.571538910269737244e-03    4177.335101\n",
            "1.293408870697021484e-02    5951.819373\n",
            "1.344452146440744400e-02    4683.826260\n",
            "1.335648261010646820e-02     857.375658\n",
            "1.507816556841135025e-02    5448.825223\n",
            "8.671132326126098633e-01    5224.330484\n",
            "1.338553801178932190e-02     859.591855\n",
            "1.824230328202247620e-02    7888.075784\n",
            "2.300031483173370361e-02     381.075005\n",
            "7.473101019859313965e-01     271.222762\n",
            "3.555984050035476685e-02     264.361346\n",
            "1.642572134733200073e-02     223.118041\n",
            "1.925980858504772186e-02     322.880281\n",
            "1.809873804450035095e-02     244.946967\n",
            "2.228775992989540100e-02      45.565391\n",
            "1.933412998914718628e-02     277.160520\n",
            "1.822619698941707611e-02     288.050708\n",
            "2.225673012435436249e-02      45.681031\n",
            "5.824062228202819824e-02     391.937949\n",
            "dtype: float64\n"
          ],
          "name": "stdout"
        }
      ]
    },
    {
      "cell_type": "code",
      "metadata": {
        "id": "jOROiS0f3FCk"
      },
      "source": [
        ""
      ],
      "execution_count": null,
      "outputs": []
    }
  ]
}