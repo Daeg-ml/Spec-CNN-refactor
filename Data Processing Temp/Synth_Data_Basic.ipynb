{
  "nbformat": 4,
  "nbformat_minor": 0,
  "metadata": {
    "colab": {
      "name": "Synth_Data_Basic.ipynb",
      "provenance": []
    },
    "kernelspec": {
      "name": "python3",
      "display_name": "Python 3"
    }
  },
  "cells": [
    {
      "cell_type": "code",
      "metadata": {
        "id": "bX194MsAF_eg",
        "colab": {
          "base_uri": "https://localhost:8080/"
        },
        "outputId": "91cf0d45-f8e8-4c72-f465-c175fce4c687"
      },
      "source": [
        "'''Use minor manipulations to create synthetic data for \n",
        "developing the models. Manipulations are:\n",
        "\n",
        "DS2 - Downsample the original spectra by a factor of 2\n",
        "DS4 - Downsample the original spectra by a factor of 4\n",
        "RAN - Add a random value [-5,5] to all features\n",
        "DS2RAN - RAN applied to DS2\n",
        "DS4RAN - RAN applied ot DS4\n",
        "'''\n",
        "#import pd, np, signal for data processing\n",
        "import pandas as pd\n",
        "import numpy as np\n",
        "from google.colab import drive\n",
        "drive.mount('/content/drive/')"
      ],
      "execution_count": null,
      "outputs": [
        {
          "output_type": "stream",
          "text": [
            "Mounted at /content/drive/\n"
          ],
          "name": "stdout"
        }
      ]
    },
    {
      "cell_type": "code",
      "metadata": {
        "id": "hbS4lQADgtZ_"
      },
      "source": [
        "\n",
        "def trim_df(df):\n",
        "  df.reset_index(inplace=True)\n",
        "\n",
        "  #drop non-numeric columns from data\n",
        "  dropcolumns=[]\n",
        "  for i in df.columns.values:\n",
        "    try:\n",
        "      float(i)\n",
        "    except ValueError:\n",
        "      dropcolumns.append(i)\n",
        "  df.drop(columns=dropcolumns,inplace=True)\n",
        "\n",
        "  print(df.shape)\n",
        "  print(df.head())\n",
        "  return df"
      ],
      "execution_count": null,
      "outputs": []
    },
    {
      "cell_type": "code",
      "metadata": {
        "id": "QDJgbHAORkQp"
      },
      "source": [
        "def create_ds_files(df,path,f_name):\n",
        "  #Downsample by factors of 2 and 4 on original data\n",
        "  ds2_df=df[[i for i in df.columns[range(0,len(df.columns),2)]]]\n",
        "  ds4_df=df[[i for i in df.columns[range(0,len(df.columns),4)]]]\n",
        "\n",
        "  #output to files\n",
        "  ds2_new_file=path+f_name.split('.')[0]+'_ds2'+'.csv'\n",
        "  ds4_new_file=path+f_name.split('.')[0]+'_ds4'+'.csv'\n",
        "  ds2_df.to_csv(ds2_new_file)\n",
        "  ds4_df.to_csv(ds4_new_file)\n",
        "  print(ds2_new_file,'created')\n",
        "  print(ds4_new_file,'created')\n",
        "  return ds2_df,ds4_df"
      ],
      "execution_count": null,
      "outputs": []
    },
    {
      "cell_type": "code",
      "metadata": {
        "id": "s-kL8zoMS09f"
      },
      "source": [
        "def create_r_files(df,ds2_df,ds4_df,path,f_name):\n",
        "  #Random noise added to data (random values on a gaussian distribution, mu=0, std=5)\n",
        "  ran_df=df+np.random.normal(0,5,df.shape)\n",
        "  ran_ds2_df=ds2_df+np.random.normal(0,5,ds2_df.shape)\n",
        "  ran_ds4_df=ds4_df+np.random.normal(0,5,ds4_df.shape)\n",
        "\n",
        "  #output to files\n",
        "  ran_new_file=path+f_name.split('.')[0]+'_r'+'.csv'\n",
        "  rds2_new_file=path+f_name.split('.')[0]+'_r_ds2'+'.csv'\n",
        "  rds4_new_file=path+f_name.split('.')[0]+'_r_ds4'+'.csv'\n",
        "  ran_df.to_csv(ran_new_file)\n",
        "  ran_ds2_df.to_csv(rds2_new_file)\n",
        "  ran_ds4_df.to_csv(rds4_new_file)\n",
        "  print(ran_new_file,'created')\n",
        "  print(rds2_new_file,'created')\n",
        "  print(rds4_new_file,'created\\n\\n\\n')"
      ],
      "execution_count": null,
      "outputs": []
    },
    {
      "cell_type": "code",
      "metadata": {
        "id": "aHWMr3PJmyfk"
      },
      "source": [
        "def remove_repeat(file_ls,svd_fil):\n",
        "  #try to read in the saved data\n",
        "  try:\n",
        "    saved_s=pd.read_csv(svd_fil,index_col=0,header=None,squeeze=True)\n",
        "  except FileNotFoundError:\n",
        "    print('History file not found, all data files being processed')\n",
        "    return file_ls,False\n",
        "  \n",
        "  #somewhat clunky (but effective) method for checking if we've processed a file already\n",
        "  temp_s=pd.Series(file_ls)\n",
        "  tf_ls=temp_s.isin(saved_s)\n",
        "  idx_ls=[]\n",
        "  for i in range(0,len(tf_ls)):\n",
        "    if tf_ls[i]:\n",
        "      idx_ls.append(i)\n",
        "  temp_s.drop(index=idx_ls,inplace=True)\n",
        "  return temp_s.tolist(),True"
      ],
      "execution_count": null,
      "outputs": []
    },
    {
      "cell_type": "code",
      "metadata": {
        "id": "NlVRxESgHwY5",
        "colab": {
          "base_uri": "https://localhost:8080/"
        },
        "outputId": "98dea9e1-7c8a-4ae1-c29f-7fc475dbde81"
      },
      "source": [
        "def main():\n",
        "  #import data from CSV files\n",
        "  fin_path=r'/content/drive/My Drive/ML Spectroscopy/Data/Raw Data/'\n",
        "  out_path=r'/content/drive/My Drive/ML Spectroscopy/Data/Synthetic Data/Basic Synthetic Data/'\n",
        "  saved_data=r'/content/drive/My Drive/ML Spectroscopy/Programs/Data Processing/Saved Lists/Synth_created.csv'\n",
        "\n",
        "  #Find all files in data directory\n",
        "  from os import listdir\n",
        "  import csv\n",
        "  from os.path import isfile, join\n",
        "  fname_ls = [f for f in listdir(fin_path) if isfile(join(fin_path, f))]\n",
        "  fname_s=pd.Series(fname_ls)\n",
        "\n",
        "  fname_ls,fflag=remove_repeat(file_ls=fname_ls,svd_fil=saved_data)\n",
        "\n",
        "  if fname_ls:\n",
        "    for fil in fname_ls:\n",
        "      if fil.split('.')[-1]=='txt':\n",
        "        df=pd.read_csv(fin_path+fil,delim_whitespace=True)\n",
        "      else:\n",
        "        df=pd.read_csv(fin_path+fil,delim_whitespace=False)\n",
        "\n",
        "      df=trim_df(df=df)\n",
        "\n",
        "      ds2_df,ds4_df=create_ds_files(df=df,path=out_path,f_name=fil)\n",
        "\n",
        "      create_r_files(df=df,ds2_df=ds2_df,ds4_df=ds4_df,path=out_path,f_name=fil)\n",
        "\n",
        "    if fflag:\n",
        "      pd.Series(fname_ls).to_csv(saved_data,mode='a')\n",
        "    else:\n",
        "      pd.Series(fname_ls).to_csv(saved_data,mode='w')\n",
        "  else:\n",
        "    print('No new files')\n",
        "\n",
        "main()"
      ],
      "execution_count": null,
      "outputs": [
        {
          "output_type": "stream",
          "text": [
            "(4839, 2183)\n",
            "   100.473  101.341  102.207  103.075  ...  1798.18  1798.88  1799.59  1800.29\n",
            "0  1127.22  1136.45  1151.61  1163.44  ...  1156.03  1152.88  1146.21  1139.40\n",
            "1  1143.00  1106.99  1138.98  1171.41  ...  1116.88  1118.86  1120.04  1117.67\n",
            "2  1115.56  1125.27  1132.21  1139.89  ...  1139.65  1140.61  1140.97  1140.66\n",
            "3  1121.00  1121.99  1113.99  1146.99  ...  1107.61  1107.06  1107.59  1112.55\n",
            "4  1499.90  1495.82  1514.32  1533.66  ...  2304.71  2301.29  2279.83  2278.02\n",
            "\n",
            "[5 rows x 2183 columns]\n",
            "/content/drive/My Drive/ML Spectroscopy/Data/Synthetic Data/Basic Synthetic Data/granite0dust_test_015s_4839_ds2.csv created\n",
            "/content/drive/My Drive/ML Spectroscopy/Data/Synthetic Data/Basic Synthetic Data/granite0dust_test_015s_4839_ds4.csv created\n",
            "/content/drive/My Drive/ML Spectroscopy/Data/Synthetic Data/Basic Synthetic Data/granite0dust_test_015s_4839_r.csv created\n",
            "/content/drive/My Drive/ML Spectroscopy/Data/Synthetic Data/Basic Synthetic Data/granite0dust_test_015s_4839_r_ds2.csv created\n",
            "/content/drive/My Drive/ML Spectroscopy/Data/Synthetic Data/Basic Synthetic Data/granite0dust_test_015s_4839_r_ds4.csv created\n",
            "\n",
            "\n",
            "\n",
            "(1061, 2064)\n",
            "   95.4877  96.0105  96.5354  97.0581  ...   1099.6  1100.05  1100.51  1100.97\n",
            "0  1403.39  1440.85  1450.97  1449.13  ...  2234.92  2225.51  2216.64  2212.48\n",
            "1  1328.11  1324.21  1331.97  1332.90  ...  1952.42  1943.08  1963.90  1966.05\n",
            "2  1326.53  1333.91  1332.48  1331.87  ...  1941.99  1950.30  1964.50  1946.68\n",
            "3  1360.52  1373.72  1379.87  1385.03  ...  2092.94  2092.30  2077.61  2074.16\n",
            "4  1667.17  1622.59  1664.50  1673.78  ...  2866.19  2850.78  2887.81  2935.55\n",
            "\n",
            "[5 rows x 2064 columns]\n",
            "/content/drive/My Drive/ML Spectroscopy/Data/Synthetic Data/Basic Synthetic Data/granite0dust_test_015s_1061_ds2.csv created\n",
            "/content/drive/My Drive/ML Spectroscopy/Data/Synthetic Data/Basic Synthetic Data/granite0dust_test_015s_1061_ds4.csv created\n",
            "/content/drive/My Drive/ML Spectroscopy/Data/Synthetic Data/Basic Synthetic Data/granite0dust_test_015s_1061_r.csv created\n",
            "/content/drive/My Drive/ML Spectroscopy/Data/Synthetic Data/Basic Synthetic Data/granite0dust_test_015s_1061_r_ds2.csv created\n",
            "/content/drive/My Drive/ML Spectroscopy/Data/Synthetic Data/Basic Synthetic Data/granite0dust_test_015s_1061_r_ds4.csv created\n",
            "\n",
            "\n",
            "\n"
          ],
          "name": "stdout"
        }
      ]
    },
    {
      "cell_type": "code",
      "metadata": {
        "id": "6pG2nGiHWx0s"
      },
      "source": [
        ""
      ],
      "execution_count": null,
      "outputs": []
    }
  ]
}