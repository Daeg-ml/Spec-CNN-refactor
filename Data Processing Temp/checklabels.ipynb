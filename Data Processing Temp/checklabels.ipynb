{
  "nbformat": 4,
  "nbformat_minor": 0,
  "metadata": {
    "colab": {
      "name": "checklabels",
      "provenance": [],
      "collapsed_sections": []
    },
    "kernelspec": {
      "name": "python3",
      "display_name": "Python 3"
    }
  },
  "cells": [
    {
      "cell_type": "code",
      "metadata": {
        "id": "5vmi-5axtn-F",
        "colab": {
          "base_uri": "https://localhost:8080/",
          "height": 34
        },
        "outputId": "5db721ce-d130-4950-eb0c-ca219fdc962e"
      },
      "source": [
        "'''check labels for granite using granite_labels.csv against granite0dust_test_015s_5184.csv'''\n",
        "#import pd, np, signal for data processing\n",
        "import pandas as pd\n",
        "import numpy as np\n",
        "import matplotlib.pyplot as plt\n",
        "from scipy import signal\n",
        "import re\n",
        "from pprint import pprint\n",
        "from google.colab import drive\n",
        "drive.mount('/content/drive/')"
      ],
      "execution_count": null,
      "outputs": [
        {
          "output_type": "stream",
          "text": [
            "Drive already mounted at /content/drive/; to attempt to forcibly remount, call drive.mount(\"/content/drive/\", force_remount=True).\n"
          ],
          "name": "stdout"
        }
      ]
    },
    {
      "cell_type": "code",
      "metadata": {
        "id": "KKgMZBgCyWxb",
        "colab": {
          "base_uri": "https://localhost:8080/",
          "height": 102
        },
        "outputId": "264d27cb-4ab3-4bb9-d39f-3cda7a0dad0b"
      },
      "source": [
        "granite=pd.read_csv (r'/content/drive/My Drive/ML Spectroscopy/Data/Raw Data/granite0dust_test_015s_5184.csv')\n",
        "labeled=pd.read_csv (r'/content/drive/My Drive/ML Spectroscopy/Data/Preprocessed/Eval Test/Raw/label5184evaltest_original.csv')\n",
        "labeled2=pd.read_csv (r'/content/drive/My Drive/ML Spectroscopy/Data/Preprocessed/Eval Test/DS2/label5184evaltest_ds2.csv')\n",
        "labeled4=pd.read_csv (r'/content/drive/My Drive/ML Spectroscopy/Data/Preprocessed/Eval Test/DS4/label5184evaltest_ds4.csv')\n",
        "newlabeled=pd.read_csv (r'/content/drive/My Drive/ML Spectroscopy/Data/Preprocessed/Eval Test/Raw/labelsorted5184_original.csv')\n",
        "newlabeled2=pd.read_csv (r'/content/drive/My Drive/ML Spectroscopy/Data/Preprocessed/Eval Test/DS2/labelsorted5184_ds2.csv')\n",
        "newlabeled4=pd.read_csv (r'/content/drive/My Drive/ML Spectroscopy/Data/Preprocessed/Eval Test/DS4/labelsorted5184_ds4.csv')\n",
        "pprint(granite[0:2])\n",
        "#pprint(labeled[0:2])"
      ],
      "execution_count": null,
      "outputs": [
        {
          "output_type": "stream",
          "text": [
            "   100.473  101.341  102.207  103.075  ...  1798.18  1798.88  1799.59  1800.29\n",
            "0  1127.22  1136.45  1151.61  1163.44  ...  1156.03  1152.88  1146.21  1139.40\n",
            "1  1143.00  1106.99  1138.98  1171.41  ...  1116.88  1118.86  1120.04  1117.67\n",
            "\n",
            "[2 rows x 2184 columns]\n"
          ],
          "name": "stdout"
        }
      ]
    },
    {
      "cell_type": "code",
      "metadata": {
        "id": "af1Da9ou0WoO"
      },
      "source": [
        "specname=labeled['og-idx']  ###change to ds2 or ds4 as needed ######################################################################\n",
        "predlabel=labeled['pred_labels']\n",
        "#pprint(specname[0:2])\n",
        "#pprint(predlabel[0:2])"
      ],
      "execution_count": null,
      "outputs": []
    },
    {
      "cell_type": "code",
      "metadata": {
        "id": "jMksVjuZuWH2"
      },
      "source": [
        "specnum=[]\n",
        "speclabel=[]\n",
        "namelen=len(specname)\n",
        "for x in range(0,namelen):\n",
        "  try:\n",
        "    specnum.append(specname[x].split('-')[1]) #extract number after hyphen in file name under og-idx columns of granite_labels and append to specnum\n",
        "    speclabel.append(predlabel[x]) #extract predicted cluster label corresponding with specnum and append to speclabel\n",
        "  except:\n",
        "    continue"
      ],
      "execution_count": null,
      "outputs": []
    },
    {
      "cell_type": "code",
      "metadata": {
        "id": "iv7MLwdU8ASc"
      },
      "source": [
        "#test=[speclabel,specnum] ###only run if you need sorted labeled specs, otherwise skip box ############################################################\n",
        "#test2=pd.DataFrame(test) #df contains all original spectra numbers and cluster prediction labels\n",
        "#test2.to_csv(r'/content/drive/My Drive/ML Spectroscopy/Data/Preprocessed/Eval Test/test4.csv',index=False)"
      ],
      "execution_count": null,
      "outputs": []
    },
    {
      "cell_type": "code",
      "metadata": {
        "id": "wPpEumLTrJ9a"
      },
      "source": [
        "newspecname=newlabeled['specnum'] ###change to ds2 or ds4 as needed #################################################################\n",
        "newpredlabel=newlabeled['pred_label']"
      ],
      "execution_count": null,
      "outputs": []
    },
    {
      "cell_type": "code",
      "metadata": {
        "id": "8oJr3DRGj2GL"
      },
      "source": [
        "spec=granite.iloc[:,0:845]\n",
        "\n",
        "newspectralist=[]\n",
        "newspeclabel=[]\n",
        "speclablen=len(newpredlabel)\n",
        "for y in range(0,speclablen):\n",
        "  if newpredlabel[y] == 0:  ##change this cluster val 0-4 ################################################################################\n",
        "    newspectralist.append(granite.iloc[y,0:845])\n",
        "  else:\n",
        "    continue"
      ],
      "execution_count": null,
      "outputs": []
    },
    {
      "cell_type": "code",
      "metadata": {
        "id": "bXyHCSXou1Zd"
      },
      "source": [
        "cluster=pd.DataFrame(newspectralist)\n",
        "#cluster.to_csv(r'/content/drive/My Drive/ML Spectroscopy/Data/Preprocessed/Eval Test/raw_cluster0.csv',index=False) ###change file name to cluster label as needed #####"
      ],
      "execution_count": null,
      "outputs": []
    },
    {
      "cell_type": "code",
      "metadata": {
        "id": "bABBgqEg0Ebn"
      },
      "source": [
        "wavenums=[]\n",
        "newslabelsfrommax=[]\n",
        "newspeclistlen=len(newspectralist)\n",
        "for z in range(0,newspeclistlen):\n",
        "  peakindex=np.argmax(cluster.iloc[z,419:498]) #find index of max peak in region around quartz and albite\n",
        "  maxpeakindex=peakindex+419 #adjust to find index in overall spectrum\n",
        "  wave=granite.columns[maxpeakindex] #find wavenumber at index value from above\n",
        "  wavenums.append(wave)"
      ],
      "execution_count": null,
      "outputs": []
    },
    {
      "cell_type": "code",
      "metadata": {
        "id": "2_oih5tD2hXo",
        "colab": {
          "base_uri": "https://localhost:8080/",
          "height": 265
        },
        "outputId": "95d8f7d7-fa97-49fe-9d27-6928324ba6be"
      },
      "source": [
        "plt.hist(wavenums, bins=20, alpha=0.5)\n",
        "plt.show()\n",
        "wavenums=pd.DataFrame(wavenums)\n",
        "#wavenums.to_csv(r'/content/drive/My Drive/ML Spectroscopy/Data/Preprocessed/Eval Test/histo0.csv',index=False)"
      ],
      "execution_count": null,
      "outputs": [
        {
          "output_type": "display_data",
          "data": {
            "image/png": "[encoded data removed]",
            "text/plain": [
              "<Figure size 432x288 with 1 Axes>"
            ]
          },
          "metadata": {
            "tags": []
          }
        }
      ]
    }
  ]
}